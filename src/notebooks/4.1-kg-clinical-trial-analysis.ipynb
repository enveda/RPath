{
 "cells": [
  {
   "cell_type": "markdown",
   "id": "historical-railway",
   "metadata": {},
   "source": [
    "# Clinical trial analysis\n",
    "\n",
    "This notebook involves anlaysing the clinical trial information for chemical-disease pair in combination between datasets"
   ]
  },
  {
   "cell_type": "markdown",
   "id": "satellite-cross",
   "metadata": {},
   "source": [
    "# Imports"
   ]
  },
  {
   "cell_type": "code",
   "execution_count": 1,
   "id": "elect-repair",
   "metadata": {},
   "outputs": [],
   "source": [
    "import os\n",
    "from tqdm import tqdm\n",
    "import json\n",
    "import pandas as pd\n",
    "from itertools import product\n",
    "from networkx.algorithms.shortest_paths.generic import has_path\n",
    "from utils import create_graph_from_df\n",
    "\n",
    "from utils import get_disease_map, KG_DATA_PATH, DATA_DIR, create_venn_diagram"
   ]
  },
  {
   "cell_type": "markdown",
   "id": "virtual-affair",
   "metadata": {},
   "source": [
    "# Load subgraph"
   ]
  },
  {
   "cell_type": "code",
   "execution_count": 2,
   "id": "compressed-teaching",
   "metadata": {},
   "outputs": [],
   "source": [
    "openbiolinks_df = pd.read_csv(\n",
    "    os.path.join(KG_DATA_PATH, 'normalized', 'openbiolink_kg_normalized.tsv'),\n",
    "    sep='\\t'\n",
    ")\n",
    "\n",
    "custom_df = pd.read_csv(\n",
    "    os.path.join(KG_DATA_PATH, 'normalized', 'custom_kg_normalized.tsv'),\n",
    "    sep='\\t'\n",
    ")"
   ]
  },
  {
   "cell_type": "markdown",
   "id": "tested-emerald",
   "metadata": {},
   "source": [
    "# Loading clinical trial pairs"
   ]
  },
  {
   "cell_type": "code",
   "execution_count": 3,
   "id": "hybrid-calibration",
   "metadata": {},
   "outputs": [],
   "source": [
    "with open(os.path.join(DATA_DIR, 'gold-standard', 'filtered-clinical-pairs.json'), 'r') as f:\n",
    "    clinical_trial_dict = json.load(f)"
   ]
  },
  {
   "cell_type": "code",
   "execution_count": 4,
   "id": "suffering-refrigerator",
   "metadata": {},
   "outputs": [],
   "source": [
    "with open(os.path.join(DATA_DIR, 'gold-standard', 'filtered-indications.json'), 'r') as f:\n",
    "    indication_trial_dict = json.load(f)"
   ]
  },
  {
   "cell_type": "markdown",
   "id": "intermediate-cooling",
   "metadata": {},
   "source": [
    "# GEO, LC1000, OpenTargets and Creed"
   ]
  },
  {
   "cell_type": "code",
   "execution_count": 5,
   "id": "regulation-charm",
   "metadata": {},
   "outputs": [],
   "source": [
    "# Load gene expression files\n",
    "\n",
    "with open(os.path.join(DATA_DIR, 'creeds', 'normalized', 'chemical_expression.json')) as file:\n",
    "    creed_chemicals = json.load(file).keys()\n",
    "    \n",
    "with open(os.path.join(DATA_DIR, 'geo', 'normalized', 'disease_expression.json')) as file2:\n",
    "    geo_diseases = json.load(file2).keys()\n",
    "    \n",
    "with open(os.path.join(DATA_DIR, 'l1000', 'normalized', 'chemical_expression.json')) as file3:\n",
    "    lc1000_chemicals = json.load(file3).keys()\n",
    "    \n",
    "with open(os.path.join(DATA_DIR, 'open_targets', 'normalized', 'disease_expression.json')) as file4:\n",
    "    open_target_diseases = json.load(file4).keys()\n"
   ]
  },
  {
   "cell_type": "markdown",
   "id": "mineral-mercury",
   "metadata": {},
   "source": [
    "# Get overlaps with subgraph"
   ]
  },
  {
   "cell_type": "code",
   "execution_count": 6,
   "id": "equivalent-snake",
   "metadata": {},
   "outputs": [],
   "source": [
    "MAP = {\n",
    "    'creed' : creed_chemicals,\n",
    "    'target': open_target_diseases,\n",
    "    'geo': geo_diseases,\n",
    "    'lc1000': lc1000_chemicals,\n",
    "}"
   ]
  },
  {
   "cell_type": "code",
   "execution_count": 7,
   "id": "premium-timothy",
   "metadata": {},
   "outputs": [],
   "source": [
    "# For open target\n",
    "openlink_kg_chemical = set(\n",
    "    openbiolinks_df[openbiolinks_df['source'].str.contains('pubchem.compound')]['source']\n",
    ")\n",
    "openlink_kg_disease = set(\n",
    "    openbiolinks_df[openbiolinks_df['target'].str.contains('mondo')]['target']\n",
    ")\n",
    "\n",
    "# For custom networks\n",
    "custom_kg_chemical = set(\n",
    "    custom_df[custom_df['source'].str.contains('pubchem.compound')]['source']\n",
    ")\n",
    "custom_kg_disease = set(\n",
    "    custom_df[custom_df['target'].str.contains('mondo')]['target']\n",
    ")\n"
   ]
  },
  {
   "cell_type": "code",
   "execution_count": 8,
   "id": "liable-policy",
   "metadata": {},
   "outputs": [
    {
     "name": "stdout",
     "output_type": "stream",
     "text": [
      "\n",
      "#### creed ####\n",
      "Overlaps with OpenBioLink KG chemical 96\n",
      "Overlaps with Custom KG chemical 55\n",
      "Overlaps with OpenBioLink KG disease 0\n",
      "Overlaps with Custom KG disease 0\n",
      "\n",
      "#### target ####\n",
      "Overlaps with OpenBioLink KG chemical 0\n",
      "Overlaps with Custom KG chemical 0\n",
      "Overlaps with OpenBioLink KG disease 47\n",
      "Overlaps with Custom KG disease 35\n",
      "\n",
      "#### geo ####\n",
      "Overlaps with OpenBioLink KG chemical 0\n",
      "Overlaps with Custom KG chemical 0\n",
      "Overlaps with OpenBioLink KG disease 18\n",
      "Overlaps with Custom KG disease 17\n",
      "\n",
      "#### lc1000 ####\n",
      "Overlaps with OpenBioLink KG chemical 804\n",
      "Overlaps with Custom KG chemical 292\n",
      "Overlaps with OpenBioLink KG disease 0\n",
      "Overlaps with Custom KG disease 0\n"
     ]
    }
   ],
   "source": [
    "info_dict = {}\n",
    "\n",
    "for i in MAP:\n",
    "    curies = set(MAP[i])\n",
    "    \n",
    "    print(f'\\n#### {i} ####')\n",
    "    disease1 = openlink_kg_disease.intersection(curies)\n",
    "    disease2 = custom_kg_disease.intersection(curies)\n",
    "    \n",
    "    chemical1 = openlink_kg_chemical.intersection(curies)\n",
    "    chemical2 = custom_kg_chemical.intersection(curies)\n",
    "    \n",
    "    if i not in info_dict:\n",
    "        info_dict[i] = {}\n",
    "    \n",
    "    if len(disease1) > 0:\n",
    "        info_dict[i]['openbiolinks'] = disease1\n",
    "        info_dict[i]['custom'] = disease2\n",
    "    elif len(chemical1) > 0:\n",
    "        info_dict[i]['openbiolinks'] = chemical1\n",
    "        info_dict[i]['custom'] = chemical2\n",
    "    else:\n",
    "        print('SOMETHING IS WRONG!!!')\n",
    "    \n",
    "    print(f'Overlaps with OpenBioLink KG chemical', len(chemical1))\n",
    "    print(f'Overlaps with Custom KG chemical', len(chemical2))\n",
    "    print(f'Overlaps with OpenBioLink KG disease', len(disease1))\n",
    "    print(f'Overlaps with Custom KG disease', len(disease2))\n",
    "    "
   ]
  },
  {
   "cell_type": "markdown",
   "id": "healthy-juvenile",
   "metadata": {},
   "source": [
    "# Get clinical pair percentage based on dataset and gold standard data"
   ]
  },
  {
   "cell_type": "code",
   "execution_count": 9,
   "id": "convinced-belfast",
   "metadata": {},
   "outputs": [],
   "source": [
    "def get_gold_standard_stats(gold_standard_dict: dict):\n",
    "    clinical_evidence = {'openbiolinks': {}, 'custom': {}}\n",
    "    count_dict = {'openbiolinks': {}, 'custom': {}}\n",
    "    total_count_dict = {'openbiolinks': {}, 'custom': {}}\n",
    "\n",
    "    for c, d in product(['creed', 'lc1000'], ['target', 'geo']):\n",
    "        print(c, d)\n",
    "        c_set = info_dict[c]\n",
    "        d_set = info_dict[d]\n",
    "\n",
    "        # Filter nodes based on KG\n",
    "        new_c_openbio = set()\n",
    "        new_d_openbio = set()\n",
    "\n",
    "        graph_copy = create_graph_from_df(openbiolinks_df)\n",
    "        openbio_graph = graph_copy.copy()\n",
    "\n",
    "        for chem_idx, disease_idx in product(c_set['openbiolinks'], d_set['openbiolinks']):\n",
    "            if chem_idx in openbio_graph.nodes and disease_idx in openbio_graph.nodes: \n",
    "                if has_path(openbio_graph, chem_idx, disease_idx):\n",
    "                    new_c_openbio.add(chem_idx)\n",
    "                    new_d_openbio.add(disease_idx)\n",
    "\n",
    "        new_c_custom = set()\n",
    "        new_d_custom = set()\n",
    "\n",
    "        graph_copy = create_graph_from_df(custom_df)\n",
    "        custom_graph = graph_copy.copy()\n",
    "\n",
    "        for chem_idx, disease_idx in product(c_set['custom'], d_set['custom']):\n",
    "            if chem_idx in custom_graph.nodes and disease_idx in custom_graph.nodes: \n",
    "                if has_path(custom_graph, chem_idx, disease_idx):\n",
    "                    new_c_custom.add(chem_idx)\n",
    "                    new_d_custom.add(disease_idx)\n",
    "\n",
    "        new_c_set = {'openbiolinks': new_c_openbio, 'custom': new_c_custom}\n",
    "        new_d_set = {'openbiolinks': new_d_openbio, 'custom': new_d_custom} \n",
    "        \n",
    "        # Get gold standard count\n",
    "        \n",
    "        # For OpenBioLinks\n",
    "        biolink_count = 0\n",
    "\n",
    "        for chem_idx, disease_idx in product(new_c_set['openbiolinks'], new_d_set['openbiolinks']):\n",
    "            if has_path(openbio_graph, chem_idx, disease_idx):\n",
    "                name = chem_idx + '_' + disease_idx\n",
    "                if name in gold_standard_dict:\n",
    "                    clinical_evidence['openbiolinks'][name] = 'yes'\n",
    "                    biolink_count += 1\n",
    "\n",
    "        key_name = c + '_' + d\n",
    "        count_dict['openbiolinks'][key_name] = biolink_count\n",
    "        total_count_dict['openbiolinks'][key_name] = len(\n",
    "            list(product(new_c_set['openbiolinks'], new_d_set['openbiolinks']))\n",
    "        )\n",
    "\n",
    "\n",
    "        # For Custom Network\n",
    "        custom_network_count = 0\n",
    "\n",
    "        for chem_idx, disease_idx in product(c_set['custom'], d_set['custom']):\n",
    "            if has_path(custom_graph, chem_idx, disease_idx):\n",
    "                name = chem_idx + '_' + disease_idx\n",
    "                if name in gold_standard_dict:\n",
    "                    clinical_evidence['custom'][name] = 'yes'\n",
    "                    custom_network_count += 1\n",
    "\n",
    "        key_name = c + '_' + d\n",
    "        count_dict['custom'][key_name] = custom_network_count\n",
    "        total_count_dict['custom'][key_name] = len(\n",
    "            list(product(new_c_set['custom'], new_d_set['custom']))\n",
    "        )\n",
    "    \n",
    "    # Display the value by change df\n",
    "    data_df = pd.DataFrame(\n",
    "        columns=['creed_target', 'creed_geo', 'lc1000_target', 'lc1000_geo'],\n",
    "        index=['openbiolinks', 'custom']\n",
    "    )    \n",
    "    \n",
    "    for kg_name in total_count_dict:\n",
    "        for el in total_count_dict[kg_name]: \n",
    "            val = count_dict[kg_name][el] / total_count_dict[kg_name][el]\n",
    "            data_df.loc[kg_name, el] = val*100\n",
    "    \n",
    "    return data_df"
   ]
  },
  {
   "cell_type": "code",
   "execution_count": 10,
   "id": "accompanied-beatles",
   "metadata": {},
   "outputs": [
    {
     "name": "stderr",
     "output_type": "stream",
     "text": [
      "Report on the number of relations: {-1: 16133, 1: 32745}\n"
     ]
    },
    {
     "name": "stdout",
     "output_type": "stream",
     "text": [
      "creed target\n"
     ]
    },
    {
     "name": "stderr",
     "output_type": "stream",
     "text": [
      "Report on the number of relations: {1: 43810, -1: 8372}\n",
      "Report on the number of relations: {-1: 16133, 1: 32745}\n"
     ]
    },
    {
     "name": "stdout",
     "output_type": "stream",
     "text": [
      "creed geo\n"
     ]
    },
    {
     "name": "stderr",
     "output_type": "stream",
     "text": [
      "Report on the number of relations: {1: 43810, -1: 8372}\n"
     ]
    },
    {
     "name": "stdout",
     "output_type": "stream",
     "text": [
      "lc1000 target\n"
     ]
    },
    {
     "name": "stderr",
     "output_type": "stream",
     "text": [
      "Report on the number of relations: {-1: 16133, 1: 32745}\n",
      "Report on the number of relations: {1: 43810, -1: 8372}\n",
      "Report on the number of relations: {-1: 16133, 1: 32745}\n"
     ]
    },
    {
     "name": "stdout",
     "output_type": "stream",
     "text": [
      "lc1000 geo\n"
     ]
    },
    {
     "name": "stderr",
     "output_type": "stream",
     "text": [
      "Report on the number of relations: {1: 43810, -1: 8372}\n"
     ]
    },
    {
     "data": {
      "text/html": [
       "<div>\n",
       "<style scoped>\n",
       "    .dataframe tbody tr th:only-of-type {\n",
       "        vertical-align: middle;\n",
       "    }\n",
       "\n",
       "    .dataframe tbody tr th {\n",
       "        vertical-align: top;\n",
       "    }\n",
       "\n",
       "    .dataframe thead th {\n",
       "        text-align: right;\n",
       "    }\n",
       "</style>\n",
       "<table border=\"1\" class=\"dataframe\">\n",
       "  <thead>\n",
       "    <tr style=\"text-align: right;\">\n",
       "      <th></th>\n",
       "      <th>creed_target</th>\n",
       "      <th>creed_geo</th>\n",
       "      <th>lc1000_target</th>\n",
       "      <th>lc1000_geo</th>\n",
       "    </tr>\n",
       "  </thead>\n",
       "  <tbody>\n",
       "    <tr>\n",
       "      <th>openbiolinks</th>\n",
       "      <td>4.44805</td>\n",
       "      <td>9.36533</td>\n",
       "      <td>1.73482</td>\n",
       "      <td>3.20311</td>\n",
       "    </tr>\n",
       "    <tr>\n",
       "      <th>custom</th>\n",
       "      <td>10</td>\n",
       "      <td>15.9502</td>\n",
       "      <td>5.04384</td>\n",
       "      <td>7.85035</td>\n",
       "    </tr>\n",
       "  </tbody>\n",
       "</table>\n",
       "</div>"
      ],
      "text/plain": [
       "             creed_target creed_geo lc1000_target lc1000_geo\n",
       "openbiolinks      4.44805   9.36533       1.73482    3.20311\n",
       "custom                 10   15.9502       5.04384    7.85035"
      ]
     },
     "execution_count": 10,
     "metadata": {},
     "output_type": "execute_result"
    }
   ],
   "source": [
    "get_gold_standard_stats(clinical_trial_dict)"
   ]
  },
  {
   "cell_type": "code",
   "execution_count": 11,
   "id": "enormous-edward",
   "metadata": {},
   "outputs": [
    {
     "name": "stderr",
     "output_type": "stream",
     "text": [
      "Report on the number of relations: {-1: 16133, 1: 32745}\n"
     ]
    },
    {
     "name": "stdout",
     "output_type": "stream",
     "text": [
      "creed target\n"
     ]
    },
    {
     "name": "stderr",
     "output_type": "stream",
     "text": [
      "Report on the number of relations: {1: 43810, -1: 8372}\n",
      "Report on the number of relations: {-1: 16133, 1: 32745}\n"
     ]
    },
    {
     "name": "stdout",
     "output_type": "stream",
     "text": [
      "creed geo\n"
     ]
    },
    {
     "name": "stderr",
     "output_type": "stream",
     "text": [
      "Report on the number of relations: {1: 43810, -1: 8372}\n",
      "Report on the number of relations: {-1: 16133, 1: 32745}\n"
     ]
    },
    {
     "name": "stdout",
     "output_type": "stream",
     "text": [
      "lc1000 target\n"
     ]
    },
    {
     "name": "stderr",
     "output_type": "stream",
     "text": [
      "Report on the number of relations: {1: 43810, -1: 8372}\n",
      "Report on the number of relations: {-1: 16133, 1: 32745}\n"
     ]
    },
    {
     "name": "stdout",
     "output_type": "stream",
     "text": [
      "lc1000 geo\n"
     ]
    },
    {
     "name": "stderr",
     "output_type": "stream",
     "text": [
      "Report on the number of relations: {1: 43810, -1: 8372}\n"
     ]
    },
    {
     "data": {
      "text/html": [
       "<div>\n",
       "<style scoped>\n",
       "    .dataframe tbody tr th:only-of-type {\n",
       "        vertical-align: middle;\n",
       "    }\n",
       "\n",
       "    .dataframe tbody tr th {\n",
       "        vertical-align: top;\n",
       "    }\n",
       "\n",
       "    .dataframe thead th {\n",
       "        text-align: right;\n",
       "    }\n",
       "</style>\n",
       "<table border=\"1\" class=\"dataframe\">\n",
       "  <thead>\n",
       "    <tr style=\"text-align: right;\">\n",
       "      <th></th>\n",
       "      <th>creed_target</th>\n",
       "      <th>creed_geo</th>\n",
       "      <th>lc1000_target</th>\n",
       "      <th>lc1000_geo</th>\n",
       "    </tr>\n",
       "  </thead>\n",
       "  <tbody>\n",
       "    <tr>\n",
       "      <th>openbiolinks</th>\n",
       "      <td>0.551948</td>\n",
       "      <td>1.23839</td>\n",
       "      <td>0.165221</td>\n",
       "      <td>0.21004</td>\n",
       "    </tr>\n",
       "    <tr>\n",
       "      <th>custom</th>\n",
       "      <td>1.31868</td>\n",
       "      <td>2.60181</td>\n",
       "      <td>0.866426</td>\n",
       "      <td>1.44896</td>\n",
       "    </tr>\n",
       "  </tbody>\n",
       "</table>\n",
       "</div>"
      ],
      "text/plain": [
       "             creed_target creed_geo lc1000_target lc1000_geo\n",
       "openbiolinks     0.551948   1.23839      0.165221    0.21004\n",
       "custom            1.31868   2.60181      0.866426    1.44896"
      ]
     },
     "execution_count": 11,
     "metadata": {},
     "output_type": "execute_result"
    }
   ],
   "source": [
    "get_gold_standard_stats(indication_trial_dict)"
   ]
  },
  {
   "cell_type": "code",
   "execution_count": null,
   "id": "circular-function",
   "metadata": {},
   "outputs": [],
   "source": []
  }
 ],
 "metadata": {
  "kernelspec": {
   "display_name": "Python 3",
   "language": "python",
   "name": "python3"
  },
  "language_info": {
   "codemirror_mode": {
    "name": "ipython",
    "version": 3
   },
   "file_extension": ".py",
   "mimetype": "text/x-python",
   "name": "python",
   "nbconvert_exporter": "python",
   "pygments_lexer": "ipython3",
   "version": "3.8.5"
  }
 },
 "nbformat": 4,
 "nbformat_minor": 5
}
