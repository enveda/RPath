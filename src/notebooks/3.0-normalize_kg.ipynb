{
 "cells": [
  {
   "cell_type": "markdown",
   "id": "stable-amber",
   "metadata": {},
   "source": [
    "# Subgraph creation\n",
    "\n",
    "This notebook is used to create a subgraph using the selected datasets."
   ]
  },
  {
   "cell_type": "markdown",
   "id": "partial-phrase",
   "metadata": {},
   "source": [
    "# Imports"
   ]
  },
  {
   "cell_type": "code",
   "execution_count": 1,
   "id": "placed-demographic",
   "metadata": {},
   "outputs": [],
   "source": [
    "import pandas as pd\n",
    "import os\n",
    "import json\n",
    "import logging\n",
    "from tqdm import tqdm\n",
    "\n",
    "from networkx import DiGraph, connected_components\n",
    "\n",
    "from utils import filter_graph, KG_DATA_PATH, DATA_DIR, filter_dataset"
   ]
  },
  {
   "cell_type": "code",
   "execution_count": 2,
   "id": "exotic-essex",
   "metadata": {},
   "outputs": [],
   "source": [
    "logger = logging.getLogger(__name__)"
   ]
  },
  {
   "cell_type": "markdown",
   "id": "clean-brook",
   "metadata": {},
   "source": [
    "# Pre-requisite\n",
    "\n",
    "- Run **rcr/gene_count.py** before this step. This can be done using the following command in your terminal: `python src/rcr/gene_count.py`"
   ]
  },
  {
   "cell_type": "markdown",
   "id": "rental-edition",
   "metadata": {},
   "source": [
    "# Load chemicals, genes and diseases in dataset"
   ]
  },
  {
   "cell_type": "code",
   "execution_count": 3,
   "id": "serious-frost",
   "metadata": {},
   "outputs": [],
   "source": [
    "# Loading the combined data\n",
    "with open(os.path.join(DATA_DIR, 'combined', 'dataset_genes.json')) as f:\n",
    "    data = json.load(f)"
   ]
  },
  {
   "cell_type": "markdown",
   "id": "measured-mistake",
   "metadata": {},
   "source": [
    "# Constants"
   ]
  },
  {
   "cell_type": "code",
   "execution_count": 4,
   "id": "swiss-allergy",
   "metadata": {},
   "outputs": [],
   "source": [
    "OPENLINK_NORMALIZED_FILE = 'openbiolink_kg_normalized.tsv'\n",
    "CUSTOM_NORMALIZED_FILE = 'custom_kg_normalized.tsv'"
   ]
  },
  {
   "cell_type": "markdown",
   "id": "waiting-positive",
   "metadata": {},
   "source": [
    "# Load network"
   ]
  },
  {
   "cell_type": "code",
   "execution_count": 5,
   "id": "acceptable-violation",
   "metadata": {},
   "outputs": [
    {
     "name": "stderr",
     "output_type": "stream",
     "text": [
      "Normalizing graph: 100%|██████████| 235881/235881 [05:32<00:00, 708.42it/s] \n"
     ]
    },
    {
     "data": {
      "text/html": [
       "<div>\n",
       "<style scoped>\n",
       "    .dataframe tbody tr th:only-of-type {\n",
       "        vertical-align: middle;\n",
       "    }\n",
       "\n",
       "    .dataframe tbody tr th {\n",
       "        vertical-align: top;\n",
       "    }\n",
       "\n",
       "    .dataframe thead th {\n",
       "        text-align: right;\n",
       "    }\n",
       "</style>\n",
       "<table border=\"1\" class=\"dataframe\">\n",
       "  <thead>\n",
       "    <tr style=\"text-align: right;\">\n",
       "      <th></th>\n",
       "      <th>source</th>\n",
       "      <th>target</th>\n",
       "      <th>polarity</th>\n",
       "    </tr>\n",
       "  </thead>\n",
       "  <tbody>\n",
       "    <tr>\n",
       "      <th>0</th>\n",
       "      <td>pubchem.compound:10000456</td>\n",
       "      <td>ncbigene:6347</td>\n",
       "      <td>-1</td>\n",
       "    </tr>\n",
       "    <tr>\n",
       "      <th>1</th>\n",
       "      <td>pubchem.compound:10022508</td>\n",
       "      <td>ncbigene:7157</td>\n",
       "      <td>1</td>\n",
       "    </tr>\n",
       "    <tr>\n",
       "      <th>2</th>\n",
       "      <td>pubchem.compound:10071166</td>\n",
       "      <td>ncbigene:3776</td>\n",
       "      <td>1</td>\n",
       "    </tr>\n",
       "    <tr>\n",
       "      <th>3</th>\n",
       "      <td>pubchem.compound:10074640</td>\n",
       "      <td>ncbigene:3815</td>\n",
       "      <td>1</td>\n",
       "    </tr>\n",
       "    <tr>\n",
       "      <th>4</th>\n",
       "      <td>pubchem.compound:10074640</td>\n",
       "      <td>ncbigene:1436</td>\n",
       "      <td>-1</td>\n",
       "    </tr>\n",
       "    <tr>\n",
       "      <th>...</th>\n",
       "      <td>...</td>\n",
       "      <td>...</td>\n",
       "      <td>...</td>\n",
       "    </tr>\n",
       "    <tr>\n",
       "      <th>48873</th>\n",
       "      <td>ncbigene:999</td>\n",
       "      <td>ncbigene:3480</td>\n",
       "      <td>-1</td>\n",
       "    </tr>\n",
       "    <tr>\n",
       "      <th>48874</th>\n",
       "      <td>ncbigene:999</td>\n",
       "      <td>ncbigene:4233</td>\n",
       "      <td>-1</td>\n",
       "    </tr>\n",
       "    <tr>\n",
       "      <th>48875</th>\n",
       "      <td>ncbigene:999</td>\n",
       "      <td>ncbigene:5594</td>\n",
       "      <td>-1</td>\n",
       "    </tr>\n",
       "    <tr>\n",
       "      <th>48876</th>\n",
       "      <td>ncbigene:999</td>\n",
       "      <td>ncbigene:5595</td>\n",
       "      <td>-1</td>\n",
       "    </tr>\n",
       "    <tr>\n",
       "      <th>48877</th>\n",
       "      <td>ncbigene:9997</td>\n",
       "      <td>ncbigene:54205</td>\n",
       "      <td>1</td>\n",
       "    </tr>\n",
       "  </tbody>\n",
       "</table>\n",
       "<p>48878 rows × 3 columns</p>\n",
       "</div>"
      ],
      "text/plain": [
       "                          source          target polarity\n",
       "0      pubchem.compound:10000456   ncbigene:6347       -1\n",
       "1      pubchem.compound:10022508   ncbigene:7157        1\n",
       "2      pubchem.compound:10071166   ncbigene:3776        1\n",
       "3      pubchem.compound:10074640   ncbigene:3815        1\n",
       "4      pubchem.compound:10074640   ncbigene:1436       -1\n",
       "...                          ...             ...      ...\n",
       "48873               ncbigene:999   ncbigene:3480       -1\n",
       "48874               ncbigene:999   ncbigene:4233       -1\n",
       "48875               ncbigene:999   ncbigene:5594       -1\n",
       "48876               ncbigene:999   ncbigene:5595       -1\n",
       "48877              ncbigene:9997  ncbigene:54205        1\n",
       "\n",
       "[48878 rows x 3 columns]"
      ]
     },
     "execution_count": 5,
     "metadata": {},
     "output_type": "execute_result"
    }
   ],
   "source": [
    "network_1 = pd.read_csv(\n",
    "    os.path.join(KG_DATA_PATH, 'raw', 'data', 'openbiolink_kg.tsv'),\n",
    "    sep='\\t'\n",
    ")\n",
    "network_1['source'] = network_1['source'].apply(lambda x: \n",
    "                                                  f'{x.split(\":\")[0].lower()}:{x.split(\":\")[1]}')\n",
    "network_1['target'] = network_1['target'].apply(lambda x: \n",
    "                                                  f'{x.split(\":\")[0].lower()}:{x.split(\":\")[1]}')\n",
    "\n",
    "network_1 = filter_graph(network_df=network_1, file_name=OPENLINK_NORMALIZED_FILE, data_dict=data)\n",
    "\n",
    "network_1"
   ]
  },
  {
   "cell_type": "code",
   "execution_count": 6,
   "id": "rolled-buyer",
   "metadata": {
    "scrolled": false
   },
   "outputs": [
    {
     "name": "stderr",
     "output_type": "stream",
     "text": [
      "Normalizing graph: 100%|██████████| 220369/220369 [02:42<00:00, 1356.92it/s]\n"
     ]
    },
    {
     "data": {
      "text/html": [
       "<div>\n",
       "<style scoped>\n",
       "    .dataframe tbody tr th:only-of-type {\n",
       "        vertical-align: middle;\n",
       "    }\n",
       "\n",
       "    .dataframe tbody tr th {\n",
       "        vertical-align: top;\n",
       "    }\n",
       "\n",
       "    .dataframe thead th {\n",
       "        text-align: right;\n",
       "    }\n",
       "</style>\n",
       "<table border=\"1\" class=\"dataframe\">\n",
       "  <thead>\n",
       "    <tr style=\"text-align: right;\">\n",
       "      <th></th>\n",
       "      <th>source</th>\n",
       "      <th>target</th>\n",
       "      <th>polarity</th>\n",
       "    </tr>\n",
       "  </thead>\n",
       "  <tbody>\n",
       "    <tr>\n",
       "      <th>0</th>\n",
       "      <td>pubchem.compound:4943</td>\n",
       "      <td>ncbigene:2562</td>\n",
       "      <td>1</td>\n",
       "    </tr>\n",
       "    <tr>\n",
       "      <th>1</th>\n",
       "      <td>pubchem.compound:667468</td>\n",
       "      <td>ncbigene:147</td>\n",
       "      <td>-1</td>\n",
       "    </tr>\n",
       "    <tr>\n",
       "      <th>2</th>\n",
       "      <td>pubchem.compound:4011</td>\n",
       "      <td>ncbigene:1133</td>\n",
       "      <td>-1</td>\n",
       "    </tr>\n",
       "    <tr>\n",
       "      <th>3</th>\n",
       "      <td>pubchem.compound:4636</td>\n",
       "      <td>ncbigene:148</td>\n",
       "      <td>1</td>\n",
       "    </tr>\n",
       "    <tr>\n",
       "      <th>4</th>\n",
       "      <td>pubchem.compound:2083</td>\n",
       "      <td>ncbigene:154</td>\n",
       "      <td>1</td>\n",
       "    </tr>\n",
       "    <tr>\n",
       "      <th>...</th>\n",
       "      <td>...</td>\n",
       "      <td>...</td>\n",
       "      <td>...</td>\n",
       "    </tr>\n",
       "    <tr>\n",
       "      <th>52177</th>\n",
       "      <td>ncbigene:120892</td>\n",
       "      <td>mondo:0005180</td>\n",
       "      <td>1</td>\n",
       "    </tr>\n",
       "    <tr>\n",
       "      <th>52178</th>\n",
       "      <td>ncbigene:283120</td>\n",
       "      <td>mondo:0019004</td>\n",
       "      <td>1</td>\n",
       "    </tr>\n",
       "    <tr>\n",
       "      <th>52179</th>\n",
       "      <td>ncbigene:653361</td>\n",
       "      <td>mondo:0018305</td>\n",
       "      <td>1</td>\n",
       "    </tr>\n",
       "    <tr>\n",
       "      <th>52180</th>\n",
       "      <td>ncbigene:727897</td>\n",
       "      <td>mondo:0008345</td>\n",
       "      <td>1</td>\n",
       "    </tr>\n",
       "    <tr>\n",
       "      <th>52181</th>\n",
       "      <td>ncbigene:729238</td>\n",
       "      <td>mondo:0008345</td>\n",
       "      <td>1</td>\n",
       "    </tr>\n",
       "  </tbody>\n",
       "</table>\n",
       "<p>52182 rows × 3 columns</p>\n",
       "</div>"
      ],
      "text/plain": [
       "                        source         target polarity\n",
       "0        pubchem.compound:4943  ncbigene:2562        1\n",
       "1      pubchem.compound:667468   ncbigene:147       -1\n",
       "2        pubchem.compound:4011  ncbigene:1133       -1\n",
       "3        pubchem.compound:4636   ncbigene:148        1\n",
       "4        pubchem.compound:2083   ncbigene:154        1\n",
       "...                        ...            ...      ...\n",
       "52177          ncbigene:120892  mondo:0005180        1\n",
       "52178          ncbigene:283120  mondo:0019004        1\n",
       "52179          ncbigene:653361  mondo:0018305        1\n",
       "52180          ncbigene:727897  mondo:0008345        1\n",
       "52181          ncbigene:729238  mondo:0008345        1\n",
       "\n",
       "[52182 rows x 3 columns]"
      ]
     },
     "execution_count": 6,
     "metadata": {},
     "output_type": "execute_result"
    }
   ],
   "source": [
    "network_2 = pd.read_csv(\n",
    "    os.path.join(KG_DATA_PATH, 'raw', 'data', 'custom_kg.tsv'),\n",
    "    sep='\\t',\n",
    "    usecols=['source', 'target', 'relation']\n",
    ")\n",
    "network_2['source'] = network_2['source'].apply(lambda x: \n",
    "                                                  f'{x.split(\":\")[0].lower()}:{x.split(\":\")[1]}')\n",
    "network_2['target'] = network_2['target'].apply(lambda x: \n",
    "                                                  f'{x.split(\":\")[0].lower()}:{x.split(\":\")[1]}')\n",
    "\n",
    "network_2 = filter_graph(network_df=network_2, file_name=CUSTOM_NORMALIZED_FILE, data_dict=data)\n",
    "network_2"
   ]
  },
  {
   "cell_type": "code",
   "execution_count": null,
   "id": "otherwise-cooperative",
   "metadata": {},
   "outputs": [],
   "source": []
  }
 ],
 "metadata": {
  "kernelspec": {
   "display_name": "Python 3",
   "language": "python",
   "name": "python3"
  },
  "language_info": {
   "codemirror_mode": {
    "name": "ipython",
    "version": 3
   },
   "file_extension": ".py",
   "mimetype": "text/x-python",
   "name": "python",
   "nbconvert_exporter": "python",
   "pygments_lexer": "ipython3",
   "version": "3.8.5"
  }
 },
 "nbformat": 4,
 "nbformat_minor": 5
}
