{
 "cells": [
  {
   "cell_type": "markdown",
   "id": "million-underwear",
   "metadata": {},
   "source": [
    "# Subgraph Analysis (1/2)\n",
    "\n",
    "This notebook conatins creation of all chemical-disease pairs in our subgraphs"
   ]
  },
  {
   "cell_type": "markdown",
   "id": "younger-munich",
   "metadata": {},
   "source": [
    "# Pre-requirements\n",
    "\n",
    "1. Installation of drug2ways\n",
    "1. Running of earlier notebook (notebook 2,3, and 4) "
   ]
  },
  {
   "cell_type": "markdown",
   "id": "heard-leeds",
   "metadata": {},
   "source": [
    "# Imports"
   ]
  },
  {
   "cell_type": "code",
   "execution_count": 1,
   "id": "dying-timothy",
   "metadata": {},
   "outputs": [],
   "source": [
    "import pandas as pd\n",
    "import os\n",
    "import json\n",
    "import logging\n",
    "from tqdm import tqdm\n",
    "from itertools import product\n",
    "from networkx import DiGraph\n",
    "\n",
    "from utils import DATA_DIR, get_paths, filter_dataset, KG_DATA_PATH"
   ]
  },
  {
   "cell_type": "code",
   "execution_count": 2,
   "id": "fresh-initial",
   "metadata": {},
   "outputs": [],
   "source": [
    "logger = logging.getLogger(__name__)\n",
    "logging.getLogger('drug2ways').setLevel(logging.CRITICAL)\n",
    "logging.basicConfig(level=logging.CRITICAL)"
   ]
  },
  {
   "cell_type": "markdown",
   "id": "miniature-darwin",
   "metadata": {},
   "source": [
    "# Load dataset-generated network dataframe"
   ]
  },
  {
   "cell_type": "code",
   "execution_count": 3,
   "id": "likely-pension",
   "metadata": {},
   "outputs": [],
   "source": [
    "openbiolink_path = os.path.join(KG_DATA_PATH, 'normalized', 'openbiolink_kg_normalized.tsv')\n",
    "custom_path = os.path.join(KG_DATA_PATH, 'normalized', 'custom_kg_normalized.tsv')\n",
    "\n",
    "# Load DF\n",
    "openbiolink_df = pd.read_csv(openbiolink_path, sep='\\t')\n",
    "custom_df = pd.read_csv(custom_path, sep='\\t')"
   ]
  },
  {
   "cell_type": "markdown",
   "id": "ready-reconstruction",
   "metadata": {},
   "source": [
    "# Load datasets"
   ]
  },
  {
   "cell_type": "code",
   "execution_count": 4,
   "id": "opposite-museum",
   "metadata": {},
   "outputs": [],
   "source": [
    "with open(os.path.join(DATA_DIR, 'creeds', 'normalized', 'harmonized_expression.json')) as file:\n",
    "    creed_dict = json.load(file)\n",
    "    \n",
    "with open(os.path.join(DATA_DIR, 'geo', 'normalized', 'harmonized_expression.json')) as file2:\n",
    "    geo_dict = json.load(file2)\n",
    "    \n",
    "with open(os.path.join(DATA_DIR, 'l1000', 'normalized', 'harmonized_expression.json')) as file3:\n",
    "    l1000_dict = json.load(file3)\n",
    "    \n",
    "with open(os.path.join(DATA_DIR, 'open_targets', 'normalized', 'harmonized_expression.json')) as file4:\n",
    "    open_target_dict = json.load(file4)"
   ]
  },
  {
   "cell_type": "markdown",
   "id": "attractive-kitty",
   "metadata": {},
   "source": [
    "# Filterting dataset based on network"
   ]
  },
  {
   "cell_type": "code",
   "execution_count": 5,
   "id": "facial-philadelphia",
   "metadata": {},
   "outputs": [],
   "source": [
    "# CREED\n",
    "creed_openbio = filter_dataset(dataset=creed_dict, graph_df=openbiolink_df)\n",
    "creed_custom = filter_dataset(dataset=creed_dict, graph_df=custom_df)\n",
    "\n",
    "creed_dict = {'openbio': creed_openbio, 'custom': creed_custom}\n",
    "\n",
    "# GEO\n",
    "geo_openbio = filter_dataset(dataset=geo_dict, graph_df=openbiolink_df)\n",
    "geo_custom = filter_dataset(dataset=geo_dict, graph_df=custom_df)\n",
    "\n",
    "geo_dict = {'openbio': geo_openbio, 'custom': geo_custom}\n",
    "\n",
    "# OpenTarget\n",
    "target_openbio = filter_dataset(dataset=open_target_dict, graph_df=openbiolink_df)\n",
    "target_custom = filter_dataset(dataset=open_target_dict, graph_df=custom_df)\n",
    "\n",
    "open_target_dict = {'openbio': target_openbio, 'custom': target_custom}\n",
    "\n",
    "# L1000\n",
    "l1000_openbio = filter_dataset(dataset=l1000_dict, graph_df=openbiolink_df)\n",
    "l1000_custom = filter_dataset(dataset=l1000_dict, graph_df=custom_df)\n",
    "\n",
    "l1000_dict = {'openbio': l1000_openbio, 'custom': l1000_custom}\n"
   ]
  },
  {
   "cell_type": "markdown",
   "id": "vulnerable-glucose",
   "metadata": {},
   "source": [
    "# Creating information dict for each chemical-disease pair"
   ]
  },
  {
   "cell_type": "code",
   "execution_count": 6,
   "id": "infectious-geometry",
   "metadata": {},
   "outputs": [],
   "source": [
    "MAP = {\n",
    "    'creed' : creed_dict,\n",
    "    'target': open_target_dict,\n",
    "    'geo': geo_dict,\n",
    "    'l1000': l1000_dict,\n",
    "}"
   ]
  },
  {
   "cell_type": "code",
   "execution_count": 7,
   "id": "superior-nelson",
   "metadata": {
    "scrolled": false
   },
   "outputs": [
    {
     "name": "stdout",
     "output_type": "stream",
     "text": [
      "### l1000-geo ###\n",
      "Openbiolink\n"
     ]
    },
    {
     "name": "stderr",
     "output_type": "stream",
     "text": [
      "100%|██████████| 14472/14472 [1:28:13<00:00,  2.73it/s]   \n"
     ]
    },
    {
     "name": "stdout",
     "output_type": "stream",
     "text": [
      "Skipped 14048 nodes from 14472\n",
      "### l1000-target ###\n",
      "Openbiolink\n"
     ]
    },
    {
     "name": "stderr",
     "output_type": "stream",
     "text": [
      "100%|██████████| 37788/37788 [3:23:04<00:00,  3.10it/s]     \n"
     ]
    },
    {
     "name": "stdout",
     "output_type": "stream",
     "text": [
      "Skipped 37156 nodes from 37788\n",
      "### creed-geo ###\n",
      "Openbiolink\n"
     ]
    },
    {
     "name": "stderr",
     "output_type": "stream",
     "text": [
      "100%|██████████| 1728/1728 [41:31<00:00,  1.44s/it]  \n"
     ]
    },
    {
     "name": "stdout",
     "output_type": "stream",
     "text": [
      "Skipped 1532 nodes from 1728\n",
      "### creed-target ###\n",
      "Openbiolink\n"
     ]
    },
    {
     "name": "stderr",
     "output_type": "stream",
     "text": [
      "100%|██████████| 4512/4512 [59:51<00:00,  1.26it/s]   \n"
     ]
    },
    {
     "name": "stdout",
     "output_type": "stream",
     "text": [
      "Skipped 4211 nodes from 4512\n"
     ]
    }
   ],
   "source": [
    "for c, d in product(['l1000', 'creed'], ['geo', 'target']):\n",
    "    c_set = MAP[c]\n",
    "    d_set = MAP[d]\n",
    "    graph_name = c + '_' + d\n",
    "    \n",
    "    print(f'### {c}-{d} ###')\n",
    "            \n",
    "    print('Openbiolink')\n",
    "    get_paths(\n",
    "        graph_df=openbiolink_df,\n",
    "        disease_dict=d_set['openbio'],\n",
    "        chemical_dict=c_set['openbio'],\n",
    "        graph_name=graph_name,\n",
    "        openbio=True\n",
    "    )        "
   ]
  }
 ],
 "metadata": {
  "kernelspec": {
   "display_name": "Python 3",
   "language": "python",
   "name": "python3"
  },
  "language_info": {
   "codemirror_mode": {
    "name": "ipython",
    "version": 3
   },
   "file_extension": ".py",
   "mimetype": "text/x-python",
   "name": "python",
   "nbconvert_exporter": "python",
   "pygments_lexer": "ipython3",
   "version": "3.8.5"
  }
 },
 "nbformat": 4,
 "nbformat_minor": 5
}
