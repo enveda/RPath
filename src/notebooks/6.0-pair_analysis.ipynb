{
 "cells": [
  {
   "cell_type": "markdown",
   "id": "opposite-shadow",
   "metadata": {},
   "source": [
    "# Subgraph Analysis (2/2)\n",
    "\n",
    "This notebook contains analysis of each chemical-disease pair based on the subgraph created and the lmax values."
   ]
  },
  {
   "cell_type": "markdown",
   "id": "younger-munich",
   "metadata": {},
   "source": [
    "# Pre-requirements\n",
    "\n",
    "1. Installation of drug2ways\n",
    "1. Running notebook 5 - Creates lmax paths between the pairs\n",
    "1. Running 5.1 analysis notebook - Saves the lmax specific df into files"
   ]
  },
  {
   "cell_type": "markdown",
   "id": "heard-leeds",
   "metadata": {},
   "source": [
    "# Imports"
   ]
  },
  {
   "cell_type": "code",
   "execution_count": 1,
   "id": "dying-timothy",
   "metadata": {},
   "outputs": [],
   "source": [
    "import pandas as pd\n",
    "import ast\n",
    "import os\n",
    "import json\n",
    "import logging\n",
    "from tqdm import tqdm\n",
    "from collections import Counter\n",
    "from itertools import product\n",
    "\n",
    "from networkx import DiGraph, connected_components\n",
    "\n",
    "from utils import DATA_DIR, filter_dataset, get_validated_paths, create_graph_from_df, KG_DATA_PATH"
   ]
  },
  {
   "cell_type": "code",
   "execution_count": 2,
   "id": "fresh-initial",
   "metadata": {},
   "outputs": [],
   "source": [
    "logger = logging.getLogger(__name__)\n",
    "logging.getLogger('drug2ways').setLevel(logging.CRITICAL)\n",
    "logging.basicConfig(level=logging.CRITICAL)"
   ]
  },
  {
   "cell_type": "markdown",
   "id": "miniature-darwin",
   "metadata": {},
   "source": [
    "# Load dataset-generated network dataframe"
   ]
  },
  {
   "cell_type": "code",
   "execution_count": 3,
   "id": "chinese-double",
   "metadata": {},
   "outputs": [],
   "source": [
    "openbiolink_df = pd.read_csv(\n",
    "    os.path.join(KG_DATA_PATH, 'normalized', 'openbiolink_kg_normalized.tsv'),\n",
    "    sep='\\t'\n",
    ")\n",
    "openbiolink_df.rename(columns={'relation': 'polarity'}, inplace=True)\n",
    "\n",
    "custom_df = pd.read_csv(\n",
    "    os.path.join(KG_DATA_PATH, 'normalized', 'custom_kg_normalized.tsv'),\n",
    "    sep='\\t'\n",
    ")\n",
    "custom_df.rename(columns={'relation': 'polarity'}, inplace=True)"
   ]
  },
  {
   "cell_type": "markdown",
   "id": "ready-reconstruction",
   "metadata": {},
   "source": [
    "# Load datasets"
   ]
  },
  {
   "cell_type": "code",
   "execution_count": 4,
   "id": "opposite-museum",
   "metadata": {},
   "outputs": [],
   "source": [
    "with open(os.path.join(DATA_DIR, 'creeds', 'normalized', 'harmonized_expression-new1.json')) as file:\n",
    "    creed_dict = json.load(file)\n",
    "    \n",
    "with open(os.path.join(DATA_DIR, 'geo', 'normalized', 'harmonized_expression-new1.json')) as file2:\n",
    "    geo_dict = json.load(file2)\n",
    "    \n",
    "with open(os.path.join(DATA_DIR, 'l1000', 'normalized', 'harmonized_expression-new1.json')) as file3:\n",
    "    l1000_dict = json.load(file3)\n",
    "    \n",
    "with open(os.path.join(DATA_DIR, 'open_targets', 'normalized', 'harmonized_expression-new1.json')) as file4:\n",
    "    open_target_dict = json.load(file4)"
   ]
  },
  {
   "cell_type": "markdown",
   "id": "attractive-kitty",
   "metadata": {},
   "source": [
    "# Filterting dataset based on network"
   ]
  },
  {
   "cell_type": "code",
   "execution_count": 5,
   "id": "facial-philadelphia",
   "metadata": {},
   "outputs": [],
   "source": [
    "# CREED\n",
    "creed_openbio = filter_dataset(dataset=creed_dict, graph_df=openbiolink_df)\n",
    "creed_custom = filter_dataset(dataset=creed_dict, graph_df=custom_df)\n",
    "\n",
    "creed_dict = {'openbio': creed_openbio, 'custom': creed_custom}\n",
    "\n",
    "# GEO\n",
    "geo_openbio = filter_dataset(dataset=geo_dict, graph_df=openbiolink_df)\n",
    "geo_custom = filter_dataset(dataset=geo_dict, graph_df=custom_df)\n",
    "\n",
    "geo_dict = {'openbio': geo_openbio, 'custom': geo_custom}\n",
    "\n",
    "# OpenTarget\n",
    "target_openbio = filter_dataset(dataset=open_target_dict, graph_df=openbiolink_df)\n",
    "target_custom = filter_dataset(dataset=open_target_dict, graph_df=custom_df)\n",
    "\n",
    "open_target_dict = {'openbio': target_openbio, 'custom': target_custom}\n",
    "\n",
    "# L1000\n",
    "l1000_openbio = filter_dataset(dataset=l1000_dict, graph_df=openbiolink_df)\n",
    "l1000_custom = filter_dataset(dataset=l1000_dict, graph_df=custom_df)\n",
    "\n",
    "l1000_dict = {'openbio': l1000_openbio, 'custom': l1000_custom}\n"
   ]
  },
  {
   "cell_type": "markdown",
   "id": "collected-colon",
   "metadata": {},
   "source": [
    "# Load clinical and FDA data"
   ]
  },
  {
   "cell_type": "code",
   "execution_count": 6,
   "id": "intermediate-departure",
   "metadata": {},
   "outputs": [],
   "source": [
    "with open(os.path.join(DATA_DIR, 'gold-standard', 'clinical_pairs.json')) as file:\n",
    "    clinical_pair_dict = json.load(file).keys()"
   ]
  },
  {
   "cell_type": "code",
   "execution_count": 7,
   "id": "criminal-energy",
   "metadata": {},
   "outputs": [],
   "source": [
    "with open(os.path.join(DATA_DIR, 'gold-standard', 'fda_pairs.json')) as file1:\n",
    "    fda_list = json.load(file1)\n",
    "\n",
    "fda_pairs = set()\n",
    "for el in fda_list:\n",
    "    fda_pairs.add(el[0] + '_' + el[1])"
   ]
  },
  {
   "cell_type": "markdown",
   "id": "polyphonic-livestock",
   "metadata": {},
   "source": [
    "# Load the data files"
   ]
  },
  {
   "cell_type": "code",
   "execution_count": 8,
   "id": "afraid-radio",
   "metadata": {},
   "outputs": [
    {
     "name": "stderr",
     "output_type": "stream",
     "text": [
      "100%|██████████| 4/4 [00:05<00:00,  1.47s/it]\n"
     ]
    },
    {
     "data": {
      "text/html": [
       "<div>\n",
       "<style scoped>\n",
       "    .dataframe tbody tr th:only-of-type {\n",
       "        vertical-align: middle;\n",
       "    }\n",
       "\n",
       "    .dataframe tbody tr th {\n",
       "        vertical-align: top;\n",
       "    }\n",
       "\n",
       "    .dataframe thead th {\n",
       "        text-align: right;\n",
       "    }\n",
       "</style>\n",
       "<table border=\"1\" class=\"dataframe\">\n",
       "  <thead>\n",
       "    <tr style=\"text-align: right;\">\n",
       "      <th></th>\n",
       "      <th>source</th>\n",
       "      <th>target</th>\n",
       "      <th>number_of_paths</th>\n",
       "      <th>subgraph_name</th>\n",
       "      <th>paths</th>\n",
       "      <th>lmax</th>\n",
       "    </tr>\n",
       "  </thead>\n",
       "  <tbody>\n",
       "    <tr>\n",
       "      <th>0</th>\n",
       "      <td>pubchem.compound:445154</td>\n",
       "      <td>mondo:0018874</td>\n",
       "      <td>38</td>\n",
       "      <td>custom</td>\n",
       "      <td>[['pubchem.compound:445154', 'ncbigene:207', '...</td>\n",
       "      <td>5</td>\n",
       "    </tr>\n",
       "    <tr>\n",
       "      <th>1</th>\n",
       "      <td>pubchem.compound:445154</td>\n",
       "      <td>mondo:0006639</td>\n",
       "      <td>12</td>\n",
       "      <td>custom</td>\n",
       "      <td>[['pubchem.compound:445154', 'ncbigene:207', '...</td>\n",
       "      <td>5</td>\n",
       "    </tr>\n",
       "    <tr>\n",
       "      <th>2</th>\n",
       "      <td>pubchem.compound:445154</td>\n",
       "      <td>mondo:0004979</td>\n",
       "      <td>44</td>\n",
       "      <td>custom</td>\n",
       "      <td>[['pubchem.compound:445154', 'ncbigene:207', '...</td>\n",
       "      <td>5</td>\n",
       "    </tr>\n",
       "    <tr>\n",
       "      <th>3</th>\n",
       "      <td>pubchem.compound:445154</td>\n",
       "      <td>mondo:0004985</td>\n",
       "      <td>18</td>\n",
       "      <td>custom</td>\n",
       "      <td>[['pubchem.compound:445154', 'ncbigene:207', '...</td>\n",
       "      <td>5</td>\n",
       "    </tr>\n",
       "    <tr>\n",
       "      <th>4</th>\n",
       "      <td>pubchem.compound:445154</td>\n",
       "      <td>mondo:0004989</td>\n",
       "      <td>80</td>\n",
       "      <td>custom</td>\n",
       "      <td>[['pubchem.compound:445154', 'ncbigene:207', '...</td>\n",
       "      <td>5</td>\n",
       "    </tr>\n",
       "    <tr>\n",
       "      <th>...</th>\n",
       "      <td>...</td>\n",
       "      <td>...</td>\n",
       "      <td>...</td>\n",
       "      <td>...</td>\n",
       "      <td>...</td>\n",
       "      <td>...</td>\n",
       "    </tr>\n",
       "    <tr>\n",
       "      <th>37822</th>\n",
       "      <td>pubchem.compound:5328940</td>\n",
       "      <td>mondo:0007254</td>\n",
       "      <td>9601</td>\n",
       "      <td>custom</td>\n",
       "      <td>[['pubchem.compound:5328940', 'ncbigene:25', '...</td>\n",
       "      <td>6</td>\n",
       "    </tr>\n",
       "    <tr>\n",
       "      <th>37823</th>\n",
       "      <td>pubchem.compound:5328940</td>\n",
       "      <td>mondo:0008170</td>\n",
       "      <td>5072</td>\n",
       "      <td>custom</td>\n",
       "      <td>[['pubchem.compound:5328940', 'ncbigene:3055',...</td>\n",
       "      <td>6</td>\n",
       "    </tr>\n",
       "    <tr>\n",
       "      <th>37824</th>\n",
       "      <td>pubchem.compound:5328940</td>\n",
       "      <td>mondo:0008903</td>\n",
       "      <td>5453</td>\n",
       "      <td>custom</td>\n",
       "      <td>[['pubchem.compound:5328940', 'ncbigene:818', ...</td>\n",
       "      <td>6</td>\n",
       "    </tr>\n",
       "    <tr>\n",
       "      <th>37825</th>\n",
       "      <td>pubchem.compound:5328940</td>\n",
       "      <td>mondo:0008315</td>\n",
       "      <td>1533</td>\n",
       "      <td>custom</td>\n",
       "      <td>[['pubchem.compound:5328940', 'ncbigene:818', ...</td>\n",
       "      <td>6</td>\n",
       "    </tr>\n",
       "    <tr>\n",
       "      <th>37826</th>\n",
       "      <td>pubchem.compound:5328940</td>\n",
       "      <td>mondo:0005068</td>\n",
       "      <td>2580</td>\n",
       "      <td>custom</td>\n",
       "      <td>[['pubchem.compound:5328940', 'ncbigene:6714',...</td>\n",
       "      <td>6</td>\n",
       "    </tr>\n",
       "  </tbody>\n",
       "</table>\n",
       "<p>37827 rows × 6 columns</p>\n",
       "</div>"
      ],
      "text/plain": [
       "                         source         target number_of_paths subgraph_name  \\\n",
       "0       pubchem.compound:445154  mondo:0018874              38        custom   \n",
       "1       pubchem.compound:445154  mondo:0006639              12        custom   \n",
       "2       pubchem.compound:445154  mondo:0004979              44        custom   \n",
       "3       pubchem.compound:445154  mondo:0004985              18        custom   \n",
       "4       pubchem.compound:445154  mondo:0004989              80        custom   \n",
       "...                         ...            ...             ...           ...   \n",
       "37822  pubchem.compound:5328940  mondo:0007254            9601        custom   \n",
       "37823  pubchem.compound:5328940  mondo:0008170            5072        custom   \n",
       "37824  pubchem.compound:5328940  mondo:0008903            5453        custom   \n",
       "37825  pubchem.compound:5328940  mondo:0008315            1533        custom   \n",
       "37826  pubchem.compound:5328940  mondo:0005068            2580        custom   \n",
       "\n",
       "                                                   paths lmax  \n",
       "0      [['pubchem.compound:445154', 'ncbigene:207', '...    5  \n",
       "1      [['pubchem.compound:445154', 'ncbigene:207', '...    5  \n",
       "2      [['pubchem.compound:445154', 'ncbigene:207', '...    5  \n",
       "3      [['pubchem.compound:445154', 'ncbigene:207', '...    5  \n",
       "4      [['pubchem.compound:445154', 'ncbigene:207', '...    5  \n",
       "...                                                  ...  ...  \n",
       "37822  [['pubchem.compound:5328940', 'ncbigene:25', '...    6  \n",
       "37823  [['pubchem.compound:5328940', 'ncbigene:3055',...    6  \n",
       "37824  [['pubchem.compound:5328940', 'ncbigene:818', ...    6  \n",
       "37825  [['pubchem.compound:5328940', 'ncbigene:818', ...    6  \n",
       "37826  [['pubchem.compound:5328940', 'ncbigene:6714',...    6  \n",
       "\n",
       "[37827 rows x 6 columns]"
      ]
     },
     "execution_count": 8,
     "metadata": {},
     "output_type": "execute_result"
    }
   ],
   "source": [
    "lmax_table = pd.DataFrame(columns=[\n",
    "    'source', \n",
    "    'target', \n",
    "    'number_of_paths', \n",
    "    'subgraph_name',\n",
    "    'paths',\n",
    "])\n",
    "\n",
    "for file in tqdm(os.listdir(os.path.join(DATA_DIR, 'lmax-dfs'))):\n",
    "    \n",
    "    if '5' in file or '6' in file:\n",
    "        lmax_df = pd.read_csv(\n",
    "            os.path.join(DATA_DIR, 'lmax-dfs', file), \n",
    "            sep='\\t'\n",
    "        )\n",
    "\n",
    "        lmax_val = file.split('-')[0].split('_')[1]\n",
    "\n",
    "        lmax_df = lmax_df[lmax_df['number_of_paths'] != 0]\n",
    "        lmax_df.drop('signs', axis=1, inplace=True)\n",
    "        lmax_df.drop_duplicates(inplace=True)\n",
    "        lmax_df['lmax'] = lmax_val\n",
    "        lmax_table = pd.concat([lmax_table, lmax_df], ignore_index=True)\n",
    "lmax_table"
   ]
  },
  {
   "cell_type": "markdown",
   "id": "vulnerable-glucose",
   "metadata": {},
   "source": [
    "# Creating information df for each chemical-disease pair"
   ]
  },
  {
   "cell_type": "code",
   "execution_count": 9,
   "id": "infectious-geometry",
   "metadata": {},
   "outputs": [],
   "source": [
    "MAP = {\n",
    "    'creed' : creed_dict,\n",
    "    'target': open_target_dict,\n",
    "    'geo': geo_dict,\n",
    "    'l1000': l1000_dict,\n",
    "}"
   ]
  },
  {
   "cell_type": "code",
   "execution_count": 10,
   "id": "superior-nelson",
   "metadata": {
    "scrolled": false
   },
   "outputs": [
    {
     "name": "stderr",
     "output_type": "stream",
     "text": [
      "\r",
      "  0%|          | 0/1728 [00:00<?, ?it/s]"
     ]
    },
    {
     "name": "stdout",
     "output_type": "stream",
     "text": [
      "### creed-geo ###\n",
      "### openbio ###\n"
     ]
    },
    {
     "name": "stderr",
     "output_type": "stream",
     "text": [
      "100%|██████████| 1728/1728 [13:03<00:00,  2.21it/s]\n",
      "  0%|          | 0/935 [00:00<?, ?it/s]"
     ]
    },
    {
     "name": "stdout",
     "output_type": "stream",
     "text": [
      "### custom ###\n"
     ]
    },
    {
     "name": "stderr",
     "output_type": "stream",
     "text": [
      "100%|██████████| 935/935 [08:57<00:00,  1.74it/s]\n",
      "  0%|          | 0/4512 [00:00<?, ?it/s]"
     ]
    },
    {
     "name": "stdout",
     "output_type": "stream",
     "text": [
      "### creed-target ###\n",
      "### openbio ###\n"
     ]
    },
    {
     "name": "stderr",
     "output_type": "stream",
     "text": [
      "100%|██████████| 4512/4512 [36:29<00:00,  2.06it/s]\n",
      "  0%|          | 0/1925 [00:00<?, ?it/s]"
     ]
    },
    {
     "name": "stdout",
     "output_type": "stream",
     "text": [
      "### custom ###\n"
     ]
    },
    {
     "name": "stderr",
     "output_type": "stream",
     "text": [
      "100%|██████████| 1925/1925 [19:30<00:00,  1.64it/s]\n",
      "  0%|          | 0/14472 [00:00<?, ?it/s]"
     ]
    },
    {
     "name": "stdout",
     "output_type": "stream",
     "text": [
      "### l1000-geo ###\n",
      "### openbio ###\n"
     ]
    },
    {
     "name": "stderr",
     "output_type": "stream",
     "text": [
      "100%|██████████| 14472/14472 [1:57:33<00:00,  2.05it/s] \n",
      "  0%|          | 0/4964 [00:00<?, ?it/s]"
     ]
    },
    {
     "name": "stdout",
     "output_type": "stream",
     "text": [
      "### custom ###\n"
     ]
    },
    {
     "name": "stderr",
     "output_type": "stream",
     "text": [
      "100%|██████████| 4964/4964 [54:46<00:00,  1.51it/s] \n",
      "  0%|          | 0/37788 [00:00<?, ?it/s]"
     ]
    },
    {
     "name": "stdout",
     "output_type": "stream",
     "text": [
      "### l1000-target ###\n",
      "### openbio ###\n"
     ]
    },
    {
     "name": "stderr",
     "output_type": "stream",
     "text": [
      "100%|██████████| 37788/37788 [5:03:35<00:00,  2.07it/s]  \n",
      "  0%|          | 0/10220 [00:00<?, ?it/s]"
     ]
    },
    {
     "name": "stdout",
     "output_type": "stream",
     "text": [
      "### custom ###\n"
     ]
    },
    {
     "name": "stderr",
     "output_type": "stream",
     "text": [
      "100%|██████████| 10220/10220 [1:37:44<00:00,  1.74it/s]\n"
     ]
    }
   ],
   "source": [
    "for c, d in product(['creed', 'l1000'], ['geo', 'target']):\n",
    "    c_set = MAP[c]\n",
    "    d_set = MAP[d]\n",
    "    graph_name = c + '_' + d\n",
    "    \n",
    "    print(f'### {c}-{d} ###')\n",
    "    \n",
    "    df = pd.DataFrame(columns=[\n",
    "        'source',\n",
    "        'target',\n",
    "        'number_of_paths',\n",
    "        'number_of_concordant_paths',\n",
    "        'in_clinical_trial',\n",
    "        'in_fda',\n",
    "        'number_of_concordant_activatory_paths',\n",
    "        'number_of_concordant_inhibitory_paths',\n",
    "        'subgraph_size',\n",
    "        'number_of_unique_nodes',\n",
    "        'lmax',\n",
    "        'subgraph_name',\n",
    "    ])\n",
    "    \n",
    "    if not os.path.exists(os.path.join(DATA_DIR, 'concordant_paths')):\n",
    "        os.mkdir(os.path.join(DATA_DIR, 'concordant_paths'))\n",
    "    \n",
    "    NAME = f'{graph_name}-lmax-threshold-1.0.tsv'\n",
    "    \n",
    "    if os.path.exists(NAME):\n",
    "        continue\n",
    "        \n",
    "    # Iterating different chemical-disease pair\n",
    "    \n",
    "    for gname in ['openbio', 'custom']:\n",
    "        print(f'### {gname} ###')\n",
    "        for chemical, disease in tqdm(\n",
    "            product(c_set[gname], d_set[gname]),\n",
    "            total=len(c_set[gname]) * len(d_set[gname])\n",
    "        ):\n",
    "            if gname == 'openbio':\n",
    "                graph_copy = create_graph_from_df(openbiolink_df)\n",
    "            else:\n",
    "                graph_copy = create_graph_from_df(custom_df)\n",
    "            graph = graph_copy.copy()\n",
    "\n",
    "            final_df = lmax_table[(lmax_table[['source','target']].values == [chemical, disease]).all(axis=1)]\n",
    "\n",
    "            if not final_df.empty:\n",
    "                for source, target, _, subgraph_name, paths, lmax in final_df.values:\n",
    "                    if subgraph_name == gname:\n",
    "                        results = get_validated_paths(\n",
    "                            directed_graph=graph,\n",
    "                            source=source,\n",
    "                            target=target,\n",
    "                            all_paths=ast.literal_eval(paths),\n",
    "                            drug_dict=c_set[gname][source],\n",
    "                            disease_dict=d_set[gname][target],\n",
    "                            clinical_pair_dict=clinical_pair_dict,\n",
    "                            fda_pairs=fda_pairs\n",
    "                        )\n",
    "\n",
    "                        if results['number_of_concordant_paths'] != 0:\n",
    "                            results['lmax'] = lmax\n",
    "                            \n",
    "                            tmp_df = pd.DataFrame(results, index=[0])\n",
    "                            tmp_df['subgraph_name'] = gname\n",
    "                            df = pd.concat([df, tmp_df], ignore_index=True)\n",
    "\n",
    "    file_path = os.path.join(DATA_DIR, 'concordant_paths', NAME)\n",
    "\n",
    "    df.to_csv(file_path, sep='\\t', index=False)"
   ]
  },
  {
   "cell_type": "code",
   "execution_count": null,
   "id": "offshore-ground",
   "metadata": {},
   "outputs": [],
   "source": []
  }
 ],
 "metadata": {
  "kernelspec": {
   "display_name": "Python 3",
   "language": "python",
   "name": "python3"
  },
  "language_info": {
   "codemirror_mode": {
    "name": "ipython",
    "version": 3
   },
   "file_extension": ".py",
   "mimetype": "text/x-python",
   "name": "python",
   "nbconvert_exporter": "python",
   "pygments_lexer": "ipython3",
   "version": "3.8.5"
  }
 },
 "nbformat": 4,
 "nbformat_minor": 5
}
