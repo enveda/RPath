{
 "cells": [
  {
   "cell_type": "markdown",
   "id": "geographic-exposure",
   "metadata": {},
   "source": [
    "# Harmonization\n",
    "\n",
    "This notebook is used for harmonizing all the different namespaces into selected ones (mondo, pubchem.compound and ncbigene) along with a thresholding value to normalize the values of log-fold changes"
   ]
  },
  {
   "cell_type": "markdown",
   "id": "brazilian-neutral",
   "metadata": {},
   "source": [
    "# Imports"
   ]
  },
  {
   "cell_type": "code",
   "execution_count": 1,
   "id": "placed-demographic",
   "metadata": {},
   "outputs": [],
   "source": [
    "import pandas as pd\n",
    "import os\n",
    "import json\n",
    "import logging\n",
    "from tqdm import tqdm\n",
    "\n",
    "from utils import harmonize_dataset, DATA_DIR"
   ]
  },
  {
   "cell_type": "code",
   "execution_count": 2,
   "id": "exotic-essex",
   "metadata": {},
   "outputs": [],
   "source": [
    "logger = logging.getLogger(__name__)"
   ]
  },
  {
   "cell_type": "markdown",
   "id": "statistical-protocol",
   "metadata": {},
   "source": [
    "# Load datasets"
   ]
  },
  {
   "cell_type": "code",
   "execution_count": 3,
   "id": "fossil-influence",
   "metadata": {},
   "outputs": [],
   "source": [
    "with open(os.path.join(DATA_DIR, 'creeds', 'normalized', 'chemical_expression.json')) as file:\n",
    "    creed_dict = json.load(file)\n",
    "    \n",
    "with open(os.path.join(DATA_DIR, 'geo', 'normalized', 'disease_expression.json')) as file2:\n",
    "    geo_dict = json.load(file2)\n",
    "    \n",
    "with open(os.path.join(DATA_DIR, 'l1000', 'normalized', 'chemical_expression.json')) as file3:\n",
    "    l1000_dict = json.load(file3)\n",
    "    \n",
    "with open(os.path.join(DATA_DIR, 'open_targets', 'normalized', 'disease_expression.json')) as file4:\n",
    "    open_target_dict = json.load(file4)"
   ]
  },
  {
   "cell_type": "markdown",
   "id": "differential-zoning",
   "metadata": {},
   "source": [
    "# Harmonizing data"
   ]
  },
  {
   "cell_type": "code",
   "execution_count": 4,
   "id": "transparent-saturn",
   "metadata": {},
   "outputs": [
    {
     "name": "stderr",
     "output_type": "stream",
     "text": [
      "Harmonizing dictionary: 100%|██████████| 149/149 [00:00<00:00, 8376.80it/s]\n"
     ]
    }
   ],
   "source": [
    "harmonized_creed_dict = harmonize_dataset(data_dict=creed_dict, threshold=1)\n",
    "\n",
    "with open(os.path.join(DATA_DIR, 'creeds', 'normalized', 'harmonized_expression-new1.json'), 'w') as f1:\n",
    "    json.dump(harmonized_creed_dict, f1, ensure_ascii=False, indent=2)"
   ]
  },
  {
   "cell_type": "code",
   "execution_count": 5,
   "id": "honest-electron",
   "metadata": {},
   "outputs": [
    {
     "name": "stderr",
     "output_type": "stream",
     "text": [
      "Harmonizing dictionary: 100%|██████████| 46/46 [00:00<00:00, 564.37it/s]\n"
     ]
    }
   ],
   "source": [
    "harmonized_geo_dict = harmonize_dataset(data_dict=geo_dict, threshold=1)\n",
    "\n",
    "with open(os.path.join(DATA_DIR, 'geo', 'normalized', 'harmonized_expression-new1.json'), 'w') as f1:\n",
    "    json.dump(harmonized_geo_dict, f1, ensure_ascii=False, indent=2)"
   ]
  },
  {
   "cell_type": "code",
   "execution_count": 6,
   "id": "minor-hamilton",
   "metadata": {},
   "outputs": [
    {
     "name": "stderr",
     "output_type": "stream",
     "text": [
      "Harmonizing dictionary: 100%|██████████| 2700/2700 [00:00<00:00, 10336.63it/s]\n"
     ]
    }
   ],
   "source": [
    "harmonized_l1000_dict = harmonize_dataset(data_dict=l1000_dict, threshold=1)\n",
    "\n",
    "with open(os.path.join(DATA_DIR, 'l1000', 'normalized', 'harmonized_expression-new1.json'), 'w') as f1:\n",
    "    json.dump(harmonized_l1000_dict, f1, ensure_ascii=False, indent=2)"
   ]
  },
  {
   "cell_type": "code",
   "execution_count": 7,
   "id": "important-convert",
   "metadata": {},
   "outputs": [
    {
     "name": "stderr",
     "output_type": "stream",
     "text": [
      "Harmonizing dictionary: 100%|██████████| 180/180 [00:00<00:00, 6892.10it/s]\n"
     ]
    }
   ],
   "source": [
    "harmonized_targets_dict = harmonize_dataset(data_dict=open_target_dict, threshold=1)\n",
    "\n",
    "with open(os.path.join(DATA_DIR, 'open_targets', 'normalized', 'harmonized_expression-new1.json'), 'w') as f1:\n",
    "    json.dump(harmonized_targets_dict, f1, ensure_ascii=False, indent=2)"
   ]
  }
 ],
 "metadata": {
  "kernelspec": {
   "display_name": "Python 3",
   "language": "python",
   "name": "python3"
  },
  "language_info": {
   "codemirror_mode": {
    "name": "ipython",
    "version": 3
   },
   "file_extension": ".py",
   "mimetype": "text/x-python",
   "name": "python",
   "nbconvert_exporter": "python",
   "pygments_lexer": "ipython3",
   "version": "3.8.5"
  }
 },
 "nbformat": 4,
 "nbformat_minor": 5
}
