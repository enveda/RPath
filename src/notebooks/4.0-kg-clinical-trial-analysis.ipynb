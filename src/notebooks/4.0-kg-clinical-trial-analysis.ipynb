{
 "cells": [
  {
   "cell_type": "markdown",
   "id": "historical-railway",
   "metadata": {},
   "source": [
    "# Clinical trial analysis\n",
    "\n",
    "This notebook involves anlaysing the clinical trial information for chemical-disease pair in combination between datasets"
   ]
  },
  {
   "cell_type": "markdown",
   "id": "satellite-cross",
   "metadata": {},
   "source": [
    "# Imports"
   ]
  },
  {
   "cell_type": "code",
   "execution_count": 1,
   "id": "elect-repair",
   "metadata": {},
   "outputs": [],
   "source": [
    "import os\n",
    "from tqdm import tqdm\n",
    "import json\n",
    "import pandas as pd\n",
    "from itertools import product\n",
    "\n",
    "from utils import get_disease_map, KG_DATA_PATH, DATA_DIR"
   ]
  },
  {
   "cell_type": "markdown",
   "id": "determined-relaxation",
   "metadata": {},
   "source": [
    "# Load mapping file"
   ]
  },
  {
   "cell_type": "code",
   "execution_count": 2,
   "id": "tribal-memphis",
   "metadata": {},
   "outputs": [],
   "source": [
    "mapping_dict = get_disease_map()"
   ]
  },
  {
   "cell_type": "markdown",
   "id": "virtual-affair",
   "metadata": {},
   "source": [
    "# Load subgraph"
   ]
  },
  {
   "cell_type": "code",
   "execution_count": 3,
   "id": "compressed-teaching",
   "metadata": {},
   "outputs": [],
   "source": [
    "openbiolinks_df = pd.read_csv(\n",
    "    os.path.join(KG_DATA_PATH, 'normalized', 'openbiolink_kg_normalized.tsv'),\n",
    "    sep='\\t'\n",
    ")\n",
    "\n",
    "custom_df = pd.read_csv(\n",
    "    os.path.join(KG_DATA_PATH, 'normalized', 'custom_kg_normalized.tsv'),\n",
    "    sep='\\t'\n",
    ")"
   ]
  },
  {
   "cell_type": "markdown",
   "id": "tested-emerald",
   "metadata": {},
   "source": [
    "# Loading and saving clinical trial info"
   ]
  },
  {
   "cell_type": "code",
   "execution_count": 4,
   "id": "realistic-finding",
   "metadata": {},
   "outputs": [
    {
     "name": "stderr",
     "output_type": "stream",
     "text": [
      "Normalizing diseases: 100%|██████████| 57458/57458 [00:00<00:00, 1492579.22it/s]\n"
     ]
    },
    {
     "data": {
      "text/html": [
       "<div>\n",
       "<style scoped>\n",
       "    .dataframe tbody tr th:only-of-type {\n",
       "        vertical-align: middle;\n",
       "    }\n",
       "\n",
       "    .dataframe tbody tr th {\n",
       "        vertical-align: top;\n",
       "    }\n",
       "\n",
       "    .dataframe thead th {\n",
       "        text-align: right;\n",
       "    }\n",
       "</style>\n",
       "<table border=\"1\" class=\"dataframe\">\n",
       "  <thead>\n",
       "    <tr style=\"text-align: right;\">\n",
       "      <th></th>\n",
       "      <th>cid_id</th>\n",
       "      <th>condition</th>\n",
       "      <th>n_trials</th>\n",
       "      <th>mondo_id</th>\n",
       "    </tr>\n",
       "  </thead>\n",
       "  <tbody>\n",
       "    <tr>\n",
       "      <th>0</th>\n",
       "      <td>pubchem.compound:10026</td>\n",
       "      <td>mesh:D004931</td>\n",
       "      <td>1</td>\n",
       "      <td>mondo:0008698</td>\n",
       "    </tr>\n",
       "    <tr>\n",
       "      <th>1</th>\n",
       "      <td>pubchem.compound:10071196</td>\n",
       "      <td>mesh:D000374</td>\n",
       "      <td>2</td>\n",
       "      <td>mesh:D000374</td>\n",
       "    </tr>\n",
       "    <tr>\n",
       "      <th>2</th>\n",
       "      <td>pubchem.compound:10071196</td>\n",
       "      <td>mesh:D000544</td>\n",
       "      <td>3</td>\n",
       "      <td>mondo:0004975</td>\n",
       "    </tr>\n",
       "    <tr>\n",
       "      <th>3</th>\n",
       "      <td>pubchem.compound:10071196</td>\n",
       "      <td>mesh:D001523</td>\n",
       "      <td>9</td>\n",
       "      <td>mondo:0005084</td>\n",
       "    </tr>\n",
       "    <tr>\n",
       "      <th>4</th>\n",
       "      <td>pubchem.compound:10071196</td>\n",
       "      <td>mesh:D003704</td>\n",
       "      <td>1</td>\n",
       "      <td>mondo:0001627</td>\n",
       "    </tr>\n",
       "    <tr>\n",
       "      <th>...</th>\n",
       "      <td>...</td>\n",
       "      <td>...</td>\n",
       "      <td>...</td>\n",
       "      <td>...</td>\n",
       "    </tr>\n",
       "    <tr>\n",
       "      <th>57453</th>\n",
       "      <td>pubchem.compound:999</td>\n",
       "      <td>mesh:D016543</td>\n",
       "      <td>1</td>\n",
       "      <td>mondo:0002714</td>\n",
       "    </tr>\n",
       "    <tr>\n",
       "      <th>57454</th>\n",
       "      <td>pubchem.compound:999</td>\n",
       "      <td>mesh:D017093</td>\n",
       "      <td>2</td>\n",
       "      <td>mesh:D017093</td>\n",
       "    </tr>\n",
       "    <tr>\n",
       "      <th>57455</th>\n",
       "      <td>pubchem.compound:999</td>\n",
       "      <td>mesh:D017114</td>\n",
       "      <td>2</td>\n",
       "      <td>mondo:0019542</td>\n",
       "    </tr>\n",
       "    <tr>\n",
       "      <th>57456</th>\n",
       "      <td>pubchem.compound:999</td>\n",
       "      <td>mesh:D022124</td>\n",
       "      <td>1</td>\n",
       "      <td>mesh:D022124</td>\n",
       "    </tr>\n",
       "    <tr>\n",
       "      <th>57457</th>\n",
       "      <td>pubchem.compound:999</td>\n",
       "      <td>mesh:D048550</td>\n",
       "      <td>2</td>\n",
       "      <td>mesh:D048550</td>\n",
       "    </tr>\n",
       "  </tbody>\n",
       "</table>\n",
       "<p>57458 rows × 4 columns</p>\n",
       "</div>"
      ],
      "text/plain": [
       "                          cid_id     condition  n_trials       mondo_id\n",
       "0         pubchem.compound:10026  mesh:D004931         1  mondo:0008698\n",
       "1      pubchem.compound:10071196  mesh:D000374         2   mesh:D000374\n",
       "2      pubchem.compound:10071196  mesh:D000544         3  mondo:0004975\n",
       "3      pubchem.compound:10071196  mesh:D001523         9  mondo:0005084\n",
       "4      pubchem.compound:10071196  mesh:D003704         1  mondo:0001627\n",
       "...                          ...           ...       ...            ...\n",
       "57453       pubchem.compound:999  mesh:D016543         1  mondo:0002714\n",
       "57454       pubchem.compound:999  mesh:D017093         2   mesh:D017093\n",
       "57455       pubchem.compound:999  mesh:D017114         2  mondo:0019542\n",
       "57456       pubchem.compound:999  mesh:D022124         1   mesh:D022124\n",
       "57457       pubchem.compound:999  mesh:D048550         2   mesh:D048550\n",
       "\n",
       "[57458 rows x 4 columns]"
      ]
     },
     "execution_count": 4,
     "metadata": {},
     "output_type": "execute_result"
    }
   ],
   "source": [
    "clinical_df = pd.read_csv(\n",
    "    'https://raw.githubusercontent.com/drug2ways/results/master/validation/data/PubChem-MeSH-slim-counts.tsv',\n",
    "    sep='\\t'\n",
    ")\n",
    "\n",
    "clinical_df['cid_id'] = clinical_df['cid_id'].apply(lambda x: f'pubchem.compound:{x}')\n",
    "clinical_df['condition'] = clinical_df['condition'].apply(lambda x: f'mesh:{x}')\n",
    "\n",
    "mondo_id = []\n",
    "for i in tqdm(clinical_df['condition'], desc='Normalizing diseases'):\n",
    "    mondo_id.append(mapping_dict.get(i))\n",
    "    \n",
    "clinical_df['mondo_id'] = mondo_id\n",
    "clinical_df"
   ]
  },
  {
   "cell_type": "code",
   "execution_count": 5,
   "id": "common-priest",
   "metadata": {},
   "outputs": [
    {
     "name": "stderr",
     "output_type": "stream",
     "text": [
      "Creating dict: 100%|██████████| 57458/57458 [00:00<00:00, 553274.28it/s]\n"
     ]
    }
   ],
   "source": [
    "# Creating dict with condition-chemical pair\n",
    "clinical_trial_dict = {}\n",
    "\n",
    "for pubchem_idx, _, n_trial, mondo_idx in tqdm(clinical_df.values, desc='Creating dict'):\n",
    "    name = pubchem_idx + '_' + mondo_idx\n",
    "    if name not in clinical_trial_dict:\n",
    "        clinical_trial_dict[name] = {}\n",
    "\n",
    "    clinical_trial_dict[name] = n_trial"
   ]
  },
  {
   "cell_type": "code",
   "execution_count": 6,
   "id": "informal-coach",
   "metadata": {},
   "outputs": [],
   "source": [
    "# Save pair dictionary for future use\n",
    "if not os.path.exists(os.path.join(DATA_DIR, 'gold-standard')):\n",
    "    os.mkdir(os.path.join(DATA_DIR, 'gold-standard'))\n",
    "\n",
    "with open(\n",
    "    os.path.join(DATA_DIR, 'gold-standard', 'clinical_pairs.json'),\n",
    "    'w'\n",
    ") as f:\n",
    "    json.dump(clinical_trial_dict, f, ensure_ascii=False, indent=2)"
   ]
  },
  {
   "cell_type": "markdown",
   "id": "intermediate-cooling",
   "metadata": {},
   "source": [
    "# GEO, LC1000, OpenTargets and Creed"
   ]
  },
  {
   "cell_type": "code",
   "execution_count": 7,
   "id": "regulation-charm",
   "metadata": {},
   "outputs": [],
   "source": [
    "# Load gene expression files\n",
    "\n",
    "with open(os.path.join(DATA_DIR, 'creeds', 'normalized', 'chemical_expression.json')) as file:\n",
    "    creed_chemicals = json.load(file).keys()\n",
    "    \n",
    "with open(os.path.join(DATA_DIR, 'geo', 'normalized', 'disease_expression.json')) as file2:\n",
    "    geo_diseases = json.load(file2).keys()\n",
    "    \n",
    "with open(os.path.join(DATA_DIR, 'l1000', 'normalized', 'chemical_expression.json')) as file3:\n",
    "    lc1000_chemicals = json.load(file3).keys()\n",
    "    \n",
    "with open(os.path.join(DATA_DIR, 'open_targets', 'normalized', 'disease_expression.json')) as file4:\n",
    "    open_target_diseases = json.load(file4).keys()\n"
   ]
  },
  {
   "cell_type": "markdown",
   "id": "mineral-mercury",
   "metadata": {},
   "source": [
    "# Get overlaps with subgraph"
   ]
  },
  {
   "cell_type": "code",
   "execution_count": 8,
   "id": "equivalent-snake",
   "metadata": {},
   "outputs": [],
   "source": [
    "MAP = {\n",
    "    'creed_chem' : creed_chemicals,\n",
    "    'target_dis': open_target_diseases,\n",
    "    'geo_dis': geo_diseases,\n",
    "    'lc1000': lc1000_chemicals,\n",
    "}"
   ]
  },
  {
   "cell_type": "code",
   "execution_count": 9,
   "id": "premium-timothy",
   "metadata": {},
   "outputs": [],
   "source": [
    "# For open target\n",
    "openlink_kg_chemical = set(\n",
    "    openbiolinks_df[openbiolinks_df['source'].str.contains('pubchem.compound')]['source']\n",
    ")\n",
    "openlink_kg_disease = set(\n",
    "    openbiolinks_df[openbiolinks_df['target'].str.contains('mondo')]['target']\n",
    ")\n",
    "\n",
    "# For custom networks\n",
    "custom_kg_chemical = set(\n",
    "    custom_df[custom_df['source'].str.contains('pubchem.compound')]['source']\n",
    ")\n",
    "custom_kg_disease = set(\n",
    "    custom_df[custom_df['target'].str.contains('mondo')]['target']\n",
    ")\n"
   ]
  },
  {
   "cell_type": "code",
   "execution_count": 10,
   "id": "liable-policy",
   "metadata": {},
   "outputs": [
    {
     "name": "stdout",
     "output_type": "stream",
     "text": [
      "\n",
      "#### creed_chem ####\n",
      "Overlaps with OpenBioLink KG chemical 96\n",
      "Overlaps with Custom KG chemical 55\n",
      "Overlaps with OpenBioLink KG disease 0\n",
      "Overlaps with Custom KG disease 0\n",
      "\n",
      "#### target_dis ####\n",
      "Overlaps with OpenBioLink KG chemical 0\n",
      "Overlaps with Custom KG chemical 0\n",
      "Overlaps with OpenBioLink KG disease 47\n",
      "Overlaps with Custom KG disease 35\n",
      "\n",
      "#### geo_dis ####\n",
      "Overlaps with OpenBioLink KG chemical 0\n",
      "Overlaps with Custom KG chemical 0\n",
      "Overlaps with OpenBioLink KG disease 18\n",
      "Overlaps with Custom KG disease 17\n",
      "\n",
      "#### lc1000 ####\n",
      "Overlaps with OpenBioLink KG chemical 804\n",
      "Overlaps with Custom KG chemical 292\n",
      "Overlaps with OpenBioLink KG disease 0\n",
      "Overlaps with Custom KG disease 0\n"
     ]
    }
   ],
   "source": [
    "info_dict = {}\n",
    "\n",
    "for i in MAP:\n",
    "    curies = set(MAP[i])\n",
    "    \n",
    "    print(f'\\n#### {i} ####')\n",
    "    disease1 = openlink_kg_disease.intersection(curies)\n",
    "    disease2 = custom_kg_disease.intersection(curies)\n",
    "    \n",
    "    chemical1 = openlink_kg_chemical.intersection(curies)\n",
    "    chemical2 = custom_kg_chemical.intersection(curies)\n",
    "    \n",
    "    if i not in info_dict:\n",
    "        info_dict[i] = {}\n",
    "    \n",
    "    if len(disease1) > 0:\n",
    "        info_dict[i]['openbiolinks'] = disease1\n",
    "        info_dict[i]['custom'] = disease2\n",
    "    elif len(chemical1) > 0:\n",
    "        info_dict[i]['openbiolinks'] = chemical1\n",
    "        info_dict[i]['custom'] = chemical2\n",
    "    else:\n",
    "        print('SOMETHING IS WRONG!!!')\n",
    "    \n",
    "    print(f'Overlaps with OpenBioLink KG chemical', len(chemical1))\n",
    "    print(f'Overlaps with Custom KG chemical', len(chemical2))\n",
    "    print(f'Overlaps with OpenBioLink KG disease', len(disease1))\n",
    "    print(f'Overlaps with Custom KG disease', len(disease2))\n",
    "    "
   ]
  },
  {
   "cell_type": "markdown",
   "id": "governing-helmet",
   "metadata": {},
   "source": [
    "# Filter KG based on possible chemical-disease paths"
   ]
  },
  {
   "cell_type": "code",
   "execution_count": 11,
   "id": "sudden-ethics",
   "metadata": {},
   "outputs": [],
   "source": [
    "from networkx.algorithms.shortest_paths.generic import has_path\n",
    "from utils import create_graph_from_df"
   ]
  },
  {
   "cell_type": "markdown",
   "id": "healthy-juvenile",
   "metadata": {},
   "source": [
    "# Get clinical pair percentage based on dataset"
   ]
  },
  {
   "cell_type": "code",
   "execution_count": 12,
   "id": "convinced-belfast",
   "metadata": {},
   "outputs": [
    {
     "name": "stderr",
     "output_type": "stream",
     "text": [
      "Report on the number of relations: {-1: 16133, 1: 32745}\n"
     ]
    },
    {
     "name": "stdout",
     "output_type": "stream",
     "text": [
      "creed_chem target_dis\n"
     ]
    },
    {
     "name": "stderr",
     "output_type": "stream",
     "text": [
      "Report on the number of relations: {1: 43810, -1: 8372}\n"
     ]
    },
    {
     "name": "stdout",
     "output_type": "stream",
     "text": [
      "Openbio - chemicals: 77, diseases - 40 \n",
      "Custom - chemicals: 52, diseases - 35 \n",
      "\n",
      "creed_chem geo_dis\n"
     ]
    },
    {
     "name": "stderr",
     "output_type": "stream",
     "text": [
      "Report on the number of relations: {-1: 16133, 1: 32745}\n",
      "Report on the number of relations: {1: 43810, -1: 8372}\n"
     ]
    },
    {
     "name": "stdout",
     "output_type": "stream",
     "text": [
      "Openbio - chemicals: 76, diseases - 17 \n",
      "Custom - chemicals: 52, diseases - 17 \n",
      "\n",
      "lc1000 target_dis\n"
     ]
    },
    {
     "name": "stderr",
     "output_type": "stream",
     "text": [
      "Report on the number of relations: {-1: 16133, 1: 32745}\n",
      "Report on the number of relations: {1: 43810, -1: 8372}\n"
     ]
    },
    {
     "name": "stdout",
     "output_type": "stream",
     "text": [
      "Openbio - chemicals: 538, diseases - 45 \n",
      "Custom - chemicals: 277, diseases - 35 \n",
      "\n"
     ]
    },
    {
     "name": "stderr",
     "output_type": "stream",
     "text": [
      "Report on the number of relations: {-1: 16133, 1: 32745}\n"
     ]
    },
    {
     "name": "stdout",
     "output_type": "stream",
     "text": [
      "lc1000 geo_dis\n"
     ]
    },
    {
     "name": "stderr",
     "output_type": "stream",
     "text": [
      "Report on the number of relations: {1: 43810, -1: 8372}\n"
     ]
    },
    {
     "name": "stdout",
     "output_type": "stream",
     "text": [
      "Openbio - chemicals: 529, diseases - 18 \n",
      "Custom - chemicals: 272, diseases - 17 \n",
      "\n"
     ]
    }
   ],
   "source": [
    "clinical_evidence = {'openbiolinks': {}, 'custom': {}}\n",
    "count_dict = {'openbiolinks': {}, 'custom': {}}\n",
    "total_count_dict = {'openbiolinks': {}, 'custom': {}}\n",
    "\n",
    "for c, d in product(['creed_chem', 'lc1000'], ['target_dis', 'geo_dis']):\n",
    "    print(c, d)\n",
    "    c_set = info_dict[c]\n",
    "    d_set = info_dict[d]\n",
    "    \n",
    "    # Remove nodes that do not have a path\n",
    "    new_c_openbio = set()\n",
    "    new_d_openbio = set()\n",
    "    \n",
    "    graph_copy = create_graph_from_df(openbiolinks_df)\n",
    "    openbio_graph = graph_copy.copy()\n",
    "    \n",
    "    for chem_idx, disease_idx in product(c_set['openbiolinks'], d_set['openbiolinks']):\n",
    "        if chem_idx in openbio_graph.nodes and disease_idx in openbio_graph.nodes: \n",
    "            if has_path(openbio_graph, chem_idx, disease_idx):\n",
    "                new_c_openbio.add(chem_idx)\n",
    "                new_d_openbio.add(disease_idx)\n",
    "    \n",
    "    new_c_custom = set()\n",
    "    new_d_custom = set()\n",
    "    \n",
    "    graph_copy = create_graph_from_df(custom_df)\n",
    "    custom_graph = graph_copy.copy()\n",
    "    \n",
    "    for chem_idx, disease_idx in product(c_set['custom'], d_set['custom']):\n",
    "        if chem_idx in custom_graph.nodes and disease_idx in custom_graph.nodes: \n",
    "            if has_path(custom_graph, chem_idx, disease_idx):\n",
    "                new_c_custom.add(chem_idx)\n",
    "                new_d_custom.add(disease_idx)\n",
    "                \n",
    "    new_c_set = {'openbiolinks': new_c_openbio, 'custom': new_c_custom}\n",
    "    new_d_set = {'openbiolinks': new_d_openbio, 'custom': new_d_custom} \n",
    "    print(\n",
    "        f\"Openbio - chemicals: {len(new_c_set['openbiolinks'])}, diseases - {len(new_d_set['openbiolinks'])} \\n\"\n",
    "        f\"Custom - chemicals: {len(new_c_set['custom'])}, diseases - {len(new_d_set['custom'])} \\n\"\n",
    "    )\n",
    "    \n",
    "    # For OpenBioLinks\n",
    "    biolink_count = 0\n",
    "    \n",
    "    for chem_idx, disease_idx in product(new_c_set['openbiolinks'], new_d_set['openbiolinks']):\n",
    "        if has_path(openbio_graph, chem_idx, disease_idx):\n",
    "            name = chem_idx + '_' + disease_idx\n",
    "            if name in clinical_trial_dict:\n",
    "                clinical_evidence['openbiolinks'][name] = 'yes'\n",
    "                biolink_count += 1\n",
    "\n",
    "    key_name = c + '_' + d\n",
    "    count_dict['openbiolinks'][key_name] = biolink_count\n",
    "    total_count_dict['openbiolinks'][key_name] = len(\n",
    "        list(product(new_c_set['openbiolinks'], new_d_set['openbiolinks']))\n",
    "    )\n",
    "    \n",
    "    \n",
    "    # For Custom Network\n",
    "    custom_network_count = 0\n",
    "    \n",
    "    for chem_idx, disease_idx in product(c_set['custom'], d_set['custom']):\n",
    "        if has_path(custom_graph, chem_idx, disease_idx):\n",
    "            name = chem_idx + '_' + disease_idx\n",
    "            if name in clinical_trial_dict:\n",
    "                clinical_evidence['custom'][name] = 'yes'\n",
    "                custom_network_count += 1\n",
    "\n",
    "    key_name = c + '_' + d\n",
    "    count_dict['custom'][key_name] = custom_network_count\n",
    "    total_count_dict['custom'][key_name] = len(\n",
    "        list(product(new_c_set['custom'], new_d_set['custom']))\n",
    "    )"
   ]
  },
  {
   "cell_type": "code",
   "execution_count": 13,
   "id": "affecting-standing",
   "metadata": {},
   "outputs": [
    {
     "data": {
      "text/plain": [
       "{'openbiolinks': {'creed_chem_target_dis': 137,\n",
       "  'creed_chem_geo_dis': 121,\n",
       "  'lc1000_target_dis': 420,\n",
       "  'lc1000_geo_dis': 305},\n",
       " 'custom': {'creed_chem_target_dis': 182,\n",
       "  'creed_chem_geo_dis': 141,\n",
       "  'lc1000_target_dis': 489,\n",
       "  'lc1000_geo_dis': 363}}"
      ]
     },
     "execution_count": 13,
     "metadata": {},
     "output_type": "execute_result"
    }
   ],
   "source": [
    "# Clinical trial pair count\n",
    "count_dict"
   ]
  },
  {
   "cell_type": "code",
   "execution_count": 14,
   "id": "confident-parking",
   "metadata": {},
   "outputs": [
    {
     "data": {
      "text/plain": [
       "{'openbiolinks': {'creed_chem_target_dis': 3080,\n",
       "  'creed_chem_geo_dis': 1292,\n",
       "  'lc1000_target_dis': 24210,\n",
       "  'lc1000_geo_dis': 9522},\n",
       " 'custom': {'creed_chem_target_dis': 1820,\n",
       "  'creed_chem_geo_dis': 884,\n",
       "  'lc1000_target_dis': 9695,\n",
       "  'lc1000_geo_dis': 4624}}"
      ]
     },
     "execution_count": 14,
     "metadata": {},
     "output_type": "execute_result"
    }
   ],
   "source": [
    "# Total number of pairs\n",
    "total_count_dict"
   ]
  },
  {
   "cell_type": "code",
   "execution_count": 15,
   "id": "linear-chase",
   "metadata": {},
   "outputs": [
    {
     "name": "stdout",
     "output_type": "stream",
     "text": [
      "### openbiolinks KG ###\n",
      "creed_chem_target_dis 4.4480519480519485\n",
      "creed_chem_geo_dis 9.365325077399381\n",
      "lc1000_target_dis 1.734820322180917\n",
      "lc1000_geo_dis 3.20310859063222\n",
      "\n",
      "\n",
      "### custom KG ###\n",
      "creed_chem_target_dis 10.0\n",
      "creed_chem_geo_dis 15.95022624434389\n",
      "lc1000_target_dis 5.043837029396596\n",
      "lc1000_geo_dis 7.850346020761245\n",
      "\n",
      "\n"
     ]
    }
   ],
   "source": [
    "for kg_name in total_count_dict:\n",
    "    print(f'### {kg_name} KG ###')\n",
    "    for el in total_count_dict[kg_name]: \n",
    "        val = count_dict[kg_name][el] / total_count_dict[kg_name][el]\n",
    "        print(el, val*100)\n",
    "    print('\\n')"
   ]
  },
  {
   "cell_type": "code",
   "execution_count": null,
   "id": "plastic-discharge",
   "metadata": {},
   "outputs": [],
   "source": []
  }
 ],
 "metadata": {
  "kernelspec": {
   "display_name": "Python 3",
   "language": "python",
   "name": "python3"
  },
  "language_info": {
   "codemirror_mode": {
    "name": "ipython",
    "version": 3
   },
   "file_extension": ".py",
   "mimetype": "text/x-python",
   "name": "python",
   "nbconvert_exporter": "python",
   "pygments_lexer": "ipython3",
   "version": "3.8.5"
  }
 },
 "nbformat": 4,
 "nbformat_minor": 5
}
