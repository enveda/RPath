{
 "cells": [
  {
   "cell_type": "markdown",
   "metadata": {},
   "source": [
    "# Distributions of nodes and edges in Custom KG and OpenBioLink KG"
   ]
  },
  {
   "cell_type": "markdown",
   "metadata": {},
   "source": [
    "This notebook plots the distributions of nodes and edges in the Custom KG and OpenBioLink KG."
   ]
  },
  {
   "cell_type": "code",
   "execution_count": 1,
   "metadata": {},
   "outputs": [],
   "source": [
    "import os\n",
    "import getpass\n",
    "import sys\n",
    "import time\n",
    "\n",
    "import matplotlib.pyplot as plt\n",
    "import pandas as pd\n",
    "import seaborn as sns \n",
    "from utils import KG_DATA_PATH"
   ]
  },
  {
   "cell_type": "code",
   "execution_count": 2,
   "metadata": {},
   "outputs": [
    {
     "data": {
      "text/plain": [
       "'yojana'"
      ]
     },
     "execution_count": 2,
     "metadata": {},
     "output_type": "execute_result"
    }
   ],
   "source": [
    "getpass.getuser()"
   ]
  },
  {
   "cell_type": "code",
   "execution_count": 3,
   "metadata": {},
   "outputs": [
    {
     "data": {
      "text/plain": [
       "'3.8.5 (default, Sep  4 2020, 02:22:02) \\n[Clang 10.0.0 ]'"
      ]
     },
     "execution_count": 3,
     "metadata": {},
     "output_type": "execute_result"
    }
   ],
   "source": [
    "sys.version"
   ]
  },
  {
   "cell_type": "code",
   "execution_count": 4,
   "metadata": {},
   "outputs": [
    {
     "data": {
      "text/plain": [
       "'Fri Mar 19 18:09:47 2021'"
      ]
     },
     "execution_count": 4,
     "metadata": {},
     "output_type": "execute_result"
    }
   ],
   "source": [
    "time.asctime()"
   ]
  },
  {
   "cell_type": "markdown",
   "metadata": {},
   "source": [
    "Load networks"
   ]
  },
  {
   "cell_type": "code",
   "execution_count": 5,
   "metadata": {},
   "outputs": [],
   "source": [
    "custom = pd.read_csv(\n",
    "    os.path.join(KG_DATA_PATH, 'normalized', 'custom_kg_normalized.tsv'), \n",
    "    sep='\\t'\n",
    ")\n",
    "openbiolink = pd.read_csv(\n",
    "    os.path.join(KG_DATA_PATH, 'normalized', 'openbiolink_kg_normalized.tsv'), \n",
    "    sep='\\t'\n",
    ")"
   ]
  },
  {
   "cell_type": "markdown",
   "metadata": {},
   "source": [
    "### Get nodes in Custom KG"
   ]
  },
  {
   "cell_type": "markdown",
   "metadata": {},
   "source": [
    "Remove duplicate nodes in source ID and target ID columns "
   ]
  },
  {
   "cell_type": "code",
   "execution_count": 6,
   "metadata": {},
   "outputs": [],
   "source": [
    "source_identifier = custom['source']\n",
    "target_identifier = custom['target']\n",
    "\n",
    "custom_network_nodes = pd.concat([source_identifier, target_identifier], ignore_index=True)\n",
    "\n",
    "duplicates_count_custom = 0\n",
    "for index, duplicate in (custom_network_nodes.duplicated()).iteritems():\n",
    "    if duplicate == True:\n",
    "        duplicates_count_custom += 1\n",
    "        \n",
    "unique_nodes_custom_network = custom_network_nodes.drop_duplicates()"
   ]
  },
  {
   "cell_type": "markdown",
   "metadata": {},
   "source": [
    "Get entity counts for unique nodes"
   ]
  },
  {
   "cell_type": "code",
   "execution_count": 7,
   "metadata": {},
   "outputs": [],
   "source": [
    "custom_drugs = 0\n",
    "custom_proteins = 0\n",
    "custom_diseases = 0\n",
    "\n",
    "for _, entity in unique_nodes_custom_network.iteritems():\n",
    "    if entity.startswith('pubchem.compound:'):\n",
    "        custom_drugs += 1\n",
    "    elif entity.startswith('ncbigene:'):\n",
    "        custom_proteins += 1\n",
    "    elif entity.startswith('mondo:'):\n",
    "        custom_diseases += 1\n",
    "    else:\n",
    "        raise ValueError(f'{entity} not a PubChem, NCBI, or MONDO.')  "
   ]
  },
  {
   "cell_type": "markdown",
   "metadata": {},
   "source": [
    "### Get edges in custom network "
   ]
  },
  {
   "cell_type": "markdown",
   "metadata": {},
   "source": [
    "#### Edges in dataset:\n",
    "1. drugs (DrugBank ID) and genes (HGNC symbol)\n",
    "2. genes (HGNC symbol) and genes (HGNC symbol)\n",
    "3. genes (HGNC symbol) and disease/phenotypes (UMLS concept ID)"
   ]
  },
  {
   "cell_type": "code",
   "execution_count": 8,
   "metadata": {},
   "outputs": [],
   "source": [
    "drug_protein_df = custom.loc[\n",
    "    (custom['source'].str.startswith('pubchem.compound:')) & \n",
    "    (custom['target'].str.startswith('ncbigene:'))]\n",
    "\n",
    "protein_protein_df = custom.loc[\n",
    "    (custom['source'].str.startswith('ncbigene:')) & \n",
    "    (custom['target'].str.startswith('ncbigene:'))]\n",
    "\n",
    "protein_disease_df = custom.loc[\n",
    "    (custom['source'].str.startswith('ncbigene:')) & \n",
    "    (custom['target'].str.startswith('mondo:'))]"
   ]
  },
  {
   "cell_type": "markdown",
   "metadata": {},
   "source": [
    "Get unique disease and phenotype nodes and edges in custom network"
   ]
  },
  {
   "cell_type": "code",
   "execution_count": 9,
   "metadata": {},
   "outputs": [],
   "source": [
    "drug_protein_custom = len(drug_protein_df.index)\n",
    "protein_protein_custom = len(protein_protein_df.index)\n",
    "protein_disease_custom = len(protein_disease_df.index)"
   ]
  },
  {
   "cell_type": "code",
   "execution_count": 10,
   "metadata": {
    "scrolled": true
   },
   "outputs": [
    {
     "name": "stdout",
     "output_type": "stream",
     "text": [
      "##### Number of nodes in Custom kg #####\n",
      "104364: total # of nodes\n",
      "95729: # of duplicate nodes\n",
      "8635: # of unique nodes\n",
      "323: # of unique drugs\n",
      "8253: # of unique proteins\n",
      "59: # of unique diseases\n",
      "\n",
      "##### Number of edges in Custom kg ######\n",
      "52182: total # of interactions\n",
      "1161: # of drug-protein interactions\n",
      "50673: # of protein-protein interactions\n",
      "348: # of protein-disease interactions\n"
     ]
    }
   ],
   "source": [
    "print('##### Number of nodes in Custom kg #####')\n",
    "print(f'{custom_network_nodes.size}: total # of nodes')\n",
    "print(f'{duplicates_count_custom}: # of duplicate nodes')\n",
    "print(f'{unique_nodes_custom_network.size}: # of unique nodes')\n",
    "print(f'{custom_drugs}: # of unique drugs')\n",
    "print(f'{custom_proteins}: # of unique proteins')\n",
    "print(f'{custom_diseases}: # of unique diseases')\n",
    "\n",
    "print('\\n##### Number of edges in Custom kg ######')       \n",
    "print(f'{len(custom.index)}: total # of interactions')\n",
    "print(f'{drug_protein_custom}: # of drug-protein interactions')\n",
    "print(f'{protein_protein_custom}: # of protein-protein interactions')\n",
    "print(f'{protein_disease_custom}: # of protein-disease interactions')"
   ]
  },
  {
   "cell_type": "markdown",
   "metadata": {},
   "source": [
    "### Get nodes in OpenBioLink KG"
   ]
  },
  {
   "cell_type": "markdown",
   "metadata": {},
   "source": [
    "Remove duplicate nodes in source and target columns "
   ]
  },
  {
   "cell_type": "code",
   "execution_count": 11,
   "metadata": {},
   "outputs": [],
   "source": [
    "source = openbiolink['source']\n",
    "target = openbiolink['target']\n",
    "\n",
    "openbiolink_nodes = pd.concat([source, target], ignore_index=True)\n",
    "\n",
    "duplicates_count_openbiolink = 0\n",
    "for index, duplicate in (openbiolink_nodes.duplicated()).iteritems():\n",
    "    if duplicate == True:\n",
    "        duplicates_count_openbiolink += 1\n",
    "        \n",
    "unique_nodes_openbiolink = openbiolink_nodes.drop_duplicates()"
   ]
  },
  {
   "cell_type": "markdown",
   "metadata": {},
   "source": [
    "Get entity counts for unique nodes"
   ]
  },
  {
   "cell_type": "code",
   "execution_count": 12,
   "metadata": {},
   "outputs": [],
   "source": [
    "openbiolink_drugs = 0\n",
    "openbiolink_proteins = 0\n",
    "openbiolink_diseases = 0\n",
    "\n",
    "for _, entity in unique_nodes_openbiolink.iteritems():\n",
    "    if entity.startswith('pubchem.compound:'):\n",
    "        openbiolink_drugs += 1\n",
    "    elif entity.startswith('ncbigene:'):\n",
    "        openbiolink_proteins += 1\n",
    "    elif entity.startswith('mondo:'):\n",
    "        openbiolink_diseases += 1\n",
    "    else:\n",
    "        raise ValueError(f'{entity} not a PubChem, NCBI, or MONDO.')  \n"
   ]
  },
  {
   "cell_type": "markdown",
   "metadata": {},
   "source": [
    "### Get edges in OpenBioLink network"
   ]
  },
  {
   "cell_type": "markdown",
   "metadata": {},
   "source": [
    "#### Edges in dataset:\n",
    "\n",
    "1. drugs (PubChem compound) and genes (NCBI gene)\n",
    "2. genes (NCBI gene) and genes (NCBI gene)\n",
    "3. genes (NCBI gene) and diseases (DOID)\n",
    "4. genes (NCBI gene) and phenotypes (HP)"
   ]
  },
  {
   "cell_type": "code",
   "execution_count": 13,
   "metadata": {},
   "outputs": [],
   "source": [
    "drug_protein_df_obl = openbiolink.loc[\n",
    "    (openbiolink['source'].str.startswith('pubchem.compound:')) & \n",
    "    (openbiolink['target'].str.startswith('ncbigene:'))]\n",
    "\n",
    "protein_protein_df_obl = openbiolink.loc[\n",
    "    (openbiolink['source'].str.startswith('ncbigene:')) & \n",
    "    (openbiolink['target'].str.startswith('ncbigene:'))]\n",
    "\n",
    "protein_disease_df_obl = openbiolink.loc[\n",
    "    (openbiolink['source'].str.startswith('ncbigene:')) & \n",
    "    (openbiolink['target'].str.startswith('mondo:'))]"
   ]
  },
  {
   "cell_type": "code",
   "execution_count": 14,
   "metadata": {},
   "outputs": [],
   "source": [
    "drug_protein_obl = len(drug_protein_df_obl.index)\n",
    "protein_protein_obl = len(protein_protein_df_obl.index)\n",
    "protein_disease_obl = len(protein_disease_df_obl.index)"
   ]
  },
  {
   "cell_type": "code",
   "execution_count": 15,
   "metadata": {},
   "outputs": [
    {
     "name": "stdout",
     "output_type": "stream",
     "text": [
      "##### Number of nodes in OpenBioLink KG #####\n",
      "97756: total # of nodes\n",
      "91635: # of duplicate nodes\n",
      "6121: # of unique nodes\n",
      "76: # of unique diseases\n",
      "863: # of unique drugs\n",
      "5182: # of unique proteins \n",
      "\n",
      "##### Number of edges in OpenBioLink KG #####\n",
      "48878: total # of edges\n",
      "9572: # of drug-protein interactions\n",
      "39154: # of protein-protein interactions\n",
      "152: # of protein-disease interactions\n"
     ]
    }
   ],
   "source": [
    "print('##### Number of nodes in OpenBioLink KG #####')\n",
    "print(f'{openbiolink_nodes.size}: total # of nodes')\n",
    "print(f'{duplicates_count_openbiolink}: # of duplicate nodes')\n",
    "print(f'{unique_nodes_openbiolink.size}: # of unique nodes')\n",
    "print(f'{openbiolink_diseases}: # of unique diseases')\n",
    "print(f'{openbiolink_drugs}: # of unique drugs')\n",
    "print(f'{openbiolink_proteins}: # of unique proteins \\n')\n",
    "\n",
    "print('##### Number of edges in OpenBioLink KG #####')\n",
    "print(f'{len(openbiolink.index)}: total # of edges')\n",
    "print(f'{drug_protein_obl}: # of drug-protein interactions')\n",
    "print(f'{protein_protein_obl}: # of protein-protein interactions')\n",
    "print(f'{protein_disease_obl}: # of protein-disease interactions')"
   ]
  },
  {
   "cell_type": "markdown",
   "metadata": {},
   "source": [
    "### Plot distributions of nodes in Custom KG and OpenBioLink KG"
   ]
  },
  {
   "cell_type": "code",
   "execution_count": 16,
   "metadata": {},
   "outputs": [],
   "source": [
    "data_nodes = {\n",
    "    'Network': ['Custom KG','OpenBioLink KG','Custom KG','OpenBioLink KG','Custom KG','OpenBioLink KG'],\n",
    "    'Count':[custom_drugs, openbiolink_drugs, custom_proteins, openbiolink_proteins, custom_diseases, openbiolink_diseases],\n",
    "    'Node Types':['Drugs','Drugs','Genes/Proteins','Genes/Proteins','Diseases','Diseases']\n",
    "}\n",
    "\n",
    "node_df = pd.DataFrame(data=data_nodes)"
   ]
  },
  {
   "cell_type": "code",
   "execution_count": 17,
   "metadata": {},
   "outputs": [],
   "source": [
    "data_edges = {\n",
    "    'Network': ['Custom KG','OpenBioLink KG','Custom KG','OpenBioLink KG','Custom KG','OpenBioLink KG'],\n",
    "    'Count':[drug_protein_custom, drug_protein_obl, protein_protein_custom, protein_protein_obl, protein_disease_custom, protein_disease_obl],\n",
    "    'Edge Types':['drug-protein','drug-protein','protein-protein','protein-protein','protein-disease','protein-disease']\n",
    "}\n",
    "\n",
    "\n",
    "edges_df = pd.DataFrame(data=data_edges)"
   ]
  },
  {
   "cell_type": "code",
   "execution_count": 18,
   "metadata": {},
   "outputs": [
    {
     "data": {
      "image/png": "[encoded data removed]",
      "text/plain": [
       "<Figure size 1080x360 with 2 Axes>"
      ]
     },
     "metadata": {},
     "output_type": "display_data"
    }
   ],
   "source": [
    "sns.set(rc={'figure.figsize':(15,5)})\n",
    "f, axis = plt.subplots(1, 2, figsize=(15,5))\n",
    "\n",
    "# grid lines\n",
    "sns.set_style(\"darkgrid\")\n",
    "\n",
    "bx = sns.barplot(x=\"Node Types\", y=\"Count\", hue='Network', data=node_df, palette=['#EE442F','#63ACBE'], ax=axis[0]) \n",
    "bx = sns.barplot(x=\"Edge Types\", y=\"Count\", hue='Network', data=edges_df, palette=['#EE442F','#63ACBE'], ax=axis[1]) \n",
    "\n",
    "# title\n",
    "axis[0].set_title(\n",
    "    'Distribution of Node Types in \\n CustomKG and OpenBioLink KG', \n",
    "    fontsize=15, \n",
    "    fontweight=\"bold\"\n",
    ")\n",
    "axis[1].set_title(\n",
    "    'Distribution of Relationships in \\n CustomKG and OpenBioLink KG', \n",
    "    fontsize=15, \n",
    "    fontweight=\"bold\"\n",
    ")\n",
    "\n",
    "# axis labels\n",
    "axis[0].set_xlabel(\"Node Type\", fontsize=14, fontweight=\"bold\")\n",
    "axis[0].set_ylabel(\"Count\", fontsize=14, fontweight=\"bold\")\n",
    "axis[1].set_xlabel(\"Edge Type\", fontsize=14, fontweight=\"bold\")\n",
    "axis[1].set_ylabel(\"\")   \n",
    "    \n",
    "# axis ticks\n",
    "axis[0].set_xticklabels(labels=['drug', 'protein', 'disease'])\n",
    "axis[1].set_xticklabels(labels=['drug-protein','protein-protein','protein-disease'])\n",
    "\n",
    "# limit\n",
    "axis[0].set_ylim(10, 15000)\n",
    "axis[1].set_ylim(0, 80000)\n",
    "\n",
    "# Add counts above bars\n",
    "for p in axis[0].patches:\n",
    "    _x = p.get_x() + p.get_width() / 2\n",
    "    _y = p.get_y() + p.get_height() + 200\n",
    "    value = int(p.get_height())\n",
    "    axis[0].text(_x, _y, value, ha=\"center\")\n",
    "    \n",
    "\n",
    "for p in axis[1].patches:\n",
    "    _x = p.get_x() + p.get_width() / 2\n",
    "    _y = p.get_y() + p.get_height() + 2000\n",
    "    value = int(p.get_height())\n",
    "    axis[1].text(_x, _y, value, ha=\"center\")   \n",
    "\n",
    "\n",
    "plt.tight_layout()\n",
    "plt.savefig(\n",
    "    ('graph-stats.png'),\n",
    "    dpi=400,\n",
    "    bbox_inches='tight', \n",
    ")\n",
    "plt.show()\n",
    "    \n",
    "    "
   ]
  },
  {
   "cell_type": "code",
   "execution_count": null,
   "metadata": {},
   "outputs": [],
   "source": []
  }
 ],
 "metadata": {
  "kernelspec": {
   "display_name": "Python 3",
   "language": "python",
   "name": "python3"
  },
  "language_info": {
   "codemirror_mode": {
    "name": "ipython",
    "version": 3
   },
   "file_extension": ".py",
   "mimetype": "text/x-python",
   "name": "python",
   "nbconvert_exporter": "python",
   "pygments_lexer": "ipython3",
   "version": "3.8.5"
  },
  "pycharm": {
   "stem_cell": {
    "cell_type": "raw",
    "metadata": {
     "collapsed": false
    },
    "source": []
   }
  }
 },
 "nbformat": 4,
 "nbformat_minor": 4
}
