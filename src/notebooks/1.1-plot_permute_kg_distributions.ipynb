{
 "cells": [
  {
   "cell_type": "markdown",
   "metadata": {},
   "source": [
    "# Distributions of nodes and edges in permuted Custom KG and OpenBioLink KG"
   ]
  },
  {
   "cell_type": "markdown",
   "metadata": {},
   "source": [
    "This notebook plots the distributions of nodes and edges in the permuted Custom KG and OpenBioLink KG."
   ]
  },
  {
   "cell_type": "code",
   "execution_count": 1,
   "metadata": {},
   "outputs": [],
   "source": [
    "import os\n",
    "import matplotlib.pyplot as plt\n",
    "import pandas as pd\n",
    "import seaborn as sns \n",
    "\n",
    "from utils import KG_DATA_PATH, create_graph_from_df, create_df_from_graph"
   ]
  },
  {
   "cell_type": "markdown",
   "metadata": {},
   "source": [
    "# Load networks"
   ]
  },
  {
   "cell_type": "code",
   "execution_count": 2,
   "metadata": {},
   "outputs": [],
   "source": [
    "custom = pd.read_csv(\n",
    "    os.path.join(KG_DATA_PATH, 'shuffled_custom.tsv'), \n",
    "    sep='\\t'\n",
    ")\n",
    "custom.rename(columns={\"relation\": \"polarity\"}, inplace=True)\n",
    "\n",
    "openbiolink = pd.read_csv(\n",
    "    os.path.join(KG_DATA_PATH, 'shuffled_openbiolink.tsv'),\n",
    "    sep='\\t'\n",
    ")\n",
    "openbiolink.rename(columns={\"relation\": \"polarity\"}, inplace=True)"
   ]
  },
  {
   "cell_type": "code",
   "execution_count": 3,
   "metadata": {},
   "outputs": [
    {
     "name": "stderr",
     "output_type": "stream",
     "text": [
      "Report on the number of relations: {1: 43578, -1: 8045}\n",
      "Report on the number of relations: {-1: 12477, 1: 29022}\n"
     ]
    }
   ],
   "source": [
    "custom_graph = create_graph_from_df(custom)\n",
    "openbiolink_graph = create_graph_from_df(openbiolink)"
   ]
  },
  {
   "cell_type": "markdown",
   "metadata": {},
   "source": [
    "# Get nodes in Custom KG"
   ]
  },
  {
   "cell_type": "code",
   "execution_count": 4,
   "metadata": {},
   "outputs": [],
   "source": [
    "custom_drugs = set()\n",
    "custom_proteins = set()\n",
    "custom_diseases = set()\n",
    "\n",
    "for node in custom_graph.nodes():\n",
    "    if node.startswith('pubchem.compound:'):\n",
    "        custom_drugs.add(node)\n",
    "    elif node.startswith('ncbigene:'):\n",
    "        custom_proteins.add(node)\n",
    "    elif node.startswith('mondo:'):\n",
    "        custom_diseases.add(node)"
   ]
  },
  {
   "cell_type": "markdown",
   "metadata": {},
   "source": [
    "### Get edges in custom network "
   ]
  },
  {
   "cell_type": "code",
   "execution_count": 5,
   "metadata": {},
   "outputs": [],
   "source": [
    "drug_protein_custom = 0\n",
    "protein_protein_custom = 0\n",
    "protein_disease_custom = 0\n",
    "\n",
    "for source, target in custom_graph.edges():\n",
    "    if 'pubchem.compound' in source and 'ncbigene' in target:\n",
    "        drug_protein_custom += 1\n",
    "    elif 'ncbigene' in source and 'ncbigene' in target:\n",
    "        protein_protein_custom += 1\n",
    "    elif 'ncbigene' in source and 'mondo' in target:\n",
    "        protein_disease_custom += 1"
   ]
  },
  {
   "cell_type": "markdown",
   "metadata": {},
   "source": [
    "## Summary stats"
   ]
  },
  {
   "cell_type": "code",
   "execution_count": 6,
   "metadata": {
    "scrolled": true
   },
   "outputs": [
    {
     "name": "stdout",
     "output_type": "stream",
     "text": [
      "##### Number of nodes in Custom kg #####\n",
      "8470: total # of nodes\n",
      "212: # of unique drugs\n",
      "8213: # of unique proteins\n",
      "43: # of unique diseases\n",
      "\n",
      "##### Number of edges in Custom kg ######\n",
      "51611: total # of interactions\n",
      "734: # of drug-protein interactions\n",
      "50652: # of protein-protein interactions\n",
      "220: # of protein-disease interactions\n"
     ]
    }
   ],
   "source": [
    "print('##### Number of nodes in Custom kg #####')\n",
    "print(f'{len(custom_graph.nodes())}: total # of nodes')\n",
    "print(f'{len(custom_drugs)}: # of unique drugs')\n",
    "print(f'{len(custom_proteins)}: # of unique proteins')\n",
    "print(f'{len(custom_diseases)}: # of unique diseases')\n",
    "\n",
    "print('\\n##### Number of edges in Custom kg ######')       \n",
    "print(f'{len(custom_graph.edges())}: total # of interactions')\n",
    "print(f'{drug_protein_custom}: # of drug-protein interactions')\n",
    "print(f'{protein_protein_custom}: # of protein-protein interactions')\n",
    "print(f'{protein_disease_custom}: # of protein-disease interactions')"
   ]
  },
  {
   "cell_type": "markdown",
   "metadata": {},
   "source": [
    "# Get nodes in OpenBioLink KG"
   ]
  },
  {
   "cell_type": "code",
   "execution_count": 7,
   "metadata": {},
   "outputs": [],
   "source": [
    "openbiolink_drugs = set()\n",
    "openbiolink_proteins = set()\n",
    "openbiolink_diseases = set()\n",
    "\n",
    "for node in openbiolink_graph.nodes():\n",
    "    if node.startswith('pubchem.compound:'):\n",
    "        openbiolink_drugs.add(node)\n",
    "    elif node.startswith('ncbigene:'):\n",
    "        openbiolink_proteins.add(node)\n",
    "    elif node.startswith('mondo:'):\n",
    "        openbiolink_diseases.add(node)"
   ]
  },
  {
   "cell_type": "markdown",
   "metadata": {},
   "source": [
    "# Get edges in OpenBioLink network"
   ]
  },
  {
   "cell_type": "code",
   "execution_count": 8,
   "metadata": {},
   "outputs": [],
   "source": [
    "drug_protein_openbio = 0\n",
    "protein_protein_openbio = 0\n",
    "protein_disease_openbio = 0\n",
    "\n",
    "for source, target in openbiolink_graph.edges():\n",
    "    if 'pubchem.compound' in source and 'ncbigene' in target:\n",
    "        drug_protein_openbio += 1\n",
    "    elif 'ncbigene' in source and 'ncbigene' in target:\n",
    "        protein_protein_openbio += 1\n",
    "    elif 'ncbigene' in source and 'mondo' in target:\n",
    "        protein_disease_openbio += 1"
   ]
  },
  {
   "cell_type": "markdown",
   "metadata": {},
   "source": [
    "## Summary stats"
   ]
  },
  {
   "cell_type": "code",
   "execution_count": 9,
   "metadata": {},
   "outputs": [
    {
     "name": "stdout",
     "output_type": "stream",
     "text": [
      "##### Number of nodes in OpenBioLink KG #####\n",
      "4862: total # of nodes\n",
      "22: # of unique diseases\n",
      "211: # of unique drugs\n",
      "4627: # of unique proteins \n",
      "\n",
      "##### Number of edges in OpenBioLink KG #####\n",
      "41496: total # of edges\n",
      "3393: # of drug-protein interactions\n",
      "38043: # of protein-protein interactions\n",
      "50: # of protein-disease interactions\n"
     ]
    }
   ],
   "source": [
    "print('##### Number of nodes in OpenBioLink KG #####')\n",
    "print(f'{len(openbiolink_graph.nodes())}: total # of nodes')\n",
    "print(f'{len(openbiolink_diseases)}: # of unique diseases')\n",
    "print(f'{len(openbiolink_drugs)}: # of unique drugs')\n",
    "print(f'{len(openbiolink_proteins)}: # of unique proteins \\n')\n",
    "\n",
    "print('##### Number of edges in OpenBioLink KG #####')\n",
    "print(f'{len(openbiolink_graph.edges())}: total # of edges')\n",
    "print(f'{drug_protein_openbio}: # of drug-protein interactions')\n",
    "print(f'{protein_protein_openbio}: # of protein-protein interactions')\n",
    "print(f'{protein_disease_openbio}: # of protein-disease interactions')"
   ]
  },
  {
   "cell_type": "markdown",
   "metadata": {},
   "source": [
    "# Plot distributions of nodes"
   ]
  },
  {
   "cell_type": "code",
   "execution_count": 10,
   "metadata": {},
   "outputs": [],
   "source": [
    "data_nodes = {\n",
    "    'Network': [\n",
    "        'Custom KG',\n",
    "        'OpenBioLink KG',\n",
    "        'Custom KG',\n",
    "        'OpenBioLink KG',\n",
    "        'Custom KG',\n",
    "        'OpenBioLink KG'\n",
    "    ],\n",
    "    'Count':[\n",
    "        len(custom_drugs),\n",
    "        len(openbiolink_drugs), \n",
    "        len(custom_proteins), \n",
    "        len(openbiolink_proteins), \n",
    "        len(custom_diseases), \n",
    "        len(openbiolink_diseases)\n",
    "    ],\n",
    "    'Node Types':['Drugs','Drugs','Genes/Proteins','Genes/Proteins','Diseases','Diseases']\n",
    "}\n",
    "\n",
    "node_df = pd.DataFrame(data=data_nodes)"
   ]
  },
  {
   "cell_type": "code",
   "execution_count": 11,
   "metadata": {},
   "outputs": [],
   "source": [
    "data_edges = {\n",
    "    'Network': [\n",
    "        'Custom KG',\n",
    "        'OpenBioLink KG',\n",
    "        'Custom KG',\n",
    "        'OpenBioLink KG',\n",
    "        'Custom KG',\n",
    "        'OpenBioLink KG'\n",
    "    ],\n",
    "    'Count':[\n",
    "        drug_protein_custom,\n",
    "        drug_protein_openbio, \n",
    "        protein_protein_custom,\n",
    "        protein_protein_openbio,\n",
    "        protein_disease_custom, \n",
    "        protein_disease_openbio\n",
    "    ],\n",
    "    'Edge Types':[\n",
    "        'drug-protein',\n",
    "        'drug-protein',\n",
    "        'protein-protein',\n",
    "        'protein-protein',\n",
    "        'protein-disease',\n",
    "        'protein-disease'\n",
    "    ]\n",
    "}\n",
    "\n",
    "edges_df = pd.DataFrame(data=data_edges)"
   ]
  },
  {
   "cell_type": "code",
   "execution_count": 12,
   "metadata": {},
   "outputs": [
    {
     "data": {
      "image/png": "[encoded data removed]",
      "text/plain": [
       "<Figure size 1080x360 with 2 Axes>"
      ]
     },
     "metadata": {},
     "output_type": "display_data"
    }
   ],
   "source": [
    "sns.set(rc={'figure.figsize':(15,5)})\n",
    "f, axis = plt.subplots(1, 2, figsize=(15,5))\n",
    "\n",
    "# grid lines\n",
    "sns.set_style(\"darkgrid\")\n",
    "\n",
    "bx = sns.barplot(x=\"Node Types\", y=\"Count\", hue='Network', data=node_df, palette=['#EE442F','#63ACBE'], ax=axis[0]) \n",
    "bx = sns.barplot(x=\"Edge Types\", y=\"Count\", hue='Network', data=edges_df, palette=['#EE442F','#63ACBE'], ax=axis[1]) \n",
    "\n",
    "# title\n",
    "axis[0].set_title(\n",
    "    'Distribution of Node Types', \n",
    "    fontsize=15, \n",
    "    fontweight=\"bold\"\n",
    ")\n",
    "axis[1].set_title(\n",
    "    'Distribution of Relationships', \n",
    "    fontsize=15, \n",
    "    fontweight=\"bold\"\n",
    ")\n",
    "\n",
    "# axis labels\n",
    "axis[0].set_xlabel(\"Node Type\", fontsize=14, fontweight=\"bold\")\n",
    "axis[0].set_ylabel(\"Count\", fontsize=14, fontweight=\"bold\")\n",
    "axis[1].set_xlabel(\"Edge Type\", fontsize=14, fontweight=\"bold\")\n",
    "axis[1].set_ylabel(\"\")   \n",
    "    \n",
    "# axis ticks\n",
    "axis[0].set_xticklabels(labels=['drug', 'protein', 'disease'])\n",
    "axis[1].set_xticklabels(labels=['drug-protein','protein-protein','protein-disease'])\n",
    "\n",
    "# limit\n",
    "axis[0].set_ylim(10, 15000)\n",
    "axis[1].set_ylim(10, 80000)\n",
    "\n",
    "# Add counts above bars\n",
    "for p in axis[0].patches:\n",
    "    _x = p.get_x() + p.get_width() / 2\n",
    "    _y = p.get_y() + p.get_height() + 50\n",
    "    value = int(p.get_height())\n",
    "    axis[0].text(_x, _y, value, ha=\"center\")\n",
    "    \n",
    "\n",
    "for p in axis[1].patches:\n",
    "    _x = p.get_x() + p.get_width() / 2\n",
    "    _y = p.get_y() + p.get_height() + 50\n",
    "    value = int(p.get_height())\n",
    "    axis[1].text(_x, _y, value, ha=\"center\")   \n",
    "\n",
    "\n",
    "plt.tight_layout()\n",
    "axis[0].set_yscale(\"log\") #the log transformation\n",
    "axis[1].set_yscale(\"log\") #the log transformation\n",
    "\n",
    "plt.savefig(\n",
    "    ('graph-permuted-stats.png'),\n",
    "    dpi=400,\n",
    "    bbox_inches='tight', \n",
    ")\n",
    "plt.show()\n",
    "    \n",
    "    "
   ]
  }
 ],
 "metadata": {
  "kernelspec": {
   "display_name": "Python 3",
   "language": "python",
   "name": "python3"
  },
  "language_info": {
   "codemirror_mode": {
    "name": "ipython",
    "version": 3
   },
   "file_extension": ".py",
   "mimetype": "text/x-python",
   "name": "python",
   "nbconvert_exporter": "python",
   "pygments_lexer": "ipython3",
   "version": "3.8.5"
  },
  "pycharm": {
   "stem_cell": {
    "cell_type": "raw",
    "metadata": {
     "collapsed": false
    },
    "source": []
   }
  }
 },
 "nbformat": 4,
 "nbformat_minor": 4
}
