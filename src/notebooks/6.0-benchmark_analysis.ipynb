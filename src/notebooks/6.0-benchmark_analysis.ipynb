{
 "cells": [
  {
   "cell_type": "markdown",
   "id": "willing-theology",
   "metadata": {},
   "source": [
    "# Benchmark analysis\n",
    "\n",
    "This notebook compares the different benchmark according to the two KG."
   ]
  },
  {
   "cell_type": "markdown",
   "id": "b63e5181",
   "metadata": {},
   "source": [
    "# Imports"
   ]
  },
  {
   "cell_type": "code",
   "execution_count": 1,
   "id": "ff7348e0",
   "metadata": {},
   "outputs": [],
   "source": [
    "import os\n",
    "import json\n",
    "import math\n",
    "import logging\n",
    "import networkx as nx\n",
    "import numpy as np\n",
    "import pandas as pd\n",
    "\n",
    "from collections import Counter, defaultdict\n",
    "from itertools import product\n",
    "from typing import Mapping, List\n",
    "from tqdm import tqdm\n",
    "\n",
    "from utils import DATA_DIR, KG_DATA_PATH, create_graph_from_df"
   ]
  },
  {
   "cell_type": "markdown",
   "id": "0d74ef14",
   "metadata": {},
   "source": [
    "# Load Graph and Gold Standard"
   ]
  },
  {
   "cell_type": "code",
   "execution_count": 2,
   "id": "a08b5c11",
   "metadata": {},
   "outputs": [],
   "source": [
    "openbiolink_df = pd.read_csv(\n",
    "    os.path.join(KG_DATA_PATH, 'openbiolink_filtered_kg.tsv'),\n",
    "    sep='\\t'\n",
    ")\n",
    "\n",
    "custom_df = pd.read_csv(\n",
    "    os.path.join(KG_DATA_PATH, 'custom_filtered_kg.tsv'),\n",
    "    sep='\\t'\n",
    ")\n"
   ]
  },
  {
   "cell_type": "markdown",
   "id": "moved-kazakhstan",
   "metadata": {},
   "source": [
    "# Load clinical data"
   ]
  },
  {
   "cell_type": "code",
   "execution_count": 3,
   "id": "708dba64",
   "metadata": {},
   "outputs": [],
   "source": [
    "with open(os.path.join(DATA_DIR, 'gold-standard', 'clinical-trial.json')) as file:\n",
    "    clinical_pair_dict = json.load(file).keys()"
   ]
  },
  {
   "cell_type": "markdown",
   "id": "chief-lottery",
   "metadata": {},
   "source": [
    "# Create KG "
   ]
  },
  {
   "cell_type": "code",
   "execution_count": 4,
   "id": "5477bbd3",
   "metadata": {},
   "outputs": [
    {
     "name": "stderr",
     "output_type": "stream",
     "text": [
      "Report on the number of relations: {-1: 12477, 1: 29022}\n",
      "Report on the number of relations: {1: 43578, -1: 8045}\n"
     ]
    }
   ],
   "source": [
    "graph_openbio = create_graph_from_df(openbiolink_df)\n",
    "graph_custom = create_graph_from_df(custom_df)"
   ]
  },
  {
   "cell_type": "markdown",
   "id": "molecular-sheet",
   "metadata": {},
   "source": [
    "# Create drug disease dicts specific to KG"
   ]
  },
  {
   "cell_type": "code",
   "execution_count": 5,
   "id": "daily-cedar",
   "metadata": {},
   "outputs": [],
   "source": [
    "disease_openbio, drug_openbio,disease_custom,drug_custom = set(), set(), set(), set()\n",
    "\n",
    "for u in graph_openbio.nodes():\n",
    "    if u.startswith('mondo'):\n",
    "        disease_openbio.add(u)\n",
    "    elif u.startswith('pubchem'):\n",
    "        drug_openbio.add(u)\n",
    "\n",
    "for u in graph_custom.nodes():\n",
    "    if u.startswith('mondo'):\n",
    "        disease_custom.add(u)\n",
    "    elif u.startswith('pubchem'):\n",
    "        drug_custom.add(u)"
   ]
  },
  {
   "cell_type": "markdown",
   "id": "70e43c44",
   "metadata": {},
   "source": [
    "# Helper Functions"
   ]
  },
  {
   "cell_type": "code",
   "execution_count": 6,
   "id": "baking-brush",
   "metadata": {},
   "outputs": [],
   "source": [
    "score_actual = {}\n",
    "kg_dfs = {}"
   ]
  },
  {
   "cell_type": "code",
   "execution_count": 7,
   "id": "subject-anchor",
   "metadata": {},
   "outputs": [],
   "source": [
    "def khop(\n",
    "    nodeA: str, \n",
    "    nodeB: str, \n",
    "    graph: nx.Graph, \n",
    "    total: bool\n",
    ") -> tuple:\n",
    "    \n",
    "    \"\"\"Find nodes within the distance limit \"\"\"\n",
    "    \n",
    "    khop_A = {u for u in graph.neighbors(nodeA)}\n",
    "    khop_B = {u for u in graph.neighbors(nodeB)}\n",
    "    \n",
    "    if total:\n",
    "        return list(khop_A | khop_B), khop_A, khop_B\n",
    "    else:\n",
    "        return list(khop_A & khop_B), khop_A, khop_B"
   ]
  },
  {
   "cell_type": "code",
   "execution_count": 8,
   "id": "senior-quest",
   "metadata": {},
   "outputs": [],
   "source": [
    "def get_dict_df(\n",
    "    diseases, \n",
    "    drugs, \n",
    "    undirected_kg_graph, \n",
    "    di_kg_graph,\n",
    "    similarity_type\n",
    "):\n",
    "    \n",
    "    df = pd.DataFrame(columns=[\n",
    "        'source',\n",
    "        'target',\n",
    "        sim_scores[similarity_type]\n",
    "    ])\n",
    "\n",
    "    for disease in diseases:\n",
    "        # Skip drugs not part of largest component of KG\n",
    "        if disease not in undirected_kg_graph.nodes():\n",
    "            continue\n",
    "        \n",
    "        cn = []\n",
    "        \n",
    "        # for each disease, find the similarity score with for each drug and append to list\n",
    "        for drug in drugs:\n",
    "            \n",
    "            # Skip drugs not part of largest component of KG\n",
    "            if drug not in undirected_kg_graph.nodes():\n",
    "                continue\n",
    "            \n",
    "            shared_nodes, nodeA_neighbor, nodeB_neighbor = khop(\n",
    "                nodeA=drug,\n",
    "                nodeB=disease,\n",
    "                graph=undirected_kg_graph, \n",
    "                total=False,\n",
    "            )\n",
    "            \n",
    "            total_nodes, _, _ = khop(\n",
    "                nodeA=drug,\n",
    "                nodeB=disease,\n",
    "                graph=undirected_kg_graph, \n",
    "                total=True,\n",
    "            )\n",
    "                \n",
    "            if similarity_type == 'cn':\n",
    "                similarity = len(shared_nodes)\n",
    "            \n",
    "            elif similarity_type == 'cos':\n",
    "                similarity = len(shared_nodes) / (math.sqrt(len(nodeA_neighbor) * len(nodeB_neighbor)))\n",
    "            \n",
    "            elif similarity_type == 'ji':\n",
    "                similarity = len(shared_nodes) / len(total_nodes)\n",
    "                \n",
    "            elif similarity_type == 'si':\n",
    "                similarity = (2 * len(shared_nodes)) / (len(nodeA_neighbor) + len(nodeB_neighbor))\n",
    "                \n",
    "            elif similarity_type == 'hpi':\n",
    "                similarity = len(shared_nodes) / min(len(nodeA_neighbor), len(nodeB_neighbor)) \n",
    "                \n",
    "            elif similarity_type == 'hdi':\n",
    "                similarity = len(shared_nodes) / max(len(nodeA_neighbor), len(nodeB_neighbor)) \n",
    "                \n",
    "            elif similarity_type == 'lhn':\n",
    "                similarity = len(shared_nodes) / (len(nodeA_neighbor) * len(nodeB_neighbor)) \n",
    "                \n",
    "            elif similarity_type == 'pa':\n",
    "                similarity = len(nodeA_neighbor) * len(nodeB_neighbor)\n",
    "                \n",
    "            elif similarity_type == 'aa':\n",
    "                similarity = 0\n",
    "                \n",
    "                for n in shared_nodes:\n",
    "                    neighbors_list = set(i for i in undirected_kg_graph.neighbors(n))\n",
    "                    similarity += 1 / math.log10(len(neighbors_list))\n",
    "                    \n",
    "            elif similarity_type == 'ra':\n",
    "                similarity = 0\n",
    "                \n",
    "                for n in shared_nodes:\n",
    "                    neighbors_list = set(i for i in undirected_kg_graph.neighbors(n))\n",
    "                    similarity += 1 / len(neighbors_list)\n",
    "            elif similarity_type == 'sp':\n",
    "                # try to see if path is between two nodes\n",
    "                try:\n",
    "                    similarity = len(nx.shortest_path(di_kg_graph,source=drug, target=disease))\n",
    "                except:\n",
    "                    continue\n",
    "            cn.append(similarity)\n",
    "        \n",
    "        if not similarity_type == 'sp':\n",
    "            index = np.where(cn == np.amax(cn))\n",
    "        else:\n",
    "            index = np.where(cn == np.amin(cn))\n",
    "        # if list is full of 0's (i.e sum == 0), then there are no shared neighbors \n",
    "        \n",
    "        if np.sum(cn) == 0 or len(np.array(cn)[index]) > 1:\n",
    "            continue   \n",
    "        \n",
    "        for val in index:\n",
    "            for j in val:\n",
    "                df = df.append(\n",
    "                    {\n",
    "                        'source': list(drugs)[j], \n",
    "                        'target': disease, \n",
    "                        sim_scores[similarity_type]: cn[j]\n",
    "                    }, \n",
    "                    ignore_index=True\n",
    "                )\n",
    "\n",
    "    return df"
   ]
  },
  {
   "cell_type": "code",
   "execution_count": 9,
   "id": "892dea1b",
   "metadata": {},
   "outputs": [],
   "source": [
    "def get_precision(\n",
    "    clinical_trial_dict: dict, \n",
    "    predicted: list\n",
    ")-> tuple: \n",
    "    \n",
    "    total = len(predicted)\n",
    "    pos = 0\n",
    "    \n",
    "    for pair in predicted:\n",
    "        if pair in clinical_trial_dict:\n",
    "            pos += 1\n",
    "    \n",
    "    \n",
    "    return round(((pos/total) * 100), 3), pos, total\n"
   ]
  },
  {
   "cell_type": "markdown",
   "id": "nervous-valentine",
   "metadata": {},
   "source": [
    "# Value by change for both KGs"
   ]
  },
  {
   "cell_type": "code",
   "execution_count": 10,
   "id": "falling-kernel",
   "metadata": {},
   "outputs": [
    {
     "data": {
      "text/plain": [
       "0.132"
      ]
     },
     "execution_count": 10,
     "metadata": {},
     "output_type": "execute_result"
    }
   ],
   "source": [
    "openbio_prob = 0\n",
    "\n",
    "for disease in disease_openbio:\n",
    "    for drug in drug_openbio:\n",
    "        trial = f'{drug}_{disease}'\n",
    "        if trial in clinical_pair_dict:\n",
    "            openbio_prob += 1\n",
    "\n",
    "total = len(drug_openbio) * len(disease_openbio)\n",
    "prob = openbio_prob / total\n",
    "open_val_by_chance = round(prob, 3)\n",
    "open_val_by_chance"
   ]
  },
  {
   "cell_type": "code",
   "execution_count": 11,
   "id": "fleet-today",
   "metadata": {},
   "outputs": [
    {
     "data": {
      "text/plain": [
       "0.108"
      ]
     },
     "execution_count": 11,
     "metadata": {},
     "output_type": "execute_result"
    }
   ],
   "source": [
    "custom_prob = 0\n",
    "\n",
    "for disease in disease_custom:\n",
    "    for drug in drug_custom:\n",
    "        trial = f'{drug}_{disease}'\n",
    "        if trial in clinical_pair_dict:\n",
    "            custom_prob += 1\n",
    "\n",
    "total = len(drug_custom) * len(disease_custom)\n",
    "prob = custom_prob / total\n",
    "custom_val_by_chance = round(prob, 3)\n",
    "custom_val_by_chance"
   ]
  },
  {
   "cell_type": "markdown",
   "id": "perfect-yemen",
   "metadata": {},
   "source": [
    "# Different benchmark methods"
   ]
  },
  {
   "cell_type": "code",
   "execution_count": 12,
   "id": "flying-buying",
   "metadata": {},
   "outputs": [],
   "source": [
    "sim_scores = {\n",
    "    'cn': 'Common Neighbors',\n",
    "    'cos': 'Cosine Similiarity',\n",
    "    'ji': 'Jaccard index',\n",
    "    'si': 'Sorensen index',\n",
    "    'hpi': 'Hub Promoted Index',\n",
    "    'hdi': 'Hub Depressed Index', \n",
    "    'lhn': 'Leicht–Holme–Newman Index',\n",
    "    'pa':'Preferential Attachment',\n",
    "    'aa': 'Adamic-Adar', \n",
    "    'ra': 'Resource Allocation Index',\n",
    "    'sp': 'Shortest Path'\n",
    "}"
   ]
  },
  {
   "cell_type": "code",
   "execution_count": 13,
   "id": "protecting-shaft",
   "metadata": {},
   "outputs": [],
   "source": [
    "undirected_openbio = graph_openbio.to_undirected()\n",
    "undirected_custom = graph_custom.to_undirected()\n",
    "check_df = None"
   ]
  },
  {
   "cell_type": "code",
   "execution_count": 14,
   "id": "widespread-dominant",
   "metadata": {
    "scrolled": false
   },
   "outputs": [
    {
     "name": "stderr",
     "output_type": "stream",
     "text": [
      "Calculating scores for algorithms: 100%|██████████| 11/11 [00:03<00:00,  3.19it/s]\n"
     ]
    }
   ],
   "source": [
    "for algo in tqdm(sim_scores, desc='Calculating scores for algorithms'):\n",
    "    \n",
    "    algo_name = sim_scores[algo]\n",
    "    \n",
    "    # OpenBioLink KG\n",
    "    full_df = get_dict_df(\n",
    "        diseases=disease_openbio,\n",
    "        drugs=drug_openbio, \n",
    "        undirected_kg_graph=undirected_openbio,\n",
    "        di_kg_graph=graph_openbio,\n",
    "        similarity_type=algo\n",
    "    )\n",
    "\n",
    "        \n",
    "    full_df['pair'] = full_df['source'] + '_' + full_df['target']\n",
    "    \n",
    "    openbio_precision, openbio_pos, openbio_total = get_precision(\n",
    "        clinical_trial_dict=clinical_pair_dict, \n",
    "        predicted=list(full_df['pair'].unique())\n",
    "    )\n",
    "    \n",
    "    # Custom KG\n",
    "    df_custom = get_dict_df(\n",
    "        diseases=disease_custom, \n",
    "        drugs=drug_custom, \n",
    "        undirected_kg_graph=undirected_custom,\n",
    "        di_kg_graph=graph_custom,\n",
    "        similarity_type=algo\n",
    "    )\n",
    "    \n",
    "    df_custom['pair'] = df_custom['source'] + '_' + df_custom['target']\n",
    "    \n",
    "    custom_precision, custom_pos, custom_total = get_precision(\n",
    "        clinical_trial_dict=clinical_pair_dict, \n",
    "        predicted=list(df_custom['pair'].unique())\n",
    "    )\n",
    "   \n",
    "    score_actual[algo_name] = {\n",
    "        'openbio_precision': openbio_precision,\n",
    "        'openbio_val_by_chance': open_val_by_chance,\n",
    "        '# openbio_pairs': f'{openbio_pos}/{openbio_total}',\n",
    "        'custom_precision': custom_precision,\n",
    "        'custom_val_by_chance': custom_val_by_chance,\n",
    "        '# custom_pairs': f'{custom_pos}/{custom_total}',\n",
    "    }    "
   ]
  },
  {
   "cell_type": "code",
   "execution_count": 15,
   "id": "bf401167",
   "metadata": {},
   "outputs": [
    {
     "data": {
      "text/html": [
       "<div>\n",
       "<style scoped>\n",
       "    .dataframe tbody tr th:only-of-type {\n",
       "        vertical-align: middle;\n",
       "    }\n",
       "\n",
       "    .dataframe tbody tr th {\n",
       "        vertical-align: top;\n",
       "    }\n",
       "\n",
       "    .dataframe thead th {\n",
       "        text-align: right;\n",
       "    }\n",
       "</style>\n",
       "<table border=\"1\" class=\"dataframe\">\n",
       "  <thead>\n",
       "    <tr style=\"text-align: right;\">\n",
       "      <th></th>\n",
       "      <th>openbio_precision</th>\n",
       "      <th>openbio_val_by_chance</th>\n",
       "      <th># openbio_pairs</th>\n",
       "      <th>custom_precision</th>\n",
       "      <th>custom_val_by_chance</th>\n",
       "      <th># custom_pairs</th>\n",
       "    </tr>\n",
       "  </thead>\n",
       "  <tbody>\n",
       "    <tr>\n",
       "      <th>Common Neighbors</th>\n",
       "      <td>50.0</td>\n",
       "      <td>0.132</td>\n",
       "      <td>2/4</td>\n",
       "      <td>44.444</td>\n",
       "      <td>0.108</td>\n",
       "      <td>4/9</td>\n",
       "    </tr>\n",
       "    <tr>\n",
       "      <th>Cosine Similiarity</th>\n",
       "      <td>43.75</td>\n",
       "      <td>0.132</td>\n",
       "      <td>7/16</td>\n",
       "      <td>42.857</td>\n",
       "      <td>0.108</td>\n",
       "      <td>6/14</td>\n",
       "    </tr>\n",
       "    <tr>\n",
       "      <th>Jaccard index</th>\n",
       "      <td>43.75</td>\n",
       "      <td>0.132</td>\n",
       "      <td>7/16</td>\n",
       "      <td>40.0</td>\n",
       "      <td>0.108</td>\n",
       "      <td>6/15</td>\n",
       "    </tr>\n",
       "    <tr>\n",
       "      <th>Sorensen index</th>\n",
       "      <td>43.75</td>\n",
       "      <td>0.132</td>\n",
       "      <td>7/16</td>\n",
       "      <td>40.0</td>\n",
       "      <td>0.108</td>\n",
       "      <td>6/15</td>\n",
       "    </tr>\n",
       "    <tr>\n",
       "      <th>Hub Promoted Index</th>\n",
       "      <td>60.0</td>\n",
       "      <td>0.132</td>\n",
       "      <td>3/5</td>\n",
       "      <td>46.154</td>\n",
       "      <td>0.108</td>\n",
       "      <td>6/13</td>\n",
       "    </tr>\n",
       "    <tr>\n",
       "      <th>Hub Depressed Index</th>\n",
       "      <td>43.75</td>\n",
       "      <td>0.132</td>\n",
       "      <td>7/16</td>\n",
       "      <td>41.667</td>\n",
       "      <td>0.108</td>\n",
       "      <td>5/12</td>\n",
       "    </tr>\n",
       "    <tr>\n",
       "      <th>Leicht–Holme–Newman Index</th>\n",
       "      <td>43.75</td>\n",
       "      <td>0.132</td>\n",
       "      <td>7/16</td>\n",
       "      <td>46.667</td>\n",
       "      <td>0.108</td>\n",
       "      <td>7/15</td>\n",
       "    </tr>\n",
       "    <tr>\n",
       "      <th>Preferential Attachment</th>\n",
       "      <td>5.0</td>\n",
       "      <td>0.132</td>\n",
       "      <td>1/20</td>\n",
       "      <td>9.302</td>\n",
       "      <td>0.108</td>\n",
       "      <td>4/43</td>\n",
       "    </tr>\n",
       "    <tr>\n",
       "      <th>Adamic-Adar</th>\n",
       "      <td>33.333</td>\n",
       "      <td>0.132</td>\n",
       "      <td>2/6</td>\n",
       "      <td>36.364</td>\n",
       "      <td>0.108</td>\n",
       "      <td>4/11</td>\n",
       "    </tr>\n",
       "    <tr>\n",
       "      <th>Resource Allocation Index</th>\n",
       "      <td>33.333</td>\n",
       "      <td>0.132</td>\n",
       "      <td>2/6</td>\n",
       "      <td>36.364</td>\n",
       "      <td>0.108</td>\n",
       "      <td>4/11</td>\n",
       "    </tr>\n",
       "    <tr>\n",
       "      <th>Shortest Path</th>\n",
       "      <td>0.0</td>\n",
       "      <td>0.132</td>\n",
       "      <td>0/1</td>\n",
       "      <td>0.0</td>\n",
       "      <td>0.108</td>\n",
       "      <td>0/10</td>\n",
       "    </tr>\n",
       "  </tbody>\n",
       "</table>\n",
       "</div>"
      ],
      "text/plain": [
       "                          openbio_precision openbio_val_by_chance  \\\n",
       "Common Neighbors                       50.0                 0.132   \n",
       "Cosine Similiarity                    43.75                 0.132   \n",
       "Jaccard index                         43.75                 0.132   \n",
       "Sorensen index                        43.75                 0.132   \n",
       "Hub Promoted Index                     60.0                 0.132   \n",
       "Hub Depressed Index                   43.75                 0.132   \n",
       "Leicht–Holme–Newman Index             43.75                 0.132   \n",
       "Preferential Attachment                 5.0                 0.132   \n",
       "Adamic-Adar                          33.333                 0.132   \n",
       "Resource Allocation Index            33.333                 0.132   \n",
       "Shortest Path                           0.0                 0.132   \n",
       "\n",
       "                          # openbio_pairs custom_precision  \\\n",
       "Common Neighbors                      2/4           44.444   \n",
       "Cosine Similiarity                   7/16           42.857   \n",
       "Jaccard index                        7/16             40.0   \n",
       "Sorensen index                       7/16             40.0   \n",
       "Hub Promoted Index                    3/5           46.154   \n",
       "Hub Depressed Index                  7/16           41.667   \n",
       "Leicht–Holme–Newman Index            7/16           46.667   \n",
       "Preferential Attachment              1/20            9.302   \n",
       "Adamic-Adar                           2/6           36.364   \n",
       "Resource Allocation Index             2/6           36.364   \n",
       "Shortest Path                         0/1              0.0   \n",
       "\n",
       "                          custom_val_by_chance # custom_pairs  \n",
       "Common Neighbors                         0.108            4/9  \n",
       "Cosine Similiarity                       0.108           6/14  \n",
       "Jaccard index                            0.108           6/15  \n",
       "Sorensen index                           0.108           6/15  \n",
       "Hub Promoted Index                       0.108           6/13  \n",
       "Hub Depressed Index                      0.108           5/12  \n",
       "Leicht–Holme–Newman Index                0.108           7/15  \n",
       "Preferential Attachment                  0.108           4/43  \n",
       "Adamic-Adar                              0.108           4/11  \n",
       "Resource Allocation Index                0.108           4/11  \n",
       "Shortest Path                            0.108           0/10  "
      ]
     },
     "execution_count": 15,
     "metadata": {},
     "output_type": "execute_result"
    }
   ],
   "source": [
    "pd.DataFrame(score_actual).transpose()"
   ]
  },
  {
   "cell_type": "code",
   "execution_count": null,
   "id": "2608089d",
   "metadata": {},
   "outputs": [],
   "source": []
  }
 ],
 "metadata": {
  "kernelspec": {
   "display_name": "Python 3",
   "language": "python",
   "name": "python3"
  },
  "language_info": {
   "codemirror_mode": {
    "name": "ipython",
    "version": 3
   },
   "file_extension": ".py",
   "mimetype": "text/x-python",
   "name": "python",
   "nbconvert_exporter": "python",
   "pygments_lexer": "ipython3",
   "version": "3.8.5"
  }
 },
 "nbformat": 4,
 "nbformat_minor": 5
}
