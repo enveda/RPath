{
 "cells": [
  {
   "cell_type": "markdown",
   "id": "historical-railway",
   "metadata": {},
   "source": [
    "# Gold standard analysis\n",
    "\n",
    "This notebook involves analysing the gold standard data against the knowledge graph"
   ]
  },
  {
   "cell_type": "markdown",
   "id": "satellite-cross",
   "metadata": {},
   "source": [
    "# Imports"
   ]
  },
  {
   "cell_type": "code",
   "execution_count": 15,
   "id": "elect-repair",
   "metadata": {},
   "outputs": [],
   "source": [
    "import os\n",
    "from tqdm import tqdm\n",
    "import json\n",
    "import pandas as pd\n",
    "from itertools import product\n",
    "from venn import venn\n",
    "import matplotlib.pyplot as plt\n",
    "from collections import defaultdict\n",
    "\n",
    "from utils import get_disease_map, KG_DATA_PATH, DATA_DIR, create_venn_diagram, get_chem_map"
   ]
  },
  {
   "cell_type": "markdown",
   "id": "determined-relaxation",
   "metadata": {},
   "source": [
    "# Load mapping file"
   ]
  },
  {
   "cell_type": "code",
   "execution_count": 2,
   "id": "tribal-memphis",
   "metadata": {},
   "outputs": [],
   "source": [
    "mapping_dict = get_disease_map()\n",
    "chemica_dict = get_chem_map()"
   ]
  },
  {
   "cell_type": "markdown",
   "id": "virtual-affair",
   "metadata": {},
   "source": [
    "# Load subgraph"
   ]
  },
  {
   "cell_type": "code",
   "execution_count": 3,
   "id": "compressed-teaching",
   "metadata": {},
   "outputs": [],
   "source": [
    "openbiolinks_df = pd.read_csv(\n",
    "    os.path.join(KG_DATA_PATH, 'normalized', 'openbiolink_kg_normalized.tsv'),\n",
    "    sep='\\t'\n",
    ")\n",
    "\n",
    "custom_df = pd.read_csv(\n",
    "    os.path.join(KG_DATA_PATH, 'normalized', 'custom_kg_normalized.tsv'),\n",
    "    sep='\\t'\n",
    ")"
   ]
  },
  {
   "cell_type": "markdown",
   "id": "tested-emerald",
   "metadata": {},
   "source": [
    "# Clinical trial info"
   ]
  },
  {
   "cell_type": "code",
   "execution_count": 4,
   "id": "realistic-finding",
   "metadata": {
    "scrolled": true
   },
   "outputs": [
    {
     "name": "stderr",
     "output_type": "stream",
     "text": [
      "Normalizing diseases: 100%|██████████| 57458/57458 [00:00<00:00, 1500244.77it/s]\n"
     ]
    },
    {
     "data": {
      "text/html": [
       "<div>\n",
       "<style scoped>\n",
       "    .dataframe tbody tr th:only-of-type {\n",
       "        vertical-align: middle;\n",
       "    }\n",
       "\n",
       "    .dataframe tbody tr th {\n",
       "        vertical-align: top;\n",
       "    }\n",
       "\n",
       "    .dataframe thead th {\n",
       "        text-align: right;\n",
       "    }\n",
       "</style>\n",
       "<table border=\"1\" class=\"dataframe\">\n",
       "  <thead>\n",
       "    <tr style=\"text-align: right;\">\n",
       "      <th></th>\n",
       "      <th>cid_id</th>\n",
       "      <th>condition</th>\n",
       "      <th>n_trials</th>\n",
       "      <th>mondo_id</th>\n",
       "    </tr>\n",
       "  </thead>\n",
       "  <tbody>\n",
       "    <tr>\n",
       "      <th>0</th>\n",
       "      <td>pubchem.compound:10026</td>\n",
       "      <td>mesh:D004931</td>\n",
       "      <td>1</td>\n",
       "      <td>mondo:0008698</td>\n",
       "    </tr>\n",
       "    <tr>\n",
       "      <th>1</th>\n",
       "      <td>pubchem.compound:10071196</td>\n",
       "      <td>mesh:D000374</td>\n",
       "      <td>2</td>\n",
       "      <td>mesh:D000374</td>\n",
       "    </tr>\n",
       "    <tr>\n",
       "      <th>2</th>\n",
       "      <td>pubchem.compound:10071196</td>\n",
       "      <td>mesh:D000544</td>\n",
       "      <td>3</td>\n",
       "      <td>mondo:0004975</td>\n",
       "    </tr>\n",
       "    <tr>\n",
       "      <th>3</th>\n",
       "      <td>pubchem.compound:10071196</td>\n",
       "      <td>mesh:D001523</td>\n",
       "      <td>9</td>\n",
       "      <td>mondo:0005084</td>\n",
       "    </tr>\n",
       "    <tr>\n",
       "      <th>4</th>\n",
       "      <td>pubchem.compound:10071196</td>\n",
       "      <td>mesh:D003704</td>\n",
       "      <td>1</td>\n",
       "      <td>mondo:0001627</td>\n",
       "    </tr>\n",
       "    <tr>\n",
       "      <th>...</th>\n",
       "      <td>...</td>\n",
       "      <td>...</td>\n",
       "      <td>...</td>\n",
       "      <td>...</td>\n",
       "    </tr>\n",
       "    <tr>\n",
       "      <th>57453</th>\n",
       "      <td>pubchem.compound:999</td>\n",
       "      <td>mesh:D016543</td>\n",
       "      <td>1</td>\n",
       "      <td>mondo:0002714</td>\n",
       "    </tr>\n",
       "    <tr>\n",
       "      <th>57454</th>\n",
       "      <td>pubchem.compound:999</td>\n",
       "      <td>mesh:D017093</td>\n",
       "      <td>2</td>\n",
       "      <td>mesh:D017093</td>\n",
       "    </tr>\n",
       "    <tr>\n",
       "      <th>57455</th>\n",
       "      <td>pubchem.compound:999</td>\n",
       "      <td>mesh:D017114</td>\n",
       "      <td>2</td>\n",
       "      <td>mondo:0019542</td>\n",
       "    </tr>\n",
       "    <tr>\n",
       "      <th>57456</th>\n",
       "      <td>pubchem.compound:999</td>\n",
       "      <td>mesh:D022124</td>\n",
       "      <td>1</td>\n",
       "      <td>mesh:D022124</td>\n",
       "    </tr>\n",
       "    <tr>\n",
       "      <th>57457</th>\n",
       "      <td>pubchem.compound:999</td>\n",
       "      <td>mesh:D048550</td>\n",
       "      <td>2</td>\n",
       "      <td>mesh:D048550</td>\n",
       "    </tr>\n",
       "  </tbody>\n",
       "</table>\n",
       "<p>57458 rows × 4 columns</p>\n",
       "</div>"
      ],
      "text/plain": [
       "                          cid_id     condition  n_trials       mondo_id\n",
       "0         pubchem.compound:10026  mesh:D004931         1  mondo:0008698\n",
       "1      pubchem.compound:10071196  mesh:D000374         2   mesh:D000374\n",
       "2      pubchem.compound:10071196  mesh:D000544         3  mondo:0004975\n",
       "3      pubchem.compound:10071196  mesh:D001523         9  mondo:0005084\n",
       "4      pubchem.compound:10071196  mesh:D003704         1  mondo:0001627\n",
       "...                          ...           ...       ...            ...\n",
       "57453       pubchem.compound:999  mesh:D016543         1  mondo:0002714\n",
       "57454       pubchem.compound:999  mesh:D017093         2   mesh:D017093\n",
       "57455       pubchem.compound:999  mesh:D017114         2  mondo:0019542\n",
       "57456       pubchem.compound:999  mesh:D022124         1   mesh:D022124\n",
       "57457       pubchem.compound:999  mesh:D048550         2   mesh:D048550\n",
       "\n",
       "[57458 rows x 4 columns]"
      ]
     },
     "execution_count": 4,
     "metadata": {},
     "output_type": "execute_result"
    }
   ],
   "source": [
    "clinical_df = pd.read_csv(\n",
    "    'https://raw.githubusercontent.com/drug2ways/results/master/validation/data/PubChem-MeSH-slim-counts.tsv',\n",
    "    sep='\\t'\n",
    ")\n",
    "\n",
    "clinical_df['cid_id'] = clinical_df['cid_id'].apply(lambda x: f'pubchem.compound:{x}')\n",
    "clinical_df['condition'] = clinical_df['condition'].apply(lambda x: f'mesh:{x}')\n",
    "\n",
    "mondo_id = []\n",
    "for i in tqdm(clinical_df['condition'], desc='Normalizing diseases'):\n",
    "    mondo_id.append(mapping_dict.get(i))\n",
    "    \n",
    "clinical_df['mondo_id'] = mondo_id\n",
    "clinical_df"
   ]
  },
  {
   "cell_type": "code",
   "execution_count": 5,
   "id": "greater-cradle",
   "metadata": {},
   "outputs": [],
   "source": [
    "chem = set(clinical_df['cid_id'].tolist())\n",
    "dis = set(clinical_df['mondo_id'].tolist())"
   ]
  },
  {
   "cell_type": "markdown",
   "id": "coordinate-melbourne",
   "metadata": {},
   "source": [
    "# Collect chemical and disease data from KG"
   ]
  },
  {
   "cell_type": "code",
   "execution_count": 6,
   "id": "operational-hazard",
   "metadata": {},
   "outputs": [],
   "source": [
    "# Get chemicals\n",
    "\n",
    "chemical_1 = set(openbiolinks_df.loc[openbiolinks_df['source'].str.contains('pubchem.compound')]['source'].tolist())\n",
    "chemical_2 = set(custom_df.loc[custom_df['source'].str.contains('pubchem.compound')]['source'].tolist())\n",
    "\n",
    "chemicals = chemical_1.union(chemical_2)\n",
    "\n",
    "disease_1 = set(openbiolinks_df.loc[openbiolinks_df['target'].str.contains('mondo')]['target'].tolist())\n",
    "disease_2 = set(custom_df.loc[custom_df['target'].str.contains('mondo')]['target'].tolist())\n",
    "\n",
    "diseases = disease_1.union(disease_2)\n"
   ]
  },
  {
   "cell_type": "markdown",
   "id": "helpful-delta",
   "metadata": {},
   "source": [
    "# Comparison of clinical trial data with KG"
   ]
  },
  {
   "cell_type": "code",
   "execution_count": 7,
   "id": "fatty-medication",
   "metadata": {
    "scrolled": false
   },
   "outputs": [
    {
     "data": {
      "image/png": "[encoded data removed]",
      "text/plain": [
       "<Figure size 576x576 with 1 Axes>"
      ]
     },
     "metadata": {},
     "output_type": "display_data"
    }
   ],
   "source": [
    "g = {'clinical': dis, 'kg': diseases}\n",
    "plt = create_venn_diagram(data_dict=g, plot_title='Disease comprison between KG and Clinical trial')\n",
    "plt.show()"
   ]
  },
  {
   "cell_type": "code",
   "execution_count": 8,
   "id": "single-duncan",
   "metadata": {},
   "outputs": [
    {
     "data": {
      "image/png": "[encoded data removed]",
      "text/plain": [
       "<Figure size 576x576 with 1 Axes>"
      ]
     },
     "metadata": {},
     "output_type": "display_data"
    }
   ],
   "source": [
    "c = {'clinical': chem, 'kg': chemicals}\n",
    "plt = create_venn_diagram(data_dict=c, plot_title='Chemical comprison between KG and Clinical trial')\n",
    "plt.show()"
   ]
  },
  {
   "cell_type": "markdown",
   "id": "noted-excuse",
   "metadata": {},
   "source": [
    "# Saving intersection data"
   ]
  },
  {
   "cell_type": "code",
   "execution_count": 21,
   "id": "warming-spotlight",
   "metadata": {},
   "outputs": [
    {
     "name": "stderr",
     "output_type": "stream",
     "text": [
      "Storing clinical pairs: 100%|██████████| 57458/57458 [00:00<00:00, 627901.99it/s]\n"
     ]
    },
    {
     "data": {
      "text/plain": [
       "1389"
      ]
     },
     "execution_count": 21,
     "metadata": {},
     "output_type": "execute_result"
    }
   ],
   "source": [
    "clinical_trial_pairs = defaultdict(int)\n",
    "\n",
    "for row in tqdm(clinical_df.values, desc='Storing clinical pairs'):\n",
    "    (\n",
    "        pubchem_id,\n",
    "        _,\n",
    "        trial_num,\n",
    "        mondo_id,\n",
    "    ) = row\n",
    "    \n",
    "    if pubchem_id in chemicals and mondo_id in diseases:\n",
    "        name = pubchem_id + '_' + mondo_id\n",
    "        clinical_trial_pairs[name] = trial_num\n",
    "\n",
    "len(clinical_trial_pairs)"
   ]
  },
  {
   "cell_type": "code",
   "execution_count": 22,
   "id": "legendary-pipeline",
   "metadata": {},
   "outputs": [],
   "source": [
    "# Save pair dictionary for future use\n",
    "with open(\n",
    "    os.path.join(DATA_DIR, 'gold-standard', 'filtered-clinical_pairs.json'),\n",
    "    'w'\n",
    ") as f:\n",
    "    json.dump(clinical_trial_pairs, f, ensure_ascii=False, indent=2)"
   ]
  },
  {
   "cell_type": "markdown",
   "id": "successful-universal",
   "metadata": {},
   "source": [
    "# Drug indications"
   ]
  },
  {
   "cell_type": "code",
   "execution_count": 9,
   "id": "modified-dispute",
   "metadata": {},
   "outputs": [
    {
     "name": "stderr",
     "output_type": "stream",
     "text": [
      "Normalizing diseases: 100%|██████████| 5926/5926 [00:00<00:00, 1303858.02it/s]\n",
      "Normalizing chemicals: 100%|██████████| 5926/5926 [00:00<00:00, 1397001.21it/s]\n"
     ]
    },
    {
     "data": {
      "text/html": [
       "<div>\n",
       "<style scoped>\n",
       "    .dataframe tbody tr th:only-of-type {\n",
       "        vertical-align: middle;\n",
       "    }\n",
       "\n",
       "    .dataframe tbody tr th {\n",
       "        vertical-align: top;\n",
       "    }\n",
       "\n",
       "    .dataframe thead th {\n",
       "        text-align: right;\n",
       "    }\n",
       "</style>\n",
       "<table border=\"1\" class=\"dataframe\">\n",
       "  <thead>\n",
       "    <tr style=\"text-align: right;\">\n",
       "      <th></th>\n",
       "      <th>drug</th>\n",
       "      <th>indication</th>\n",
       "    </tr>\n",
       "  </thead>\n",
       "  <tbody>\n",
       "    <tr>\n",
       "      <th>53</th>\n",
       "      <td>pubchem.compound:5311128</td>\n",
       "      <td>mondo:0005133</td>\n",
       "    </tr>\n",
       "    <tr>\n",
       "      <th>54</th>\n",
       "      <td>pubchem.compound:5311128</td>\n",
       "      <td>mondo:0007254</td>\n",
       "    </tr>\n",
       "    <tr>\n",
       "      <th>213</th>\n",
       "      <td>pubchem.compound:5284373</td>\n",
       "      <td>mondo:0008383</td>\n",
       "    </tr>\n",
       "    <tr>\n",
       "      <th>214</th>\n",
       "      <td>pubchem.compound:5284373</td>\n",
       "      <td>mondo:0006733</td>\n",
       "    </tr>\n",
       "    <tr>\n",
       "      <th>215</th>\n",
       "      <td>pubchem.compound:5284373</td>\n",
       "      <td>mondo:0006733</td>\n",
       "    </tr>\n",
       "    <tr>\n",
       "      <th>...</th>\n",
       "      <td>...</td>\n",
       "      <td>...</td>\n",
       "    </tr>\n",
       "    <tr>\n",
       "      <th>5917</th>\n",
       "      <td>pubchem.compound:42611257</td>\n",
       "      <td>mondo:0005105</td>\n",
       "    </tr>\n",
       "    <tr>\n",
       "      <th>5918</th>\n",
       "      <td>pubchem.compound:5663</td>\n",
       "      <td>mondo:0005009</td>\n",
       "    </tr>\n",
       "    <tr>\n",
       "      <th>5922</th>\n",
       "      <td>pubchem.compound:5736</td>\n",
       "      <td>mondo:0005090</td>\n",
       "    </tr>\n",
       "    <tr>\n",
       "      <th>5923</th>\n",
       "      <td>pubchem.compound:5311507</td>\n",
       "      <td>mondo:0005090</td>\n",
       "    </tr>\n",
       "    <tr>\n",
       "      <th>5924</th>\n",
       "      <td>pubchem.compound:5311507</td>\n",
       "      <td>mondo:0004985</td>\n",
       "    </tr>\n",
       "  </tbody>\n",
       "</table>\n",
       "<p>4088 rows × 2 columns</p>\n",
       "</div>"
      ],
      "text/plain": [
       "                           drug     indication\n",
       "53     pubchem.compound:5311128  mondo:0005133\n",
       "54     pubchem.compound:5311128  mondo:0007254\n",
       "213    pubchem.compound:5284373  mondo:0008383\n",
       "214    pubchem.compound:5284373  mondo:0006733\n",
       "215    pubchem.compound:5284373  mondo:0006733\n",
       "...                         ...            ...\n",
       "5917  pubchem.compound:42611257  mondo:0005105\n",
       "5918      pubchem.compound:5663  mondo:0005009\n",
       "5922      pubchem.compound:5736  mondo:0005090\n",
       "5923   pubchem.compound:5311507  mondo:0005090\n",
       "5924   pubchem.compound:5311507  mondo:0004985\n",
       "\n",
       "[4088 rows x 2 columns]"
      ]
     },
     "execution_count": 9,
     "metadata": {},
     "output_type": "execute_result"
    }
   ],
   "source": [
    "drug_df = pd.read_csv(\n",
    "    os.path.join(DATA_DIR, 'gold-standard', 'drug_indication_df.tsv'),\n",
    "    sep='\\t',\n",
    "    usecols=['drug', 'indication']\n",
    ")\n",
    "\n",
    "drug_df['indication'] = drug_df['indication'].apply(lambda x: f'umls:{x}')\n",
    "\n",
    "mondo_id = []\n",
    "for i in tqdm(drug_df['indication'], desc='Normalizing diseases'):\n",
    "    mondo_id.append(mapping_dict.get(i))\n",
    "    \n",
    "drug_df['indication'] = mondo_id\n",
    "\n",
    "pubchem_ids = []\n",
    "for i in tqdm(drug_df['drug'], desc='Normalizing chemicals'):\n",
    "    idx = chemica_dict.get(i)\n",
    "    if idx is None:\n",
    "        pubchem_ids.append(idx)\n",
    "    else:\n",
    "        pubchem_ids.append(f'pubchem.compound:{idx}')\n",
    "    \n",
    "drug_df['drug'] = pubchem_ids\n",
    "\n",
    "drug_df.dropna(axis=0, how='any', inplace=True)\n",
    "    \n",
    "drug_df"
   ]
  },
  {
   "cell_type": "code",
   "execution_count": 10,
   "id": "relative-brother",
   "metadata": {},
   "outputs": [],
   "source": [
    "chem = set(drug_df['drug'].tolist())\n",
    "dis = set(drug_df['indication'].tolist())"
   ]
  },
  {
   "cell_type": "code",
   "execution_count": 11,
   "id": "affiliated-assault",
   "metadata": {},
   "outputs": [
    {
     "data": {
      "image/png": "[encoded data removed]",
      "text/plain": [
       "<Figure size 576x576 with 1 Axes>"
      ]
     },
     "metadata": {},
     "output_type": "display_data"
    }
   ],
   "source": [
    "g = {'drug-indication': dis, 'kg': diseases}\n",
    "plt = create_venn_diagram(data_dict=g, plot_title='Disease comprison between KG and Drug Indication')\n",
    "plt.show()"
   ]
  },
  {
   "cell_type": "code",
   "execution_count": 12,
   "id": "mobile-minimum",
   "metadata": {},
   "outputs": [
    {
     "data": {
      "image/png": "[encoded data removed]",
      "text/plain": [
       "<Figure size 576x576 with 1 Axes>"
      ]
     },
     "metadata": {},
     "output_type": "display_data"
    }
   ],
   "source": [
    "c = {'drug-indication': chem, 'kg': chemicals}\n",
    "plt = create_venn_diagram(data_dict=c, plot_title='Chemical comprison between KG and Drug Indication')\n",
    "plt.show()"
   ]
  },
  {
   "cell_type": "code",
   "execution_count": 23,
   "id": "resistant-richmond",
   "metadata": {},
   "outputs": [
    {
     "name": "stderr",
     "output_type": "stream",
     "text": [
      "Storing clinical pairs: 100%|██████████| 4088/4088 [00:00<00:00, 811583.03it/s]\n"
     ]
    },
    {
     "data": {
      "text/plain": [
       "173"
      ]
     },
     "execution_count": 23,
     "metadata": {},
     "output_type": "execute_result"
    }
   ],
   "source": [
    "trial_pairs = defaultdict(int)\n",
    "\n",
    "for row in tqdm(drug_df.values, desc='Storing clinical pairs'):\n",
    "    (\n",
    "        pubchem_id,\n",
    "        mondo_id,\n",
    "    ) = row\n",
    "    \n",
    "    if pubchem_id in chemicals and mondo_id in diseases:\n",
    "        name = pubchem_id + '_' + mondo_id\n",
    "        trial_pairs[name] = 1\n",
    "\n",
    "len(trial_pairs)"
   ]
  },
  {
   "cell_type": "code",
   "execution_count": 24,
   "id": "wanted-resort",
   "metadata": {},
   "outputs": [],
   "source": [
    "# Save pair dictionary for future use\n",
    "with open(\n",
    "    os.path.join(DATA_DIR, 'gold-standard', 'filtered-indications.json'),\n",
    "    'w'\n",
    ") as f:\n",
    "    json.dump(trial_pairs, f, ensure_ascii=False, indent=2)"
   ]
  },
  {
   "cell_type": "code",
   "execution_count": null,
   "id": "stainless-houston",
   "metadata": {},
   "outputs": [],
   "source": []
  }
 ],
 "metadata": {
  "kernelspec": {
   "display_name": "Python 3",
   "language": "python",
   "name": "python3"
  },
  "language_info": {
   "codemirror_mode": {
    "name": "ipython",
    "version": 3
   },
   "file_extension": ".py",
   "mimetype": "text/x-python",
   "name": "python",
   "nbconvert_exporter": "python",
   "pygments_lexer": "ipython3",
   "version": "3.8.5"
  }
 },
 "nbformat": 4,
 "nbformat_minor": 5
}
