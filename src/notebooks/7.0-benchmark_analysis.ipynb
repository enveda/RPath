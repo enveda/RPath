{
 "cells": [
  {
   "cell_type": "markdown",
   "id": "b63e5181",
   "metadata": {},
   "source": [
    "# Setting Up Environment"
   ]
  },
  {
   "cell_type": "code",
   "execution_count": 1,
   "id": "ff7348e0",
   "metadata": {},
   "outputs": [],
   "source": [
    "import os\n",
    "import json\n",
    "import math\n",
    "import logging\n",
    "import pandas as pd\n",
    "from collections import Counter, defaultdict\n",
    "from tqdm import tqdm\n",
    "from itertools import product\n",
    "from typing import Mapping, List\n",
    "import networkx as nx\n",
    "import numpy as np\n",
    "from tqdm import tqdm\n",
    "DATA_DIR = '../../data'\n",
    "KG_DATA_PATH = os.path.join(DATA_DIR, 'kg')"
   ]
  },
  {
   "cell_type": "markdown",
   "id": "70e43c44",
   "metadata": {},
   "source": [
    "# Helper Functions"
   ]
  },
  {
   "cell_type": "code",
   "execution_count": 85,
   "id": "892dea1b",
   "metadata": {},
   "outputs": [],
   "source": [
    "sim_scores = {'cn': 'Common Neighbors', 'cos': 'Cosine Similiarity', 'ji': 'Jaccard index', 'si': 'Sorensen index',\n",
    "             'hpi': 'Hub Promoted Index', 'hdi': 'Hub Depressed Index', 'lhn': 'Leicht–Holme–Newman Index', 'pa':'Preferential Attachment',\n",
    "             'aa': 'Adamic-Adar', 'ra': 'Resource Allocation Index', 'lp': 'Local Path Index', 'kg': 'Katz global path indicator',\n",
    "             'act': 'Average Commute Time'}\n",
    "def create_graph_from_df(\n",
    "    graph_df\n",
    ") -> nx.DiGraph:\n",
    "    \"\"\"Create fully connected graph from dataframe.\"\"\"\n",
    "    graph = nx.DiGraph()\n",
    "\n",
    "    for sub_name, obj_name, relation in graph_df.values:\n",
    "        # Store edge in the graph\n",
    "        graph.add_edge(\n",
    "            sub_name,\n",
    "            obj_name,\n",
    "            polarity=relation,\n",
    "        )\n",
    "\n",
    "\n",
    "    connected_components_subgraph = [\n",
    "        component\n",
    "        for component in sorted(\n",
    "            nx.connected_components(\n",
    "                graph.to_undirected()\n",
    "            ),\n",
    "            key=len,\n",
    "            reverse=True\n",
    "        )\n",
    "    ]\n",
    "\n",
    "    final_subgraph = graph.subgraph(connected_components_subgraph[0])\n",
    "\n",
    "    return final_subgraph\n",
    "\n",
    "\n",
    "def shared_khop(nodeA: str, nodeB: str, graph: nx.Graph, k: int) -> int:\n",
    "    # find nodes within distance k\n",
    "    traversalA = nx.bfs_edges(graph, source=nodeA, depth_limit=k)\n",
    "    traversalB = nx.bfs_edges(graph, source=nodeB, depth_limit=k)\n",
    "    khop_A = set([v for u, v in traversalA])\n",
    "    khop_B = set([v for u, v in traversalB])\n",
    "    # return shared number of k-neighbors\n",
    "    return len(list(khop_A & khop_B)), len(khop_A), len(khop_B)\n",
    "\n",
    "def shared_khop_list(nodeA: str, nodeB: str, graph: nx.Graph, k: int) -> int:\n",
    "    # find nodes within distance k\n",
    "    traversalA = nx.bfs_edges(graph, source=nodeA, depth_limit=k)\n",
    "    traversalB = nx.bfs_edges(graph, source=nodeB, depth_limit=k)\n",
    "    khop_A = set([v for u, v in traversalA])\n",
    "    khop_B = set([v for u, v in traversalB])\n",
    "    # return shared number of k-neighbors\n",
    "    return list(khop_A & khop_B)\n",
    "\n",
    "def total_khop(nodeA: str, nodeB: str, graph: nx.Graph, k: int) -> int:\n",
    "    # find nodes within distance k\n",
    "    traversalA = nx.bfs_edges(graph, source=nodeA, depth_limit=k)\n",
    "    traversalB = nx.bfs_edges(graph, source=nodeB, depth_limit=k)\n",
    "    khop_A = set([v for u, v in traversalA])\n",
    "    khop_B = set([v for u, v in traversalB])\n",
    "    # return shared number of k-neighbors\n",
    "    return len(list(khop_A | khop_B)), len(khop_A), len(khop_B)\n",
    "\n",
    "# This function will change once the KG and clinical pairs are updated\n",
    "def get_accuracy(dict_actual, dict_predicted): \n",
    "    pos,total = 0,0\n",
    "    for key in dict_predicted.keys():\n",
    "        if key in dict_actual:\n",
    "            for drug in dict_predicted[key]:\n",
    "                if drug in dict_actual[key]:\n",
    "                    pos+=1\n",
    "                total+=1\n",
    "            \n",
    "    return pos/total\n",
    "\n",
    "\n",
    "def get_dict_df(diseases, drugs, undirected_graph, similarity_type = 'cn'):\n",
    "    df = pd.DataFrame(columns=[\n",
    "        'Source',\n",
    "        'Target',\n",
    "        sim_scores[similarity_type]\n",
    "    ])\n",
    "    disease_drug_dict = {}\n",
    "    # loop through each disease in the set\n",
    "    for disease in tqdm(diseases, desc='Main iterator', total=len(diseases)):\n",
    "        cn = []\n",
    "        # for each disease, find the similarity score with for each drug and append to list\n",
    "        for drug in drugs:\n",
    "            if similarity_type == 'cn':\n",
    "                similarity,_,_ = shared_khop(disease, drug,undirected_graph , 1)\n",
    "            elif similarity_type == 'cos':\n",
    "                shared, nodeA_neighbor, nodeB_neighbor = shared_khop(disease, drug,undirected_graph , 1)\n",
    "                similarity = shared / (math.sqrt(nodeA_neighbor * nodeB_neighbor))\n",
    "            elif similarity_type == 'ji':\n",
    "                shared,_,_ = shared_khop(disease, drug,undirected_graph , 1)\n",
    "                total,_,_ = total_khop(disease, drug,undirected_graph , 1)\n",
    "                similarity = shared/total\n",
    "            elif similarity_type == 'si':\n",
    "                shared,nodeA_neighbor,nodeB_neighbor = shared_khop(disease, drug,undirected_graph , 1)\n",
    "                similarity = (shared * 2) / (nodeA_neighbor + nodeB_neighbor)\n",
    "            elif similarity_type == 'hpi':\n",
    "                shared,nodeA_neighbor,nodeB_neighbor = shared_khop(disease, drug,undirected_graph , 1)\n",
    "                similarity = shared / min(nodeA_neighbor, nodeB_neighbor) \n",
    "            elif similarity_type == 'hdi':\n",
    "                shared,nodeA_neighbor,nodeB_neighbor = shared_khop(disease, drug,undirected_graph , 1)\n",
    "                similarity = shared / max(nodeA_neighbor, nodeB_neighbor) \n",
    "            elif similarity_type == 'lhn':\n",
    "                shared,nodeA_neighbor,nodeB_neighbor = shared_khop(disease, drug,undirected_graph , 1)\n",
    "                similarity = shared / (nodeA_neighbor * nodeB_neighbor) \n",
    "            elif similarity_type == 'pa':\n",
    "                _,nodeA_neighbor,nodeB_neighbor = shared_khop(disease, drug,undirected_graph , 1)\n",
    "                similarity = nodeA_neighbor * nodeB_neighbor\n",
    "            elif similarity_type == 'aa':\n",
    "                shared_list = shared_khop_list(disease, drug,undirected_graph , 1)\n",
    "                similarity = 0\n",
    "                for n in shared_list:\n",
    "                    neighbors_list = [i for i in undirected_graph.neighbors(n)]\n",
    "                    similarity += 1/math.log10(len(neighbors_list))\n",
    "            elif similarity_type == 'ra':\n",
    "                shared_list = shared_khop_list(disease, drug,undirected_graph , 1)\n",
    "                similarity = 0\n",
    "                for n in shared_list:\n",
    "                    neighbors_list = [i for i in undirected_graph.neighbors(n)]\n",
    "                    similarity += 1/len(neighbors_list)\n",
    "            cn.append(similarity)\n",
    "        # if list is full of 0's (i.e sum == 0), then there are no shared neighbors \n",
    "        if np.sum(cn) == 0:\n",
    "            disease_drug_dict[disease] = 'none'\n",
    "        else:\n",
    "            index = np.where(cn == np.amax(cn))\n",
    "            # add list of drugs with max # of shared nodes to specified key\n",
    "            disease_drug_dict[disease] = np.array(list(drugs))[index]\n",
    "            # create a df\n",
    "            for i in index:\n",
    "                for j in i:\n",
    "                    df = df.append({'Source': disease, 'Target': list(drugs)[j], sim_scores[similarity_type]: cn[j]}, ignore_index=True)\n",
    "    return disease_drug_dict, df"
   ]
  },
  {
   "cell_type": "markdown",
   "id": "0d74ef14",
   "metadata": {},
   "source": [
    "# Load Graph and Gold Standard"
   ]
  },
  {
   "cell_type": "code",
   "execution_count": 3,
   "id": "a08b5c11",
   "metadata": {},
   "outputs": [],
   "source": [
    "openbiolink_df = pd.read_csv(\n",
    "    os.path.join(KG_DATA_PATH, 'normalized', 'openbiolink_kg_normalized.tsv'),\n",
    "    sep='\\t'\n",
    ")\n",
    "openbiolink_df.rename(columns={'relation': 'polarity'}, inplace=True)\n",
    "\n",
    "custom_df = pd.read_csv(\n",
    "    os.path.join(KG_DATA_PATH, 'normalized', 'custom_kg_normalized.tsv'),\n",
    "    sep='\\t'\n",
    ")\n",
    "custom_df.rename(columns={'relation': 'polarity'}, inplace=True)"
   ]
  },
  {
   "cell_type": "code",
   "execution_count": 4,
   "id": "b60f162d",
   "metadata": {},
   "outputs": [
    {
     "data": {
      "text/html": [
       "<div>\n",
       "<style scoped>\n",
       "    .dataframe tbody tr th:only-of-type {\n",
       "        vertical-align: middle;\n",
       "    }\n",
       "\n",
       "    .dataframe tbody tr th {\n",
       "        vertical-align: top;\n",
       "    }\n",
       "\n",
       "    .dataframe thead th {\n",
       "        text-align: right;\n",
       "    }\n",
       "</style>\n",
       "<table border=\"1\" class=\"dataframe\">\n",
       "  <thead>\n",
       "    <tr style=\"text-align: right;\">\n",
       "      <th></th>\n",
       "      <th>source</th>\n",
       "      <th>target</th>\n",
       "      <th>polarity</th>\n",
       "    </tr>\n",
       "  </thead>\n",
       "  <tbody>\n",
       "    <tr>\n",
       "      <th>0</th>\n",
       "      <td>pubchem.compound:4943</td>\n",
       "      <td>ncbigene:2562</td>\n",
       "      <td>1</td>\n",
       "    </tr>\n",
       "    <tr>\n",
       "      <th>1</th>\n",
       "      <td>pubchem.compound:667468</td>\n",
       "      <td>ncbigene:147</td>\n",
       "      <td>-1</td>\n",
       "    </tr>\n",
       "    <tr>\n",
       "      <th>2</th>\n",
       "      <td>pubchem.compound:4011</td>\n",
       "      <td>ncbigene:1133</td>\n",
       "      <td>-1</td>\n",
       "    </tr>\n",
       "    <tr>\n",
       "      <th>3</th>\n",
       "      <td>pubchem.compound:4636</td>\n",
       "      <td>ncbigene:148</td>\n",
       "      <td>1</td>\n",
       "    </tr>\n",
       "    <tr>\n",
       "      <th>4</th>\n",
       "      <td>pubchem.compound:2083</td>\n",
       "      <td>ncbigene:154</td>\n",
       "      <td>1</td>\n",
       "    </tr>\n",
       "  </tbody>\n",
       "</table>\n",
       "</div>"
      ],
      "text/plain": [
       "                    source         target  polarity\n",
       "0    pubchem.compound:4943  ncbigene:2562         1\n",
       "1  pubchem.compound:667468   ncbigene:147        -1\n",
       "2    pubchem.compound:4011  ncbigene:1133        -1\n",
       "3    pubchem.compound:4636   ncbigene:148         1\n",
       "4    pubchem.compound:2083   ncbigene:154         1"
      ]
     },
     "execution_count": 4,
     "metadata": {},
     "output_type": "execute_result"
    }
   ],
   "source": [
    "custom_df.head()"
   ]
  },
  {
   "cell_type": "code",
   "execution_count": 5,
   "id": "708dba64",
   "metadata": {},
   "outputs": [],
   "source": [
    "with open(os.path.join(DATA_DIR, 'gold-standard', 'clinical_pairs.json')) as file:\n",
    "    clinical_pair_dict = json.load(file).keys()"
   ]
  },
  {
   "cell_type": "code",
   "execution_count": 6,
   "id": "a7cad895",
   "metadata": {},
   "outputs": [],
   "source": [
    "gold_standard_dict = {}\n",
    "for i in clinical_pair_dict:\n",
    "    split = i.split(\"_\")\n",
    "    if split[1] in gold_standard_dict:\n",
    "        gold_standard_dict[split[1]].append(split[0])\n",
    "    else:\n",
    "        gold_standard_dict[split[1]] = [split[0]]"
   ]
  },
  {
   "cell_type": "code",
   "execution_count": 7,
   "id": "5477bbd3",
   "metadata": {},
   "outputs": [],
   "source": [
    "graph_openbio = create_graph_from_df(openbiolink_df)\n",
    "graph_custom = create_graph_from_df(custom_df)"
   ]
  },
  {
   "cell_type": "code",
   "execution_count": 8,
   "id": "a9fea27a",
   "metadata": {},
   "outputs": [
    {
     "data": {
      "text/plain": [
       "8610"
      ]
     },
     "execution_count": 8,
     "metadata": {},
     "output_type": "execute_result"
    }
   ],
   "source": [
    "len(graph_custom)"
   ]
  },
  {
   "cell_type": "markdown",
   "id": "b4729b55",
   "metadata": {},
   "source": [
    "In the cell below, create a set of diseases and drugs in each graph"
   ]
  },
  {
   "cell_type": "code",
   "execution_count": 9,
   "id": "3ac75240",
   "metadata": {},
   "outputs": [],
   "source": [
    "disease_openbio = []\n",
    "drug_openbio = []\n",
    "for u,v in graph_openbio.to_undirected().edges():\n",
    "    if v.startswith('mondo'):\n",
    "        disease_openbio.append(v)\n",
    "    if u.startswith('mondo'):\n",
    "        disease_openbio.append(u)\n",
    "    if v.startswith('pubchem.'):\n",
    "        drug_openbio.append(v)\n",
    "    if u.startswith('pubchem.'):\n",
    "        drug_openbio.append(u)\n",
    "        \n",
    "# sets of diseases/drugs for openbio      \n",
    "disease_openbio = set(disease_openbio)\n",
    "drug_openbio = set(drug_openbio)\n",
    "\n",
    "\n",
    "disease_custom = []\n",
    "drug_custom = []\n",
    "\n",
    "for u,v in graph_custom.to_undirected().edges():\n",
    "    if v.startswith('mondo'):\n",
    "        disease_custom.append(v)\n",
    "    if u.startswith('mondo'):\n",
    "        disease_custom.append(u)\n",
    "    if u.startswith('pubchem.'):\n",
    "        drug_custom.append(u)\n",
    "    if v.startswith('pubchem.'):\n",
    "        drug_custom.append(v)\n",
    "        \n",
    "# sets of diseases/drugs for custom KG      \n",
    "disease_custom = set(disease_custom)\n",
    "drug_custom = set(drug_custom)"
   ]
  },
  {
   "cell_type": "markdown",
   "id": "e345f01b",
   "metadata": {},
   "source": [
    "# Common Neighbors (CN)"
   ]
  },
  {
   "cell_type": "code",
   "execution_count": 10,
   "id": "127ea26d",
   "metadata": {},
   "outputs": [
    {
     "name": "stderr",
     "output_type": "stream",
     "text": [
      "Main iterator: 100%|██████████| 72/72 [00:02<00:00, 26.73it/s]\n"
     ]
    }
   ],
   "source": [
    "disease_drug_dict, df_openbio = get_dict_df(disease_openbio, drug_openbio, graph_openbio.to_undirected())"
   ]
  },
  {
   "cell_type": "code",
   "execution_count": 11,
   "id": "0f6a1467",
   "metadata": {},
   "outputs": [
    {
     "data": {
      "text/html": [
       "<div>\n",
       "<style scoped>\n",
       "    .dataframe tbody tr th:only-of-type {\n",
       "        vertical-align: middle;\n",
       "    }\n",
       "\n",
       "    .dataframe tbody tr th {\n",
       "        vertical-align: top;\n",
       "    }\n",
       "\n",
       "    .dataframe thead th {\n",
       "        text-align: right;\n",
       "    }\n",
       "</style>\n",
       "<table border=\"1\" class=\"dataframe\">\n",
       "  <thead>\n",
       "    <tr style=\"text-align: right;\">\n",
       "      <th></th>\n",
       "      <th>Source</th>\n",
       "      <th>Target</th>\n",
       "      <th>Common Neighbors</th>\n",
       "    </tr>\n",
       "  </thead>\n",
       "  <tbody>\n",
       "    <tr>\n",
       "      <th>573</th>\n",
       "      <td>mondo:0007254</td>\n",
       "      <td>pubchem.compound:449459</td>\n",
       "      <td>3</td>\n",
       "    </tr>\n",
       "    <tr>\n",
       "      <th>569</th>\n",
       "      <td>mondo:0007254</td>\n",
       "      <td>pubchem.compound:702</td>\n",
       "      <td>3</td>\n",
       "    </tr>\n",
       "    <tr>\n",
       "      <th>85</th>\n",
       "      <td>mondo:0007256</td>\n",
       "      <td>pubchem.compound:3973</td>\n",
       "      <td>3</td>\n",
       "    </tr>\n",
       "    <tr>\n",
       "      <th>567</th>\n",
       "      <td>mondo:0007254</td>\n",
       "      <td>pubchem.compound:5757</td>\n",
       "      <td>3</td>\n",
       "    </tr>\n",
       "    <tr>\n",
       "      <th>568</th>\n",
       "      <td>mondo:0007254</td>\n",
       "      <td>pubchem.compound:54454</td>\n",
       "      <td>3</td>\n",
       "    </tr>\n",
       "  </tbody>\n",
       "</table>\n",
       "</div>"
      ],
      "text/plain": [
       "            Source                   Target Common Neighbors\n",
       "573  mondo:0007254  pubchem.compound:449459                3\n",
       "569  mondo:0007254     pubchem.compound:702                3\n",
       "85   mondo:0007256    pubchem.compound:3973                3\n",
       "567  mondo:0007254    pubchem.compound:5757                3\n",
       "568  mondo:0007254   pubchem.compound:54454                3"
      ]
     },
     "execution_count": 11,
     "metadata": {},
     "output_type": "execute_result"
    }
   ],
   "source": [
    "df_openbio.sort_values(by= sim_scores['cn'], ascending=False).head()"
   ]
  },
  {
   "cell_type": "code",
   "execution_count": 12,
   "id": "e99acb80",
   "metadata": {},
   "outputs": [
    {
     "data": {
      "text/plain": [
       "0.09534883720930233"
      ]
     },
     "execution_count": 12,
     "metadata": {},
     "output_type": "execute_result"
    }
   ],
   "source": [
    "# Accuracy for openbiolink KG\n",
    "get_accuracy(gold_standard_dict, disease_drug_dict)"
   ]
  },
  {
   "cell_type": "code",
   "execution_count": 13,
   "id": "880d28f7",
   "metadata": {},
   "outputs": [
    {
     "name": "stderr",
     "output_type": "stream",
     "text": [
      "Main iterator: 100%|██████████| 59/59 [00:00<00:00, 104.01it/s]\n"
     ]
    }
   ],
   "source": [
    "disease_drug_dict, df_custom = get_dict_df(disease_custom, drug_custom, graph_custom.to_undirected())"
   ]
  },
  {
   "cell_type": "code",
   "execution_count": 14,
   "id": "921ef522",
   "metadata": {},
   "outputs": [
    {
     "data": {
      "text/html": [
       "<div>\n",
       "<style scoped>\n",
       "    .dataframe tbody tr th:only-of-type {\n",
       "        vertical-align: middle;\n",
       "    }\n",
       "\n",
       "    .dataframe tbody tr th {\n",
       "        vertical-align: top;\n",
       "    }\n",
       "\n",
       "    .dataframe thead th {\n",
       "        text-align: right;\n",
       "    }\n",
       "</style>\n",
       "<table border=\"1\" class=\"dataframe\">\n",
       "  <thead>\n",
       "    <tr style=\"text-align: right;\">\n",
       "      <th></th>\n",
       "      <th>Source</th>\n",
       "      <th>Target</th>\n",
       "      <th>Common Neighbors</th>\n",
       "    </tr>\n",
       "  </thead>\n",
       "  <tbody>\n",
       "    <tr>\n",
       "      <th>159</th>\n",
       "      <td>mondo:0004985</td>\n",
       "      <td>pubchem.compound:60795</td>\n",
       "      <td>3</td>\n",
       "    </tr>\n",
       "    <tr>\n",
       "      <th>158</th>\n",
       "      <td>mondo:0004985</td>\n",
       "      <td>pubchem.compound:2170</td>\n",
       "      <td>3</td>\n",
       "    </tr>\n",
       "    <tr>\n",
       "      <th>101</th>\n",
       "      <td>mondo:0018305</td>\n",
       "      <td>pubchem.compound:5360696</td>\n",
       "      <td>3</td>\n",
       "    </tr>\n",
       "    <tr>\n",
       "      <th>162</th>\n",
       "      <td>mondo:0011996</td>\n",
       "      <td>pubchem.compound:5328940</td>\n",
       "      <td>2</td>\n",
       "    </tr>\n",
       "    <tr>\n",
       "      <th>95</th>\n",
       "      <td>mondo:0011719</td>\n",
       "      <td>pubchem.compound:9829523</td>\n",
       "      <td>2</td>\n",
       "    </tr>\n",
       "  </tbody>\n",
       "</table>\n",
       "</div>"
      ],
      "text/plain": [
       "            Source                    Target Common Neighbors\n",
       "159  mondo:0004985    pubchem.compound:60795                3\n",
       "158  mondo:0004985     pubchem.compound:2170                3\n",
       "101  mondo:0018305  pubchem.compound:5360696                3\n",
       "162  mondo:0011996  pubchem.compound:5328940                2\n",
       "95   mondo:0011719  pubchem.compound:9829523                2"
      ]
     },
     "execution_count": 14,
     "metadata": {},
     "output_type": "execute_result"
    }
   ],
   "source": [
    "df_custom.sort_values(by=sim_scores['cn'], ascending=False).head()"
   ]
  },
  {
   "cell_type": "code",
   "execution_count": 15,
   "id": "6d0be1b5",
   "metadata": {},
   "outputs": [
    {
     "data": {
      "text/plain": [
       "0.11214953271028037"
      ]
     },
     "execution_count": 15,
     "metadata": {},
     "output_type": "execute_result"
    }
   ],
   "source": [
    "# Accuracy for custom KG\n",
    "get_accuracy(gold_standard_dict, disease_drug_dict)"
   ]
  },
  {
   "cell_type": "markdown",
   "id": "b949951a",
   "metadata": {},
   "source": [
    "# Cosine Similarity "
   ]
  },
  {
   "cell_type": "code",
   "execution_count": 16,
   "id": "25999fe2",
   "metadata": {},
   "outputs": [
    {
     "name": "stderr",
     "output_type": "stream",
     "text": [
      "Main iterator: 100%|██████████| 72/72 [00:00<00:00, 86.67it/s]\n"
     ]
    }
   ],
   "source": [
    "disease_drug_dict, df_openbio = get_dict_df(disease_openbio, drug_openbio, graph_openbio.to_undirected(), similarity_type = 'cos')"
   ]
  },
  {
   "cell_type": "code",
   "execution_count": 17,
   "id": "04606bb3",
   "metadata": {},
   "outputs": [
    {
     "data": {
      "text/html": [
       "<div>\n",
       "<style scoped>\n",
       "    .dataframe tbody tr th:only-of-type {\n",
       "        vertical-align: middle;\n",
       "    }\n",
       "\n",
       "    .dataframe tbody tr th {\n",
       "        vertical-align: top;\n",
       "    }\n",
       "\n",
       "    .dataframe thead th {\n",
       "        text-align: right;\n",
       "    }\n",
       "</style>\n",
       "<table border=\"1\" class=\"dataframe\">\n",
       "  <thead>\n",
       "    <tr style=\"text-align: right;\">\n",
       "      <th></th>\n",
       "      <th>Source</th>\n",
       "      <th>Target</th>\n",
       "      <th>Cosine Similiarity</th>\n",
       "    </tr>\n",
       "  </thead>\n",
       "  <tbody>\n",
       "    <tr>\n",
       "      <th>106</th>\n",
       "      <td>mondo:0007926</td>\n",
       "      <td>pubchem.compound:445154</td>\n",
       "      <td>0.082199</td>\n",
       "    </tr>\n",
       "    <tr>\n",
       "      <th>6</th>\n",
       "      <td>mondo:0005190</td>\n",
       "      <td>pubchem.compound:445154</td>\n",
       "      <td>0.082199</td>\n",
       "    </tr>\n",
       "    <tr>\n",
       "      <th>109</th>\n",
       "      <td>mondo:0004985</td>\n",
       "      <td>pubchem.compound:3386</td>\n",
       "      <td>0.121268</td>\n",
       "    </tr>\n",
       "    <tr>\n",
       "      <th>17</th>\n",
       "      <td>mondo:0010726</td>\n",
       "      <td>pubchem.compound:446220</td>\n",
       "      <td>0.134840</td>\n",
       "    </tr>\n",
       "    <tr>\n",
       "      <th>44</th>\n",
       "      <td>mondo:0005021</td>\n",
       "      <td>pubchem.compound:6741</td>\n",
       "      <td>0.144338</td>\n",
       "    </tr>\n",
       "  </tbody>\n",
       "</table>\n",
       "</div>"
      ],
      "text/plain": [
       "            Source                   Target  Cosine Similiarity\n",
       "106  mondo:0007926  pubchem.compound:445154            0.082199\n",
       "6    mondo:0005190  pubchem.compound:445154            0.082199\n",
       "109  mondo:0004985    pubchem.compound:3386            0.121268\n",
       "17   mondo:0010726  pubchem.compound:446220            0.134840\n",
       "44   mondo:0005021    pubchem.compound:6741            0.144338"
      ]
     },
     "execution_count": 17,
     "metadata": {},
     "output_type": "execute_result"
    }
   ],
   "source": [
    "df_openbio.sort_values(by=sim_scores['cos']).head(5)"
   ]
  },
  {
   "cell_type": "code",
   "execution_count": 18,
   "id": "a875f884",
   "metadata": {},
   "outputs": [
    {
     "data": {
      "text/plain": [
       "0.05813953488372093"
      ]
     },
     "execution_count": 18,
     "metadata": {},
     "output_type": "execute_result"
    }
   ],
   "source": [
    "# Accuracy for openbiolink KG\n",
    "get_accuracy(gold_standard_dict, disease_drug_dict)"
   ]
  },
  {
   "cell_type": "code",
   "execution_count": 19,
   "id": "21de5c34",
   "metadata": {},
   "outputs": [
    {
     "name": "stderr",
     "output_type": "stream",
     "text": [
      "Main iterator: 100%|██████████| 59/59 [00:00<00:00, 159.62it/s]\n"
     ]
    }
   ],
   "source": [
    "disease_drug_dict, df_custom = get_dict_df(disease_custom, drug_custom, graph_custom.to_undirected(), similarity_type = 'cos')"
   ]
  },
  {
   "cell_type": "code",
   "execution_count": 20,
   "id": "b252bc39",
   "metadata": {},
   "outputs": [
    {
     "data": {
      "text/plain": [
       "0.0547945205479452"
      ]
     },
     "execution_count": 20,
     "metadata": {},
     "output_type": "execute_result"
    }
   ],
   "source": [
    "# Accuracy for custom KG\n",
    "get_accuracy(gold_standard_dict, disease_drug_dict)"
   ]
  },
  {
   "cell_type": "code",
   "execution_count": 21,
   "id": "1e2fdba5",
   "metadata": {},
   "outputs": [
    {
     "data": {
      "text/html": [
       "<div>\n",
       "<style scoped>\n",
       "    .dataframe tbody tr th:only-of-type {\n",
       "        vertical-align: middle;\n",
       "    }\n",
       "\n",
       "    .dataframe tbody tr th {\n",
       "        vertical-align: top;\n",
       "    }\n",
       "\n",
       "    .dataframe thead th {\n",
       "        text-align: right;\n",
       "    }\n",
       "</style>\n",
       "<table border=\"1\" class=\"dataframe\">\n",
       "  <thead>\n",
       "    <tr style=\"text-align: right;\">\n",
       "      <th></th>\n",
       "      <th>Source</th>\n",
       "      <th>Target</th>\n",
       "      <th>Cosine Similiarity</th>\n",
       "    </tr>\n",
       "  </thead>\n",
       "  <tbody>\n",
       "    <tr>\n",
       "      <th>0</th>\n",
       "      <td>mondo:0007256</td>\n",
       "      <td>pubchem.compound:11626560</td>\n",
       "      <td>0.25</td>\n",
       "    </tr>\n",
       "    <tr>\n",
       "      <th>1</th>\n",
       "      <td>mondo:0018177</td>\n",
       "      <td>pubchem.compound:9915743</td>\n",
       "      <td>1.00</td>\n",
       "    </tr>\n",
       "    <tr>\n",
       "      <th>2</th>\n",
       "      <td>mondo:0018177</td>\n",
       "      <td>pubchem.compound:123631</td>\n",
       "      <td>1.00</td>\n",
       "    </tr>\n",
       "    <tr>\n",
       "      <th>3</th>\n",
       "      <td>mondo:0019154</td>\n",
       "      <td>pubchem.compound:6010</td>\n",
       "      <td>1.00</td>\n",
       "    </tr>\n",
       "    <tr>\n",
       "      <th>4</th>\n",
       "      <td>mondo:0019154</td>\n",
       "      <td>pubchem.compound:2375</td>\n",
       "      <td>1.00</td>\n",
       "    </tr>\n",
       "  </tbody>\n",
       "</table>\n",
       "</div>"
      ],
      "text/plain": [
       "          Source                     Target  Cosine Similiarity\n",
       "0  mondo:0007256  pubchem.compound:11626560                0.25\n",
       "1  mondo:0018177   pubchem.compound:9915743                1.00\n",
       "2  mondo:0018177    pubchem.compound:123631                1.00\n",
       "3  mondo:0019154      pubchem.compound:6010                1.00\n",
       "4  mondo:0019154      pubchem.compound:2375                1.00"
      ]
     },
     "execution_count": 21,
     "metadata": {},
     "output_type": "execute_result"
    }
   ],
   "source": [
    "df_custom.head()"
   ]
  },
  {
   "cell_type": "markdown",
   "id": "5a1a68c0",
   "metadata": {},
   "source": [
    "# Jaccard Index"
   ]
  },
  {
   "cell_type": "code",
   "execution_count": 22,
   "id": "9fd29a23",
   "metadata": {},
   "outputs": [
    {
     "name": "stderr",
     "output_type": "stream",
     "text": [
      "Main iterator: 100%|██████████| 72/72 [00:01<00:00, 39.05it/s]\n"
     ]
    }
   ],
   "source": [
    "disease_drug_dict, df_openbio = get_dict_df(disease_openbio, drug_openbio, graph_openbio.to_undirected(), similarity_type = 'ji')"
   ]
  },
  {
   "cell_type": "code",
   "execution_count": 23,
   "id": "0282421d",
   "metadata": {},
   "outputs": [
    {
     "data": {
      "text/html": [
       "<div>\n",
       "<style scoped>\n",
       "    .dataframe tbody tr th:only-of-type {\n",
       "        vertical-align: middle;\n",
       "    }\n",
       "\n",
       "    .dataframe tbody tr th {\n",
       "        vertical-align: top;\n",
       "    }\n",
       "\n",
       "    .dataframe thead th {\n",
       "        text-align: right;\n",
       "    }\n",
       "</style>\n",
       "<table border=\"1\" class=\"dataframe\">\n",
       "  <thead>\n",
       "    <tr style=\"text-align: right;\">\n",
       "      <th></th>\n",
       "      <th>Source</th>\n",
       "      <th>Target</th>\n",
       "      <th>Jaccard index</th>\n",
       "    </tr>\n",
       "  </thead>\n",
       "  <tbody>\n",
       "    <tr>\n",
       "      <th>106</th>\n",
       "      <td>mondo:0007926</td>\n",
       "      <td>pubchem.compound:445154</td>\n",
       "      <td>0.006757</td>\n",
       "    </tr>\n",
       "    <tr>\n",
       "      <th>6</th>\n",
       "      <td>mondo:0005190</td>\n",
       "      <td>pubchem.compound:445154</td>\n",
       "      <td>0.006757</td>\n",
       "    </tr>\n",
       "    <tr>\n",
       "      <th>17</th>\n",
       "      <td>mondo:0010726</td>\n",
       "      <td>pubchem.compound:446220</td>\n",
       "      <td>0.018182</td>\n",
       "    </tr>\n",
       "    <tr>\n",
       "      <th>109</th>\n",
       "      <td>mondo:0004985</td>\n",
       "      <td>pubchem.compound:3386</td>\n",
       "      <td>0.028571</td>\n",
       "    </tr>\n",
       "    <tr>\n",
       "      <th>52</th>\n",
       "      <td>mondo:0007739</td>\n",
       "      <td>pubchem.compound:5711</td>\n",
       "      <td>0.055556</td>\n",
       "    </tr>\n",
       "    <tr>\n",
       "      <th>...</th>\n",
       "      <td>...</td>\n",
       "      <td>...</td>\n",
       "      <td>...</td>\n",
       "    </tr>\n",
       "    <tr>\n",
       "      <th>81</th>\n",
       "      <td>mondo:0005192</td>\n",
       "      <td>pubchem.compound:302576</td>\n",
       "      <td>1.000000</td>\n",
       "    </tr>\n",
       "    <tr>\n",
       "      <th>82</th>\n",
       "      <td>mondo:0005192</td>\n",
       "      <td>pubchem.compound:4817</td>\n",
       "      <td>1.000000</td>\n",
       "    </tr>\n",
       "    <tr>\n",
       "      <th>28</th>\n",
       "      <td>mondo:0019154</td>\n",
       "      <td>pubchem.compound:5995</td>\n",
       "      <td>1.000000</td>\n",
       "    </tr>\n",
       "    <tr>\n",
       "      <th>27</th>\n",
       "      <td>mondo:0019154</td>\n",
       "      <td>pubchem.compound:753704</td>\n",
       "      <td>1.000000</td>\n",
       "    </tr>\n",
       "    <tr>\n",
       "      <th>0</th>\n",
       "      <td>mondo:0006639</td>\n",
       "      <td>pubchem.compound:10022508</td>\n",
       "      <td>1.000000</td>\n",
       "    </tr>\n",
       "  </tbody>\n",
       "</table>\n",
       "<p>111 rows × 3 columns</p>\n",
       "</div>"
      ],
      "text/plain": [
       "            Source                     Target  Jaccard index\n",
       "106  mondo:0007926    pubchem.compound:445154       0.006757\n",
       "6    mondo:0005190    pubchem.compound:445154       0.006757\n",
       "17   mondo:0010726    pubchem.compound:446220       0.018182\n",
       "109  mondo:0004985      pubchem.compound:3386       0.028571\n",
       "52   mondo:0007739      pubchem.compound:5711       0.055556\n",
       "..             ...                        ...            ...\n",
       "81   mondo:0005192    pubchem.compound:302576       1.000000\n",
       "82   mondo:0005192      pubchem.compound:4817       1.000000\n",
       "28   mondo:0019154      pubchem.compound:5995       1.000000\n",
       "27   mondo:0019154    pubchem.compound:753704       1.000000\n",
       "0    mondo:0006639  pubchem.compound:10022508       1.000000\n",
       "\n",
       "[111 rows x 3 columns]"
      ]
     },
     "execution_count": 23,
     "metadata": {},
     "output_type": "execute_result"
    }
   ],
   "source": [
    "df_openbio.sort_values(by=sim_scores['ji'])"
   ]
  },
  {
   "cell_type": "code",
   "execution_count": 24,
   "id": "e85eb938",
   "metadata": {},
   "outputs": [
    {
     "data": {
      "text/plain": [
       "0.05813953488372093"
      ]
     },
     "execution_count": 24,
     "metadata": {},
     "output_type": "execute_result"
    }
   ],
   "source": [
    "# Accuracy for openbiolink KG\n",
    "get_accuracy(gold_standard_dict, disease_drug_dict)"
   ]
  },
  {
   "cell_type": "code",
   "execution_count": 25,
   "id": "7cd7b31d",
   "metadata": {},
   "outputs": [
    {
     "name": "stderr",
     "output_type": "stream",
     "text": [
      "Main iterator: 100%|██████████| 59/59 [00:00<00:00, 114.92it/s]\n"
     ]
    }
   ],
   "source": [
    "disease_drug_dict, df_custom = get_dict_df(disease_custom, drug_custom, graph_custom.to_undirected(), similarity_type = 'ji')"
   ]
  },
  {
   "cell_type": "code",
   "execution_count": 26,
   "id": "173793e7",
   "metadata": {},
   "outputs": [
    {
     "data": {
      "text/html": [
       "<div>\n",
       "<style scoped>\n",
       "    .dataframe tbody tr th:only-of-type {\n",
       "        vertical-align: middle;\n",
       "    }\n",
       "\n",
       "    .dataframe tbody tr th {\n",
       "        vertical-align: top;\n",
       "    }\n",
       "\n",
       "    .dataframe thead th {\n",
       "        text-align: right;\n",
       "    }\n",
       "</style>\n",
       "<table border=\"1\" class=\"dataframe\">\n",
       "  <thead>\n",
       "    <tr style=\"text-align: right;\">\n",
       "      <th></th>\n",
       "      <th>Source</th>\n",
       "      <th>Target</th>\n",
       "      <th>Jaccard index</th>\n",
       "    </tr>\n",
       "  </thead>\n",
       "  <tbody>\n",
       "    <tr>\n",
       "      <th>0</th>\n",
       "      <td>mondo:0007256</td>\n",
       "      <td>pubchem.compound:11626560</td>\n",
       "      <td>0.111111</td>\n",
       "    </tr>\n",
       "    <tr>\n",
       "      <th>1</th>\n",
       "      <td>mondo:0018177</td>\n",
       "      <td>pubchem.compound:9915743</td>\n",
       "      <td>1.000000</td>\n",
       "    </tr>\n",
       "    <tr>\n",
       "      <th>2</th>\n",
       "      <td>mondo:0018177</td>\n",
       "      <td>pubchem.compound:123631</td>\n",
       "      <td>1.000000</td>\n",
       "    </tr>\n",
       "    <tr>\n",
       "      <th>3</th>\n",
       "      <td>mondo:0019154</td>\n",
       "      <td>pubchem.compound:6010</td>\n",
       "      <td>1.000000</td>\n",
       "    </tr>\n",
       "    <tr>\n",
       "      <th>4</th>\n",
       "      <td>mondo:0019154</td>\n",
       "      <td>pubchem.compound:2375</td>\n",
       "      <td>1.000000</td>\n",
       "    </tr>\n",
       "  </tbody>\n",
       "</table>\n",
       "</div>"
      ],
      "text/plain": [
       "          Source                     Target  Jaccard index\n",
       "0  mondo:0007256  pubchem.compound:11626560       0.111111\n",
       "1  mondo:0018177   pubchem.compound:9915743       1.000000\n",
       "2  mondo:0018177    pubchem.compound:123631       1.000000\n",
       "3  mondo:0019154      pubchem.compound:6010       1.000000\n",
       "4  mondo:0019154      pubchem.compound:2375       1.000000"
      ]
     },
     "execution_count": 26,
     "metadata": {},
     "output_type": "execute_result"
    }
   ],
   "source": [
    "df_custom.head()"
   ]
  },
  {
   "cell_type": "code",
   "execution_count": 27,
   "id": "8c0c9130",
   "metadata": {},
   "outputs": [
    {
     "data": {
      "text/plain": [
       "0.04580152671755725"
      ]
     },
     "execution_count": 27,
     "metadata": {},
     "output_type": "execute_result"
    }
   ],
   "source": [
    "# Accuracy for custom KG\n",
    "get_accuracy(gold_standard_dict, disease_drug_dict)"
   ]
  },
  {
   "cell_type": "markdown",
   "id": "c1dd0c4c",
   "metadata": {},
   "source": [
    "# Sorensen Index "
   ]
  },
  {
   "cell_type": "code",
   "execution_count": 28,
   "id": "995542b5",
   "metadata": {},
   "outputs": [
    {
     "name": "stderr",
     "output_type": "stream",
     "text": [
      "Main iterator: 100%|██████████| 72/72 [00:01<00:00, 58.83it/s]\n"
     ]
    }
   ],
   "source": [
    "disease_drug_dict, df_openbio = get_dict_df(disease_openbio, drug_openbio, graph_openbio.to_undirected(), similarity_type = 'si')"
   ]
  },
  {
   "cell_type": "code",
   "execution_count": 29,
   "id": "6d75ef6d",
   "metadata": {},
   "outputs": [
    {
     "data": {
      "text/html": [
       "<div>\n",
       "<style scoped>\n",
       "    .dataframe tbody tr th:only-of-type {\n",
       "        vertical-align: middle;\n",
       "    }\n",
       "\n",
       "    .dataframe tbody tr th {\n",
       "        vertical-align: top;\n",
       "    }\n",
       "\n",
       "    .dataframe thead th {\n",
       "        text-align: right;\n",
       "    }\n",
       "</style>\n",
       "<table border=\"1\" class=\"dataframe\">\n",
       "  <thead>\n",
       "    <tr style=\"text-align: right;\">\n",
       "      <th></th>\n",
       "      <th>Source</th>\n",
       "      <th>Target</th>\n",
       "      <th>Sorensen index</th>\n",
       "    </tr>\n",
       "  </thead>\n",
       "  <tbody>\n",
       "    <tr>\n",
       "      <th>0</th>\n",
       "      <td>mondo:0006639</td>\n",
       "      <td>pubchem.compound:10022508</td>\n",
       "      <td>1.000000</td>\n",
       "    </tr>\n",
       "    <tr>\n",
       "      <th>1</th>\n",
       "      <td>mondo:0006639</td>\n",
       "      <td>pubchem.compound:4764</td>\n",
       "      <td>1.000000</td>\n",
       "    </tr>\n",
       "    <tr>\n",
       "      <th>2</th>\n",
       "      <td>mondo:0006639</td>\n",
       "      <td>pubchem.compound:10172943</td>\n",
       "      <td>1.000000</td>\n",
       "    </tr>\n",
       "    <tr>\n",
       "      <th>3</th>\n",
       "      <td>mondo:0006639</td>\n",
       "      <td>pubchem.compound:302576</td>\n",
       "      <td>1.000000</td>\n",
       "    </tr>\n",
       "    <tr>\n",
       "      <th>4</th>\n",
       "      <td>mondo:0006639</td>\n",
       "      <td>pubchem.compound:4817</td>\n",
       "      <td>1.000000</td>\n",
       "    </tr>\n",
       "    <tr>\n",
       "      <th>5</th>\n",
       "      <td>mondo:0006639</td>\n",
       "      <td>pubchem.compound:216345</td>\n",
       "      <td>1.000000</td>\n",
       "    </tr>\n",
       "    <tr>\n",
       "      <th>6</th>\n",
       "      <td>mondo:0005190</td>\n",
       "      <td>pubchem.compound:445154</td>\n",
       "      <td>0.013423</td>\n",
       "    </tr>\n",
       "    <tr>\n",
       "      <th>7</th>\n",
       "      <td>mondo:0007256</td>\n",
       "      <td>pubchem.compound:10022508</td>\n",
       "      <td>0.333333</td>\n",
       "    </tr>\n",
       "    <tr>\n",
       "      <th>8</th>\n",
       "      <td>mondo:0007256</td>\n",
       "      <td>pubchem.compound:4764</td>\n",
       "      <td>0.333333</td>\n",
       "    </tr>\n",
       "    <tr>\n",
       "      <th>9</th>\n",
       "      <td>mondo:0007256</td>\n",
       "      <td>pubchem.compound:10172943</td>\n",
       "      <td>0.333333</td>\n",
       "    </tr>\n",
       "  </tbody>\n",
       "</table>\n",
       "</div>"
      ],
      "text/plain": [
       "          Source                     Target  Sorensen index\n",
       "0  mondo:0006639  pubchem.compound:10022508        1.000000\n",
       "1  mondo:0006639      pubchem.compound:4764        1.000000\n",
       "2  mondo:0006639  pubchem.compound:10172943        1.000000\n",
       "3  mondo:0006639    pubchem.compound:302576        1.000000\n",
       "4  mondo:0006639      pubchem.compound:4817        1.000000\n",
       "5  mondo:0006639    pubchem.compound:216345        1.000000\n",
       "6  mondo:0005190    pubchem.compound:445154        0.013423\n",
       "7  mondo:0007256  pubchem.compound:10022508        0.333333\n",
       "8  mondo:0007256      pubchem.compound:4764        0.333333\n",
       "9  mondo:0007256  pubchem.compound:10172943        0.333333"
      ]
     },
     "execution_count": 29,
     "metadata": {},
     "output_type": "execute_result"
    }
   ],
   "source": [
    "df_openbio.head(10)"
   ]
  },
  {
   "cell_type": "code",
   "execution_count": 30,
   "id": "50742c4e",
   "metadata": {},
   "outputs": [
    {
     "data": {
      "text/plain": [
       "0.05813953488372093"
      ]
     },
     "execution_count": 30,
     "metadata": {},
     "output_type": "execute_result"
    }
   ],
   "source": [
    "# Accuracy for openbiolink KG\n",
    "get_accuracy(gold_standard_dict, disease_drug_dict)"
   ]
  },
  {
   "cell_type": "code",
   "execution_count": 31,
   "id": "95cd664c",
   "metadata": {},
   "outputs": [
    {
     "name": "stderr",
     "output_type": "stream",
     "text": [
      "Main iterator: 100%|██████████| 59/59 [00:00<00:00, 103.98it/s]\n"
     ]
    }
   ],
   "source": [
    "disease_drug_dict, df_custom = get_dict_df(disease_custom, drug_custom, graph_custom.to_undirected(), similarity_type = 'ji')"
   ]
  },
  {
   "cell_type": "code",
   "execution_count": 32,
   "id": "5ee65e89",
   "metadata": {},
   "outputs": [
    {
     "data": {
      "text/html": [
       "<div>\n",
       "<style scoped>\n",
       "    .dataframe tbody tr th:only-of-type {\n",
       "        vertical-align: middle;\n",
       "    }\n",
       "\n",
       "    .dataframe tbody tr th {\n",
       "        vertical-align: top;\n",
       "    }\n",
       "\n",
       "    .dataframe thead th {\n",
       "        text-align: right;\n",
       "    }\n",
       "</style>\n",
       "<table border=\"1\" class=\"dataframe\">\n",
       "  <thead>\n",
       "    <tr style=\"text-align: right;\">\n",
       "      <th></th>\n",
       "      <th>Source</th>\n",
       "      <th>Target</th>\n",
       "      <th>Jaccard index</th>\n",
       "    </tr>\n",
       "  </thead>\n",
       "  <tbody>\n",
       "    <tr>\n",
       "      <th>0</th>\n",
       "      <td>mondo:0007256</td>\n",
       "      <td>pubchem.compound:11626560</td>\n",
       "      <td>0.111111</td>\n",
       "    </tr>\n",
       "    <tr>\n",
       "      <th>1</th>\n",
       "      <td>mondo:0018177</td>\n",
       "      <td>pubchem.compound:9915743</td>\n",
       "      <td>1.000000</td>\n",
       "    </tr>\n",
       "    <tr>\n",
       "      <th>2</th>\n",
       "      <td>mondo:0018177</td>\n",
       "      <td>pubchem.compound:123631</td>\n",
       "      <td>1.000000</td>\n",
       "    </tr>\n",
       "    <tr>\n",
       "      <th>3</th>\n",
       "      <td>mondo:0019154</td>\n",
       "      <td>pubchem.compound:6010</td>\n",
       "      <td>1.000000</td>\n",
       "    </tr>\n",
       "    <tr>\n",
       "      <th>4</th>\n",
       "      <td>mondo:0019154</td>\n",
       "      <td>pubchem.compound:2375</td>\n",
       "      <td>1.000000</td>\n",
       "    </tr>\n",
       "  </tbody>\n",
       "</table>\n",
       "</div>"
      ],
      "text/plain": [
       "          Source                     Target  Jaccard index\n",
       "0  mondo:0007256  pubchem.compound:11626560       0.111111\n",
       "1  mondo:0018177   pubchem.compound:9915743       1.000000\n",
       "2  mondo:0018177    pubchem.compound:123631       1.000000\n",
       "3  mondo:0019154      pubchem.compound:6010       1.000000\n",
       "4  mondo:0019154      pubchem.compound:2375       1.000000"
      ]
     },
     "execution_count": 32,
     "metadata": {},
     "output_type": "execute_result"
    }
   ],
   "source": [
    "df_custom.head()"
   ]
  },
  {
   "cell_type": "code",
   "execution_count": 33,
   "id": "e332988c",
   "metadata": {},
   "outputs": [
    {
     "data": {
      "text/plain": [
       "0.04580152671755725"
      ]
     },
     "execution_count": 33,
     "metadata": {},
     "output_type": "execute_result"
    }
   ],
   "source": [
    "# Accuracy for custom KG\n",
    "get_accuracy(gold_standard_dict, disease_drug_dict)"
   ]
  },
  {
   "cell_type": "markdown",
   "id": "2d739453",
   "metadata": {},
   "source": [
    "# Hub Promoted Index"
   ]
  },
  {
   "cell_type": "code",
   "execution_count": 35,
   "id": "72fed92d",
   "metadata": {},
   "outputs": [
    {
     "name": "stderr",
     "output_type": "stream",
     "text": [
      "Main iterator: 100%|██████████| 72/72 [00:03<00:00, 22.61it/s]\n"
     ]
    }
   ],
   "source": [
    "disease_drug_dict, df_openbio = get_dict_df(disease_openbio, drug_openbio, graph_openbio.to_undirected(), similarity_type = 'hpi')"
   ]
  },
  {
   "cell_type": "code",
   "execution_count": 41,
   "id": "39b66423",
   "metadata": {},
   "outputs": [
    {
     "data": {
      "text/plain": [
       "0.08401084010840108"
      ]
     },
     "execution_count": 41,
     "metadata": {},
     "output_type": "execute_result"
    }
   ],
   "source": [
    "# Accuracy for openbiolink KG\n",
    "get_accuracy(gold_standard_dict, disease_drug_dict)"
   ]
  },
  {
   "cell_type": "code",
   "execution_count": 42,
   "id": "a9e2127e",
   "metadata": {},
   "outputs": [
    {
     "name": "stderr",
     "output_type": "stream",
     "text": [
      "Main iterator: 100%|██████████| 59/59 [00:00<00:00, 164.39it/s]\n"
     ]
    }
   ],
   "source": [
    "disease_drug_dict, df_custom = get_dict_df(disease_custom, drug_custom, graph_custom.to_undirected(), similarity_type = 'hpi')"
   ]
  },
  {
   "cell_type": "code",
   "execution_count": 43,
   "id": "b3472778",
   "metadata": {},
   "outputs": [
    {
     "data": {
      "text/plain": [
       "0.06535947712418301"
      ]
     },
     "execution_count": 43,
     "metadata": {},
     "output_type": "execute_result"
    }
   ],
   "source": [
    "# Accuracy for custom KG\n",
    "get_accuracy(gold_standard_dict, disease_drug_dict)"
   ]
  },
  {
   "cell_type": "markdown",
   "id": "17b26d1f",
   "metadata": {},
   "source": [
    "# Hub Depressed Index"
   ]
  },
  {
   "cell_type": "code",
   "execution_count": 45,
   "id": "43845da3",
   "metadata": {},
   "outputs": [
    {
     "name": "stderr",
     "output_type": "stream",
     "text": [
      "Main iterator: 100%|██████████| 72/72 [00:01<00:00, 58.97it/s]\n"
     ]
    }
   ],
   "source": [
    "disease_drug_dict, df_openbio = get_dict_df(disease_openbio, drug_openbio, graph_openbio.to_undirected(), similarity_type = 'hdi')"
   ]
  },
  {
   "cell_type": "code",
   "execution_count": 46,
   "id": "18598974",
   "metadata": {},
   "outputs": [
    {
     "data": {
      "text/plain": [
       "0.05084745762711865"
      ]
     },
     "execution_count": 46,
     "metadata": {},
     "output_type": "execute_result"
    }
   ],
   "source": [
    "# Accuracy for openbiolink KG\n",
    "get_accuracy(gold_standard_dict, disease_drug_dict)"
   ]
  },
  {
   "cell_type": "code",
   "execution_count": 49,
   "id": "3801ade3",
   "metadata": {},
   "outputs": [
    {
     "name": "stderr",
     "output_type": "stream",
     "text": [
      "Main iterator: 100%|██████████| 59/59 [00:00<00:00, 124.99it/s]\n"
     ]
    }
   ],
   "source": [
    "disease_drug_dict, df_custom = get_dict_df(disease_custom, drug_custom, graph_custom.to_undirected(), similarity_type = 'hdi')"
   ]
  },
  {
   "cell_type": "code",
   "execution_count": 50,
   "id": "67d0d670",
   "metadata": {},
   "outputs": [
    {
     "data": {
      "text/plain": [
       "0.109375"
      ]
     },
     "execution_count": 50,
     "metadata": {},
     "output_type": "execute_result"
    }
   ],
   "source": [
    "# Accuracy for custom KG\n",
    "get_accuracy(gold_standard_dict, disease_drug_dict)"
   ]
  },
  {
   "cell_type": "markdown",
   "id": "2f0cd6ed",
   "metadata": {},
   "source": [
    "# Leicht–Holme–Newman Index"
   ]
  },
  {
   "cell_type": "code",
   "execution_count": 56,
   "id": "359e40b3",
   "metadata": {},
   "outputs": [
    {
     "name": "stderr",
     "output_type": "stream",
     "text": [
      "Main iterator: 100%|██████████| 72/72 [00:00<00:00, 72.63it/s]\n"
     ]
    }
   ],
   "source": [
    "disease_drug_dict, df_openbio = get_dict_df(disease_openbio, drug_openbio, graph_openbio.to_undirected(), similarity_type = 'lhn')"
   ]
  },
  {
   "cell_type": "code",
   "execution_count": 57,
   "id": "8234f952",
   "metadata": {},
   "outputs": [
    {
     "data": {
      "text/plain": [
       "0.05813953488372093"
      ]
     },
     "execution_count": 57,
     "metadata": {},
     "output_type": "execute_result"
    }
   ],
   "source": [
    "# Accuracy for openbiolink KG\n",
    "get_accuracy(gold_standard_dict, disease_drug_dict)"
   ]
  },
  {
   "cell_type": "code",
   "execution_count": 58,
   "id": "96896ad3",
   "metadata": {},
   "outputs": [
    {
     "name": "stderr",
     "output_type": "stream",
     "text": [
      "Main iterator: 100%|██████████| 59/59 [00:00<00:00, 199.35it/s]\n"
     ]
    }
   ],
   "source": [
    "disease_drug_dict, df_custom = get_dict_df(disease_custom, drug_custom, graph_custom.to_undirected(), similarity_type = 'lhn')"
   ]
  },
  {
   "cell_type": "code",
   "execution_count": 59,
   "id": "b753e80c",
   "metadata": {},
   "outputs": [
    {
     "data": {
      "text/plain": [
       "0.05517241379310345"
      ]
     },
     "execution_count": 59,
     "metadata": {},
     "output_type": "execute_result"
    }
   ],
   "source": [
    "# Accuracy for custom KG\n",
    "get_accuracy(gold_standard_dict, disease_drug_dict)"
   ]
  },
  {
   "cell_type": "markdown",
   "id": "40aa112a",
   "metadata": {},
   "source": [
    "# Preferential Attachment"
   ]
  },
  {
   "cell_type": "code",
   "execution_count": 63,
   "id": "dd8aabaa",
   "metadata": {},
   "outputs": [
    {
     "name": "stderr",
     "output_type": "stream",
     "text": [
      "Main iterator: 100%|██████████| 72/72 [00:00<00:00, 78.15it/s]\n"
     ]
    }
   ],
   "source": [
    "disease_drug_dict, df_openbio = get_dict_df(disease_openbio, drug_openbio, graph_openbio.to_undirected(), similarity_type = 'pa')"
   ]
  },
  {
   "cell_type": "code",
   "execution_count": 64,
   "id": "a188c077",
   "metadata": {},
   "outputs": [
    {
     "data": {
      "text/plain": [
       "0.022222222222222223"
      ]
     },
     "execution_count": 64,
     "metadata": {},
     "output_type": "execute_result"
    }
   ],
   "source": [
    "# Accuracy for openbiolink KG\n",
    "get_accuracy(gold_standard_dict, disease_drug_dict)"
   ]
  },
  {
   "cell_type": "code",
   "execution_count": 65,
   "id": "d3ba85d4",
   "metadata": {},
   "outputs": [
    {
     "name": "stderr",
     "output_type": "stream",
     "text": [
      "Main iterator: 100%|██████████| 59/59 [00:00<00:00, 143.73it/s]\n"
     ]
    }
   ],
   "source": [
    "disease_drug_dict, df_custom = get_dict_df(disease_custom, drug_custom, graph_custom.to_undirected(), similarity_type = 'pa')"
   ]
  },
  {
   "cell_type": "code",
   "execution_count": 66,
   "id": "747dfc9a",
   "metadata": {},
   "outputs": [
    {
     "data": {
      "text/plain": [
       "0.0"
      ]
     },
     "execution_count": 66,
     "metadata": {},
     "output_type": "execute_result"
    }
   ],
   "source": [
    "# Accuracy for custom KG\n",
    "get_accuracy(gold_standard_dict, disease_drug_dict)"
   ]
  },
  {
   "cell_type": "markdown",
   "id": "16fa76c3",
   "metadata": {},
   "source": [
    "# Adamic-Adar"
   ]
  },
  {
   "cell_type": "code",
   "execution_count": 79,
   "id": "630bc6fe",
   "metadata": {},
   "outputs": [
    {
     "name": "stderr",
     "output_type": "stream",
     "text": [
      "Main iterator: 100%|██████████| 72/72 [00:03<00:00, 23.98it/s]\n"
     ]
    }
   ],
   "source": [
    "disease_drug_dict, df_openbio = get_dict_df(disease_openbio, drug_openbio, graph_openbio.to_undirected(), similarity_type = 'aa')"
   ]
  },
  {
   "cell_type": "code",
   "execution_count": 81,
   "id": "ef203da4",
   "metadata": {},
   "outputs": [
    {
     "data": {
      "text/plain": [
       "0.09090909090909091"
      ]
     },
     "execution_count": 81,
     "metadata": {},
     "output_type": "execute_result"
    }
   ],
   "source": [
    "# Accuracy for openbiolink KG\n",
    "get_accuracy(gold_standard_dict, disease_drug_dict)"
   ]
  },
  {
   "cell_type": "code",
   "execution_count": 83,
   "id": "37977ad2",
   "metadata": {},
   "outputs": [
    {
     "name": "stderr",
     "output_type": "stream",
     "text": [
      "Main iterator: 100%|██████████| 59/59 [00:00<00:00, 137.82it/s]\n"
     ]
    }
   ],
   "source": [
    "disease_drug_dict, df_custom = get_dict_df(disease_custom, drug_custom, graph_custom.to_undirected(), similarity_type = 'aa')"
   ]
  },
  {
   "cell_type": "code",
   "execution_count": 84,
   "id": "3c182bc3",
   "metadata": {},
   "outputs": [
    {
     "data": {
      "text/plain": [
       "0.0736196319018405"
      ]
     },
     "execution_count": 84,
     "metadata": {},
     "output_type": "execute_result"
    }
   ],
   "source": [
    "# Accuracy for custom KG\n",
    "get_accuracy(gold_standard_dict, disease_drug_dict)"
   ]
  },
  {
   "cell_type": "markdown",
   "id": "b7b469b3",
   "metadata": {},
   "source": [
    "# Resource Allocation Index"
   ]
  },
  {
   "cell_type": "code",
   "execution_count": 86,
   "id": "2623c082",
   "metadata": {},
   "outputs": [
    {
     "name": "stderr",
     "output_type": "stream",
     "text": [
      "Main iterator: 100%|██████████| 72/72 [00:03<00:00, 23.43it/s]\n"
     ]
    }
   ],
   "source": [
    "disease_drug_dict, df_openbio = get_dict_df(disease_openbio, drug_openbio, graph_openbio.to_undirected(), similarity_type = 'ra')"
   ]
  },
  {
   "cell_type": "code",
   "execution_count": 87,
   "id": "c1aad45c",
   "metadata": {},
   "outputs": [
    {
     "data": {
      "text/plain": [
       "0.09319899244332494"
      ]
     },
     "execution_count": 87,
     "metadata": {},
     "output_type": "execute_result"
    }
   ],
   "source": [
    "# Accuracy for openbiolink KG\n",
    "get_accuracy(gold_standard_dict, disease_drug_dict)"
   ]
  },
  {
   "cell_type": "code",
   "execution_count": 88,
   "id": "cb75076b",
   "metadata": {},
   "outputs": [
    {
     "name": "stderr",
     "output_type": "stream",
     "text": [
      "Main iterator: 100%|██████████| 59/59 [00:00<00:00, 161.81it/s]\n"
     ]
    }
   ],
   "source": [
    "disease_drug_dict, df_custom = get_dict_df(disease_custom, drug_custom, graph_custom.to_undirected(), similarity_type = 'ra')"
   ]
  },
  {
   "cell_type": "code",
   "execution_count": 89,
   "id": "172a83fa",
   "metadata": {},
   "outputs": [
    {
     "data": {
      "text/plain": [
       "0.0736196319018405"
      ]
     },
     "execution_count": 89,
     "metadata": {},
     "output_type": "execute_result"
    }
   ],
   "source": [
    "# Accuracy for custom KG\n",
    "get_accuracy(gold_standard_dict, disease_drug_dict)"
   ]
  },
  {
   "cell_type": "code",
   "execution_count": null,
   "id": "9dbda625",
   "metadata": {},
   "outputs": [],
   "source": []
  }
 ],
 "metadata": {
  "kernelspec": {
   "display_name": "Python 3",
   "language": "python",
   "name": "python3"
  },
  "language_info": {
   "codemirror_mode": {
    "name": "ipython",
    "version": 3
   },
   "file_extension": ".py",
   "mimetype": "text/x-python",
   "name": "python",
   "nbconvert_exporter": "python",
   "pygments_lexer": "ipython3",
   "version": "3.8.5"
  }
 },
 "nbformat": 4,
 "nbformat_minor": 5
}
