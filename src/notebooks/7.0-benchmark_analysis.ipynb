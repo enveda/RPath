{
 "cells": [
  {
   "cell_type": "markdown",
   "id": "b63e5181",
   "metadata": {},
   "source": [
    "# Setting Up Environment"
   ]
  },
  {
   "cell_type": "code",
   "execution_count": 1,
   "id": "ff7348e0",
   "metadata": {},
   "outputs": [],
   "source": [
    "import os\n",
    "import json\n",
    "import math\n",
    "import logging\n",
    "import networkx as nx\n",
    "import numpy as np\n",
    "import pandas as pd\n",
    "\n",
    "from collections import Counter, defaultdict\n",
    "from itertools import product\n",
    "from typing import Mapping, List\n",
    "from tqdm import tqdm\n",
    "from scipy import stats\n",
    "\n",
    "from utils import DATA_DIR, KG_DATA_PATH, create_graph_from_df"
   ]
  },
  {
   "cell_type": "markdown",
   "id": "0d74ef14",
   "metadata": {},
   "source": [
    "# Load Graph and Gold Standard"
   ]
  },
  {
   "cell_type": "code",
   "execution_count": 2,
   "id": "a08b5c11",
   "metadata": {},
   "outputs": [],
   "source": [
    "openbiolink_df = pd.read_csv(\n",
    "    os.path.join(KG_DATA_PATH, 'normalized', 'openbiolink_kg_normalized.tsv'),\n",
    "    sep='\\t'\n",
    ")\n",
    "openbiolink_df.rename(columns={'relation': 'polarity'}, inplace=True)\n",
    "\n",
    "custom_df = pd.read_csv(\n",
    "    os.path.join(KG_DATA_PATH, 'normalized', 'custom_kg_normalized.tsv'),\n",
    "    sep='\\t'\n",
    ")\n",
    "custom_df.rename(columns={'relation': 'polarity'}, inplace=True)"
   ]
  },
  {
   "cell_type": "markdown",
   "id": "moved-kazakhstan",
   "metadata": {},
   "source": [
    "# Load clinical data"
   ]
  },
  {
   "cell_type": "code",
   "execution_count": 3,
   "id": "708dba64",
   "metadata": {},
   "outputs": [],
   "source": [
    "with open(os.path.join(DATA_DIR, 'gold-standard', 'filtered-clinical-pairs.json')) as file:\n",
    "    clinical_pair_dict = json.load(file).keys()"
   ]
  },
  {
   "cell_type": "markdown",
   "id": "chief-lottery",
   "metadata": {},
   "source": [
    "# Create KG "
   ]
  },
  {
   "cell_type": "code",
   "execution_count": 4,
   "id": "5477bbd3",
   "metadata": {},
   "outputs": [
    {
     "name": "stderr",
     "output_type": "stream",
     "text": [
      "Report on the number of relations: {-1: 16133, 1: 32745}\n",
      "Report on the number of relations: {1: 43810, -1: 8372}\n"
     ]
    }
   ],
   "source": [
    "graph_openbio = create_graph_from_df(openbiolink_df)\n",
    "graph_custom = create_graph_from_df(custom_df)"
   ]
  },
  {
   "cell_type": "markdown",
   "id": "molecular-sheet",
   "metadata": {},
   "source": [
    "# Create drug disease dicts specific to KG"
   ]
  },
  {
   "cell_type": "code",
   "execution_count": 5,
   "id": "ahead-potato",
   "metadata": {},
   "outputs": [],
   "source": [
    "drug_openbio = set(openbiolink_df.loc[openbiolink_df['source'].str.contains('pubchem.compound')]['source'].unique())\n",
    "disease_openbio = set(openbiolink_df.loc[openbiolink_df['target'].str.contains('mondo')]['target'].unique())"
   ]
  },
  {
   "cell_type": "code",
   "execution_count": 6,
   "id": "static-destiny",
   "metadata": {},
   "outputs": [],
   "source": [
    "drug_custom = set(custom_df.loc[custom_df['source'].str.contains('pubchem.compound')]['source'].unique())\n",
    "disease_custom = set(custom_df.loc[custom_df['target'].str.contains('mondo')]['target'].unique())"
   ]
  },
  {
   "cell_type": "markdown",
   "id": "70e43c44",
   "metadata": {},
   "source": [
    "# Helper Functions"
   ]
  },
  {
   "cell_type": "code",
   "execution_count": 7,
   "id": "baking-brush",
   "metadata": {},
   "outputs": [],
   "source": [
    "score_actual = {}\n",
    "kg_dfs = {}"
   ]
  },
  {
   "cell_type": "code",
   "execution_count": 8,
   "id": "subject-anchor",
   "metadata": {},
   "outputs": [],
   "source": [
    "def khop(\n",
    "    nodeA: str, \n",
    "    nodeB: str, \n",
    "    graph: nx.Graph, \n",
    "    limit: int,\n",
    "    total: bool\n",
    ") -> tuple:\n",
    "    \n",
    "    \"\"\"Find nodes within the distance limit \"\"\"\n",
    "    traversalA = nx.bfs_edges(graph, source=nodeA, depth_limit=limit)\n",
    "    traversalB = nx.bfs_edges(graph, source=nodeB, depth_limit=limit)\n",
    "    \n",
    "    khop_A = set([v for u, v in traversalA])\n",
    "    khop_B = set([v for u, v in traversalB])\n",
    "    \n",
    "    if total:\n",
    "        return list(khop_A | khop_B), khop_A, khop_B\n",
    "    else:\n",
    "        return list(khop_A & khop_B), khop_A, khop_B"
   ]
  },
  {
   "cell_type": "code",
   "execution_count": 9,
   "id": "senior-quest",
   "metadata": {},
   "outputs": [],
   "source": [
    "def get_dict_df(\n",
    "    diseases, \n",
    "    drugs, \n",
    "    undirected_kg_graph, \n",
    "    similarity_type\n",
    "):\n",
    "    \n",
    "    df = pd.DataFrame(columns=[\n",
    "        'source',\n",
    "        'target',\n",
    "        sim_scores[similarity_type]\n",
    "    ])\n",
    "        \n",
    "    for disease in diseases:\n",
    "        # Skip drugs not part of largest component of KG\n",
    "        if disease not in undirected_kg_graph.nodes():\n",
    "            continue\n",
    "        \n",
    "        cn = []\n",
    "        \n",
    "        # for each disease, find the similarity score with for each drug and append to list\n",
    "        for drug in drugs:\n",
    "            \n",
    "            # Skip drugs not part of largest component of KG\n",
    "            if drug not in undirected_kg_graph.nodes():\n",
    "                continue\n",
    "            \n",
    "            shared_nodes, nodeA_neighbor, nodeB_neighbor = khop(\n",
    "                nodeA=drug,\n",
    "                nodeB=disease,\n",
    "                graph=undirected_kg_graph, \n",
    "                limit=1,\n",
    "                total=False,\n",
    "            )\n",
    "            \n",
    "            total_nodes, _, _ = khop(\n",
    "                nodeA=drug,\n",
    "                nodeB=disease,\n",
    "                graph=undirected_kg_graph, \n",
    "                limit=1,\n",
    "                total=True,\n",
    "            )\n",
    "                \n",
    "            if similarity_type == 'cn':\n",
    "                similarity = len(shared_nodes)\n",
    "            \n",
    "            elif similarity_type == 'cos':\n",
    "                similarity = len(shared_nodes) / (math.sqrt(len(nodeA_neighbor) * len(nodeB_neighbor)))\n",
    "            \n",
    "            elif similarity_type == 'ji':\n",
    "                similarity = len(shared_nodes) / len(total_nodes)\n",
    "                \n",
    "            elif similarity_type == 'si':\n",
    "                similarity = (2 * len(shared_nodes)) / (len(nodeA_neighbor) + len(nodeB_neighbor))\n",
    "                \n",
    "            elif similarity_type == 'hpi':\n",
    "                similarity = len(shared_nodes) / min(len(nodeA_neighbor), len(nodeB_neighbor)) \n",
    "                \n",
    "            elif similarity_type == 'hdi':\n",
    "                similarity = len(shared_nodes) / max(len(nodeA_neighbor), len(nodeB_neighbor)) \n",
    "                \n",
    "            elif similarity_type == 'lhn':\n",
    "                similarity = len(shared_nodes) / (len(nodeA_neighbor) * len(nodeB_neighbor)) \n",
    "                \n",
    "            elif similarity_type == 'pa':\n",
    "                similarity = len(nodeA_neighbor) * len(nodeB_neighbor)\n",
    "                \n",
    "            elif similarity_type == 'aa':\n",
    "                similarity = 0\n",
    "                \n",
    "                for n in shared_nodes:\n",
    "                    neighbors_list = set(i for i in undirected_kg_graph.neighbors(n))\n",
    "                    similarity += 1 / math.log10(len(neighbors_list))\n",
    "                    \n",
    "            elif similarity_type == 'ra':\n",
    "                similarity = 0\n",
    "                \n",
    "                for n in shared_nodes:\n",
    "                    neighbors_list = set(i for i in undirected_kg_graph.neighbors(n))\n",
    "                    similarity += 1 / len(neighbors_list)\n",
    "            \n",
    "            cn.append(similarity)\n",
    "            \n",
    "        \n",
    "        index = np.where(cn == np.amax(cn))\n",
    "        # if list is full of 0's (i.e sum == 0), then there are no shared neighbors \n",
    "        \n",
    "        if np.sum(cn) == 0 or len(np.array(cn)[index]) > 1:\n",
    "            continue          \n",
    "        else:                \n",
    "            for val in index:\n",
    "                j = val[0]\n",
    "                df = df.append(\n",
    "                    {\n",
    "                        'source': list(drugs)[j], \n",
    "                        'target': disease, \n",
    "                        sim_scores[similarity_type]: cn[j]\n",
    "                    }, \n",
    "                    ignore_index=True\n",
    "                )\n",
    "\n",
    "    return df"
   ]
  },
  {
   "cell_type": "code",
   "execution_count": 10,
   "id": "892dea1b",
   "metadata": {},
   "outputs": [],
   "source": [
    "def get_precision(\n",
    "    clinical_trial_dict: dict, \n",
    "    predicted: set\n",
    ")-> tuple: \n",
    "    \n",
    "    total = len(predicted)\n",
    "    pos = 0\n",
    "    \n",
    "    for pair in predicted:\n",
    "        if pair in clinical_trial_dict:\n",
    "            pos += 1\n",
    "    \n",
    "    \n",
    "    return round(((pos/total) * 100), 3), pos, total\n"
   ]
  },
  {
   "cell_type": "markdown",
   "id": "nervous-valentine",
   "metadata": {},
   "source": [
    "# Value by change for both KGs"
   ]
  },
  {
   "cell_type": "code",
   "execution_count": 11,
   "id": "falling-kernel",
   "metadata": {},
   "outputs": [
    {
     "data": {
      "text/plain": [
       "0.016"
      ]
     },
     "execution_count": 11,
     "metadata": {},
     "output_type": "execute_result"
    }
   ],
   "source": [
    "openbio_prob = 0\n",
    "\n",
    "for disease in disease_openbio:\n",
    "    for drug in drug_openbio:\n",
    "        trial = f'{drug}_{disease}'\n",
    "        if trial in clinical_pair_dict:\n",
    "            openbio_prob += 1\n",
    "\n",
    "total = len(drug_openbio) * len(disease_openbio)\n",
    "prob = openbio_prob / total\n",
    "round(prob, 3)"
   ]
  },
  {
   "cell_type": "code",
   "execution_count": 12,
   "id": "fleet-today",
   "metadata": {},
   "outputs": [
    {
     "data": {
      "text/plain": [
       "0.046"
      ]
     },
     "execution_count": 12,
     "metadata": {},
     "output_type": "execute_result"
    }
   ],
   "source": [
    "custom_prob = 0\n",
    "\n",
    "for disease in disease_custom:\n",
    "    for drug in drug_custom:\n",
    "        trial = f'{drug}_{disease}'\n",
    "        if trial in clinical_pair_dict:\n",
    "            custom_prob += 1\n",
    "\n",
    "total = len(drug_custom) * len(disease_custom)\n",
    "prob = custom_prob / total\n",
    "round(prob, 3)"
   ]
  },
  {
   "cell_type": "markdown",
   "id": "developing-campbell",
   "metadata": {},
   "source": [
    "# Get P values for each graph"
   ]
  },
  {
   "cell_type": "code",
   "execution_count": 13,
   "id": "vocational-setup",
   "metadata": {},
   "outputs": [],
   "source": [
    "def get_pvalue(positive, total, prob):\n",
    "    return stats.binom_test(\n",
    "        x=positive,\n",
    "        n=total,\n",
    "        p=prob,\n",
    "        alternative='greater'\n",
    "    )"
   ]
  },
  {
   "cell_type": "markdown",
   "id": "perfect-yemen",
   "metadata": {},
   "source": [
    "# Different benchmark methods"
   ]
  },
  {
   "cell_type": "code",
   "execution_count": 14,
   "id": "flying-buying",
   "metadata": {},
   "outputs": [],
   "source": [
    "sim_scores = {\n",
    "    'cn': 'Common Neighbors',\n",
    "    'cos': 'Cosine Similiarity',\n",
    "    'ji': 'Jaccard index',\n",
    "    'si': 'Sorensen index',\n",
    "    'hpi': 'Hub Promoted Index',\n",
    "    'hdi': 'Hub Depressed Index', \n",
    "    'lhn': 'Leicht–Holme–Newman Index',\n",
    "    'pa':'Preferential Attachment',\n",
    "    'aa': 'Adamic-Adar', \n",
    "    'ra': 'Resource Allocation Index', \n",
    "}"
   ]
  },
  {
   "cell_type": "code",
   "execution_count": 17,
   "id": "widespread-dominant",
   "metadata": {
    "scrolled": false
   },
   "outputs": [
    {
     "name": "stderr",
     "output_type": "stream",
     "text": [
      "Calculating scores for algorithms: 100%|██████████| 10/10 [00:20<00:00,  2.09s/it]\n"
     ]
    }
   ],
   "source": [
    "for algo in tqdm(sim_scores, desc='Calculating scores for algorithms'):\n",
    "    # OpenBioLink KG\n",
    "    df_openbio = get_dict_df(\n",
    "        disease_openbio, \n",
    "        drug_openbio, \n",
    "        graph_openbio.to_undirected(),\n",
    "        similarity_type=algo\n",
    "    )\n",
    "    \n",
    "    algo_name = sim_scores[algo]\n",
    "        \n",
    "    df_openbio['pair'] = df_openbio['source'] + '_' + df_openbio['target']\n",
    "    \n",
    "    openbio_precision, openbio_pos, openbio_total = get_precision(\n",
    "        clinical_trial_dict=clinical_pair_dict, \n",
    "        predicted=set(df_openbio['pair'])\n",
    "    )\n",
    "    \n",
    "    openbio_p_val = get_pvalue(\n",
    "        positive=openbio_pos,\n",
    "        total=openbio_total,\n",
    "        prob=0.016\n",
    "    )\n",
    "    \n",
    "    # Custom KG\n",
    "    df_custom = get_dict_df(\n",
    "        disease_custom, \n",
    "        drug_custom, \n",
    "        graph_custom.to_undirected(),\n",
    "        similarity_type=algo\n",
    "    )\n",
    "    \n",
    "    df_custom['pair'] = df_custom['source'] + '_' + df_custom['target']\n",
    "    \n",
    "    custom_precision, custom_pos, custom_total = get_precision(\n",
    "        clinical_trial_dict=clinical_pair_dict, \n",
    "        predicted=set(df_custom['pair'])\n",
    "    )\n",
    "    \n",
    "    custom_p_val = get_pvalue(\n",
    "        positive=custom_pos,\n",
    "        total=custom_total,\n",
    "        prob=0.046\n",
    "    )\n",
    "   \n",
    "    score_actual[algo_name] = {\n",
    "        'openbio_precision': openbio_precision,\n",
    "        'openbio_val_by_chance': '0.016',\n",
    "        'openbio_p_val': openbio_p_val,\n",
    "        '# openbio_pairs': openbio_total,\n",
    "        'custom_precision': custom_precision,\n",
    "        'custom_val_by_chance': '0.046',\n",
    "        'custom_p_val': custom_p_val,\n",
    "        '# custom_pairs': custom_total,\n",
    "    }    "
   ]
  },
  {
   "cell_type": "code",
   "execution_count": 18,
   "id": "bf401167",
   "metadata": {},
   "outputs": [
    {
     "data": {
      "text/html": [
       "<div>\n",
       "<style scoped>\n",
       "    .dataframe tbody tr th:only-of-type {\n",
       "        vertical-align: middle;\n",
       "    }\n",
       "\n",
       "    .dataframe tbody tr th {\n",
       "        vertical-align: top;\n",
       "    }\n",
       "\n",
       "    .dataframe thead th {\n",
       "        text-align: right;\n",
       "    }\n",
       "</style>\n",
       "<table border=\"1\" class=\"dataframe\">\n",
       "  <thead>\n",
       "    <tr style=\"text-align: right;\">\n",
       "      <th></th>\n",
       "      <th>openbio_precision</th>\n",
       "      <th>openbio_val_by_chance</th>\n",
       "      <th>openbio_p_val</th>\n",
       "      <th># openbio_pairs</th>\n",
       "      <th>custom_precision</th>\n",
       "      <th>custom_val_by_chance</th>\n",
       "      <th>custom_p_val</th>\n",
       "      <th># custom_pairs</th>\n",
       "    </tr>\n",
       "  </thead>\n",
       "  <tbody>\n",
       "    <tr>\n",
       "      <th>Common Neighbors</th>\n",
       "      <td>0</td>\n",
       "      <td>0.016</td>\n",
       "      <td>1</td>\n",
       "      <td>12</td>\n",
       "      <td>0</td>\n",
       "      <td>0.046</td>\n",
       "      <td>1</td>\n",
       "      <td>5</td>\n",
       "    </tr>\n",
       "    <tr>\n",
       "      <th>Cosine Similiarity</th>\n",
       "      <td>0</td>\n",
       "      <td>0.016</td>\n",
       "      <td>1</td>\n",
       "      <td>45</td>\n",
       "      <td>9.091</td>\n",
       "      <td>0.046</td>\n",
       "      <td>0.404294</td>\n",
       "      <td>11</td>\n",
       "    </tr>\n",
       "    <tr>\n",
       "      <th>Jaccard index</th>\n",
       "      <td>0</td>\n",
       "      <td>0.016</td>\n",
       "      <td>1</td>\n",
       "      <td>45</td>\n",
       "      <td>7.143</td>\n",
       "      <td>0.046</td>\n",
       "      <td>0.482778</td>\n",
       "      <td>14</td>\n",
       "    </tr>\n",
       "    <tr>\n",
       "      <th>Sorensen index</th>\n",
       "      <td>0</td>\n",
       "      <td>0.016</td>\n",
       "      <td>1</td>\n",
       "      <td>45</td>\n",
       "      <td>7.143</td>\n",
       "      <td>0.046</td>\n",
       "      <td>0.482778</td>\n",
       "      <td>14</td>\n",
       "    </tr>\n",
       "    <tr>\n",
       "      <th>Hub Promoted Index</th>\n",
       "      <td>0</td>\n",
       "      <td>0.016</td>\n",
       "      <td>1</td>\n",
       "      <td>18</td>\n",
       "      <td>11.111</td>\n",
       "      <td>0.046</td>\n",
       "      <td>0.345461</td>\n",
       "      <td>9</td>\n",
       "    </tr>\n",
       "    <tr>\n",
       "      <th>Hub Depressed Index</th>\n",
       "      <td>0</td>\n",
       "      <td>0.016</td>\n",
       "      <td>1</td>\n",
       "      <td>42</td>\n",
       "      <td>0</td>\n",
       "      <td>0.046</td>\n",
       "      <td>1</td>\n",
       "      <td>8</td>\n",
       "    </tr>\n",
       "    <tr>\n",
       "      <th>Leicht–Holme–Newman Index</th>\n",
       "      <td>0</td>\n",
       "      <td>0.016</td>\n",
       "      <td>1</td>\n",
       "      <td>45</td>\n",
       "      <td>9.091</td>\n",
       "      <td>0.046</td>\n",
       "      <td>0.404294</td>\n",
       "      <td>11</td>\n",
       "    </tr>\n",
       "    <tr>\n",
       "      <th>Preferential Attachment</th>\n",
       "      <td>9.722</td>\n",
       "      <td>0.016</td>\n",
       "      <td>0.000159264</td>\n",
       "      <td>72</td>\n",
       "      <td>0</td>\n",
       "      <td>0.046</td>\n",
       "      <td>1</td>\n",
       "      <td>59</td>\n",
       "    </tr>\n",
       "    <tr>\n",
       "      <th>Adamic-Adar</th>\n",
       "      <td>0</td>\n",
       "      <td>0.016</td>\n",
       "      <td>1</td>\n",
       "      <td>16</td>\n",
       "      <td>0</td>\n",
       "      <td>0.046</td>\n",
       "      <td>1</td>\n",
       "      <td>10</td>\n",
       "    </tr>\n",
       "    <tr>\n",
       "      <th>Resource Allocation Index</th>\n",
       "      <td>0</td>\n",
       "      <td>0.016</td>\n",
       "      <td>1</td>\n",
       "      <td>15</td>\n",
       "      <td>0</td>\n",
       "      <td>0.046</td>\n",
       "      <td>1</td>\n",
       "      <td>10</td>\n",
       "    </tr>\n",
       "  </tbody>\n",
       "</table>\n",
       "</div>"
      ],
      "text/plain": [
       "                          openbio_precision openbio_val_by_chance  \\\n",
       "Common Neighbors                          0                 0.016   \n",
       "Cosine Similiarity                        0                 0.016   \n",
       "Jaccard index                             0                 0.016   \n",
       "Sorensen index                            0                 0.016   \n",
       "Hub Promoted Index                        0                 0.016   \n",
       "Hub Depressed Index                       0                 0.016   \n",
       "Leicht–Holme–Newman Index                 0                 0.016   \n",
       "Preferential Attachment               9.722                 0.016   \n",
       "Adamic-Adar                               0                 0.016   \n",
       "Resource Allocation Index                 0                 0.016   \n",
       "\n",
       "                          openbio_p_val # openbio_pairs custom_precision  \\\n",
       "Common Neighbors                      1              12                0   \n",
       "Cosine Similiarity                    1              45            9.091   \n",
       "Jaccard index                         1              45            7.143   \n",
       "Sorensen index                        1              45            7.143   \n",
       "Hub Promoted Index                    1              18           11.111   \n",
       "Hub Depressed Index                   1              42                0   \n",
       "Leicht–Holme–Newman Index             1              45            9.091   \n",
       "Preferential Attachment     0.000159264              72                0   \n",
       "Adamic-Adar                           1              16                0   \n",
       "Resource Allocation Index             1              15                0   \n",
       "\n",
       "                          custom_val_by_chance custom_p_val # custom_pairs  \n",
       "Common Neighbors                         0.046            1              5  \n",
       "Cosine Similiarity                       0.046     0.404294             11  \n",
       "Jaccard index                            0.046     0.482778             14  \n",
       "Sorensen index                           0.046     0.482778             14  \n",
       "Hub Promoted Index                       0.046     0.345461              9  \n",
       "Hub Depressed Index                      0.046            1              8  \n",
       "Leicht–Holme–Newman Index                0.046     0.404294             11  \n",
       "Preferential Attachment                  0.046            1             59  \n",
       "Adamic-Adar                              0.046            1             10  \n",
       "Resource Allocation Index                0.046            1             10  "
      ]
     },
     "execution_count": 18,
     "metadata": {},
     "output_type": "execute_result"
    }
   ],
   "source": [
    "pd.DataFrame(score_actual).transpose()"
   ]
  },
  {
   "cell_type": "code",
   "execution_count": null,
   "id": "south-white",
   "metadata": {},
   "outputs": [],
   "source": []
  }
 ],
 "metadata": {
  "kernelspec": {
   "display_name": "Python 3",
   "language": "python",
   "name": "python3"
  },
  "language_info": {
   "codemirror_mode": {
    "name": "ipython",
    "version": 3
   },
   "file_extension": ".py",
   "mimetype": "text/x-python",
   "name": "python",
   "nbconvert_exporter": "python",
   "pygments_lexer": "ipython3",
   "version": "3.8.5"
  }
 },
 "nbformat": 4,
 "nbformat_minor": 5
}
