{
 "cells": [
  {
   "cell_type": "markdown",
   "id": "b63e5181",
   "metadata": {},
   "source": [
    "# Setting Up Environment"
   ]
  },
  {
   "cell_type": "code",
   "execution_count": 2,
   "id": "ff7348e0",
   "metadata": {},
   "outputs": [],
   "source": [
    "import os\n",
    "import json\n",
    "import math\n",
    "import logging\n",
    "import pandas as pd\n",
    "from collections import Counter, defaultdict\n",
    "from tqdm import tqdm\n",
    "from itertools import product\n",
    "from typing import Mapping, List\n",
    "import networkx as nx\n",
    "import numpy as np\n",
    "from tqdm import tqdm\n",
    "DATA_DIR = '../../data'\n",
    "KG_DATA_PATH = os.path.join(DATA_DIR, 'kg')"
   ]
  },
  {
   "cell_type": "markdown",
   "id": "70e43c44",
   "metadata": {},
   "source": [
    "# Helper Functions"
   ]
  },
  {
   "cell_type": "code",
   "execution_count": 546,
   "id": "892dea1b",
   "metadata": {},
   "outputs": [],
   "source": [
    "sim_scores = {'cn': 'Common Neighbors', 'cos': 'Cosine Similiarity', 'ji': 'Jaccard index', 'si': 'Sorensen index',\n",
    "             'hpi': 'Hub Promoted Index', 'hdi': 'Hub Depressed Index', 'lhn': 'Leicht–Holme–Newman Index', 'pa':'Preferential Attachment',\n",
    "             'aa': 'Adamic-Adar', 'ra': 'Resource Allocation Index', 'lp': 'Local Path Index', 'kg': 'Katz global path indicator',\n",
    "             'act': 'Average Commute Time'}\n",
    "score_actual = {}\n",
    "def create_graph_from_df(\n",
    "    graph_df\n",
    ") -> nx.DiGraph:\n",
    "    \"\"\"Create fully connected graph from dataframe.\"\"\"\n",
    "    graph = nx.DiGraph()\n",
    "\n",
    "    for sub_name, obj_name, relation in graph_df.values:\n",
    "        # Store edge in the graph\n",
    "        graph.add_edge(\n",
    "            sub_name,\n",
    "            obj_name,\n",
    "            polarity=relation,\n",
    "        )\n",
    "\n",
    "\n",
    "    connected_components_subgraph = [\n",
    "        component\n",
    "        for component in sorted(\n",
    "            nx.connected_components(\n",
    "                graph.to_undirected()\n",
    "            ),\n",
    "            key=len,\n",
    "            reverse=True\n",
    "        )\n",
    "    ]\n",
    "\n",
    "    final_subgraph = graph.subgraph(connected_components_subgraph[0])\n",
    "\n",
    "    return final_subgraph\n",
    "\n",
    "\n",
    "def shared_khop(nodeA: str, nodeB: str, graph: nx.Graph, k: int) -> int:\n",
    "    # find nodes within distance k\n",
    "    traversalA = nx.bfs_edges(graph, source=nodeA, depth_limit=k)\n",
    "    traversalB = nx.bfs_edges(graph, source=nodeB, depth_limit=k)\n",
    "    khop_A = set([v for u, v in traversalA])\n",
    "    khop_B = set([v for u, v in traversalB])\n",
    "    # return shared number of k-neighbors\n",
    "    return len(list(khop_A & khop_B)), len(khop_A), len(khop_B)\n",
    "\n",
    "def shared_khop_list(nodeA: str, nodeB: str, graph: nx.Graph, k: int) -> int:\n",
    "    # find nodes within distance k\n",
    "    traversalA = nx.bfs_edges(graph, source=nodeA, depth_limit=k)\n",
    "    traversalB = nx.bfs_edges(graph, source=nodeB, depth_limit=k)\n",
    "    khop_A = set([v for u, v in traversalA])\n",
    "    khop_B = set([v for u, v in traversalB])\n",
    "    # return shared number of k-neighbors\n",
    "    return list(khop_A & khop_B)\n",
    "\n",
    "def total_khop(nodeA: str, nodeB: str, graph: nx.Graph, k: int) -> int:\n",
    "    # find nodes within distance k\n",
    "    traversalA = nx.bfs_edges(graph, source=nodeA, depth_limit=k)\n",
    "    traversalB = nx.bfs_edges(graph, source=nodeB, depth_limit=k)\n",
    "    khop_A = set([v for u, v in traversalA])\n",
    "    khop_B = set([v for u, v in traversalB])\n",
    "    # return shared number of k-neighbors\n",
    "    return len(list(khop_A | khop_B)), len(khop_A), len(khop_B)\n",
    "\n",
    "notin=[]\n",
    "# This function will change once the KG and clinical pairs are updated\n",
    "def get_accuracy(dict_actual, dict_predicted): \n",
    "    pos,total = 0,0\n",
    "    for disease in dict_predicted.keys():\n",
    "        for drug in dict_predicted[disease]:\n",
    "                if disease not in dict_actual:\n",
    "                    notin.append(disease)\n",
    "                    continue\n",
    "                if drug in dict_actual[disease]:\n",
    "                    pos+=1\n",
    "                total+=1\n",
    "    print('{pos}/{total}'.format(pos=pos,total=total))\n",
    "    return round(((pos/total) * 100), 2)\n",
    "\n",
    "\n",
    "def get_dict_df(diseases, drugs, undirected_graph, similarity_type = 'cn'):\n",
    "    df = pd.DataFrame(columns=[\n",
    "        'Source',\n",
    "        'Target',\n",
    "        sim_scores[similarity_type]\n",
    "    ])\n",
    "    disease_drug_dict = {}\n",
    "    # loop through each disease in the set\n",
    "    for disease in tqdm(diseases, desc='Main iterator', total=len(diseases)):\n",
    "        cn = []\n",
    "        # for each disease, find the similarity score with for each drug and append to list\n",
    "        for drug in drugs:\n",
    "            if similarity_type == 'cn':\n",
    "                similarity,_,_ = shared_khop(disease, drug,undirected_graph , 1)\n",
    "            elif similarity_type == 'cos':\n",
    "                shared, nodeA_neighbor, nodeB_neighbor = shared_khop(disease, drug,undirected_graph , 1)\n",
    "                similarity = shared / (math.sqrt(nodeA_neighbor * nodeB_neighbor))\n",
    "            elif similarity_type == 'ji':\n",
    "                shared,_,_ = shared_khop(disease, drug,undirected_graph , 1)\n",
    "                total,_,_ = total_khop(disease, drug,undirected_graph , 1)\n",
    "                similarity = shared/total\n",
    "            elif similarity_type == 'si':\n",
    "                shared,nodeA_neighbor,nodeB_neighbor = shared_khop(disease, drug,undirected_graph , 1)\n",
    "                similarity = (shared * 2) / (nodeA_neighbor + nodeB_neighbor)\n",
    "            elif similarity_type == 'hpi':\n",
    "                shared,nodeA_neighbor,nodeB_neighbor = shared_khop(disease, drug,undirected_graph , 1)\n",
    "                similarity = shared / min(nodeA_neighbor, nodeB_neighbor) \n",
    "            elif similarity_type == 'hdi':\n",
    "                shared,nodeA_neighbor,nodeB_neighbor = shared_khop(disease, drug,undirected_graph , 1)\n",
    "                similarity = shared / max(nodeA_neighbor, nodeB_neighbor) \n",
    "            elif similarity_type == 'lhn':\n",
    "                shared,nodeA_neighbor,nodeB_neighbor = shared_khop(disease, drug,undirected_graph , 1)\n",
    "                similarity = shared / (nodeA_neighbor * nodeB_neighbor) \n",
    "            elif similarity_type == 'pa':\n",
    "                _,nodeA_neighbor,nodeB_neighbor = shared_khop(disease, drug,undirected_graph , 1)\n",
    "                similarity = nodeA_neighbor * nodeB_neighbor\n",
    "            elif similarity_type == 'aa':\n",
    "                shared_list = shared_khop_list(disease, drug,undirected_graph , 1)\n",
    "                similarity = 0\n",
    "                for n in shared_list:\n",
    "                    neighbors_list = [i for i in undirected_graph.neighbors(n)]\n",
    "                    similarity += 1/math.log10(len(neighbors_list))\n",
    "            elif similarity_type == 'ra':\n",
    "                shared_list = shared_khop_list(disease, drug,undirected_graph , 1)\n",
    "                similarity = 0\n",
    "                for n in shared_list:\n",
    "                    neighbors_list = [i for i in undirected_graph.neighbors(n)]\n",
    "                    similarity += 1/len(neighbors_list)\n",
    "            cn.append(similarity)\n",
    "        # if list is full of 0's (i.e sum == 0), then there are no shared neighbors \n",
    "        if np.sum(cn) == 0:\n",
    "            disease_drug_dict[disease] = 'none'\n",
    "        else:\n",
    "            index = np.where(cn == np.amax(cn))\n",
    "            # add list of drugs with max # of shared nodes to specified key\n",
    "            disease_drug_dict[disease] = np.array(list(drugs))[index]\n",
    "            # create a df\n",
    "            for i in index:\n",
    "                for j in i:\n",
    "                    df = df.append({'Source': disease, 'Target': list(drugs)[j], sim_scores[similarity_type]: cn[j]}, ignore_index=True)\n",
    "    return disease_drug_dict, df"
   ]
  },
  {
   "cell_type": "markdown",
   "id": "0d74ef14",
   "metadata": {},
   "source": [
    "# Load Graph and Gold Standard"
   ]
  },
  {
   "cell_type": "code",
   "execution_count": 547,
   "id": "a08b5c11",
   "metadata": {},
   "outputs": [],
   "source": [
    "openbiolink_df = pd.read_csv(\n",
    "    os.path.join(KG_DATA_PATH, 'normalized', 'openbiolink_kg_normalized.tsv'),\n",
    "    sep='\\t'\n",
    ")\n",
    "openbiolink_df.rename(columns={'relation': 'polarity'}, inplace=True)\n",
    "\n",
    "custom_df = pd.read_csv(\n",
    "    os.path.join(KG_DATA_PATH, 'normalized', 'custom_kg_normalized.tsv'),\n",
    "    sep='\\t'\n",
    ")\n",
    "custom_df.rename(columns={'relation': 'polarity'}, inplace=True)"
   ]
  },
  {
   "cell_type": "code",
   "execution_count": 548,
   "id": "b60f162d",
   "metadata": {},
   "outputs": [
    {
     "data": {
      "text/html": [
       "<div>\n",
       "<style scoped>\n",
       "    .dataframe tbody tr th:only-of-type {\n",
       "        vertical-align: middle;\n",
       "    }\n",
       "\n",
       "    .dataframe tbody tr th {\n",
       "        vertical-align: top;\n",
       "    }\n",
       "\n",
       "    .dataframe thead th {\n",
       "        text-align: right;\n",
       "    }\n",
       "</style>\n",
       "<table border=\"1\" class=\"dataframe\">\n",
       "  <thead>\n",
       "    <tr style=\"text-align: right;\">\n",
       "      <th></th>\n",
       "      <th>source</th>\n",
       "      <th>target</th>\n",
       "      <th>polarity</th>\n",
       "    </tr>\n",
       "  </thead>\n",
       "  <tbody>\n",
       "    <tr>\n",
       "      <th>0</th>\n",
       "      <td>pubchem.compound:4943</td>\n",
       "      <td>ncbigene:2562</td>\n",
       "      <td>1</td>\n",
       "    </tr>\n",
       "    <tr>\n",
       "      <th>1</th>\n",
       "      <td>pubchem.compound:667468</td>\n",
       "      <td>ncbigene:147</td>\n",
       "      <td>-1</td>\n",
       "    </tr>\n",
       "    <tr>\n",
       "      <th>2</th>\n",
       "      <td>pubchem.compound:4011</td>\n",
       "      <td>ncbigene:1133</td>\n",
       "      <td>-1</td>\n",
       "    </tr>\n",
       "    <tr>\n",
       "      <th>3</th>\n",
       "      <td>pubchem.compound:4636</td>\n",
       "      <td>ncbigene:148</td>\n",
       "      <td>1</td>\n",
       "    </tr>\n",
       "    <tr>\n",
       "      <th>4</th>\n",
       "      <td>pubchem.compound:2083</td>\n",
       "      <td>ncbigene:154</td>\n",
       "      <td>1</td>\n",
       "    </tr>\n",
       "  </tbody>\n",
       "</table>\n",
       "</div>"
      ],
      "text/plain": [
       "                    source         target  polarity\n",
       "0    pubchem.compound:4943  ncbigene:2562         1\n",
       "1  pubchem.compound:667468   ncbigene:147        -1\n",
       "2    pubchem.compound:4011  ncbigene:1133        -1\n",
       "3    pubchem.compound:4636   ncbigene:148         1\n",
       "4    pubchem.compound:2083   ncbigene:154         1"
      ]
     },
     "execution_count": 548,
     "metadata": {},
     "output_type": "execute_result"
    }
   ],
   "source": [
    "custom_df.head()"
   ]
  },
  {
   "cell_type": "code",
   "execution_count": 549,
   "id": "708dba64",
   "metadata": {},
   "outputs": [],
   "source": [
    "with open(os.path.join(DATA_DIR, 'gold-standard', 'filtered-clinical-pairs.json')) as file:\n",
    "    clinical_pair_dict = json.load(file).keys()"
   ]
  },
  {
   "cell_type": "code",
   "execution_count": 550,
   "id": "a7cad895",
   "metadata": {},
   "outputs": [],
   "source": [
    "gold_standard_dict = {}\n",
    "for i in clinical_pair_dict:\n",
    "    split = i.split(\"_\")\n",
    "    if split[1] in gold_standard_dict:\n",
    "        gold_standard_dict[split[1]].append(split[0])\n",
    "    else:\n",
    "        gold_standard_dict[split[1]] = [split[0]]"
   ]
  },
  {
   "cell_type": "code",
   "execution_count": 551,
   "id": "5477bbd3",
   "metadata": {},
   "outputs": [],
   "source": [
    "graph_openbio = create_graph_from_df(openbiolink_df)\n",
    "graph_custom = create_graph_from_df(custom_df)"
   ]
  },
  {
   "cell_type": "code",
   "execution_count": 552,
   "id": "a9fea27a",
   "metadata": {},
   "outputs": [
    {
     "data": {
      "text/plain": [
       "8610"
      ]
     },
     "execution_count": 552,
     "metadata": {},
     "output_type": "execute_result"
    }
   ],
   "source": [
    "len(graph_custom)"
   ]
  },
  {
   "cell_type": "markdown",
   "id": "b4729b55",
   "metadata": {},
   "source": [
    "In the cell below, create a set of diseases and drugs in each graph"
   ]
  },
  {
   "cell_type": "code",
   "execution_count": 553,
   "id": "3ac75240",
   "metadata": {},
   "outputs": [],
   "source": [
    "disease_openbio = []\n",
    "drug_openbio = []\n",
    "for u,v in graph_openbio.to_undirected().edges():\n",
    "    if v.startswith('mondo'):\n",
    "        disease_openbio.append(v)\n",
    "    if u.startswith('mondo'):\n",
    "        disease_openbio.append(u)\n",
    "    if v.startswith('pubchem.'):\n",
    "        drug_openbio.append(v)\n",
    "    if u.startswith('pubchem.'):\n",
    "        drug_openbio.append(u)\n",
    "        \n",
    "# sets of diseases/drugs for openbio      \n",
    "disease_openbio = set(disease_openbio)\n",
    "drug_openbio = set(drug_openbio)\n",
    "\n",
    "\n",
    "disease_custom = []\n",
    "drug_custom = []\n",
    "\n",
    "for u,v in graph_custom.to_undirected().edges():\n",
    "    if v.startswith('mondo'):\n",
    "        disease_custom.append(v)\n",
    "    if u.startswith('mondo'):\n",
    "        disease_custom.append(u)\n",
    "    if u.startswith('pubchem.'):\n",
    "        drug_custom.append(u)\n",
    "    if v.startswith('pubchem.'):\n",
    "        drug_custom.append(v)\n",
    "        \n",
    "# sets of diseases/drugs for custom KG      \n",
    "disease_custom = set(disease_custom)\n",
    "drug_custom = set(drug_custom)"
   ]
  },
  {
   "cell_type": "markdown",
   "id": "e345f01b",
   "metadata": {},
   "source": [
    "# Common Neighbors (CN)"
   ]
  },
  {
   "cell_type": "code",
   "execution_count": 554,
   "id": "127ea26d",
   "metadata": {},
   "outputs": [
    {
     "name": "stderr",
     "output_type": "stream",
     "text": [
      "Main iterator: 100%|██████████| 72/72 [00:02<00:00, 25.28it/s]\n"
     ]
    }
   ],
   "source": [
    "disease_drug_dict, df_openbio = get_dict_df(disease_openbio, drug_openbio, graph_openbio.to_undirected())"
   ]
  },
  {
   "cell_type": "code",
   "execution_count": 555,
   "id": "0f6a1467",
   "metadata": {},
   "outputs": [
    {
     "data": {
      "text/html": [
       "<div>\n",
       "<style scoped>\n",
       "    .dataframe tbody tr th:only-of-type {\n",
       "        vertical-align: middle;\n",
       "    }\n",
       "\n",
       "    .dataframe tbody tr th {\n",
       "        vertical-align: top;\n",
       "    }\n",
       "\n",
       "    .dataframe thead th {\n",
       "        text-align: right;\n",
       "    }\n",
       "</style>\n",
       "<table border=\"1\" class=\"dataframe\">\n",
       "  <thead>\n",
       "    <tr style=\"text-align: right;\">\n",
       "      <th></th>\n",
       "      <th>Source</th>\n",
       "      <th>Target</th>\n",
       "      <th>Common Neighbors</th>\n",
       "    </tr>\n",
       "  </thead>\n",
       "  <tbody>\n",
       "    <tr>\n",
       "      <th>0</th>\n",
       "      <td>mondo:0005029</td>\n",
       "      <td>pubchem.compound:9903786</td>\n",
       "      <td>1</td>\n",
       "    </tr>\n",
       "    <tr>\n",
       "      <th>1</th>\n",
       "      <td>mondo:0005029</td>\n",
       "      <td>pubchem.compound:5757</td>\n",
       "      <td>1</td>\n",
       "    </tr>\n",
       "    <tr>\n",
       "      <th>2</th>\n",
       "      <td>mondo:0005029</td>\n",
       "      <td>pubchem.compound:5957</td>\n",
       "      <td>1</td>\n",
       "    </tr>\n",
       "    <tr>\n",
       "      <th>3</th>\n",
       "      <td>mondo:0005029</td>\n",
       "      <td>pubchem.compound:2162</td>\n",
       "      <td>1</td>\n",
       "    </tr>\n",
       "    <tr>\n",
       "      <th>4</th>\n",
       "      <td>mondo:0005029</td>\n",
       "      <td>pubchem.compound:123631</td>\n",
       "      <td>1</td>\n",
       "    </tr>\n",
       "    <tr>\n",
       "      <th>...</th>\n",
       "      <td>...</td>\n",
       "      <td>...</td>\n",
       "      <td>...</td>\n",
       "    </tr>\n",
       "    <tr>\n",
       "      <th>903</th>\n",
       "      <td>mondo:0004989</td>\n",
       "      <td>pubchem.compound:5083</td>\n",
       "      <td>1</td>\n",
       "    </tr>\n",
       "    <tr>\n",
       "      <th>904</th>\n",
       "      <td>mondo:0004989</td>\n",
       "      <td>pubchem.compound:36462</td>\n",
       "      <td>1</td>\n",
       "    </tr>\n",
       "    <tr>\n",
       "      <th>905</th>\n",
       "      <td>mondo:0004989</td>\n",
       "      <td>pubchem.compound:327653</td>\n",
       "      <td>1</td>\n",
       "    </tr>\n",
       "    <tr>\n",
       "      <th>906</th>\n",
       "      <td>mondo:0004989</td>\n",
       "      <td>pubchem.compound:2019</td>\n",
       "      <td>1</td>\n",
       "    </tr>\n",
       "    <tr>\n",
       "      <th>907</th>\n",
       "      <td>mondo:0004989</td>\n",
       "      <td>pubchem.compound:145068</td>\n",
       "      <td>1</td>\n",
       "    </tr>\n",
       "  </tbody>\n",
       "</table>\n",
       "<p>908 rows × 3 columns</p>\n",
       "</div>"
      ],
      "text/plain": [
       "            Source                    Target Common Neighbors\n",
       "0    mondo:0005029  pubchem.compound:9903786                1\n",
       "1    mondo:0005029     pubchem.compound:5757                1\n",
       "2    mondo:0005029     pubchem.compound:5957                1\n",
       "3    mondo:0005029     pubchem.compound:2162                1\n",
       "4    mondo:0005029   pubchem.compound:123631                1\n",
       "..             ...                       ...              ...\n",
       "903  mondo:0004989     pubchem.compound:5083                1\n",
       "904  mondo:0004989    pubchem.compound:36462                1\n",
       "905  mondo:0004989   pubchem.compound:327653                1\n",
       "906  mondo:0004989     pubchem.compound:2019                1\n",
       "907  mondo:0004989   pubchem.compound:145068                1\n",
       "\n",
       "[908 rows x 3 columns]"
      ]
     },
     "execution_count": 555,
     "metadata": {},
     "output_type": "execute_result"
    }
   ],
   "source": [
    "df_openbio"
   ]
  },
  {
   "cell_type": "code",
   "execution_count": 556,
   "id": "e99acb80",
   "metadata": {},
   "outputs": [
    {
     "name": "stdout",
     "output_type": "stream",
     "text": [
      "41/430\n"
     ]
    },
    {
     "data": {
      "text/plain": [
       "9.53"
      ]
     },
     "execution_count": 556,
     "metadata": {},
     "output_type": "execute_result"
    }
   ],
   "source": [
    "# Accuracy for openbiolink KG\n",
    "cn_acc1 = get_accuracy(gold_standard_dict, disease_drug_dict)\n",
    "score_actual['Common Neighbors'] = [cn_acc1]\n",
    "cn_acc1"
   ]
  },
  {
   "cell_type": "code",
   "execution_count": 557,
   "id": "880d28f7",
   "metadata": {},
   "outputs": [
    {
     "name": "stderr",
     "output_type": "stream",
     "text": [
      "Main iterator: 100%|██████████| 59/59 [00:00<00:00, 69.81it/s] \n"
     ]
    }
   ],
   "source": [
    "disease_drug_dict, df_custom = get_dict_df(disease_custom, drug_custom, graph_custom.to_undirected())"
   ]
  },
  {
   "cell_type": "code",
   "execution_count": 558,
   "id": "921ef522",
   "metadata": {},
   "outputs": [
    {
     "data": {
      "text/html": [
       "<div>\n",
       "<style scoped>\n",
       "    .dataframe tbody tr th:only-of-type {\n",
       "        vertical-align: middle;\n",
       "    }\n",
       "\n",
       "    .dataframe tbody tr th {\n",
       "        vertical-align: top;\n",
       "    }\n",
       "\n",
       "    .dataframe thead th {\n",
       "        text-align: right;\n",
       "    }\n",
       "</style>\n",
       "<table border=\"1\" class=\"dataframe\">\n",
       "  <thead>\n",
       "    <tr style=\"text-align: right;\">\n",
       "      <th></th>\n",
       "      <th>Source</th>\n",
       "      <th>Target</th>\n",
       "      <th>Common Neighbors</th>\n",
       "    </tr>\n",
       "  </thead>\n",
       "  <tbody>\n",
       "    <tr>\n",
       "      <th>0</th>\n",
       "      <td>mondo:0019154</td>\n",
       "      <td>pubchem.compound:5833</td>\n",
       "      <td>1</td>\n",
       "    </tr>\n",
       "    <tr>\n",
       "      <th>1</th>\n",
       "      <td>mondo:0019154</td>\n",
       "      <td>pubchem.compound:6013</td>\n",
       "      <td>1</td>\n",
       "    </tr>\n",
       "    <tr>\n",
       "      <th>2</th>\n",
       "      <td>mondo:0019154</td>\n",
       "      <td>pubchem.compound:4632</td>\n",
       "      <td>1</td>\n",
       "    </tr>\n",
       "    <tr>\n",
       "      <th>3</th>\n",
       "      <td>mondo:0019154</td>\n",
       "      <td>pubchem.compound:2375</td>\n",
       "      <td>1</td>\n",
       "    </tr>\n",
       "    <tr>\n",
       "      <th>4</th>\n",
       "      <td>mondo:0019154</td>\n",
       "      <td>pubchem.compound:3314</td>\n",
       "      <td>1</td>\n",
       "    </tr>\n",
       "    <tr>\n",
       "      <th>...</th>\n",
       "      <td>...</td>\n",
       "      <td>...</td>\n",
       "      <td>...</td>\n",
       "    </tr>\n",
       "    <tr>\n",
       "      <th>158</th>\n",
       "      <td>mondo:0004989</td>\n",
       "      <td>pubchem.compound:13791</td>\n",
       "      <td>1</td>\n",
       "    </tr>\n",
       "    <tr>\n",
       "      <th>159</th>\n",
       "      <td>mondo:0004989</td>\n",
       "      <td>pubchem.compound:5994</td>\n",
       "      <td>1</td>\n",
       "    </tr>\n",
       "    <tr>\n",
       "      <th>160</th>\n",
       "      <td>mondo:0004989</td>\n",
       "      <td>pubchem.compound:10184653</td>\n",
       "      <td>1</td>\n",
       "    </tr>\n",
       "    <tr>\n",
       "      <th>161</th>\n",
       "      <td>mondo:0004989</td>\n",
       "      <td>pubchem.compound:28417</td>\n",
       "      <td>1</td>\n",
       "    </tr>\n",
       "    <tr>\n",
       "      <th>162</th>\n",
       "      <td>mondo:0004989</td>\n",
       "      <td>pubchem.compound:445154</td>\n",
       "      <td>1</td>\n",
       "    </tr>\n",
       "  </tbody>\n",
       "</table>\n",
       "<p>163 rows × 3 columns</p>\n",
       "</div>"
      ],
      "text/plain": [
       "            Source                     Target Common Neighbors\n",
       "0    mondo:0019154      pubchem.compound:5833                1\n",
       "1    mondo:0019154      pubchem.compound:6013                1\n",
       "2    mondo:0019154      pubchem.compound:4632                1\n",
       "3    mondo:0019154      pubchem.compound:2375                1\n",
       "4    mondo:0019154      pubchem.compound:3314                1\n",
       "..             ...                        ...              ...\n",
       "158  mondo:0004989     pubchem.compound:13791                1\n",
       "159  mondo:0004989      pubchem.compound:5994                1\n",
       "160  mondo:0004989  pubchem.compound:10184653                1\n",
       "161  mondo:0004989     pubchem.compound:28417                1\n",
       "162  mondo:0004989    pubchem.compound:445154                1\n",
       "\n",
       "[163 rows x 3 columns]"
      ]
     },
     "execution_count": 558,
     "metadata": {},
     "output_type": "execute_result"
    }
   ],
   "source": [
    "df_custom"
   ]
  },
  {
   "cell_type": "code",
   "execution_count": 559,
   "id": "6d0be1b5",
   "metadata": {},
   "outputs": [
    {
     "name": "stdout",
     "output_type": "stream",
     "text": [
      "24/214\n"
     ]
    },
    {
     "data": {
      "text/plain": [
       "11.21"
      ]
     },
     "execution_count": 559,
     "metadata": {},
     "output_type": "execute_result"
    }
   ],
   "source": [
    "# Accuracy for custom KG\n",
    "cn_acc2 = get_accuracy(gold_standard_dict, disease_drug_dict)\n",
    "score_actual['Common Neighbors'].append(cn_acc2)\n",
    "cn_acc2"
   ]
  },
  {
   "cell_type": "markdown",
   "id": "b949951a",
   "metadata": {},
   "source": [
    "# Cosine Similarity "
   ]
  },
  {
   "cell_type": "code",
   "execution_count": 560,
   "id": "25999fe2",
   "metadata": {},
   "outputs": [
    {
     "name": "stderr",
     "output_type": "stream",
     "text": [
      "Main iterator: 100%|██████████| 72/72 [00:01<00:00, 48.66it/s]\n"
     ]
    }
   ],
   "source": [
    "disease_drug_dict, df_openbio = get_dict_df(disease_openbio, drug_openbio, graph_openbio.to_undirected(), similarity_type = 'cos')"
   ]
  },
  {
   "cell_type": "code",
   "execution_count": 561,
   "id": "04606bb3",
   "metadata": {},
   "outputs": [
    {
     "data": {
      "text/html": [
       "<div>\n",
       "<style scoped>\n",
       "    .dataframe tbody tr th:only-of-type {\n",
       "        vertical-align: middle;\n",
       "    }\n",
       "\n",
       "    .dataframe tbody tr th {\n",
       "        vertical-align: top;\n",
       "    }\n",
       "\n",
       "    .dataframe thead th {\n",
       "        text-align: right;\n",
       "    }\n",
       "</style>\n",
       "<table border=\"1\" class=\"dataframe\">\n",
       "  <thead>\n",
       "    <tr style=\"text-align: right;\">\n",
       "      <th></th>\n",
       "      <th>Source</th>\n",
       "      <th>Target</th>\n",
       "      <th>Cosine Similiarity</th>\n",
       "    </tr>\n",
       "  </thead>\n",
       "  <tbody>\n",
       "    <tr>\n",
       "      <th>0</th>\n",
       "      <td>mondo:0005029</td>\n",
       "      <td>pubchem.compound:16722836</td>\n",
       "      <td>0.577350</td>\n",
       "    </tr>\n",
       "    <tr>\n",
       "      <th>1</th>\n",
       "      <td>mondo:0010150</td>\n",
       "      <td>pubchem.compound:3712</td>\n",
       "      <td>0.188982</td>\n",
       "    </tr>\n",
       "    <tr>\n",
       "      <th>2</th>\n",
       "      <td>mondo:0005072</td>\n",
       "      <td>pubchem.compound:16038120</td>\n",
       "      <td>0.707107</td>\n",
       "    </tr>\n",
       "    <tr>\n",
       "      <th>3</th>\n",
       "      <td>mondo:0019154</td>\n",
       "      <td>pubchem.compound:6010</td>\n",
       "      <td>1.000000</td>\n",
       "    </tr>\n",
       "    <tr>\n",
       "      <th>4</th>\n",
       "      <td>mondo:0019154</td>\n",
       "      <td>pubchem.compound:5995</td>\n",
       "      <td>1.000000</td>\n",
       "    </tr>\n",
       "    <tr>\n",
       "      <th>...</th>\n",
       "      <td>...</td>\n",
       "      <td>...</td>\n",
       "      <td>...</td>\n",
       "    </tr>\n",
       "    <tr>\n",
       "      <th>106</th>\n",
       "      <td>mondo:0004989</td>\n",
       "      <td>pubchem.compound:10172943</td>\n",
       "      <td>1.000000</td>\n",
       "    </tr>\n",
       "    <tr>\n",
       "      <th>107</th>\n",
       "      <td>mondo:0004989</td>\n",
       "      <td>pubchem.compound:216345</td>\n",
       "      <td>1.000000</td>\n",
       "    </tr>\n",
       "    <tr>\n",
       "      <th>108</th>\n",
       "      <td>mondo:0004989</td>\n",
       "      <td>pubchem.compound:10022508</td>\n",
       "      <td>1.000000</td>\n",
       "    </tr>\n",
       "    <tr>\n",
       "      <th>109</th>\n",
       "      <td>mondo:0004989</td>\n",
       "      <td>pubchem.compound:4764</td>\n",
       "      <td>1.000000</td>\n",
       "    </tr>\n",
       "    <tr>\n",
       "      <th>110</th>\n",
       "      <td>mondo:0004989</td>\n",
       "      <td>pubchem.compound:4817</td>\n",
       "      <td>1.000000</td>\n",
       "    </tr>\n",
       "  </tbody>\n",
       "</table>\n",
       "<p>111 rows × 3 columns</p>\n",
       "</div>"
      ],
      "text/plain": [
       "            Source                     Target  Cosine Similiarity\n",
       "0    mondo:0005029  pubchem.compound:16722836            0.577350\n",
       "1    mondo:0010150      pubchem.compound:3712            0.188982\n",
       "2    mondo:0005072  pubchem.compound:16038120            0.707107\n",
       "3    mondo:0019154      pubchem.compound:6010            1.000000\n",
       "4    mondo:0019154      pubchem.compound:5995            1.000000\n",
       "..             ...                        ...                 ...\n",
       "106  mondo:0004989  pubchem.compound:10172943            1.000000\n",
       "107  mondo:0004989    pubchem.compound:216345            1.000000\n",
       "108  mondo:0004989  pubchem.compound:10022508            1.000000\n",
       "109  mondo:0004989      pubchem.compound:4764            1.000000\n",
       "110  mondo:0004989      pubchem.compound:4817            1.000000\n",
       "\n",
       "[111 rows x 3 columns]"
      ]
     },
     "execution_count": 561,
     "metadata": {},
     "output_type": "execute_result"
    }
   ],
   "source": [
    "df_openbio"
   ]
  },
  {
   "cell_type": "code",
   "execution_count": 562,
   "id": "a875f884",
   "metadata": {},
   "outputs": [
    {
     "name": "stdout",
     "output_type": "stream",
     "text": [
      "5/86\n"
     ]
    },
    {
     "data": {
      "text/plain": [
       "5.81"
      ]
     },
     "execution_count": 562,
     "metadata": {},
     "output_type": "execute_result"
    }
   ],
   "source": [
    "# Accuracy for openbiolink KG\n",
    "cs_acc1 = get_accuracy(gold_standard_dict, disease_drug_dict)\n",
    "score_actual['Cosine Similiarity'] = [cs_acc1]\n",
    "cs_acc1"
   ]
  },
  {
   "cell_type": "code",
   "execution_count": 563,
   "id": "21de5c34",
   "metadata": {},
   "outputs": [
    {
     "name": "stderr",
     "output_type": "stream",
     "text": [
      "Main iterator: 100%|██████████| 59/59 [00:00<00:00, 140.75it/s]\n"
     ]
    }
   ],
   "source": [
    "disease_drug_dict, df_custom = get_dict_df(disease_custom, drug_custom, graph_custom.to_undirected(), similarity_type = 'cos')"
   ]
  },
  {
   "cell_type": "code",
   "execution_count": 564,
   "id": "b252bc39",
   "metadata": {},
   "outputs": [
    {
     "name": "stdout",
     "output_type": "stream",
     "text": [
      "8/146\n"
     ]
    },
    {
     "data": {
      "text/plain": [
       "5.48"
      ]
     },
     "execution_count": 564,
     "metadata": {},
     "output_type": "execute_result"
    }
   ],
   "source": [
    "# Accuracy for custom KG\n",
    "cs_acc2 = get_accuracy(gold_standard_dict, disease_drug_dict)\n",
    "score_actual['Cosine Similiarity'].append(cs_acc2)\n",
    "cs_acc2"
   ]
  },
  {
   "cell_type": "code",
   "execution_count": 565,
   "id": "1e2fdba5",
   "metadata": {},
   "outputs": [
    {
     "data": {
      "text/html": [
       "<div>\n",
       "<style scoped>\n",
       "    .dataframe tbody tr th:only-of-type {\n",
       "        vertical-align: middle;\n",
       "    }\n",
       "\n",
       "    .dataframe tbody tr th {\n",
       "        vertical-align: top;\n",
       "    }\n",
       "\n",
       "    .dataframe thead th {\n",
       "        text-align: right;\n",
       "    }\n",
       "</style>\n",
       "<table border=\"1\" class=\"dataframe\">\n",
       "  <thead>\n",
       "    <tr style=\"text-align: right;\">\n",
       "      <th></th>\n",
       "      <th>Source</th>\n",
       "      <th>Target</th>\n",
       "      <th>Cosine Similiarity</th>\n",
       "    </tr>\n",
       "  </thead>\n",
       "  <tbody>\n",
       "    <tr>\n",
       "      <th>0</th>\n",
       "      <td>mondo:0019154</td>\n",
       "      <td>pubchem.compound:2375</td>\n",
       "      <td>1.000000</td>\n",
       "    </tr>\n",
       "    <tr>\n",
       "      <th>1</th>\n",
       "      <td>mondo:0019154</td>\n",
       "      <td>pubchem.compound:3314</td>\n",
       "      <td>1.000000</td>\n",
       "    </tr>\n",
       "    <tr>\n",
       "      <th>2</th>\n",
       "      <td>mondo:0019154</td>\n",
       "      <td>pubchem.compound:6010</td>\n",
       "      <td>1.000000</td>\n",
       "    </tr>\n",
       "    <tr>\n",
       "      <th>3</th>\n",
       "      <td>mondo:0019154</td>\n",
       "      <td>pubchem.compound:15951529</td>\n",
       "      <td>1.000000</td>\n",
       "    </tr>\n",
       "    <tr>\n",
       "      <th>4</th>\n",
       "      <td>mondo:0007256</td>\n",
       "      <td>pubchem.compound:11626560</td>\n",
       "      <td>0.250000</td>\n",
       "    </tr>\n",
       "    <tr>\n",
       "      <th>...</th>\n",
       "      <td>...</td>\n",
       "      <td>...</td>\n",
       "      <td>...</td>\n",
       "    </tr>\n",
       "    <tr>\n",
       "      <th>56</th>\n",
       "      <td>mondo:0004979</td>\n",
       "      <td>pubchem.compound:44093</td>\n",
       "      <td>0.158114</td>\n",
       "    </tr>\n",
       "    <tr>\n",
       "      <th>57</th>\n",
       "      <td>mondo:0004979</td>\n",
       "      <td>pubchem.compound:5743</td>\n",
       "      <td>0.158114</td>\n",
       "    </tr>\n",
       "    <tr>\n",
       "      <th>58</th>\n",
       "      <td>mondo:0018874</td>\n",
       "      <td>pubchem.compound:16722836</td>\n",
       "      <td>0.280056</td>\n",
       "    </tr>\n",
       "    <tr>\n",
       "      <th>59</th>\n",
       "      <td>mondo:0004989</td>\n",
       "      <td>pubchem.compound:667476</td>\n",
       "      <td>0.204124</td>\n",
       "    </tr>\n",
       "    <tr>\n",
       "      <th>60</th>\n",
       "      <td>mondo:0004989</td>\n",
       "      <td>pubchem.compound:444008</td>\n",
       "      <td>0.204124</td>\n",
       "    </tr>\n",
       "  </tbody>\n",
       "</table>\n",
       "<p>61 rows × 3 columns</p>\n",
       "</div>"
      ],
      "text/plain": [
       "           Source                     Target  Cosine Similiarity\n",
       "0   mondo:0019154      pubchem.compound:2375            1.000000\n",
       "1   mondo:0019154      pubchem.compound:3314            1.000000\n",
       "2   mondo:0019154      pubchem.compound:6010            1.000000\n",
       "3   mondo:0019154  pubchem.compound:15951529            1.000000\n",
       "4   mondo:0007256  pubchem.compound:11626560            0.250000\n",
       "..            ...                        ...                 ...\n",
       "56  mondo:0004979     pubchem.compound:44093            0.158114\n",
       "57  mondo:0004979      pubchem.compound:5743            0.158114\n",
       "58  mondo:0018874  pubchem.compound:16722836            0.280056\n",
       "59  mondo:0004989    pubchem.compound:667476            0.204124\n",
       "60  mondo:0004989    pubchem.compound:444008            0.204124\n",
       "\n",
       "[61 rows x 3 columns]"
      ]
     },
     "execution_count": 565,
     "metadata": {},
     "output_type": "execute_result"
    }
   ],
   "source": [
    "df_custom"
   ]
  },
  {
   "cell_type": "markdown",
   "id": "5a1a68c0",
   "metadata": {},
   "source": [
    "# Jaccard Index"
   ]
  },
  {
   "cell_type": "code",
   "execution_count": 566,
   "id": "9fd29a23",
   "metadata": {},
   "outputs": [
    {
     "name": "stderr",
     "output_type": "stream",
     "text": [
      "Main iterator: 100%|██████████| 72/72 [00:01<00:00, 37.19it/s]\n"
     ]
    }
   ],
   "source": [
    "disease_drug_dict, df_openbio = get_dict_df(disease_openbio, drug_openbio, graph_openbio.to_undirected(), similarity_type = 'ji')"
   ]
  },
  {
   "cell_type": "code",
   "execution_count": 567,
   "id": "0282421d",
   "metadata": {},
   "outputs": [
    {
     "data": {
      "text/html": [
       "<div>\n",
       "<style scoped>\n",
       "    .dataframe tbody tr th:only-of-type {\n",
       "        vertical-align: middle;\n",
       "    }\n",
       "\n",
       "    .dataframe tbody tr th {\n",
       "        vertical-align: top;\n",
       "    }\n",
       "\n",
       "    .dataframe thead th {\n",
       "        text-align: right;\n",
       "    }\n",
       "</style>\n",
       "<table border=\"1\" class=\"dataframe\">\n",
       "  <thead>\n",
       "    <tr style=\"text-align: right;\">\n",
       "      <th></th>\n",
       "      <th>Source</th>\n",
       "      <th>Target</th>\n",
       "      <th>Jaccard index</th>\n",
       "    </tr>\n",
       "  </thead>\n",
       "  <tbody>\n",
       "    <tr>\n",
       "      <th>72</th>\n",
       "      <td>mondo:0005190</td>\n",
       "      <td>pubchem.compound:445154</td>\n",
       "      <td>0.006757</td>\n",
       "    </tr>\n",
       "    <tr>\n",
       "      <th>9</th>\n",
       "      <td>mondo:0007926</td>\n",
       "      <td>pubchem.compound:445154</td>\n",
       "      <td>0.006757</td>\n",
       "    </tr>\n",
       "    <tr>\n",
       "      <th>88</th>\n",
       "      <td>mondo:0010726</td>\n",
       "      <td>pubchem.compound:446220</td>\n",
       "      <td>0.018182</td>\n",
       "    </tr>\n",
       "    <tr>\n",
       "      <th>38</th>\n",
       "      <td>mondo:0004985</td>\n",
       "      <td>pubchem.compound:3386</td>\n",
       "      <td>0.028571</td>\n",
       "    </tr>\n",
       "    <tr>\n",
       "      <th>58</th>\n",
       "      <td>mondo:0007739</td>\n",
       "      <td>pubchem.compound:5711</td>\n",
       "      <td>0.055556</td>\n",
       "    </tr>\n",
       "    <tr>\n",
       "      <th>...</th>\n",
       "      <td>...</td>\n",
       "      <td>...</td>\n",
       "      <td>...</td>\n",
       "    </tr>\n",
       "    <tr>\n",
       "      <th>41</th>\n",
       "      <td>mondo:0009831</td>\n",
       "      <td>pubchem.compound:10172943</td>\n",
       "      <td>1.000000</td>\n",
       "    </tr>\n",
       "    <tr>\n",
       "      <th>40</th>\n",
       "      <td>mondo:0009831</td>\n",
       "      <td>pubchem.compound:302576</td>\n",
       "      <td>1.000000</td>\n",
       "    </tr>\n",
       "    <tr>\n",
       "      <th>48</th>\n",
       "      <td>mondo:0018305</td>\n",
       "      <td>pubchem.compound:3194</td>\n",
       "      <td>1.000000</td>\n",
       "    </tr>\n",
       "    <tr>\n",
       "      <th>64</th>\n",
       "      <td>mondo:0005192</td>\n",
       "      <td>pubchem.compound:10022508</td>\n",
       "      <td>1.000000</td>\n",
       "    </tr>\n",
       "    <tr>\n",
       "      <th>110</th>\n",
       "      <td>mondo:0004989</td>\n",
       "      <td>pubchem.compound:4817</td>\n",
       "      <td>1.000000</td>\n",
       "    </tr>\n",
       "  </tbody>\n",
       "</table>\n",
       "<p>111 rows × 3 columns</p>\n",
       "</div>"
      ],
      "text/plain": [
       "            Source                     Target  Jaccard index\n",
       "72   mondo:0005190    pubchem.compound:445154       0.006757\n",
       "9    mondo:0007926    pubchem.compound:445154       0.006757\n",
       "88   mondo:0010726    pubchem.compound:446220       0.018182\n",
       "38   mondo:0004985      pubchem.compound:3386       0.028571\n",
       "58   mondo:0007739      pubchem.compound:5711       0.055556\n",
       "..             ...                        ...            ...\n",
       "41   mondo:0009831  pubchem.compound:10172943       1.000000\n",
       "40   mondo:0009831    pubchem.compound:302576       1.000000\n",
       "48   mondo:0018305      pubchem.compound:3194       1.000000\n",
       "64   mondo:0005192  pubchem.compound:10022508       1.000000\n",
       "110  mondo:0004989      pubchem.compound:4817       1.000000\n",
       "\n",
       "[111 rows x 3 columns]"
      ]
     },
     "execution_count": 567,
     "metadata": {},
     "output_type": "execute_result"
    }
   ],
   "source": [
    "df_openbio.sort_values(by=sim_scores['ji'])"
   ]
  },
  {
   "cell_type": "code",
   "execution_count": 568,
   "id": "e85eb938",
   "metadata": {},
   "outputs": [
    {
     "name": "stdout",
     "output_type": "stream",
     "text": [
      "5/86\n"
     ]
    },
    {
     "data": {
      "text/plain": [
       "5.81"
      ]
     },
     "execution_count": 568,
     "metadata": {},
     "output_type": "execute_result"
    }
   ],
   "source": [
    "# Accuracy for openbiolink KG\n",
    "ji_acc1 = get_accuracy(gold_standard_dict, disease_drug_dict)\n",
    "score_actual['Jaccard Index'] = [ji_acc1]\n",
    "ji_acc1"
   ]
  },
  {
   "cell_type": "code",
   "execution_count": 569,
   "id": "7cd7b31d",
   "metadata": {},
   "outputs": [
    {
     "name": "stderr",
     "output_type": "stream",
     "text": [
      "Main iterator: 100%|██████████| 59/59 [00:00<00:00, 105.03it/s]\n"
     ]
    }
   ],
   "source": [
    "disease_drug_dict, df_custom = get_dict_df(disease_custom, drug_custom, graph_custom.to_undirected(), similarity_type = 'ji')"
   ]
  },
  {
   "cell_type": "code",
   "execution_count": 570,
   "id": "173793e7",
   "metadata": {},
   "outputs": [
    {
     "data": {
      "text/html": [
       "<div>\n",
       "<style scoped>\n",
       "    .dataframe tbody tr th:only-of-type {\n",
       "        vertical-align: middle;\n",
       "    }\n",
       "\n",
       "    .dataframe tbody tr th {\n",
       "        vertical-align: top;\n",
       "    }\n",
       "\n",
       "    .dataframe thead th {\n",
       "        text-align: right;\n",
       "    }\n",
       "</style>\n",
       "<table border=\"1\" class=\"dataframe\">\n",
       "  <thead>\n",
       "    <tr style=\"text-align: right;\">\n",
       "      <th></th>\n",
       "      <th>Source</th>\n",
       "      <th>Target</th>\n",
       "      <th>Jaccard index</th>\n",
       "    </tr>\n",
       "  </thead>\n",
       "  <tbody>\n",
       "    <tr>\n",
       "      <th>0</th>\n",
       "      <td>mondo:0019154</td>\n",
       "      <td>pubchem.compound:2375</td>\n",
       "      <td>1.000000</td>\n",
       "    </tr>\n",
       "    <tr>\n",
       "      <th>1</th>\n",
       "      <td>mondo:0019154</td>\n",
       "      <td>pubchem.compound:3314</td>\n",
       "      <td>1.000000</td>\n",
       "    </tr>\n",
       "    <tr>\n",
       "      <th>2</th>\n",
       "      <td>mondo:0019154</td>\n",
       "      <td>pubchem.compound:6010</td>\n",
       "      <td>1.000000</td>\n",
       "    </tr>\n",
       "    <tr>\n",
       "      <th>3</th>\n",
       "      <td>mondo:0019154</td>\n",
       "      <td>pubchem.compound:15951529</td>\n",
       "      <td>1.000000</td>\n",
       "    </tr>\n",
       "    <tr>\n",
       "      <th>4</th>\n",
       "      <td>mondo:0007256</td>\n",
       "      <td>pubchem.compound:11626560</td>\n",
       "      <td>0.111111</td>\n",
       "    </tr>\n",
       "  </tbody>\n",
       "</table>\n",
       "</div>"
      ],
      "text/plain": [
       "          Source                     Target  Jaccard index\n",
       "0  mondo:0019154      pubchem.compound:2375       1.000000\n",
       "1  mondo:0019154      pubchem.compound:3314       1.000000\n",
       "2  mondo:0019154      pubchem.compound:6010       1.000000\n",
       "3  mondo:0019154  pubchem.compound:15951529       1.000000\n",
       "4  mondo:0007256  pubchem.compound:11626560       0.111111"
      ]
     },
     "execution_count": 570,
     "metadata": {},
     "output_type": "execute_result"
    }
   ],
   "source": [
    "df_custom.head()"
   ]
  },
  {
   "cell_type": "code",
   "execution_count": 571,
   "id": "051261d6",
   "metadata": {},
   "outputs": [
    {
     "data": {
      "text/plain": [
       "(46, 3)"
      ]
     },
     "execution_count": 571,
     "metadata": {},
     "output_type": "execute_result"
    }
   ],
   "source": [
    "df_custom.shape"
   ]
  },
  {
   "cell_type": "code",
   "execution_count": 572,
   "id": "8c0c9130",
   "metadata": {},
   "outputs": [
    {
     "name": "stdout",
     "output_type": "stream",
     "text": [
      "6/131\n"
     ]
    },
    {
     "data": {
      "text/plain": [
       "4.58"
      ]
     },
     "execution_count": 572,
     "metadata": {},
     "output_type": "execute_result"
    }
   ],
   "source": [
    "# Accuracy for custom KG\n",
    "ji_acc2 = get_accuracy(gold_standard_dict, disease_drug_dict)\n",
    "score_actual['Jaccard Index'].append(ji_acc2)\n",
    "ji_acc2"
   ]
  },
  {
   "cell_type": "markdown",
   "id": "c1dd0c4c",
   "metadata": {},
   "source": [
    "# Sorensen Index "
   ]
  },
  {
   "cell_type": "code",
   "execution_count": 573,
   "id": "995542b5",
   "metadata": {},
   "outputs": [
    {
     "name": "stderr",
     "output_type": "stream",
     "text": [
      "Main iterator: 100%|██████████| 72/72 [00:01<00:00, 41.28it/s]\n"
     ]
    }
   ],
   "source": [
    "disease_drug_dict, df_openbio = get_dict_df(disease_openbio, drug_openbio, graph_openbio.to_undirected(), similarity_type = 'si')"
   ]
  },
  {
   "cell_type": "code",
   "execution_count": 574,
   "id": "6d75ef6d",
   "metadata": {},
   "outputs": [
    {
     "data": {
      "text/html": [
       "<div>\n",
       "<style scoped>\n",
       "    .dataframe tbody tr th:only-of-type {\n",
       "        vertical-align: middle;\n",
       "    }\n",
       "\n",
       "    .dataframe tbody tr th {\n",
       "        vertical-align: top;\n",
       "    }\n",
       "\n",
       "    .dataframe thead th {\n",
       "        text-align: right;\n",
       "    }\n",
       "</style>\n",
       "<table border=\"1\" class=\"dataframe\">\n",
       "  <thead>\n",
       "    <tr style=\"text-align: right;\">\n",
       "      <th></th>\n",
       "      <th>Source</th>\n",
       "      <th>Target</th>\n",
       "      <th>Sorensen index</th>\n",
       "    </tr>\n",
       "  </thead>\n",
       "  <tbody>\n",
       "    <tr>\n",
       "      <th>0</th>\n",
       "      <td>mondo:0005029</td>\n",
       "      <td>pubchem.compound:16722836</td>\n",
       "      <td>0.500000</td>\n",
       "    </tr>\n",
       "    <tr>\n",
       "      <th>1</th>\n",
       "      <td>mondo:0010150</td>\n",
       "      <td>pubchem.compound:3712</td>\n",
       "      <td>0.125000</td>\n",
       "    </tr>\n",
       "    <tr>\n",
       "      <th>2</th>\n",
       "      <td>mondo:0005072</td>\n",
       "      <td>pubchem.compound:16038120</td>\n",
       "      <td>0.666667</td>\n",
       "    </tr>\n",
       "    <tr>\n",
       "      <th>3</th>\n",
       "      <td>mondo:0019154</td>\n",
       "      <td>pubchem.compound:6010</td>\n",
       "      <td>1.000000</td>\n",
       "    </tr>\n",
       "    <tr>\n",
       "      <th>4</th>\n",
       "      <td>mondo:0019154</td>\n",
       "      <td>pubchem.compound:5995</td>\n",
       "      <td>1.000000</td>\n",
       "    </tr>\n",
       "    <tr>\n",
       "      <th>...</th>\n",
       "      <td>...</td>\n",
       "      <td>...</td>\n",
       "      <td>...</td>\n",
       "    </tr>\n",
       "    <tr>\n",
       "      <th>106</th>\n",
       "      <td>mondo:0004989</td>\n",
       "      <td>pubchem.compound:10172943</td>\n",
       "      <td>1.000000</td>\n",
       "    </tr>\n",
       "    <tr>\n",
       "      <th>107</th>\n",
       "      <td>mondo:0004989</td>\n",
       "      <td>pubchem.compound:216345</td>\n",
       "      <td>1.000000</td>\n",
       "    </tr>\n",
       "    <tr>\n",
       "      <th>108</th>\n",
       "      <td>mondo:0004989</td>\n",
       "      <td>pubchem.compound:10022508</td>\n",
       "      <td>1.000000</td>\n",
       "    </tr>\n",
       "    <tr>\n",
       "      <th>109</th>\n",
       "      <td>mondo:0004989</td>\n",
       "      <td>pubchem.compound:4764</td>\n",
       "      <td>1.000000</td>\n",
       "    </tr>\n",
       "    <tr>\n",
       "      <th>110</th>\n",
       "      <td>mondo:0004989</td>\n",
       "      <td>pubchem.compound:4817</td>\n",
       "      <td>1.000000</td>\n",
       "    </tr>\n",
       "  </tbody>\n",
       "</table>\n",
       "<p>111 rows × 3 columns</p>\n",
       "</div>"
      ],
      "text/plain": [
       "            Source                     Target  Sorensen index\n",
       "0    mondo:0005029  pubchem.compound:16722836        0.500000\n",
       "1    mondo:0010150      pubchem.compound:3712        0.125000\n",
       "2    mondo:0005072  pubchem.compound:16038120        0.666667\n",
       "3    mondo:0019154      pubchem.compound:6010        1.000000\n",
       "4    mondo:0019154      pubchem.compound:5995        1.000000\n",
       "..             ...                        ...             ...\n",
       "106  mondo:0004989  pubchem.compound:10172943        1.000000\n",
       "107  mondo:0004989    pubchem.compound:216345        1.000000\n",
       "108  mondo:0004989  pubchem.compound:10022508        1.000000\n",
       "109  mondo:0004989      pubchem.compound:4764        1.000000\n",
       "110  mondo:0004989      pubchem.compound:4817        1.000000\n",
       "\n",
       "[111 rows x 3 columns]"
      ]
     },
     "execution_count": 574,
     "metadata": {},
     "output_type": "execute_result"
    }
   ],
   "source": [
    "df_openbio"
   ]
  },
  {
   "cell_type": "code",
   "execution_count": 575,
   "id": "50742c4e",
   "metadata": {},
   "outputs": [
    {
     "name": "stdout",
     "output_type": "stream",
     "text": [
      "5/86\n"
     ]
    },
    {
     "data": {
      "text/plain": [
       "5.81"
      ]
     },
     "execution_count": 575,
     "metadata": {},
     "output_type": "execute_result"
    }
   ],
   "source": [
    "# Accuracy for openbiolink KG\n",
    "si_acc1 = get_accuracy(gold_standard_dict, disease_drug_dict)\n",
    "score_actual['Sorensen Index'] = [si_acc1]\n",
    "si_acc1"
   ]
  },
  {
   "cell_type": "code",
   "execution_count": 576,
   "id": "95cd664c",
   "metadata": {},
   "outputs": [
    {
     "name": "stderr",
     "output_type": "stream",
     "text": [
      "Main iterator: 100%|██████████| 59/59 [00:00<00:00, 93.70it/s] \n"
     ]
    }
   ],
   "source": [
    "disease_drug_dict, df_custom = get_dict_df(disease_custom, drug_custom, graph_custom.to_undirected(), similarity_type = 'ji')"
   ]
  },
  {
   "cell_type": "code",
   "execution_count": 577,
   "id": "5ee65e89",
   "metadata": {},
   "outputs": [
    {
     "data": {
      "text/html": [
       "<div>\n",
       "<style scoped>\n",
       "    .dataframe tbody tr th:only-of-type {\n",
       "        vertical-align: middle;\n",
       "    }\n",
       "\n",
       "    .dataframe tbody tr th {\n",
       "        vertical-align: top;\n",
       "    }\n",
       "\n",
       "    .dataframe thead th {\n",
       "        text-align: right;\n",
       "    }\n",
       "</style>\n",
       "<table border=\"1\" class=\"dataframe\">\n",
       "  <thead>\n",
       "    <tr style=\"text-align: right;\">\n",
       "      <th></th>\n",
       "      <th>Source</th>\n",
       "      <th>Target</th>\n",
       "      <th>Jaccard index</th>\n",
       "    </tr>\n",
       "  </thead>\n",
       "  <tbody>\n",
       "    <tr>\n",
       "      <th>0</th>\n",
       "      <td>mondo:0019154</td>\n",
       "      <td>pubchem.compound:2375</td>\n",
       "      <td>1.000000</td>\n",
       "    </tr>\n",
       "    <tr>\n",
       "      <th>1</th>\n",
       "      <td>mondo:0019154</td>\n",
       "      <td>pubchem.compound:3314</td>\n",
       "      <td>1.000000</td>\n",
       "    </tr>\n",
       "    <tr>\n",
       "      <th>2</th>\n",
       "      <td>mondo:0019154</td>\n",
       "      <td>pubchem.compound:6010</td>\n",
       "      <td>1.000000</td>\n",
       "    </tr>\n",
       "    <tr>\n",
       "      <th>3</th>\n",
       "      <td>mondo:0019154</td>\n",
       "      <td>pubchem.compound:15951529</td>\n",
       "      <td>1.000000</td>\n",
       "    </tr>\n",
       "    <tr>\n",
       "      <th>4</th>\n",
       "      <td>mondo:0007256</td>\n",
       "      <td>pubchem.compound:11626560</td>\n",
       "      <td>0.111111</td>\n",
       "    </tr>\n",
       "  </tbody>\n",
       "</table>\n",
       "</div>"
      ],
      "text/plain": [
       "          Source                     Target  Jaccard index\n",
       "0  mondo:0019154      pubchem.compound:2375       1.000000\n",
       "1  mondo:0019154      pubchem.compound:3314       1.000000\n",
       "2  mondo:0019154      pubchem.compound:6010       1.000000\n",
       "3  mondo:0019154  pubchem.compound:15951529       1.000000\n",
       "4  mondo:0007256  pubchem.compound:11626560       0.111111"
      ]
     },
     "execution_count": 577,
     "metadata": {},
     "output_type": "execute_result"
    }
   ],
   "source": [
    "df_custom.head()"
   ]
  },
  {
   "cell_type": "code",
   "execution_count": 578,
   "id": "25fcee18",
   "metadata": {},
   "outputs": [
    {
     "data": {
      "text/plain": [
       "(46, 3)"
      ]
     },
     "execution_count": 578,
     "metadata": {},
     "output_type": "execute_result"
    }
   ],
   "source": [
    "df_custom.shape"
   ]
  },
  {
   "cell_type": "code",
   "execution_count": 579,
   "id": "e332988c",
   "metadata": {},
   "outputs": [
    {
     "name": "stdout",
     "output_type": "stream",
     "text": [
      "6/131\n"
     ]
    },
    {
     "data": {
      "text/plain": [
       "4.58"
      ]
     },
     "execution_count": 579,
     "metadata": {},
     "output_type": "execute_result"
    }
   ],
   "source": [
    "# Accuracy for custom KG\n",
    "si_acc2 = get_accuracy(gold_standard_dict, disease_drug_dict)\n",
    "score_actual['Sorensen Index'].append(si_acc2)\n",
    "si_acc2"
   ]
  },
  {
   "cell_type": "markdown",
   "id": "2d739453",
   "metadata": {},
   "source": [
    "# Hub Promoted Index"
   ]
  },
  {
   "cell_type": "code",
   "execution_count": 580,
   "id": "72fed92d",
   "metadata": {},
   "outputs": [
    {
     "name": "stderr",
     "output_type": "stream",
     "text": [
      "Main iterator: 100%|██████████| 72/72 [00:03<00:00, 19.85it/s]\n"
     ]
    }
   ],
   "source": [
    "disease_drug_dict, df_openbio = get_dict_df(disease_openbio, drug_openbio, graph_openbio.to_undirected(), similarity_type = 'hpi')"
   ]
  },
  {
   "cell_type": "code",
   "execution_count": 581,
   "id": "2fa69b0a",
   "metadata": {},
   "outputs": [
    {
     "data": {
      "text/html": [
       "<div>\n",
       "<style scoped>\n",
       "    .dataframe tbody tr th:only-of-type {\n",
       "        vertical-align: middle;\n",
       "    }\n",
       "\n",
       "    .dataframe tbody tr th {\n",
       "        vertical-align: top;\n",
       "    }\n",
       "\n",
       "    .dataframe thead th {\n",
       "        text-align: right;\n",
       "    }\n",
       "</style>\n",
       "<table border=\"1\" class=\"dataframe\">\n",
       "  <thead>\n",
       "    <tr style=\"text-align: right;\">\n",
       "      <th></th>\n",
       "      <th>Source</th>\n",
       "      <th>Target</th>\n",
       "      <th>Hub Promoted Index</th>\n",
       "    </tr>\n",
       "  </thead>\n",
       "  <tbody>\n",
       "    <tr>\n",
       "      <th>0</th>\n",
       "      <td>mondo:0005029</td>\n",
       "      <td>pubchem.compound:16722836</td>\n",
       "      <td>1.0</td>\n",
       "    </tr>\n",
       "    <tr>\n",
       "      <th>1</th>\n",
       "      <td>mondo:0010150</td>\n",
       "      <td>pubchem.compound:3712</td>\n",
       "      <td>0.5</td>\n",
       "    </tr>\n",
       "    <tr>\n",
       "      <th>2</th>\n",
       "      <td>mondo:0010150</td>\n",
       "      <td>pubchem.compound:444795</td>\n",
       "      <td>0.5</td>\n",
       "    </tr>\n",
       "    <tr>\n",
       "      <th>3</th>\n",
       "      <td>mondo:0010150</td>\n",
       "      <td>pubchem.compound:5311</td>\n",
       "      <td>0.5</td>\n",
       "    </tr>\n",
       "    <tr>\n",
       "      <th>4</th>\n",
       "      <td>mondo:0010150</td>\n",
       "      <td>pubchem.compound:5757</td>\n",
       "      <td>0.5</td>\n",
       "    </tr>\n",
       "    <tr>\n",
       "      <th>...</th>\n",
       "      <td>...</td>\n",
       "      <td>...</td>\n",
       "      <td>...</td>\n",
       "    </tr>\n",
       "    <tr>\n",
       "      <th>840</th>\n",
       "      <td>mondo:0004989</td>\n",
       "      <td>pubchem.compound:5083</td>\n",
       "      <td>1.0</td>\n",
       "    </tr>\n",
       "    <tr>\n",
       "      <th>841</th>\n",
       "      <td>mondo:0004989</td>\n",
       "      <td>pubchem.compound:36462</td>\n",
       "      <td>1.0</td>\n",
       "    </tr>\n",
       "    <tr>\n",
       "      <th>842</th>\n",
       "      <td>mondo:0004989</td>\n",
       "      <td>pubchem.compound:327653</td>\n",
       "      <td>1.0</td>\n",
       "    </tr>\n",
       "    <tr>\n",
       "      <th>843</th>\n",
       "      <td>mondo:0004989</td>\n",
       "      <td>pubchem.compound:2019</td>\n",
       "      <td>1.0</td>\n",
       "    </tr>\n",
       "    <tr>\n",
       "      <th>844</th>\n",
       "      <td>mondo:0004989</td>\n",
       "      <td>pubchem.compound:145068</td>\n",
       "      <td>1.0</td>\n",
       "    </tr>\n",
       "  </tbody>\n",
       "</table>\n",
       "<p>845 rows × 3 columns</p>\n",
       "</div>"
      ],
      "text/plain": [
       "            Source                     Target  Hub Promoted Index\n",
       "0    mondo:0005029  pubchem.compound:16722836                 1.0\n",
       "1    mondo:0010150      pubchem.compound:3712                 0.5\n",
       "2    mondo:0010150    pubchem.compound:444795                 0.5\n",
       "3    mondo:0010150      pubchem.compound:5311                 0.5\n",
       "4    mondo:0010150      pubchem.compound:5757                 0.5\n",
       "..             ...                        ...                 ...\n",
       "840  mondo:0004989      pubchem.compound:5083                 1.0\n",
       "841  mondo:0004989     pubchem.compound:36462                 1.0\n",
       "842  mondo:0004989    pubchem.compound:327653                 1.0\n",
       "843  mondo:0004989      pubchem.compound:2019                 1.0\n",
       "844  mondo:0004989    pubchem.compound:145068                 1.0\n",
       "\n",
       "[845 rows x 3 columns]"
      ]
     },
     "execution_count": 581,
     "metadata": {},
     "output_type": "execute_result"
    }
   ],
   "source": [
    "df_openbio"
   ]
  },
  {
   "cell_type": "code",
   "execution_count": 582,
   "id": "39b66423",
   "metadata": {},
   "outputs": [
    {
     "name": "stdout",
     "output_type": "stream",
     "text": [
      "31/369\n"
     ]
    }
   ],
   "source": [
    "# Accuracy for openbiolink KG\n",
    "hpi_acc1 = get_accuracy(gold_standard_dict, disease_drug_dict)\n",
    "score_actual['Hub Promoted Index'] = [hpi_acc1]"
   ]
  },
  {
   "cell_type": "code",
   "execution_count": 583,
   "id": "13624d69",
   "metadata": {},
   "outputs": [
    {
     "data": {
      "text/plain": [
       "8.4"
      ]
     },
     "execution_count": 583,
     "metadata": {},
     "output_type": "execute_result"
    }
   ],
   "source": [
    "hpi_acc1"
   ]
  },
  {
   "cell_type": "code",
   "execution_count": 584,
   "id": "a9e2127e",
   "metadata": {},
   "outputs": [
    {
     "name": "stderr",
     "output_type": "stream",
     "text": [
      "Main iterator: 100%|██████████| 59/59 [00:00<00:00, 112.53it/s]\n"
     ]
    }
   ],
   "source": [
    "disease_drug_dict, df_custom = get_dict_df(disease_custom, drug_custom, graph_custom.to_undirected(), similarity_type = 'hpi')"
   ]
  },
  {
   "cell_type": "code",
   "execution_count": 585,
   "id": "9911d4ce",
   "metadata": {},
   "outputs": [
    {
     "data": {
      "text/html": [
       "<div>\n",
       "<style scoped>\n",
       "    .dataframe tbody tr th:only-of-type {\n",
       "        vertical-align: middle;\n",
       "    }\n",
       "\n",
       "    .dataframe tbody tr th {\n",
       "        vertical-align: top;\n",
       "    }\n",
       "\n",
       "    .dataframe thead th {\n",
       "        text-align: right;\n",
       "    }\n",
       "</style>\n",
       "<table border=\"1\" class=\"dataframe\">\n",
       "  <thead>\n",
       "    <tr style=\"text-align: right;\">\n",
       "      <th></th>\n",
       "      <th>Source</th>\n",
       "      <th>Target</th>\n",
       "      <th>Hub Promoted Index</th>\n",
       "    </tr>\n",
       "  </thead>\n",
       "  <tbody>\n",
       "    <tr>\n",
       "      <th>0</th>\n",
       "      <td>mondo:0019154</td>\n",
       "      <td>pubchem.compound:5833</td>\n",
       "      <td>1.000000</td>\n",
       "    </tr>\n",
       "    <tr>\n",
       "      <th>1</th>\n",
       "      <td>mondo:0019154</td>\n",
       "      <td>pubchem.compound:6013</td>\n",
       "      <td>1.000000</td>\n",
       "    </tr>\n",
       "    <tr>\n",
       "      <th>2</th>\n",
       "      <td>mondo:0019154</td>\n",
       "      <td>pubchem.compound:4632</td>\n",
       "      <td>1.000000</td>\n",
       "    </tr>\n",
       "    <tr>\n",
       "      <th>3</th>\n",
       "      <td>mondo:0019154</td>\n",
       "      <td>pubchem.compound:2375</td>\n",
       "      <td>1.000000</td>\n",
       "    </tr>\n",
       "    <tr>\n",
       "      <th>4</th>\n",
       "      <td>mondo:0019154</td>\n",
       "      <td>pubchem.compound:3314</td>\n",
       "      <td>1.000000</td>\n",
       "    </tr>\n",
       "    <tr>\n",
       "      <th>...</th>\n",
       "      <td>...</td>\n",
       "      <td>...</td>\n",
       "      <td>...</td>\n",
       "    </tr>\n",
       "    <tr>\n",
       "      <th>80</th>\n",
       "      <td>mondo:0004979</td>\n",
       "      <td>pubchem.compound:44093</td>\n",
       "      <td>0.250000</td>\n",
       "    </tr>\n",
       "    <tr>\n",
       "      <th>81</th>\n",
       "      <td>mondo:0004979</td>\n",
       "      <td>pubchem.compound:5743</td>\n",
       "      <td>0.250000</td>\n",
       "    </tr>\n",
       "    <tr>\n",
       "      <th>82</th>\n",
       "      <td>mondo:0018874</td>\n",
       "      <td>pubchem.compound:16722836</td>\n",
       "      <td>0.666667</td>\n",
       "    </tr>\n",
       "    <tr>\n",
       "      <th>83</th>\n",
       "      <td>mondo:0004989</td>\n",
       "      <td>pubchem.compound:667476</td>\n",
       "      <td>1.000000</td>\n",
       "    </tr>\n",
       "    <tr>\n",
       "      <th>84</th>\n",
       "      <td>mondo:0004989</td>\n",
       "      <td>pubchem.compound:444008</td>\n",
       "      <td>1.000000</td>\n",
       "    </tr>\n",
       "  </tbody>\n",
       "</table>\n",
       "<p>85 rows × 3 columns</p>\n",
       "</div>"
      ],
      "text/plain": [
       "           Source                     Target  Hub Promoted Index\n",
       "0   mondo:0019154      pubchem.compound:5833            1.000000\n",
       "1   mondo:0019154      pubchem.compound:6013            1.000000\n",
       "2   mondo:0019154      pubchem.compound:4632            1.000000\n",
       "3   mondo:0019154      pubchem.compound:2375            1.000000\n",
       "4   mondo:0019154      pubchem.compound:3314            1.000000\n",
       "..            ...                        ...                 ...\n",
       "80  mondo:0004979     pubchem.compound:44093            0.250000\n",
       "81  mondo:0004979      pubchem.compound:5743            0.250000\n",
       "82  mondo:0018874  pubchem.compound:16722836            0.666667\n",
       "83  mondo:0004989    pubchem.compound:667476            1.000000\n",
       "84  mondo:0004989    pubchem.compound:444008            1.000000\n",
       "\n",
       "[85 rows x 3 columns]"
      ]
     },
     "execution_count": 585,
     "metadata": {},
     "output_type": "execute_result"
    }
   ],
   "source": [
    "df_custom"
   ]
  },
  {
   "cell_type": "code",
   "execution_count": 586,
   "id": "b3472778",
   "metadata": {},
   "outputs": [
    {
     "name": "stdout",
     "output_type": "stream",
     "text": [
      "10/153\n"
     ]
    },
    {
     "data": {
      "text/plain": [
       "6.54"
      ]
     },
     "execution_count": 586,
     "metadata": {},
     "output_type": "execute_result"
    }
   ],
   "source": [
    "# Accuracy for custom KG\n",
    "hpi_acc2 = get_accuracy(gold_standard_dict, disease_drug_dict)\n",
    "score_actual['Hub Promoted Index'].append(hpi_acc2)\n",
    "hpi_acc2"
   ]
  },
  {
   "cell_type": "markdown",
   "id": "17b26d1f",
   "metadata": {},
   "source": [
    "# Hub Depressed Index"
   ]
  },
  {
   "cell_type": "code",
   "execution_count": 587,
   "id": "43845da3",
   "metadata": {},
   "outputs": [
    {
     "name": "stderr",
     "output_type": "stream",
     "text": [
      "Main iterator: 100%|██████████| 72/72 [00:01<00:00, 50.87it/s]\n"
     ]
    }
   ],
   "source": [
    "disease_drug_dict, df_openbio = get_dict_df(disease_openbio, drug_openbio, graph_openbio.to_undirected(), similarity_type = 'hdi')"
   ]
  },
  {
   "cell_type": "code",
   "execution_count": 588,
   "id": "141ba8fb",
   "metadata": {},
   "outputs": [
    {
     "data": {
      "text/html": [
       "<div>\n",
       "<style scoped>\n",
       "    .dataframe tbody tr th:only-of-type {\n",
       "        vertical-align: middle;\n",
       "    }\n",
       "\n",
       "    .dataframe tbody tr th {\n",
       "        vertical-align: top;\n",
       "    }\n",
       "\n",
       "    .dataframe thead th {\n",
       "        text-align: right;\n",
       "    }\n",
       "</style>\n",
       "<table border=\"1\" class=\"dataframe\">\n",
       "  <thead>\n",
       "    <tr style=\"text-align: right;\">\n",
       "      <th></th>\n",
       "      <th>Source</th>\n",
       "      <th>Target</th>\n",
       "      <th>Hub Depressed Index</th>\n",
       "    </tr>\n",
       "  </thead>\n",
       "  <tbody>\n",
       "    <tr>\n",
       "      <th>0</th>\n",
       "      <td>mondo:0005029</td>\n",
       "      <td>pubchem.compound:16722836</td>\n",
       "      <td>0.333333</td>\n",
       "    </tr>\n",
       "    <tr>\n",
       "      <th>1</th>\n",
       "      <td>mondo:0010150</td>\n",
       "      <td>pubchem.compound:3712</td>\n",
       "      <td>0.071429</td>\n",
       "    </tr>\n",
       "    <tr>\n",
       "      <th>2</th>\n",
       "      <td>mondo:0005072</td>\n",
       "      <td>pubchem.compound:16038120</td>\n",
       "      <td>0.500000</td>\n",
       "    </tr>\n",
       "    <tr>\n",
       "      <th>3</th>\n",
       "      <td>mondo:0019154</td>\n",
       "      <td>pubchem.compound:6010</td>\n",
       "      <td>1.000000</td>\n",
       "    </tr>\n",
       "    <tr>\n",
       "      <th>4</th>\n",
       "      <td>mondo:0019154</td>\n",
       "      <td>pubchem.compound:5995</td>\n",
       "      <td>1.000000</td>\n",
       "    </tr>\n",
       "    <tr>\n",
       "      <th>...</th>\n",
       "      <td>...</td>\n",
       "      <td>...</td>\n",
       "      <td>...</td>\n",
       "    </tr>\n",
       "    <tr>\n",
       "      <th>133</th>\n",
       "      <td>mondo:0004989</td>\n",
       "      <td>pubchem.compound:10172943</td>\n",
       "      <td>1.000000</td>\n",
       "    </tr>\n",
       "    <tr>\n",
       "      <th>134</th>\n",
       "      <td>mondo:0004989</td>\n",
       "      <td>pubchem.compound:216345</td>\n",
       "      <td>1.000000</td>\n",
       "    </tr>\n",
       "    <tr>\n",
       "      <th>135</th>\n",
       "      <td>mondo:0004989</td>\n",
       "      <td>pubchem.compound:10022508</td>\n",
       "      <td>1.000000</td>\n",
       "    </tr>\n",
       "    <tr>\n",
       "      <th>136</th>\n",
       "      <td>mondo:0004989</td>\n",
       "      <td>pubchem.compound:4764</td>\n",
       "      <td>1.000000</td>\n",
       "    </tr>\n",
       "    <tr>\n",
       "      <th>137</th>\n",
       "      <td>mondo:0004989</td>\n",
       "      <td>pubchem.compound:4817</td>\n",
       "      <td>1.000000</td>\n",
       "    </tr>\n",
       "  </tbody>\n",
       "</table>\n",
       "<p>138 rows × 3 columns</p>\n",
       "</div>"
      ],
      "text/plain": [
       "            Source                     Target  Hub Depressed Index\n",
       "0    mondo:0005029  pubchem.compound:16722836             0.333333\n",
       "1    mondo:0010150      pubchem.compound:3712             0.071429\n",
       "2    mondo:0005072  pubchem.compound:16038120             0.500000\n",
       "3    mondo:0019154      pubchem.compound:6010             1.000000\n",
       "4    mondo:0019154      pubchem.compound:5995             1.000000\n",
       "..             ...                        ...                  ...\n",
       "133  mondo:0004989  pubchem.compound:10172943             1.000000\n",
       "134  mondo:0004989    pubchem.compound:216345             1.000000\n",
       "135  mondo:0004989  pubchem.compound:10022508             1.000000\n",
       "136  mondo:0004989      pubchem.compound:4764             1.000000\n",
       "137  mondo:0004989      pubchem.compound:4817             1.000000\n",
       "\n",
       "[138 rows x 3 columns]"
      ]
     },
     "execution_count": 588,
     "metadata": {},
     "output_type": "execute_result"
    }
   ],
   "source": [
    "df_openbio"
   ]
  },
  {
   "cell_type": "code",
   "execution_count": 589,
   "id": "18598974",
   "metadata": {},
   "outputs": [
    {
     "name": "stdout",
     "output_type": "stream",
     "text": [
      "6/118\n"
     ]
    },
    {
     "data": {
      "text/plain": [
       "5.08"
      ]
     },
     "execution_count": 589,
     "metadata": {},
     "output_type": "execute_result"
    }
   ],
   "source": [
    "# Accuracy for openbiolink KG\n",
    "hdi_acc1 = get_accuracy(gold_standard_dict, disease_drug_dict)\n",
    "score_actual['Hub Depressed Index'] = [hdi_acc1]\n",
    "hdi_acc1"
   ]
  },
  {
   "cell_type": "code",
   "execution_count": 590,
   "id": "3801ade3",
   "metadata": {},
   "outputs": [
    {
     "name": "stderr",
     "output_type": "stream",
     "text": [
      "Main iterator: 100%|██████████| 59/59 [00:00<00:00, 80.71it/s] \n"
     ]
    }
   ],
   "source": [
    "disease_drug_dict, df_custom = get_dict_df(disease_custom, drug_custom, graph_custom.to_undirected(), similarity_type = 'hdi')"
   ]
  },
  {
   "cell_type": "code",
   "execution_count": 591,
   "id": "d5593330",
   "metadata": {},
   "outputs": [
    {
     "data": {
      "text/html": [
       "<div>\n",
       "<style scoped>\n",
       "    .dataframe tbody tr th:only-of-type {\n",
       "        vertical-align: middle;\n",
       "    }\n",
       "\n",
       "    .dataframe tbody tr th {\n",
       "        vertical-align: top;\n",
       "    }\n",
       "\n",
       "    .dataframe thead th {\n",
       "        text-align: right;\n",
       "    }\n",
       "</style>\n",
       "<table border=\"1\" class=\"dataframe\">\n",
       "  <thead>\n",
       "    <tr style=\"text-align: right;\">\n",
       "      <th></th>\n",
       "      <th>Source</th>\n",
       "      <th>Target</th>\n",
       "      <th>Hub Depressed Index</th>\n",
       "    </tr>\n",
       "  </thead>\n",
       "  <tbody>\n",
       "    <tr>\n",
       "      <th>0</th>\n",
       "      <td>mondo:0019154</td>\n",
       "      <td>pubchem.compound:2375</td>\n",
       "      <td>1.000000</td>\n",
       "    </tr>\n",
       "    <tr>\n",
       "      <th>1</th>\n",
       "      <td>mondo:0019154</td>\n",
       "      <td>pubchem.compound:3314</td>\n",
       "      <td>1.000000</td>\n",
       "    </tr>\n",
       "    <tr>\n",
       "      <th>2</th>\n",
       "      <td>mondo:0019154</td>\n",
       "      <td>pubchem.compound:6010</td>\n",
       "      <td>1.000000</td>\n",
       "    </tr>\n",
       "    <tr>\n",
       "      <th>3</th>\n",
       "      <td>mondo:0019154</td>\n",
       "      <td>pubchem.compound:15951529</td>\n",
       "      <td>1.000000</td>\n",
       "    </tr>\n",
       "    <tr>\n",
       "      <th>4</th>\n",
       "      <td>mondo:0007256</td>\n",
       "      <td>pubchem.compound:11626560</td>\n",
       "      <td>0.125000</td>\n",
       "    </tr>\n",
       "    <tr>\n",
       "      <th>...</th>\n",
       "      <td>...</td>\n",
       "      <td>...</td>\n",
       "      <td>...</td>\n",
       "    </tr>\n",
       "    <tr>\n",
       "      <th>125</th>\n",
       "      <td>mondo:0004989</td>\n",
       "      <td>pubchem.compound:13791</td>\n",
       "      <td>0.041667</td>\n",
       "    </tr>\n",
       "    <tr>\n",
       "      <th>126</th>\n",
       "      <td>mondo:0004989</td>\n",
       "      <td>pubchem.compound:5994</td>\n",
       "      <td>0.041667</td>\n",
       "    </tr>\n",
       "    <tr>\n",
       "      <th>127</th>\n",
       "      <td>mondo:0004989</td>\n",
       "      <td>pubchem.compound:10184653</td>\n",
       "      <td>0.041667</td>\n",
       "    </tr>\n",
       "    <tr>\n",
       "      <th>128</th>\n",
       "      <td>mondo:0004989</td>\n",
       "      <td>pubchem.compound:28417</td>\n",
       "      <td>0.041667</td>\n",
       "    </tr>\n",
       "    <tr>\n",
       "      <th>129</th>\n",
       "      <td>mondo:0004989</td>\n",
       "      <td>pubchem.compound:445154</td>\n",
       "      <td>0.041667</td>\n",
       "    </tr>\n",
       "  </tbody>\n",
       "</table>\n",
       "<p>130 rows × 3 columns</p>\n",
       "</div>"
      ],
      "text/plain": [
       "            Source                     Target  Hub Depressed Index\n",
       "0    mondo:0019154      pubchem.compound:2375             1.000000\n",
       "1    mondo:0019154      pubchem.compound:3314             1.000000\n",
       "2    mondo:0019154      pubchem.compound:6010             1.000000\n",
       "3    mondo:0019154  pubchem.compound:15951529             1.000000\n",
       "4    mondo:0007256  pubchem.compound:11626560             0.125000\n",
       "..             ...                        ...                  ...\n",
       "125  mondo:0004989     pubchem.compound:13791             0.041667\n",
       "126  mondo:0004989      pubchem.compound:5994             0.041667\n",
       "127  mondo:0004989  pubchem.compound:10184653             0.041667\n",
       "128  mondo:0004989     pubchem.compound:28417             0.041667\n",
       "129  mondo:0004989    pubchem.compound:445154             0.041667\n",
       "\n",
       "[130 rows x 3 columns]"
      ]
     },
     "execution_count": 591,
     "metadata": {},
     "output_type": "execute_result"
    }
   ],
   "source": [
    "df_custom"
   ]
  },
  {
   "cell_type": "code",
   "execution_count": 592,
   "id": "67d0d670",
   "metadata": {},
   "outputs": [
    {
     "name": "stdout",
     "output_type": "stream",
     "text": [
      "21/192\n"
     ]
    },
    {
     "data": {
      "text/plain": [
       "10.94"
      ]
     },
     "execution_count": 592,
     "metadata": {},
     "output_type": "execute_result"
    }
   ],
   "source": [
    "# Accuracy for custom KG\n",
    "hdi_acc2 = get_accuracy(gold_standard_dict, disease_drug_dict)\n",
    "score_actual['Hub Depressed Index'].append(hdi_acc2)\n",
    "hdi_acc2"
   ]
  },
  {
   "cell_type": "markdown",
   "id": "2f0cd6ed",
   "metadata": {},
   "source": [
    "# Leicht–Holme–Newman Index"
   ]
  },
  {
   "cell_type": "code",
   "execution_count": 593,
   "id": "359e40b3",
   "metadata": {},
   "outputs": [
    {
     "name": "stderr",
     "output_type": "stream",
     "text": [
      "Main iterator: 100%|██████████| 72/72 [00:01<00:00, 55.01it/s]\n"
     ]
    }
   ],
   "source": [
    "disease_drug_dict, df_openbio = get_dict_df(disease_openbio, drug_openbio, graph_openbio.to_undirected(), similarity_type = 'lhn')"
   ]
  },
  {
   "cell_type": "code",
   "execution_count": 594,
   "id": "c2f88a58",
   "metadata": {},
   "outputs": [
    {
     "data": {
      "text/html": [
       "<div>\n",
       "<style scoped>\n",
       "    .dataframe tbody tr th:only-of-type {\n",
       "        vertical-align: middle;\n",
       "    }\n",
       "\n",
       "    .dataframe tbody tr th {\n",
       "        vertical-align: top;\n",
       "    }\n",
       "\n",
       "    .dataframe thead th {\n",
       "        text-align: right;\n",
       "    }\n",
       "</style>\n",
       "<table border=\"1\" class=\"dataframe\">\n",
       "  <thead>\n",
       "    <tr style=\"text-align: right;\">\n",
       "      <th></th>\n",
       "      <th>Source</th>\n",
       "      <th>Target</th>\n",
       "      <th>Leicht–Holme–Newman Index</th>\n",
       "    </tr>\n",
       "  </thead>\n",
       "  <tbody>\n",
       "    <tr>\n",
       "      <th>0</th>\n",
       "      <td>mondo:0005029</td>\n",
       "      <td>pubchem.compound:16722836</td>\n",
       "      <td>0.333333</td>\n",
       "    </tr>\n",
       "    <tr>\n",
       "      <th>1</th>\n",
       "      <td>mondo:0010150</td>\n",
       "      <td>pubchem.compound:3712</td>\n",
       "      <td>0.035714</td>\n",
       "    </tr>\n",
       "    <tr>\n",
       "      <th>2</th>\n",
       "      <td>mondo:0005072</td>\n",
       "      <td>pubchem.compound:16038120</td>\n",
       "      <td>0.500000</td>\n",
       "    </tr>\n",
       "    <tr>\n",
       "      <th>3</th>\n",
       "      <td>mondo:0019154</td>\n",
       "      <td>pubchem.compound:6010</td>\n",
       "      <td>1.000000</td>\n",
       "    </tr>\n",
       "    <tr>\n",
       "      <th>4</th>\n",
       "      <td>mondo:0019154</td>\n",
       "      <td>pubchem.compound:5995</td>\n",
       "      <td>1.000000</td>\n",
       "    </tr>\n",
       "    <tr>\n",
       "      <th>...</th>\n",
       "      <td>...</td>\n",
       "      <td>...</td>\n",
       "      <td>...</td>\n",
       "    </tr>\n",
       "    <tr>\n",
       "      <th>106</th>\n",
       "      <td>mondo:0004989</td>\n",
       "      <td>pubchem.compound:10172943</td>\n",
       "      <td>1.000000</td>\n",
       "    </tr>\n",
       "    <tr>\n",
       "      <th>107</th>\n",
       "      <td>mondo:0004989</td>\n",
       "      <td>pubchem.compound:216345</td>\n",
       "      <td>1.000000</td>\n",
       "    </tr>\n",
       "    <tr>\n",
       "      <th>108</th>\n",
       "      <td>mondo:0004989</td>\n",
       "      <td>pubchem.compound:10022508</td>\n",
       "      <td>1.000000</td>\n",
       "    </tr>\n",
       "    <tr>\n",
       "      <th>109</th>\n",
       "      <td>mondo:0004989</td>\n",
       "      <td>pubchem.compound:4764</td>\n",
       "      <td>1.000000</td>\n",
       "    </tr>\n",
       "    <tr>\n",
       "      <th>110</th>\n",
       "      <td>mondo:0004989</td>\n",
       "      <td>pubchem.compound:4817</td>\n",
       "      <td>1.000000</td>\n",
       "    </tr>\n",
       "  </tbody>\n",
       "</table>\n",
       "<p>111 rows × 3 columns</p>\n",
       "</div>"
      ],
      "text/plain": [
       "            Source                     Target  Leicht–Holme–Newman Index\n",
       "0    mondo:0005029  pubchem.compound:16722836                   0.333333\n",
       "1    mondo:0010150      pubchem.compound:3712                   0.035714\n",
       "2    mondo:0005072  pubchem.compound:16038120                   0.500000\n",
       "3    mondo:0019154      pubchem.compound:6010                   1.000000\n",
       "4    mondo:0019154      pubchem.compound:5995                   1.000000\n",
       "..             ...                        ...                        ...\n",
       "106  mondo:0004989  pubchem.compound:10172943                   1.000000\n",
       "107  mondo:0004989    pubchem.compound:216345                   1.000000\n",
       "108  mondo:0004989  pubchem.compound:10022508                   1.000000\n",
       "109  mondo:0004989      pubchem.compound:4764                   1.000000\n",
       "110  mondo:0004989      pubchem.compound:4817                   1.000000\n",
       "\n",
       "[111 rows x 3 columns]"
      ]
     },
     "execution_count": 594,
     "metadata": {},
     "output_type": "execute_result"
    }
   ],
   "source": [
    "df_openbio"
   ]
  },
  {
   "cell_type": "code",
   "execution_count": 595,
   "id": "8234f952",
   "metadata": {},
   "outputs": [
    {
     "name": "stdout",
     "output_type": "stream",
     "text": [
      "5/86\n"
     ]
    },
    {
     "data": {
      "text/plain": [
       "5.81"
      ]
     },
     "execution_count": 595,
     "metadata": {},
     "output_type": "execute_result"
    }
   ],
   "source": [
    "# Accuracy for openbiolink KG\n",
    "lhn_acc1 = get_accuracy(gold_standard_dict, disease_drug_dict)\n",
    "score_actual['Leicht–Holme–Newman Index'] = [lhn_acc1]\n",
    "lhn_acc1"
   ]
  },
  {
   "cell_type": "code",
   "execution_count": 596,
   "id": "96896ad3",
   "metadata": {},
   "outputs": [
    {
     "name": "stderr",
     "output_type": "stream",
     "text": [
      "Main iterator: 100%|██████████| 59/59 [00:00<00:00, 121.79it/s]\n"
     ]
    }
   ],
   "source": [
    "disease_drug_dict, df_custom = get_dict_df(disease_custom, drug_custom, graph_custom.to_undirected(), similarity_type = 'lhn')"
   ]
  },
  {
   "cell_type": "code",
   "execution_count": 597,
   "id": "d2453051",
   "metadata": {},
   "outputs": [
    {
     "data": {
      "text/html": [
       "<div>\n",
       "<style scoped>\n",
       "    .dataframe tbody tr th:only-of-type {\n",
       "        vertical-align: middle;\n",
       "    }\n",
       "\n",
       "    .dataframe tbody tr th {\n",
       "        vertical-align: top;\n",
       "    }\n",
       "\n",
       "    .dataframe thead th {\n",
       "        text-align: right;\n",
       "    }\n",
       "</style>\n",
       "<table border=\"1\" class=\"dataframe\">\n",
       "  <thead>\n",
       "    <tr style=\"text-align: right;\">\n",
       "      <th></th>\n",
       "      <th>Source</th>\n",
       "      <th>Target</th>\n",
       "      <th>Leicht–Holme–Newman Index</th>\n",
       "    </tr>\n",
       "  </thead>\n",
       "  <tbody>\n",
       "    <tr>\n",
       "      <th>0</th>\n",
       "      <td>mondo:0019154</td>\n",
       "      <td>pubchem.compound:2375</td>\n",
       "      <td>1.000000</td>\n",
       "    </tr>\n",
       "    <tr>\n",
       "      <th>1</th>\n",
       "      <td>mondo:0019154</td>\n",
       "      <td>pubchem.compound:3314</td>\n",
       "      <td>1.000000</td>\n",
       "    </tr>\n",
       "    <tr>\n",
       "      <th>2</th>\n",
       "      <td>mondo:0019154</td>\n",
       "      <td>pubchem.compound:6010</td>\n",
       "      <td>1.000000</td>\n",
       "    </tr>\n",
       "    <tr>\n",
       "      <th>3</th>\n",
       "      <td>mondo:0019154</td>\n",
       "      <td>pubchem.compound:15951529</td>\n",
       "      <td>1.000000</td>\n",
       "    </tr>\n",
       "    <tr>\n",
       "      <th>4</th>\n",
       "      <td>mondo:0007256</td>\n",
       "      <td>pubchem.compound:11626560</td>\n",
       "      <td>0.062500</td>\n",
       "    </tr>\n",
       "    <tr>\n",
       "      <th>...</th>\n",
       "      <td>...</td>\n",
       "      <td>...</td>\n",
       "      <td>...</td>\n",
       "    </tr>\n",
       "    <tr>\n",
       "      <th>64</th>\n",
       "      <td>mondo:0004979</td>\n",
       "      <td>pubchem.compound:44093</td>\n",
       "      <td>0.025000</td>\n",
       "    </tr>\n",
       "    <tr>\n",
       "      <th>65</th>\n",
       "      <td>mondo:0004979</td>\n",
       "      <td>pubchem.compound:5743</td>\n",
       "      <td>0.025000</td>\n",
       "    </tr>\n",
       "    <tr>\n",
       "      <th>66</th>\n",
       "      <td>mondo:0018874</td>\n",
       "      <td>pubchem.compound:16722836</td>\n",
       "      <td>0.039216</td>\n",
       "    </tr>\n",
       "    <tr>\n",
       "      <th>67</th>\n",
       "      <td>mondo:0004989</td>\n",
       "      <td>pubchem.compound:667476</td>\n",
       "      <td>0.041667</td>\n",
       "    </tr>\n",
       "    <tr>\n",
       "      <th>68</th>\n",
       "      <td>mondo:0004989</td>\n",
       "      <td>pubchem.compound:444008</td>\n",
       "      <td>0.041667</td>\n",
       "    </tr>\n",
       "  </tbody>\n",
       "</table>\n",
       "<p>69 rows × 3 columns</p>\n",
       "</div>"
      ],
      "text/plain": [
       "           Source                     Target  Leicht–Holme–Newman Index\n",
       "0   mondo:0019154      pubchem.compound:2375                   1.000000\n",
       "1   mondo:0019154      pubchem.compound:3314                   1.000000\n",
       "2   mondo:0019154      pubchem.compound:6010                   1.000000\n",
       "3   mondo:0019154  pubchem.compound:15951529                   1.000000\n",
       "4   mondo:0007256  pubchem.compound:11626560                   0.062500\n",
       "..            ...                        ...                        ...\n",
       "64  mondo:0004979     pubchem.compound:44093                   0.025000\n",
       "65  mondo:0004979      pubchem.compound:5743                   0.025000\n",
       "66  mondo:0018874  pubchem.compound:16722836                   0.039216\n",
       "67  mondo:0004989    pubchem.compound:667476                   0.041667\n",
       "68  mondo:0004989    pubchem.compound:444008                   0.041667\n",
       "\n",
       "[69 rows x 3 columns]"
      ]
     },
     "execution_count": 597,
     "metadata": {},
     "output_type": "execute_result"
    }
   ],
   "source": [
    "df_custom"
   ]
  },
  {
   "cell_type": "code",
   "execution_count": 598,
   "id": "b753e80c",
   "metadata": {},
   "outputs": [
    {
     "name": "stdout",
     "output_type": "stream",
     "text": [
      "8/145\n"
     ]
    },
    {
     "data": {
      "text/plain": [
       "5.52"
      ]
     },
     "execution_count": 598,
     "metadata": {},
     "output_type": "execute_result"
    }
   ],
   "source": [
    "# Accuracy for custom KG\n",
    "lhn_acc2 = get_accuracy(gold_standard_dict, disease_drug_dict)\n",
    "score_actual['Leicht–Holme–Newman Index'].append(lhn_acc2)\n",
    "lhn_acc2"
   ]
  },
  {
   "cell_type": "markdown",
   "id": "40aa112a",
   "metadata": {},
   "source": [
    "# Preferential Attachment"
   ]
  },
  {
   "cell_type": "code",
   "execution_count": 599,
   "id": "dd8aabaa",
   "metadata": {},
   "outputs": [
    {
     "name": "stderr",
     "output_type": "stream",
     "text": [
      "Main iterator: 100%|██████████| 72/72 [00:01<00:00, 53.93it/s]\n"
     ]
    }
   ],
   "source": [
    "disease_drug_dict, df_openbio = get_dict_df(disease_openbio, drug_openbio, graph_openbio.to_undirected(), similarity_type = 'pa')"
   ]
  },
  {
   "cell_type": "code",
   "execution_count": 600,
   "id": "e03b44c2",
   "metadata": {},
   "outputs": [
    {
     "data": {
      "text/html": [
       "<div>\n",
       "<style scoped>\n",
       "    .dataframe tbody tr th:only-of-type {\n",
       "        vertical-align: middle;\n",
       "    }\n",
       "\n",
       "    .dataframe tbody tr th {\n",
       "        vertical-align: top;\n",
       "    }\n",
       "\n",
       "    .dataframe thead th {\n",
       "        text-align: right;\n",
       "    }\n",
       "</style>\n",
       "<table border=\"1\" class=\"dataframe\">\n",
       "  <thead>\n",
       "    <tr style=\"text-align: right;\">\n",
       "      <th></th>\n",
       "      <th>Source</th>\n",
       "      <th>Target</th>\n",
       "      <th>Preferential Attachment</th>\n",
       "    </tr>\n",
       "  </thead>\n",
       "  <tbody>\n",
       "    <tr>\n",
       "      <th>0</th>\n",
       "      <td>mondo:0010421</td>\n",
       "      <td>pubchem.compound:448537</td>\n",
       "      <td>246</td>\n",
       "    </tr>\n",
       "    <tr>\n",
       "      <th>1</th>\n",
       "      <td>mondo:0005029</td>\n",
       "      <td>pubchem.compound:448537</td>\n",
       "      <td>738</td>\n",
       "    </tr>\n",
       "    <tr>\n",
       "      <th>2</th>\n",
       "      <td>mondo:0010150</td>\n",
       "      <td>pubchem.compound:448537</td>\n",
       "      <td>492</td>\n",
       "    </tr>\n",
       "    <tr>\n",
       "      <th>3</th>\n",
       "      <td>mondo:0005072</td>\n",
       "      <td>pubchem.compound:448537</td>\n",
       "      <td>492</td>\n",
       "    </tr>\n",
       "    <tr>\n",
       "      <th>4</th>\n",
       "      <td>mondo:0002429</td>\n",
       "      <td>pubchem.compound:448537</td>\n",
       "      <td>246</td>\n",
       "    </tr>\n",
       "    <tr>\n",
       "      <th>...</th>\n",
       "      <td>...</td>\n",
       "      <td>...</td>\n",
       "      <td>...</td>\n",
       "    </tr>\n",
       "    <tr>\n",
       "      <th>67</th>\n",
       "      <td>mondo:0011962</td>\n",
       "      <td>pubchem.compound:448537</td>\n",
       "      <td>492</td>\n",
       "    </tr>\n",
       "    <tr>\n",
       "      <th>68</th>\n",
       "      <td>mondo:0002447</td>\n",
       "      <td>pubchem.compound:448537</td>\n",
       "      <td>492</td>\n",
       "    </tr>\n",
       "    <tr>\n",
       "      <th>69</th>\n",
       "      <td>mondo:0009267</td>\n",
       "      <td>pubchem.compound:448537</td>\n",
       "      <td>246</td>\n",
       "    </tr>\n",
       "    <tr>\n",
       "      <th>70</th>\n",
       "      <td>mondo:0018874</td>\n",
       "      <td>pubchem.compound:448537</td>\n",
       "      <td>984</td>\n",
       "    </tr>\n",
       "    <tr>\n",
       "      <th>71</th>\n",
       "      <td>mondo:0004989</td>\n",
       "      <td>pubchem.compound:448537</td>\n",
       "      <td>246</td>\n",
       "    </tr>\n",
       "  </tbody>\n",
       "</table>\n",
       "<p>72 rows × 3 columns</p>\n",
       "</div>"
      ],
      "text/plain": [
       "           Source                   Target Preferential Attachment\n",
       "0   mondo:0010421  pubchem.compound:448537                     246\n",
       "1   mondo:0005029  pubchem.compound:448537                     738\n",
       "2   mondo:0010150  pubchem.compound:448537                     492\n",
       "3   mondo:0005072  pubchem.compound:448537                     492\n",
       "4   mondo:0002429  pubchem.compound:448537                     246\n",
       "..            ...                      ...                     ...\n",
       "67  mondo:0011962  pubchem.compound:448537                     492\n",
       "68  mondo:0002447  pubchem.compound:448537                     492\n",
       "69  mondo:0009267  pubchem.compound:448537                     246\n",
       "70  mondo:0018874  pubchem.compound:448537                     984\n",
       "71  mondo:0004989  pubchem.compound:448537                     246\n",
       "\n",
       "[72 rows x 3 columns]"
      ]
     },
     "execution_count": 600,
     "metadata": {},
     "output_type": "execute_result"
    }
   ],
   "source": [
    "df_openbio"
   ]
  },
  {
   "cell_type": "code",
   "execution_count": 601,
   "id": "a188c077",
   "metadata": {},
   "outputs": [
    {
     "name": "stdout",
     "output_type": "stream",
     "text": [
      "1/45\n"
     ]
    },
    {
     "data": {
      "text/plain": [
       "2.22"
      ]
     },
     "execution_count": 601,
     "metadata": {},
     "output_type": "execute_result"
    }
   ],
   "source": [
    "# Accuracy for openbiolink KG\n",
    "pa_acc1 = get_accuracy(gold_standard_dict, disease_drug_dict)\n",
    "score_actual['Preferential Attachment'] = [pa_acc1]\n",
    "pa_acc1"
   ]
  },
  {
   "cell_type": "code",
   "execution_count": 602,
   "id": "d3ba85d4",
   "metadata": {},
   "outputs": [
    {
     "name": "stderr",
     "output_type": "stream",
     "text": [
      "Main iterator: 100%|██████████| 59/59 [00:00<00:00, 119.07it/s]\n"
     ]
    }
   ],
   "source": [
    "disease_drug_dict, df_custom = get_dict_df(disease_custom, drug_custom, graph_custom.to_undirected(), similarity_type = 'pa')"
   ]
  },
  {
   "cell_type": "code",
   "execution_count": 603,
   "id": "b9b23dd4",
   "metadata": {},
   "outputs": [
    {
     "data": {
      "text/html": [
       "<div>\n",
       "<style scoped>\n",
       "    .dataframe tbody tr th:only-of-type {\n",
       "        vertical-align: middle;\n",
       "    }\n",
       "\n",
       "    .dataframe tbody tr th {\n",
       "        vertical-align: top;\n",
       "    }\n",
       "\n",
       "    .dataframe thead th {\n",
       "        text-align: right;\n",
       "    }\n",
       "</style>\n",
       "<table border=\"1\" class=\"dataframe\">\n",
       "  <thead>\n",
       "    <tr style=\"text-align: right;\">\n",
       "      <th></th>\n",
       "      <th>Source</th>\n",
       "      <th>Target</th>\n",
       "      <th>Preferential Attachment</th>\n",
       "    </tr>\n",
       "  </thead>\n",
       "  <tbody>\n",
       "    <tr>\n",
       "      <th>0</th>\n",
       "      <td>mondo:0010421</td>\n",
       "      <td>pubchem.compound:2170</td>\n",
       "      <td>26</td>\n",
       "    </tr>\n",
       "    <tr>\n",
       "      <th>1</th>\n",
       "      <td>mondo:0010150</td>\n",
       "      <td>pubchem.compound:2170</td>\n",
       "      <td>26</td>\n",
       "    </tr>\n",
       "    <tr>\n",
       "      <th>2</th>\n",
       "      <td>mondo:0005090</td>\n",
       "      <td>pubchem.compound:2170</td>\n",
       "      <td>26</td>\n",
       "    </tr>\n",
       "    <tr>\n",
       "      <th>3</th>\n",
       "      <td>mondo:0019154</td>\n",
       "      <td>pubchem.compound:2170</td>\n",
       "      <td>26</td>\n",
       "    </tr>\n",
       "    <tr>\n",
       "      <th>4</th>\n",
       "      <td>mondo:0010679</td>\n",
       "      <td>pubchem.compound:2170</td>\n",
       "      <td>26</td>\n",
       "    </tr>\n",
       "  </tbody>\n",
       "</table>\n",
       "</div>"
      ],
      "text/plain": [
       "          Source                 Target Preferential Attachment\n",
       "0  mondo:0010421  pubchem.compound:2170                      26\n",
       "1  mondo:0010150  pubchem.compound:2170                      26\n",
       "2  mondo:0005090  pubchem.compound:2170                      26\n",
       "3  mondo:0019154  pubchem.compound:2170                      26\n",
       "4  mondo:0010679  pubchem.compound:2170                      26"
      ]
     },
     "execution_count": 603,
     "metadata": {},
     "output_type": "execute_result"
    }
   ],
   "source": [
    "df_custom.head()"
   ]
  },
  {
   "cell_type": "code",
   "execution_count": 604,
   "id": "c8bcdcf2",
   "metadata": {},
   "outputs": [
    {
     "data": {
      "text/plain": [
       "(59, 3)"
      ]
     },
     "execution_count": 604,
     "metadata": {},
     "output_type": "execute_result"
    }
   ],
   "source": [
    "df_custom.shape"
   ]
  },
  {
   "cell_type": "code",
   "execution_count": 605,
   "id": "747dfc9a",
   "metadata": {},
   "outputs": [
    {
     "name": "stdout",
     "output_type": "stream",
     "text": [
      "0/44\n"
     ]
    },
    {
     "data": {
      "text/plain": [
       "0.0"
      ]
     },
     "execution_count": 605,
     "metadata": {},
     "output_type": "execute_result"
    }
   ],
   "source": [
    "# Accuracy for custom KG\n",
    "pa_acc2 = get_accuracy(gold_standard_dict, disease_drug_dict)\n",
    "score_actual['Preferential Attachment'].append(pa_acc2)\n",
    "pa_acc2"
   ]
  },
  {
   "cell_type": "markdown",
   "id": "16fa76c3",
   "metadata": {},
   "source": [
    "# Adamic-Adar"
   ]
  },
  {
   "cell_type": "code",
   "execution_count": 606,
   "id": "630bc6fe",
   "metadata": {},
   "outputs": [
    {
     "name": "stderr",
     "output_type": "stream",
     "text": [
      "Main iterator: 100%|██████████| 72/72 [00:04<00:00, 17.78it/s]\n"
     ]
    }
   ],
   "source": [
    "disease_drug_dict, df_openbio = get_dict_df(disease_openbio, drug_openbio, graph_openbio.to_undirected(), similarity_type = 'aa')"
   ]
  },
  {
   "cell_type": "code",
   "execution_count": 607,
   "id": "48c289ed",
   "metadata": {},
   "outputs": [
    {
     "data": {
      "text/html": [
       "<div>\n",
       "<style scoped>\n",
       "    .dataframe tbody tr th:only-of-type {\n",
       "        vertical-align: middle;\n",
       "    }\n",
       "\n",
       "    .dataframe tbody tr th {\n",
       "        vertical-align: top;\n",
       "    }\n",
       "\n",
       "    .dataframe thead th {\n",
       "        text-align: right;\n",
       "    }\n",
       "</style>\n",
       "<table border=\"1\" class=\"dataframe\">\n",
       "  <thead>\n",
       "    <tr style=\"text-align: right;\">\n",
       "      <th></th>\n",
       "      <th>Source</th>\n",
       "      <th>Target</th>\n",
       "      <th>Adamic-Adar</th>\n",
       "    </tr>\n",
       "  </thead>\n",
       "  <tbody>\n",
       "    <tr>\n",
       "      <th>0</th>\n",
       "      <td>mondo:0005029</td>\n",
       "      <td>pubchem.compound:9903786</td>\n",
       "      <td>0.551598</td>\n",
       "    </tr>\n",
       "    <tr>\n",
       "      <th>1</th>\n",
       "      <td>mondo:0005029</td>\n",
       "      <td>pubchem.compound:5757</td>\n",
       "      <td>0.551598</td>\n",
       "    </tr>\n",
       "    <tr>\n",
       "      <th>2</th>\n",
       "      <td>mondo:0005029</td>\n",
       "      <td>pubchem.compound:5957</td>\n",
       "      <td>0.551598</td>\n",
       "    </tr>\n",
       "    <tr>\n",
       "      <th>3</th>\n",
       "      <td>mondo:0005029</td>\n",
       "      <td>pubchem.compound:2162</td>\n",
       "      <td>0.551598</td>\n",
       "    </tr>\n",
       "    <tr>\n",
       "      <th>4</th>\n",
       "      <td>mondo:0005029</td>\n",
       "      <td>pubchem.compound:123631</td>\n",
       "      <td>0.551598</td>\n",
       "    </tr>\n",
       "    <tr>\n",
       "      <th>...</th>\n",
       "      <td>...</td>\n",
       "      <td>...</td>\n",
       "      <td>...</td>\n",
       "    </tr>\n",
       "    <tr>\n",
       "      <th>859</th>\n",
       "      <td>mondo:0004989</td>\n",
       "      <td>pubchem.compound:5083</td>\n",
       "      <td>0.433773</td>\n",
       "    </tr>\n",
       "    <tr>\n",
       "      <th>860</th>\n",
       "      <td>mondo:0004989</td>\n",
       "      <td>pubchem.compound:36462</td>\n",
       "      <td>0.433773</td>\n",
       "    </tr>\n",
       "    <tr>\n",
       "      <th>861</th>\n",
       "      <td>mondo:0004989</td>\n",
       "      <td>pubchem.compound:327653</td>\n",
       "      <td>0.433773</td>\n",
       "    </tr>\n",
       "    <tr>\n",
       "      <th>862</th>\n",
       "      <td>mondo:0004989</td>\n",
       "      <td>pubchem.compound:2019</td>\n",
       "      <td>0.433773</td>\n",
       "    </tr>\n",
       "    <tr>\n",
       "      <th>863</th>\n",
       "      <td>mondo:0004989</td>\n",
       "      <td>pubchem.compound:145068</td>\n",
       "      <td>0.433773</td>\n",
       "    </tr>\n",
       "  </tbody>\n",
       "</table>\n",
       "<p>864 rows × 3 columns</p>\n",
       "</div>"
      ],
      "text/plain": [
       "            Source                    Target  Adamic-Adar\n",
       "0    mondo:0005029  pubchem.compound:9903786     0.551598\n",
       "1    mondo:0005029     pubchem.compound:5757     0.551598\n",
       "2    mondo:0005029     pubchem.compound:5957     0.551598\n",
       "3    mondo:0005029     pubchem.compound:2162     0.551598\n",
       "4    mondo:0005029   pubchem.compound:123631     0.551598\n",
       "..             ...                       ...          ...\n",
       "859  mondo:0004989     pubchem.compound:5083     0.433773\n",
       "860  mondo:0004989    pubchem.compound:36462     0.433773\n",
       "861  mondo:0004989   pubchem.compound:327653     0.433773\n",
       "862  mondo:0004989     pubchem.compound:2019     0.433773\n",
       "863  mondo:0004989   pubchem.compound:145068     0.433773\n",
       "\n",
       "[864 rows x 3 columns]"
      ]
     },
     "execution_count": 607,
     "metadata": {},
     "output_type": "execute_result"
    }
   ],
   "source": [
    "df_openbio"
   ]
  },
  {
   "cell_type": "code",
   "execution_count": 608,
   "id": "ef203da4",
   "metadata": {},
   "outputs": [
    {
     "name": "stdout",
     "output_type": "stream",
     "text": [
      "36/396\n"
     ]
    },
    {
     "data": {
      "text/plain": [
       "9.09"
      ]
     },
     "execution_count": 608,
     "metadata": {},
     "output_type": "execute_result"
    }
   ],
   "source": [
    "# Accuracy for openbiolink KG\n",
    "aa_acc1 = get_accuracy(gold_standard_dict, disease_drug_dict)\n",
    "score_actual['Adamic-Adar'] = [aa_acc1]\n",
    "aa_acc1"
   ]
  },
  {
   "cell_type": "code",
   "execution_count": 609,
   "id": "37977ad2",
   "metadata": {},
   "outputs": [
    {
     "name": "stderr",
     "output_type": "stream",
     "text": [
      "Main iterator: 100%|██████████| 59/59 [00:00<00:00, 106.62it/s]\n"
     ]
    }
   ],
   "source": [
    "disease_drug_dict, df_custom = get_dict_df(disease_custom, drug_custom, graph_custom.to_undirected(), similarity_type = 'aa')"
   ]
  },
  {
   "cell_type": "code",
   "execution_count": 610,
   "id": "fa2627e8",
   "metadata": {},
   "outputs": [
    {
     "data": {
      "text/html": [
       "<div>\n",
       "<style scoped>\n",
       "    .dataframe tbody tr th:only-of-type {\n",
       "        vertical-align: middle;\n",
       "    }\n",
       "\n",
       "    .dataframe tbody tr th {\n",
       "        vertical-align: top;\n",
       "    }\n",
       "\n",
       "    .dataframe thead th {\n",
       "        text-align: right;\n",
       "    }\n",
       "</style>\n",
       "<table border=\"1\" class=\"dataframe\">\n",
       "  <thead>\n",
       "    <tr style=\"text-align: right;\">\n",
       "      <th></th>\n",
       "      <th>Source</th>\n",
       "      <th>Target</th>\n",
       "      <th>Adamic-Adar</th>\n",
       "    </tr>\n",
       "  </thead>\n",
       "  <tbody>\n",
       "    <tr>\n",
       "      <th>0</th>\n",
       "      <td>mondo:0019154</td>\n",
       "      <td>pubchem.compound:5833</td>\n",
       "      <td>0.521084</td>\n",
       "    </tr>\n",
       "    <tr>\n",
       "      <th>1</th>\n",
       "      <td>mondo:0019154</td>\n",
       "      <td>pubchem.compound:6013</td>\n",
       "      <td>0.521084</td>\n",
       "    </tr>\n",
       "    <tr>\n",
       "      <th>2</th>\n",
       "      <td>mondo:0019154</td>\n",
       "      <td>pubchem.compound:4632</td>\n",
       "      <td>0.521084</td>\n",
       "    </tr>\n",
       "    <tr>\n",
       "      <th>3</th>\n",
       "      <td>mondo:0019154</td>\n",
       "      <td>pubchem.compound:2375</td>\n",
       "      <td>0.521084</td>\n",
       "    </tr>\n",
       "    <tr>\n",
       "      <th>4</th>\n",
       "      <td>mondo:0019154</td>\n",
       "      <td>pubchem.compound:3314</td>\n",
       "      <td>0.521084</td>\n",
       "    </tr>\n",
       "    <tr>\n",
       "      <th>...</th>\n",
       "      <td>...</td>\n",
       "      <td>...</td>\n",
       "      <td>...</td>\n",
       "    </tr>\n",
       "    <tr>\n",
       "      <th>79</th>\n",
       "      <td>mondo:0018874</td>\n",
       "      <td>pubchem.compound:9829523</td>\n",
       "      <td>1.036894</td>\n",
       "    </tr>\n",
       "    <tr>\n",
       "      <th>80</th>\n",
       "      <td>mondo:0018874</td>\n",
       "      <td>pubchem.compound:216239</td>\n",
       "      <td>1.036894</td>\n",
       "    </tr>\n",
       "    <tr>\n",
       "      <th>81</th>\n",
       "      <td>mondo:0018874</td>\n",
       "      <td>pubchem.compound:24826799</td>\n",
       "      <td>1.036894</td>\n",
       "    </tr>\n",
       "    <tr>\n",
       "      <th>82</th>\n",
       "      <td>mondo:0004989</td>\n",
       "      <td>pubchem.compound:216239</td>\n",
       "      <td>0.526974</td>\n",
       "    </tr>\n",
       "    <tr>\n",
       "      <th>83</th>\n",
       "      <td>mondo:0004989</td>\n",
       "      <td>pubchem.compound:24826799</td>\n",
       "      <td>0.526974</td>\n",
       "    </tr>\n",
       "  </tbody>\n",
       "</table>\n",
       "<p>84 rows × 3 columns</p>\n",
       "</div>"
      ],
      "text/plain": [
       "           Source                     Target  Adamic-Adar\n",
       "0   mondo:0019154      pubchem.compound:5833     0.521084\n",
       "1   mondo:0019154      pubchem.compound:6013     0.521084\n",
       "2   mondo:0019154      pubchem.compound:4632     0.521084\n",
       "3   mondo:0019154      pubchem.compound:2375     0.521084\n",
       "4   mondo:0019154      pubchem.compound:3314     0.521084\n",
       "..            ...                        ...          ...\n",
       "79  mondo:0018874   pubchem.compound:9829523     1.036894\n",
       "80  mondo:0018874    pubchem.compound:216239     1.036894\n",
       "81  mondo:0018874  pubchem.compound:24826799     1.036894\n",
       "82  mondo:0004989    pubchem.compound:216239     0.526974\n",
       "83  mondo:0004989  pubchem.compound:24826799     0.526974\n",
       "\n",
       "[84 rows x 3 columns]"
      ]
     },
     "execution_count": 610,
     "metadata": {},
     "output_type": "execute_result"
    }
   ],
   "source": [
    "df_custom"
   ]
  },
  {
   "cell_type": "code",
   "execution_count": 611,
   "id": "3c182bc3",
   "metadata": {},
   "outputs": [
    {
     "name": "stdout",
     "output_type": "stream",
     "text": [
      "12/163\n"
     ]
    }
   ],
   "source": [
    "# Accuracy for custom KG\n",
    "aa_acc2 = get_accuracy(gold_standard_dict, disease_drug_dict)\n",
    "score_actual['Adamic-Adar'].append(aa_acc2)"
   ]
  },
  {
   "cell_type": "code",
   "execution_count": 612,
   "id": "c7ecfd03",
   "metadata": {},
   "outputs": [
    {
     "data": {
      "text/plain": [
       "7.36"
      ]
     },
     "execution_count": 612,
     "metadata": {},
     "output_type": "execute_result"
    }
   ],
   "source": [
    "aa_acc2"
   ]
  },
  {
   "cell_type": "markdown",
   "id": "b7b469b3",
   "metadata": {},
   "source": [
    "# Resource Allocation Index"
   ]
  },
  {
   "cell_type": "code",
   "execution_count": 613,
   "id": "2623c082",
   "metadata": {},
   "outputs": [
    {
     "name": "stderr",
     "output_type": "stream",
     "text": [
      "Main iterator: 100%|██████████| 72/72 [00:03<00:00, 18.04it/s]\n"
     ]
    }
   ],
   "source": [
    "disease_drug_dict, df_openbio = get_dict_df(disease_openbio, drug_openbio, graph_openbio.to_undirected(), similarity_type = 'ra')"
   ]
  },
  {
   "cell_type": "code",
   "execution_count": 614,
   "id": "3719f203",
   "metadata": {},
   "outputs": [
    {
     "data": {
      "text/html": [
       "<div>\n",
       "<style scoped>\n",
       "    .dataframe tbody tr th:only-of-type {\n",
       "        vertical-align: middle;\n",
       "    }\n",
       "\n",
       "    .dataframe tbody tr th {\n",
       "        vertical-align: top;\n",
       "    }\n",
       "\n",
       "    .dataframe thead th {\n",
       "        text-align: right;\n",
       "    }\n",
       "</style>\n",
       "<table border=\"1\" class=\"dataframe\">\n",
       "  <thead>\n",
       "    <tr style=\"text-align: right;\">\n",
       "      <th></th>\n",
       "      <th>Source</th>\n",
       "      <th>Target</th>\n",
       "      <th>Resource Allocation Index</th>\n",
       "    </tr>\n",
       "  </thead>\n",
       "  <tbody>\n",
       "    <tr>\n",
       "      <th>0</th>\n",
       "      <td>mondo:0005029</td>\n",
       "      <td>pubchem.compound:9903786</td>\n",
       "      <td>0.015385</td>\n",
       "    </tr>\n",
       "    <tr>\n",
       "      <th>1</th>\n",
       "      <td>mondo:0005029</td>\n",
       "      <td>pubchem.compound:5757</td>\n",
       "      <td>0.015385</td>\n",
       "    </tr>\n",
       "    <tr>\n",
       "      <th>2</th>\n",
       "      <td>mondo:0005029</td>\n",
       "      <td>pubchem.compound:5957</td>\n",
       "      <td>0.015385</td>\n",
       "    </tr>\n",
       "    <tr>\n",
       "      <th>3</th>\n",
       "      <td>mondo:0005029</td>\n",
       "      <td>pubchem.compound:2162</td>\n",
       "      <td>0.015385</td>\n",
       "    </tr>\n",
       "    <tr>\n",
       "      <th>4</th>\n",
       "      <td>mondo:0005029</td>\n",
       "      <td>pubchem.compound:123631</td>\n",
       "      <td>0.015385</td>\n",
       "    </tr>\n",
       "    <tr>\n",
       "      <th>...</th>\n",
       "      <td>...</td>\n",
       "      <td>...</td>\n",
       "      <td>...</td>\n",
       "    </tr>\n",
       "    <tr>\n",
       "      <th>860</th>\n",
       "      <td>mondo:0004989</td>\n",
       "      <td>pubchem.compound:5083</td>\n",
       "      <td>0.004950</td>\n",
       "    </tr>\n",
       "    <tr>\n",
       "      <th>861</th>\n",
       "      <td>mondo:0004989</td>\n",
       "      <td>pubchem.compound:36462</td>\n",
       "      <td>0.004950</td>\n",
       "    </tr>\n",
       "    <tr>\n",
       "      <th>862</th>\n",
       "      <td>mondo:0004989</td>\n",
       "      <td>pubchem.compound:327653</td>\n",
       "      <td>0.004950</td>\n",
       "    </tr>\n",
       "    <tr>\n",
       "      <th>863</th>\n",
       "      <td>mondo:0004989</td>\n",
       "      <td>pubchem.compound:2019</td>\n",
       "      <td>0.004950</td>\n",
       "    </tr>\n",
       "    <tr>\n",
       "      <th>864</th>\n",
       "      <td>mondo:0004989</td>\n",
       "      <td>pubchem.compound:145068</td>\n",
       "      <td>0.004950</td>\n",
       "    </tr>\n",
       "  </tbody>\n",
       "</table>\n",
       "<p>865 rows × 3 columns</p>\n",
       "</div>"
      ],
      "text/plain": [
       "            Source                    Target  Resource Allocation Index\n",
       "0    mondo:0005029  pubchem.compound:9903786                   0.015385\n",
       "1    mondo:0005029     pubchem.compound:5757                   0.015385\n",
       "2    mondo:0005029     pubchem.compound:5957                   0.015385\n",
       "3    mondo:0005029     pubchem.compound:2162                   0.015385\n",
       "4    mondo:0005029   pubchem.compound:123631                   0.015385\n",
       "..             ...                       ...                        ...\n",
       "860  mondo:0004989     pubchem.compound:5083                   0.004950\n",
       "861  mondo:0004989    pubchem.compound:36462                   0.004950\n",
       "862  mondo:0004989   pubchem.compound:327653                   0.004950\n",
       "863  mondo:0004989     pubchem.compound:2019                   0.004950\n",
       "864  mondo:0004989   pubchem.compound:145068                   0.004950\n",
       "\n",
       "[865 rows x 3 columns]"
      ]
     },
     "execution_count": 614,
     "metadata": {},
     "output_type": "execute_result"
    }
   ],
   "source": [
    "df_openbio"
   ]
  },
  {
   "cell_type": "code",
   "execution_count": 615,
   "id": "c1aad45c",
   "metadata": {},
   "outputs": [
    {
     "name": "stdout",
     "output_type": "stream",
     "text": [
      "37/397\n"
     ]
    },
    {
     "data": {
      "text/plain": [
       "9.32"
      ]
     },
     "execution_count": 615,
     "metadata": {},
     "output_type": "execute_result"
    }
   ],
   "source": [
    "# Accuracy for openbiolink KG\n",
    "ra_acc1 = get_accuracy(gold_standard_dict, disease_drug_dict)\n",
    "score_actual['Resource Allocation Index'] = [ra_acc1]\n",
    "ra_acc1"
   ]
  },
  {
   "cell_type": "code",
   "execution_count": 616,
   "id": "cb75076b",
   "metadata": {},
   "outputs": [
    {
     "name": "stderr",
     "output_type": "stream",
     "text": [
      "Main iterator: 100%|██████████| 59/59 [00:00<00:00, 104.06it/s]\n"
     ]
    }
   ],
   "source": [
    "disease_drug_dict, df_custom = get_dict_df(disease_custom, drug_custom, graph_custom.to_undirected(), similarity_type = 'ra')"
   ]
  },
  {
   "cell_type": "code",
   "execution_count": 617,
   "id": "f9a4d4f8",
   "metadata": {},
   "outputs": [
    {
     "data": {
      "text/html": [
       "<div>\n",
       "<style scoped>\n",
       "    .dataframe tbody tr th:only-of-type {\n",
       "        vertical-align: middle;\n",
       "    }\n",
       "\n",
       "    .dataframe tbody tr th {\n",
       "        vertical-align: top;\n",
       "    }\n",
       "\n",
       "    .dataframe thead th {\n",
       "        text-align: right;\n",
       "    }\n",
       "</style>\n",
       "<table border=\"1\" class=\"dataframe\">\n",
       "  <thead>\n",
       "    <tr style=\"text-align: right;\">\n",
       "      <th></th>\n",
       "      <th>Source</th>\n",
       "      <th>Target</th>\n",
       "      <th>Resource Allocation Index</th>\n",
       "    </tr>\n",
       "  </thead>\n",
       "  <tbody>\n",
       "    <tr>\n",
       "      <th>0</th>\n",
       "      <td>mondo:0019154</td>\n",
       "      <td>pubchem.compound:5833</td>\n",
       "      <td>0.012048</td>\n",
       "    </tr>\n",
       "    <tr>\n",
       "      <th>1</th>\n",
       "      <td>mondo:0019154</td>\n",
       "      <td>pubchem.compound:6013</td>\n",
       "      <td>0.012048</td>\n",
       "    </tr>\n",
       "    <tr>\n",
       "      <th>2</th>\n",
       "      <td>mondo:0019154</td>\n",
       "      <td>pubchem.compound:4632</td>\n",
       "      <td>0.012048</td>\n",
       "    </tr>\n",
       "    <tr>\n",
       "      <th>3</th>\n",
       "      <td>mondo:0019154</td>\n",
       "      <td>pubchem.compound:2375</td>\n",
       "      <td>0.012048</td>\n",
       "    </tr>\n",
       "    <tr>\n",
       "      <th>4</th>\n",
       "      <td>mondo:0019154</td>\n",
       "      <td>pubchem.compound:3314</td>\n",
       "      <td>0.012048</td>\n",
       "    </tr>\n",
       "    <tr>\n",
       "      <th>...</th>\n",
       "      <td>...</td>\n",
       "      <td>...</td>\n",
       "      <td>...</td>\n",
       "    </tr>\n",
       "    <tr>\n",
       "      <th>79</th>\n",
       "      <td>mondo:0018874</td>\n",
       "      <td>pubchem.compound:9829523</td>\n",
       "      <td>0.023625</td>\n",
       "    </tr>\n",
       "    <tr>\n",
       "      <th>80</th>\n",
       "      <td>mondo:0018874</td>\n",
       "      <td>pubchem.compound:216239</td>\n",
       "      <td>0.023625</td>\n",
       "    </tr>\n",
       "    <tr>\n",
       "      <th>81</th>\n",
       "      <td>mondo:0018874</td>\n",
       "      <td>pubchem.compound:24826799</td>\n",
       "      <td>0.023625</td>\n",
       "    </tr>\n",
       "    <tr>\n",
       "      <th>82</th>\n",
       "      <td>mondo:0004989</td>\n",
       "      <td>pubchem.compound:216239</td>\n",
       "      <td>0.012658</td>\n",
       "    </tr>\n",
       "    <tr>\n",
       "      <th>83</th>\n",
       "      <td>mondo:0004989</td>\n",
       "      <td>pubchem.compound:24826799</td>\n",
       "      <td>0.012658</td>\n",
       "    </tr>\n",
       "  </tbody>\n",
       "</table>\n",
       "<p>84 rows × 3 columns</p>\n",
       "</div>"
      ],
      "text/plain": [
       "           Source                     Target  Resource Allocation Index\n",
       "0   mondo:0019154      pubchem.compound:5833                   0.012048\n",
       "1   mondo:0019154      pubchem.compound:6013                   0.012048\n",
       "2   mondo:0019154      pubchem.compound:4632                   0.012048\n",
       "3   mondo:0019154      pubchem.compound:2375                   0.012048\n",
       "4   mondo:0019154      pubchem.compound:3314                   0.012048\n",
       "..            ...                        ...                        ...\n",
       "79  mondo:0018874   pubchem.compound:9829523                   0.023625\n",
       "80  mondo:0018874    pubchem.compound:216239                   0.023625\n",
       "81  mondo:0018874  pubchem.compound:24826799                   0.023625\n",
       "82  mondo:0004989    pubchem.compound:216239                   0.012658\n",
       "83  mondo:0004989  pubchem.compound:24826799                   0.012658\n",
       "\n",
       "[84 rows x 3 columns]"
      ]
     },
     "execution_count": 617,
     "metadata": {},
     "output_type": "execute_result"
    }
   ],
   "source": [
    "df_custom"
   ]
  },
  {
   "cell_type": "code",
   "execution_count": 618,
   "id": "172a83fa",
   "metadata": {},
   "outputs": [
    {
     "name": "stdout",
     "output_type": "stream",
     "text": [
      "12/163\n"
     ]
    },
    {
     "data": {
      "text/plain": [
       "7.36"
      ]
     },
     "execution_count": 618,
     "metadata": {},
     "output_type": "execute_result"
    }
   ],
   "source": [
    "# Accuracy for custom KG\n",
    "ra_acc2 = get_accuracy(gold_standard_dict, disease_drug_dict)\n",
    "score_actual['Resource Allocation Index'].append(ra_acc2)\n",
    "ra_acc2"
   ]
  },
  {
   "cell_type": "code",
   "execution_count": 619,
   "id": "9dbda625",
   "metadata": {},
   "outputs": [
    {
     "data": {
      "text/plain": [
       "{'mondo:0001056',\n",
       " 'mondo:0002046',\n",
       " 'mondo:0002429',\n",
       " 'mondo:0002447',\n",
       " 'mondo:0004989',\n",
       " 'mondo:0005005',\n",
       " 'mondo:0005011',\n",
       " 'mondo:0005061',\n",
       " 'mondo:0005075',\n",
       " 'mondo:0005086',\n",
       " 'mondo:0005159',\n",
       " 'mondo:0005190',\n",
       " 'mondo:0005192',\n",
       " 'mondo:0006486',\n",
       " 'mondo:0007254',\n",
       " 'mondo:0008903',\n",
       " 'mondo:0009265',\n",
       " 'mondo:0009267',\n",
       " 'mondo:0009623',\n",
       " 'mondo:0009831',\n",
       " 'mondo:0010150',\n",
       " 'mondo:0010311',\n",
       " 'mondo:0010421',\n",
       " 'mondo:0010626',\n",
       " 'mondo:0011776',\n",
       " 'mondo:0011962',\n",
       " 'mondo:0015917',\n",
       " 'mondo:0019154'}"
      ]
     },
     "execution_count": 619,
     "metadata": {},
     "output_type": "execute_result"
    }
   ],
   "source": [
    "# Diseases in KG that are not in Gold-Standard\n",
    "set(notin)"
   ]
  },
  {
   "cell_type": "code",
   "execution_count": 620,
   "id": "667c129c",
   "metadata": {},
   "outputs": [
    {
     "data": {
      "text/plain": [
       "{'Common Neighbors': [9.53, 11.21],\n",
       " 'Cosine Similiarity': [5.81, 5.48],\n",
       " 'Jaccard Index': [5.81, 4.58],\n",
       " 'Sorensen Index': [5.81, 4.58],\n",
       " 'Hub Promoted Index': [8.4, 6.54],\n",
       " 'Hub Depressed Index': [5.08, 10.94],\n",
       " 'Leicht–Holme–Newman Index': [5.81, 5.52],\n",
       " 'Preferential Attachment': [2.22, 0.0],\n",
       " 'Adamic-Adar': [9.09, 7.36],\n",
       " 'Resource Allocation Index': [9.32, 7.36]}"
      ]
     },
     "execution_count": 620,
     "metadata": {},
     "output_type": "execute_result"
    }
   ],
   "source": [
    "# final precisions\n",
    "score_actual"
   ]
  }
 ],
 "metadata": {
  "kernelspec": {
   "display_name": "Python 3",
   "language": "python",
   "name": "python3"
  },
  "language_info": {
   "codemirror_mode": {
    "name": "ipython",
    "version": 3
   },
   "file_extension": ".py",
   "mimetype": "text/x-python",
   "name": "python",
   "nbconvert_exporter": "python",
   "pygments_lexer": "ipython3",
   "version": "3.8.5"
  }
 },
 "nbformat": 4,
 "nbformat_minor": 5
}
