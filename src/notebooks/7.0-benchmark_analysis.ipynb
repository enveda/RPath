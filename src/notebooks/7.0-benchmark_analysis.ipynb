{
 "cells": [
  {
   "cell_type": "markdown",
   "id": "b63e5181",
   "metadata": {},
   "source": [
    "# Setting Up Environment"
   ]
  },
  {
   "cell_type": "code",
   "execution_count": 64,
   "id": "ff7348e0",
   "metadata": {},
   "outputs": [],
   "source": [
    "import os\n",
    "import json\n",
    "import logging\n",
    "import pandas as pd\n",
    "from collections import Counter, defaultdict\n",
    "from tqdm import tqdm\n",
    "from itertools import product\n",
    "from typing import Mapping, List\n",
    "import networkx as nx\n",
    "import numpy as np\n",
    "from tqdm import tqdm\n",
    "DATA_DIR = '../../data'\n",
    "KG_DATA_PATH = os.path.join(DATA_DIR, 'kg')"
   ]
  },
  {
   "cell_type": "markdown",
   "id": "70e43c44",
   "metadata": {},
   "source": [
    "# Helper Functions"
   ]
  },
  {
   "cell_type": "code",
   "execution_count": 99,
   "id": "892dea1b",
   "metadata": {},
   "outputs": [],
   "source": [
    "def create_graph_from_df(\n",
    "    graph_df\n",
    ") -> nx.DiGraph:\n",
    "    \"\"\"Create fully connected graph from dataframe.\"\"\"\n",
    "    graph = nx.DiGraph()\n",
    "\n",
    "    for sub_name, obj_name, relation in graph_df.values:\n",
    "        # Store edge in the graph\n",
    "        graph.add_edge(\n",
    "            sub_name,\n",
    "            obj_name,\n",
    "            polarity=relation,\n",
    "        )\n",
    "\n",
    "\n",
    "    connected_components_subgraph = [\n",
    "        component\n",
    "        for component in sorted(\n",
    "            nx.connected_components(\n",
    "                graph.to_undirected()\n",
    "            ),\n",
    "            key=len,\n",
    "            reverse=True\n",
    "        )\n",
    "    ]\n",
    "\n",
    "    final_subgraph = graph.subgraph(connected_components_subgraph[0])\n",
    "\n",
    "    return final_subgraph\n",
    "\n",
    "\n",
    "def shared_khop(nodeA: str, nodeB: str, graph: nx.Graph, k: int) -> int:\n",
    "    # find nodes within distance k\n",
    "    traversalA = nx.bfs_edges(graph, source=nodeA, depth_limit=k)\n",
    "    traversalB = nx.bfs_edges(graph, source=nodeB, depth_limit=k)\n",
    "    khop_A = set([v for u, v in traversalA])\n",
    "    khop_B = set([v for u, v in traversalB])\n",
    "    # return shared number of k-neighbors\n",
    "    return len(list(khop_A & khop_B))\n",
    "\n",
    "# This function will change once the KG and clinical pairs are updated\n",
    "def get_accuracy(dict_actual, dict_predicted): \n",
    "    pos,total = 0,0\n",
    "    for key in dict_predicted.keys():\n",
    "        if key in dict_actual:\n",
    "            for drug in dict_predicted[key]:\n",
    "                if drug in dict_actual[key]:\n",
    "                    pos+=1\n",
    "                total+=1\n",
    "            \n",
    "    return pos/total\n",
    "\n",
    "\n",
    "def get_dict_df(diseases, drugs, undirected_graph):\n",
    "    df = pd.DataFrame(columns=[\n",
    "        'Source',\n",
    "        'Target',\n",
    "        'Shared Neighbors'\n",
    "    ])\n",
    "    disease_drug_dict = {}\n",
    "    # loop through each disease in the set\n",
    "    for disease in tqdm(diseases, desc='Main iterator', total=len(diseases)):\n",
    "        cn = []\n",
    "        # for each disease, find the number of shared neighbors for each drug and append to list\n",
    "        for drug in drugs:\n",
    "            cn.append(shared_khop(disease, drug,undirected_graph , 1))\n",
    "        # if list is full of 0's (i.e sum == 0), then there are no shared neighbors \n",
    "        if np.sum(cn) == 0:\n",
    "            disease_drug_dict[disease] = 'none'\n",
    "        else:\n",
    "            index = np.where(cn == np.amax(cn))\n",
    "            # add list of drugs with max # of shared nodes to specified key\n",
    "            disease_drug_dict[disease] = np.array(list(drugs))[index]\n",
    "            # create a df\n",
    "            for i in index:\n",
    "                for j in i:\n",
    "                    df = df.append({'Source': disease, 'Target': list(drugs)[j], 'Shared Neighbors': cn[j]}, ignore_index=True)\n",
    "    return disease_drug_dict, df"
   ]
  },
  {
   "cell_type": "markdown",
   "id": "0d74ef14",
   "metadata": {},
   "source": [
    "# Load Graph and Gold Standard"
   ]
  },
  {
   "cell_type": "code",
   "execution_count": 100,
   "id": "a08b5c11",
   "metadata": {},
   "outputs": [],
   "source": [
    "openbiolink_df = pd.read_csv(\n",
    "    os.path.join(KG_DATA_PATH, 'normalized', 'openbiolink_kg_normalized.tsv'),\n",
    "    sep='\\t'\n",
    ")\n",
    "openbiolink_df.rename(columns={'relation': 'polarity'}, inplace=True)\n",
    "\n",
    "custom_df = pd.read_csv(\n",
    "    os.path.join(KG_DATA_PATH, 'normalized', 'custom_kg_normalized.tsv'),\n",
    "    sep='\\t'\n",
    ")\n",
    "custom_df.rename(columns={'relation': 'polarity'}, inplace=True)"
   ]
  },
  {
   "cell_type": "code",
   "execution_count": 101,
   "id": "b60f162d",
   "metadata": {},
   "outputs": [
    {
     "data": {
      "text/html": [
       "<div>\n",
       "<style scoped>\n",
       "    .dataframe tbody tr th:only-of-type {\n",
       "        vertical-align: middle;\n",
       "    }\n",
       "\n",
       "    .dataframe tbody tr th {\n",
       "        vertical-align: top;\n",
       "    }\n",
       "\n",
       "    .dataframe thead th {\n",
       "        text-align: right;\n",
       "    }\n",
       "</style>\n",
       "<table border=\"1\" class=\"dataframe\">\n",
       "  <thead>\n",
       "    <tr style=\"text-align: right;\">\n",
       "      <th></th>\n",
       "      <th>source</th>\n",
       "      <th>target</th>\n",
       "      <th>polarity</th>\n",
       "    </tr>\n",
       "  </thead>\n",
       "  <tbody>\n",
       "    <tr>\n",
       "      <th>0</th>\n",
       "      <td>pubchem.compound:4943</td>\n",
       "      <td>ncbigene:2562</td>\n",
       "      <td>1</td>\n",
       "    </tr>\n",
       "    <tr>\n",
       "      <th>1</th>\n",
       "      <td>pubchem.compound:667468</td>\n",
       "      <td>ncbigene:147</td>\n",
       "      <td>-1</td>\n",
       "    </tr>\n",
       "    <tr>\n",
       "      <th>2</th>\n",
       "      <td>pubchem.compound:4011</td>\n",
       "      <td>ncbigene:1133</td>\n",
       "      <td>-1</td>\n",
       "    </tr>\n",
       "    <tr>\n",
       "      <th>3</th>\n",
       "      <td>pubchem.compound:4636</td>\n",
       "      <td>ncbigene:148</td>\n",
       "      <td>1</td>\n",
       "    </tr>\n",
       "    <tr>\n",
       "      <th>4</th>\n",
       "      <td>pubchem.compound:2083</td>\n",
       "      <td>ncbigene:154</td>\n",
       "      <td>1</td>\n",
       "    </tr>\n",
       "  </tbody>\n",
       "</table>\n",
       "</div>"
      ],
      "text/plain": [
       "                    source         target  polarity\n",
       "0    pubchem.compound:4943  ncbigene:2562         1\n",
       "1  pubchem.compound:667468   ncbigene:147        -1\n",
       "2    pubchem.compound:4011  ncbigene:1133        -1\n",
       "3    pubchem.compound:4636   ncbigene:148         1\n",
       "4    pubchem.compound:2083   ncbigene:154         1"
      ]
     },
     "execution_count": 101,
     "metadata": {},
     "output_type": "execute_result"
    }
   ],
   "source": [
    "custom_df.head()"
   ]
  },
  {
   "cell_type": "code",
   "execution_count": 102,
   "id": "708dba64",
   "metadata": {},
   "outputs": [],
   "source": [
    "with open(os.path.join(DATA_DIR, 'gold-standard', 'clinical_pairs.json')) as file:\n",
    "    clinical_pair_dict = json.load(file).keys()"
   ]
  },
  {
   "cell_type": "code",
   "execution_count": 103,
   "id": "a7cad895",
   "metadata": {},
   "outputs": [],
   "source": [
    "gold_standard_dict = {}\n",
    "for i in clinical_pair_dict:\n",
    "    split = i.split(\"_\")\n",
    "    if split[1] in gold_standard_dict:\n",
    "        gold_standard_dict[split[1]].append(split[0])\n",
    "    else:\n",
    "        gold_standard_dict[split[1]] = [split[0]]"
   ]
  },
  {
   "cell_type": "code",
   "execution_count": 104,
   "id": "5477bbd3",
   "metadata": {},
   "outputs": [],
   "source": [
    "graph_openbio = create_graph_from_df(openbiolink_df)\n",
    "graph_custom = create_graph_from_df(custom_df)"
   ]
  },
  {
   "cell_type": "code",
   "execution_count": 105,
   "id": "a9fea27a",
   "metadata": {},
   "outputs": [
    {
     "data": {
      "text/plain": [
       "8610"
      ]
     },
     "execution_count": 105,
     "metadata": {},
     "output_type": "execute_result"
    }
   ],
   "source": [
    "len(graph_custom)"
   ]
  },
  {
   "cell_type": "markdown",
   "id": "b4729b55",
   "metadata": {},
   "source": [
    "In the cell below, create a set of diseases and drugs in each graph"
   ]
  },
  {
   "cell_type": "code",
   "execution_count": 106,
   "id": "3ac75240",
   "metadata": {},
   "outputs": [],
   "source": [
    "disease_openbio = []\n",
    "drug_openbio = []\n",
    "for u,v in graph_openbio.to_undirected().edges():\n",
    "    if v.startswith('mondo'):\n",
    "        disease_openbio.append(v)\n",
    "    if u.startswith('mondo'):\n",
    "        disease_openbio.append(u)\n",
    "    if v.startswith('pubchem.'):\n",
    "        drug_openbio.append(v)\n",
    "    if u.startswith('pubchem.'):\n",
    "        drug_openbio.append(u)\n",
    "        \n",
    "# sets of diseases/drugs for openbio      \n",
    "disease_openbio = set(disease_openbio)\n",
    "drug_openbio = set(drug_openbio)\n",
    "\n",
    "\n",
    "disease_custom = []\n",
    "drug_custom = []\n",
    "\n",
    "for u,v in graph_custom.to_undirected().edges():\n",
    "    if v.startswith('mondo'):\n",
    "        disease_custom.append(v)\n",
    "    if u.startswith('mondo'):\n",
    "        disease_custom.append(u)\n",
    "    if u.startswith('pubchem.'):\n",
    "        drug_custom.append(u)\n",
    "    if v.startswith('pubchem.'):\n",
    "        drug_custom.append(v)\n",
    "        \n",
    "# sets of diseases/drugs for custom KG      \n",
    "disease_custom = set(disease_custom)\n",
    "drug_custom = set(drug_custom)"
   ]
  },
  {
   "cell_type": "code",
   "execution_count": 107,
   "id": "127ea26d",
   "metadata": {},
   "outputs": [
    {
     "name": "stderr",
     "output_type": "stream",
     "text": [
      "Main iterator: 100%|██████████| 72/72 [00:03<00:00, 19.96it/s]\n"
     ]
    }
   ],
   "source": [
    "disease_drug_dict, df_openbio = get_dict_df(disease_openbio, drug_openbio, graph_openbio.to_undirected())"
   ]
  },
  {
   "cell_type": "code",
   "execution_count": 108,
   "id": "0f6a1467",
   "metadata": {},
   "outputs": [
    {
     "data": {
      "text/html": [
       "<div>\n",
       "<style scoped>\n",
       "    .dataframe tbody tr th:only-of-type {\n",
       "        vertical-align: middle;\n",
       "    }\n",
       "\n",
       "    .dataframe tbody tr th {\n",
       "        vertical-align: top;\n",
       "    }\n",
       "\n",
       "    .dataframe thead th {\n",
       "        text-align: right;\n",
       "    }\n",
       "</style>\n",
       "<table border=\"1\" class=\"dataframe\">\n",
       "  <thead>\n",
       "    <tr style=\"text-align: right;\">\n",
       "      <th></th>\n",
       "      <th>Source</th>\n",
       "      <th>Target</th>\n",
       "      <th>Shared Neighbors</th>\n",
       "    </tr>\n",
       "  </thead>\n",
       "  <tbody>\n",
       "    <tr>\n",
       "      <th>406</th>\n",
       "      <td>mondo:0007254</td>\n",
       "      <td>pubchem.compound:448537</td>\n",
       "      <td>3</td>\n",
       "    </tr>\n",
       "    <tr>\n",
       "      <th>399</th>\n",
       "      <td>mondo:0007254</td>\n",
       "      <td>pubchem.compound:3973</td>\n",
       "      <td>3</td>\n",
       "    </tr>\n",
       "    <tr>\n",
       "      <th>405</th>\n",
       "      <td>mondo:0007254</td>\n",
       "      <td>pubchem.compound:449459</td>\n",
       "      <td>3</td>\n",
       "    </tr>\n",
       "    <tr>\n",
       "      <th>404</th>\n",
       "      <td>mondo:0007254</td>\n",
       "      <td>pubchem.compound:702</td>\n",
       "      <td>3</td>\n",
       "    </tr>\n",
       "    <tr>\n",
       "      <th>403</th>\n",
       "      <td>mondo:0007254</td>\n",
       "      <td>pubchem.compound:54454</td>\n",
       "      <td>3</td>\n",
       "    </tr>\n",
       "  </tbody>\n",
       "</table>\n",
       "</div>"
      ],
      "text/plain": [
       "            Source                   Target Shared Neighbors\n",
       "406  mondo:0007254  pubchem.compound:448537                3\n",
       "399  mondo:0007254    pubchem.compound:3973                3\n",
       "405  mondo:0007254  pubchem.compound:449459                3\n",
       "404  mondo:0007254     pubchem.compound:702                3\n",
       "403  mondo:0007254   pubchem.compound:54454                3"
      ]
     },
     "execution_count": 108,
     "metadata": {},
     "output_type": "execute_result"
    }
   ],
   "source": [
    "df_openbio.sort_values(by='Shared Neighbors', ascending=False).head()"
   ]
  },
  {
   "cell_type": "code",
   "execution_count": 109,
   "id": "e99acb80",
   "metadata": {},
   "outputs": [
    {
     "data": {
      "text/plain": [
       "0.0944700460829493"
      ]
     },
     "execution_count": 109,
     "metadata": {},
     "output_type": "execute_result"
    }
   ],
   "source": [
    "# Accuracy for openbiolink KG\n",
    "get_accuracy(gold_standard_dict, disease_drug_dict)"
   ]
  },
  {
   "cell_type": "code",
   "execution_count": 110,
   "id": "880d28f7",
   "metadata": {},
   "outputs": [
    {
     "name": "stderr",
     "output_type": "stream",
     "text": [
      "Main iterator: 100%|██████████| 59/59 [00:00<00:00, 101.24it/s]\n"
     ]
    }
   ],
   "source": [
    "disease_drug_dict, df_custom = get_dict_df(disease_custom, drug_custom, graph_custom.to_undirected())"
   ]
  },
  {
   "cell_type": "code",
   "execution_count": 111,
   "id": "921ef522",
   "metadata": {},
   "outputs": [
    {
     "data": {
      "text/html": [
       "<div>\n",
       "<style scoped>\n",
       "    .dataframe tbody tr th:only-of-type {\n",
       "        vertical-align: middle;\n",
       "    }\n",
       "\n",
       "    .dataframe tbody tr th {\n",
       "        vertical-align: top;\n",
       "    }\n",
       "\n",
       "    .dataframe thead th {\n",
       "        text-align: right;\n",
       "    }\n",
       "</style>\n",
       "<table border=\"1\" class=\"dataframe\">\n",
       "  <thead>\n",
       "    <tr style=\"text-align: right;\">\n",
       "      <th></th>\n",
       "      <th>Source</th>\n",
       "      <th>Target</th>\n",
       "      <th>Shared Neighbors</th>\n",
       "    </tr>\n",
       "  </thead>\n",
       "  <tbody>\n",
       "    <tr>\n",
       "      <th>126</th>\n",
       "      <td>mondo:0004985</td>\n",
       "      <td>pubchem.compound:2170</td>\n",
       "      <td>3</td>\n",
       "    </tr>\n",
       "    <tr>\n",
       "      <th>125</th>\n",
       "      <td>mondo:0004985</td>\n",
       "      <td>pubchem.compound:60795</td>\n",
       "      <td>3</td>\n",
       "    </tr>\n",
       "    <tr>\n",
       "      <th>131</th>\n",
       "      <td>mondo:0018305</td>\n",
       "      <td>pubchem.compound:5360696</td>\n",
       "      <td>3</td>\n",
       "    </tr>\n",
       "    <tr>\n",
       "      <th>103</th>\n",
       "      <td>mondo:0007254</td>\n",
       "      <td>pubchem.compound:24826799</td>\n",
       "      <td>2</td>\n",
       "    </tr>\n",
       "    <tr>\n",
       "      <th>133</th>\n",
       "      <td>mondo:0018874</td>\n",
       "      <td>pubchem.compound:24826799</td>\n",
       "      <td>2</td>\n",
       "    </tr>\n",
       "  </tbody>\n",
       "</table>\n",
       "</div>"
      ],
      "text/plain": [
       "            Source                     Target Shared Neighbors\n",
       "126  mondo:0004985      pubchem.compound:2170                3\n",
       "125  mondo:0004985     pubchem.compound:60795                3\n",
       "131  mondo:0018305   pubchem.compound:5360696                3\n",
       "103  mondo:0007254  pubchem.compound:24826799                2\n",
       "133  mondo:0018874  pubchem.compound:24826799                2"
      ]
     },
     "execution_count": 111,
     "metadata": {},
     "output_type": "execute_result"
    }
   ],
   "source": [
    "df_custom.sort_values(by='Shared Neighbors', ascending=False).head()"
   ]
  },
  {
   "cell_type": "code",
   "execution_count": 112,
   "id": "6d0be1b5",
   "metadata": {},
   "outputs": [
    {
     "data": {
      "text/plain": [
       "0.11214953271028037"
      ]
     },
     "execution_count": 112,
     "metadata": {},
     "output_type": "execute_result"
    }
   ],
   "source": [
    "# Accuracy for custom KG\n",
    "get_accuracy(gold_standard_dict, disease_drug_dict)"
   ]
  }
 ],
 "metadata": {
  "kernelspec": {
   "display_name": "Python 3",
   "language": "python",
   "name": "python3"
  },
  "language_info": {
   "codemirror_mode": {
    "name": "ipython",
    "version": 3
   },
   "file_extension": ".py",
   "mimetype": "text/x-python",
   "name": "python",
   "nbconvert_exporter": "python",
   "pygments_lexer": "ipython3",
   "version": "3.8.5"
  }
 },
 "nbformat": 4,
 "nbformat_minor": 5
}
