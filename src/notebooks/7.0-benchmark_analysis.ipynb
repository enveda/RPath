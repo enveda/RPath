{
 "cells": [
  {
   "cell_type": "markdown",
   "id": "b63e5181",
   "metadata": {},
   "source": [
    "# Setting Up Environment"
   ]
  },
  {
   "cell_type": "code",
   "execution_count": 3,
   "id": "ff7348e0",
   "metadata": {},
   "outputs": [],
   "source": [
    "import os\n",
    "import json\n",
    "import math\n",
    "import logging\n",
    "import pandas as pd\n",
    "from collections import Counter, defaultdict\n",
    "from tqdm import tqdm\n",
    "from itertools import product\n",
    "from typing import Mapping, List\n",
    "import networkx as nx\n",
    "import numpy as np\n",
    "from tqdm import tqdm\n",
    "DATA_DIR = '../../data'\n",
    "KG_DATA_PATH = os.path.join(DATA_DIR, 'kg')"
   ]
  },
  {
   "cell_type": "markdown",
   "id": "70e43c44",
   "metadata": {},
   "source": [
    "# Helper Functions"
   ]
  },
  {
   "cell_type": "code",
   "execution_count": 109,
   "id": "892dea1b",
   "metadata": {},
   "outputs": [],
   "source": [
    "sim_scores = {'cn': 'Common Neighbors', 'cos': 'Cosine Similiarity', 'ji': 'Jaccard index', 'si': 'Sorensen index',\n",
    "             'hpi': 'Hub Promoted Index', 'hdi': 'Hub Depressed Index', 'lhn': 'Leicht–Holme–Newman Index', 'pa':'Preferential Attachment',\n",
    "             'aa': 'Adamic-Adar', 'ra': 'Resource Allocation Index', 'lp': 'Local Path Index', 'kg': 'Katz global path indicator',\n",
    "             'act': 'Average Commute Time'}\n",
    "def create_graph_from_df(\n",
    "    graph_df\n",
    ") -> nx.DiGraph:\n",
    "    \"\"\"Create fully connected graph from dataframe.\"\"\"\n",
    "    graph = nx.DiGraph()\n",
    "\n",
    "    for sub_name, obj_name, relation in graph_df.values:\n",
    "        # Store edge in the graph\n",
    "        graph.add_edge(\n",
    "            sub_name,\n",
    "            obj_name,\n",
    "            polarity=relation,\n",
    "        )\n",
    "\n",
    "\n",
    "    connected_components_subgraph = [\n",
    "        component\n",
    "        for component in sorted(\n",
    "            nx.connected_components(\n",
    "                graph.to_undirected()\n",
    "            ),\n",
    "            key=len,\n",
    "            reverse=True\n",
    "        )\n",
    "    ]\n",
    "\n",
    "    final_subgraph = graph.subgraph(connected_components_subgraph[0])\n",
    "\n",
    "    return final_subgraph\n",
    "\n",
    "\n",
    "def shared_khop(nodeA: str, nodeB: str, graph: nx.Graph, k: int) -> int:\n",
    "    # find nodes within distance k\n",
    "    traversalA = nx.bfs_edges(graph, source=nodeA, depth_limit=k)\n",
    "    traversalB = nx.bfs_edges(graph, source=nodeB, depth_limit=k)\n",
    "    khop_A = set([v for u, v in traversalA])\n",
    "    khop_B = set([v for u, v in traversalB])\n",
    "    # return shared number of k-neighbors\n",
    "    return len(list(khop_A & khop_B)), len(khop_A), len(khop_B)\n",
    "\n",
    "def total_khop(nodeA: str, nodeB: str, graph: nx.Graph, k: int) -> int:\n",
    "    # find nodes within distance k\n",
    "    traversalA = nx.bfs_edges(graph, source=nodeA, depth_limit=k)\n",
    "    traversalB = nx.bfs_edges(graph, source=nodeB, depth_limit=k)\n",
    "    khop_A = set([v for u, v in traversalA])\n",
    "    khop_B = set([v for u, v in traversalB])\n",
    "    # return shared number of k-neighbors\n",
    "    return len(list(khop_A | khop_B)), len(khop_A), len(khop_B)\n",
    "\n",
    "# This function will change once the KG and clinical pairs are updated\n",
    "def get_accuracy(dict_actual, dict_predicted): \n",
    "    pos,total = 0,0\n",
    "    for key in dict_predicted.keys():\n",
    "        if key in dict_actual:\n",
    "            for drug in dict_predicted[key]:\n",
    "                if drug in dict_actual[key]:\n",
    "                    pos+=1\n",
    "                total+=1\n",
    "            \n",
    "    return pos/total\n",
    "\n",
    "\n",
    "def get_dict_df(diseases, drugs, undirected_graph, similarity_type = 'cn'):\n",
    "    df = pd.DataFrame(columns=[\n",
    "        'Source',\n",
    "        'Target',\n",
    "        sim_scores[similarity_type]\n",
    "    ])\n",
    "    disease_drug_dict = {}\n",
    "    # loop through each disease in the set\n",
    "    for disease in tqdm(diseases, desc='Main iterator', total=len(diseases)):\n",
    "        cn = []\n",
    "        # for each disease, find the similarity score with for each drug and append to list\n",
    "        for drug in drugs:\n",
    "            if similarity_type == 'cn':\n",
    "                similarity,_,_ = shared_khop(disease, drug,undirected_graph , 1)\n",
    "            elif similarity_type == 'cos':\n",
    "                shared, nodeA_neighbor, nodeB_neighbor = shared_khop(disease, drug,undirected_graph , 1)\n",
    "                similarity = shared / (math.sqrt(nodeA_neighbor * nodeB_neighbor))\n",
    "            elif similarity_type == 'ji':\n",
    "                shared,_,_ = shared_khop(disease, drug,undirected_graph , 1)\n",
    "                total,_,_ = total_khop(disease, drug,undirected_graph , 1)\n",
    "                similarity = shared/total\n",
    "            elif similarity_type == 'si':\n",
    "                shared,nodeA_neighbor,nodeB_neighbor = shared_khop(disease, drug,undirected_graph , 1)\n",
    "                similarity = (shared * 2) / (nodeA_neighbor + nodeB_neighbor)\n",
    "            cn.append(similarity)\n",
    "        # if list is full of 0's (i.e sum == 0), then there are no shared neighbors \n",
    "        if np.sum(cn) == 0:\n",
    "            disease_drug_dict[disease] = 'none'\n",
    "        else:\n",
    "            index = np.where(cn == np.amax(cn))\n",
    "            # add list of drugs with max # of shared nodes to specified key\n",
    "            disease_drug_dict[disease] = np.array(list(drugs))[index]\n",
    "            # create a df\n",
    "            for i in index:\n",
    "                for j in i:\n",
    "                    df = df.append({'Source': disease, 'Target': list(drugs)[j], sim_scores[similarity_type]: cn[j]}, ignore_index=True)\n",
    "    return disease_drug_dict, df"
   ]
  },
  {
   "cell_type": "markdown",
   "id": "0d74ef14",
   "metadata": {},
   "source": [
    "# Load Graph and Gold Standard"
   ]
  },
  {
   "cell_type": "code",
   "execution_count": 83,
   "id": "a08b5c11",
   "metadata": {},
   "outputs": [],
   "source": [
    "openbiolink_df = pd.read_csv(\n",
    "    os.path.join(KG_DATA_PATH, 'normalized', 'openbiolink_kg_normalized.tsv'),\n",
    "    sep='\\t'\n",
    ")\n",
    "openbiolink_df.rename(columns={'relation': 'polarity'}, inplace=True)\n",
    "\n",
    "custom_df = pd.read_csv(\n",
    "    os.path.join(KG_DATA_PATH, 'normalized', 'custom_kg_normalized.tsv'),\n",
    "    sep='\\t'\n",
    ")\n",
    "custom_df.rename(columns={'relation': 'polarity'}, inplace=True)"
   ]
  },
  {
   "cell_type": "code",
   "execution_count": 84,
   "id": "b60f162d",
   "metadata": {},
   "outputs": [
    {
     "data": {
      "text/html": [
       "<div>\n",
       "<style scoped>\n",
       "    .dataframe tbody tr th:only-of-type {\n",
       "        vertical-align: middle;\n",
       "    }\n",
       "\n",
       "    .dataframe tbody tr th {\n",
       "        vertical-align: top;\n",
       "    }\n",
       "\n",
       "    .dataframe thead th {\n",
       "        text-align: right;\n",
       "    }\n",
       "</style>\n",
       "<table border=\"1\" class=\"dataframe\">\n",
       "  <thead>\n",
       "    <tr style=\"text-align: right;\">\n",
       "      <th></th>\n",
       "      <th>source</th>\n",
       "      <th>target</th>\n",
       "      <th>polarity</th>\n",
       "    </tr>\n",
       "  </thead>\n",
       "  <tbody>\n",
       "    <tr>\n",
       "      <th>0</th>\n",
       "      <td>pubchem.compound:4943</td>\n",
       "      <td>ncbigene:2562</td>\n",
       "      <td>1</td>\n",
       "    </tr>\n",
       "    <tr>\n",
       "      <th>1</th>\n",
       "      <td>pubchem.compound:667468</td>\n",
       "      <td>ncbigene:147</td>\n",
       "      <td>-1</td>\n",
       "    </tr>\n",
       "    <tr>\n",
       "      <th>2</th>\n",
       "      <td>pubchem.compound:4011</td>\n",
       "      <td>ncbigene:1133</td>\n",
       "      <td>-1</td>\n",
       "    </tr>\n",
       "    <tr>\n",
       "      <th>3</th>\n",
       "      <td>pubchem.compound:4636</td>\n",
       "      <td>ncbigene:148</td>\n",
       "      <td>1</td>\n",
       "    </tr>\n",
       "    <tr>\n",
       "      <th>4</th>\n",
       "      <td>pubchem.compound:2083</td>\n",
       "      <td>ncbigene:154</td>\n",
       "      <td>1</td>\n",
       "    </tr>\n",
       "  </tbody>\n",
       "</table>\n",
       "</div>"
      ],
      "text/plain": [
       "                    source         target  polarity\n",
       "0    pubchem.compound:4943  ncbigene:2562         1\n",
       "1  pubchem.compound:667468   ncbigene:147        -1\n",
       "2    pubchem.compound:4011  ncbigene:1133        -1\n",
       "3    pubchem.compound:4636   ncbigene:148         1\n",
       "4    pubchem.compound:2083   ncbigene:154         1"
      ]
     },
     "execution_count": 84,
     "metadata": {},
     "output_type": "execute_result"
    }
   ],
   "source": [
    "custom_df.head()"
   ]
  },
  {
   "cell_type": "code",
   "execution_count": 85,
   "id": "708dba64",
   "metadata": {},
   "outputs": [],
   "source": [
    "with open(os.path.join(DATA_DIR, 'gold-standard', 'clinical_pairs.json')) as file:\n",
    "    clinical_pair_dict = json.load(file).keys()"
   ]
  },
  {
   "cell_type": "code",
   "execution_count": 86,
   "id": "a7cad895",
   "metadata": {},
   "outputs": [],
   "source": [
    "gold_standard_dict = {}\n",
    "for i in clinical_pair_dict:\n",
    "    split = i.split(\"_\")\n",
    "    if split[1] in gold_standard_dict:\n",
    "        gold_standard_dict[split[1]].append(split[0])\n",
    "    else:\n",
    "        gold_standard_dict[split[1]] = [split[0]]"
   ]
  },
  {
   "cell_type": "code",
   "execution_count": 87,
   "id": "5477bbd3",
   "metadata": {},
   "outputs": [],
   "source": [
    "graph_openbio = create_graph_from_df(openbiolink_df)\n",
    "graph_custom = create_graph_from_df(custom_df)"
   ]
  },
  {
   "cell_type": "code",
   "execution_count": 88,
   "id": "a9fea27a",
   "metadata": {},
   "outputs": [
    {
     "data": {
      "text/plain": [
       "8610"
      ]
     },
     "execution_count": 88,
     "metadata": {},
     "output_type": "execute_result"
    }
   ],
   "source": [
    "len(graph_custom)"
   ]
  },
  {
   "cell_type": "markdown",
   "id": "b4729b55",
   "metadata": {},
   "source": [
    "In the cell below, create a set of diseases and drugs in each graph"
   ]
  },
  {
   "cell_type": "code",
   "execution_count": 89,
   "id": "3ac75240",
   "metadata": {},
   "outputs": [],
   "source": [
    "disease_openbio = []\n",
    "drug_openbio = []\n",
    "for u,v in graph_openbio.to_undirected().edges():\n",
    "    if v.startswith('mondo'):\n",
    "        disease_openbio.append(v)\n",
    "    if u.startswith('mondo'):\n",
    "        disease_openbio.append(u)\n",
    "    if v.startswith('pubchem.'):\n",
    "        drug_openbio.append(v)\n",
    "    if u.startswith('pubchem.'):\n",
    "        drug_openbio.append(u)\n",
    "        \n",
    "# sets of diseases/drugs for openbio      \n",
    "disease_openbio = set(disease_openbio)\n",
    "drug_openbio = set(drug_openbio)\n",
    "\n",
    "\n",
    "disease_custom = []\n",
    "drug_custom = []\n",
    "\n",
    "for u,v in graph_custom.to_undirected().edges():\n",
    "    if v.startswith('mondo'):\n",
    "        disease_custom.append(v)\n",
    "    if u.startswith('mondo'):\n",
    "        disease_custom.append(u)\n",
    "    if u.startswith('pubchem.'):\n",
    "        drug_custom.append(u)\n",
    "    if v.startswith('pubchem.'):\n",
    "        drug_custom.append(v)\n",
    "        \n",
    "# sets of diseases/drugs for custom KG      \n",
    "disease_custom = set(disease_custom)\n",
    "drug_custom = set(drug_custom)"
   ]
  },
  {
   "cell_type": "markdown",
   "id": "e345f01b",
   "metadata": {},
   "source": [
    "# Common Neighbors (CN)"
   ]
  },
  {
   "cell_type": "code",
   "execution_count": 90,
   "id": "127ea26d",
   "metadata": {},
   "outputs": [
    {
     "name": "stderr",
     "output_type": "stream",
     "text": [
      "Main iterator: 100%|██████████| 72/72 [00:02<00:00, 25.14it/s]\n"
     ]
    }
   ],
   "source": [
    "disease_drug_dict, df_openbio = get_dict_df(disease_openbio, drug_openbio, graph_openbio.to_undirected())"
   ]
  },
  {
   "cell_type": "code",
   "execution_count": 91,
   "id": "0f6a1467",
   "metadata": {},
   "outputs": [
    {
     "data": {
      "text/html": [
       "<div>\n",
       "<style scoped>\n",
       "    .dataframe tbody tr th:only-of-type {\n",
       "        vertical-align: middle;\n",
       "    }\n",
       "\n",
       "    .dataframe tbody tr th {\n",
       "        vertical-align: top;\n",
       "    }\n",
       "\n",
       "    .dataframe thead th {\n",
       "        text-align: right;\n",
       "    }\n",
       "</style>\n",
       "<table border=\"1\" class=\"dataframe\">\n",
       "  <thead>\n",
       "    <tr style=\"text-align: right;\">\n",
       "      <th></th>\n",
       "      <th>Source</th>\n",
       "      <th>Target</th>\n",
       "      <th>Common Neighbors</th>\n",
       "    </tr>\n",
       "  </thead>\n",
       "  <tbody>\n",
       "    <tr>\n",
       "      <th>98</th>\n",
       "      <td>mondo:0007254</td>\n",
       "      <td>pubchem.compound:702</td>\n",
       "      <td>3</td>\n",
       "    </tr>\n",
       "    <tr>\n",
       "      <th>99</th>\n",
       "      <td>mondo:0007254</td>\n",
       "      <td>pubchem.compound:54454</td>\n",
       "      <td>3</td>\n",
       "    </tr>\n",
       "    <tr>\n",
       "      <th>100</th>\n",
       "      <td>mondo:0007254</td>\n",
       "      <td>pubchem.compound:5757</td>\n",
       "      <td>3</td>\n",
       "    </tr>\n",
       "    <tr>\n",
       "      <th>101</th>\n",
       "      <td>mondo:0007254</td>\n",
       "      <td>pubchem.compound:448537</td>\n",
       "      <td>3</td>\n",
       "    </tr>\n",
       "    <tr>\n",
       "      <th>102</th>\n",
       "      <td>mondo:0007254</td>\n",
       "      <td>pubchem.compound:449459</td>\n",
       "      <td>3</td>\n",
       "    </tr>\n",
       "  </tbody>\n",
       "</table>\n",
       "</div>"
      ],
      "text/plain": [
       "            Source                   Target Common Neighbors\n",
       "98   mondo:0007254     pubchem.compound:702                3\n",
       "99   mondo:0007254   pubchem.compound:54454                3\n",
       "100  mondo:0007254    pubchem.compound:5757                3\n",
       "101  mondo:0007254  pubchem.compound:448537                3\n",
       "102  mondo:0007254  pubchem.compound:449459                3"
      ]
     },
     "execution_count": 91,
     "metadata": {},
     "output_type": "execute_result"
    }
   ],
   "source": [
    "df_openbio.sort_values(by= sim_scores['cn'], ascending=False).head()"
   ]
  },
  {
   "cell_type": "code",
   "execution_count": 92,
   "id": "e99acb80",
   "metadata": {},
   "outputs": [
    {
     "data": {
      "text/plain": [
       "0.09534883720930233"
      ]
     },
     "execution_count": 92,
     "metadata": {},
     "output_type": "execute_result"
    }
   ],
   "source": [
    "# Accuracy for openbiolink KG\n",
    "get_accuracy(gold_standard_dict, disease_drug_dict)"
   ]
  },
  {
   "cell_type": "code",
   "execution_count": 93,
   "id": "880d28f7",
   "metadata": {},
   "outputs": [
    {
     "name": "stderr",
     "output_type": "stream",
     "text": [
      "Main iterator: 100%|██████████| 59/59 [00:00<00:00, 98.57it/s] \n"
     ]
    }
   ],
   "source": [
    "disease_drug_dict, df_custom = get_dict_df(disease_custom, drug_custom, graph_custom.to_undirected())"
   ]
  },
  {
   "cell_type": "code",
   "execution_count": 94,
   "id": "921ef522",
   "metadata": {},
   "outputs": [
    {
     "data": {
      "text/html": [
       "<div>\n",
       "<style scoped>\n",
       "    .dataframe tbody tr th:only-of-type {\n",
       "        vertical-align: middle;\n",
       "    }\n",
       "\n",
       "    .dataframe tbody tr th {\n",
       "        vertical-align: top;\n",
       "    }\n",
       "\n",
       "    .dataframe thead th {\n",
       "        text-align: right;\n",
       "    }\n",
       "</style>\n",
       "<table border=\"1\" class=\"dataframe\">\n",
       "  <thead>\n",
       "    <tr style=\"text-align: right;\">\n",
       "      <th></th>\n",
       "      <th>Source</th>\n",
       "      <th>Target</th>\n",
       "      <th>Common Neighbors</th>\n",
       "    </tr>\n",
       "  </thead>\n",
       "  <tbody>\n",
       "    <tr>\n",
       "      <th>0</th>\n",
       "      <td>mondo:0004985</td>\n",
       "      <td>pubchem.compound:60795</td>\n",
       "      <td>3</td>\n",
       "    </tr>\n",
       "    <tr>\n",
       "      <th>125</th>\n",
       "      <td>mondo:0018305</td>\n",
       "      <td>pubchem.compound:5360696</td>\n",
       "      <td>3</td>\n",
       "    </tr>\n",
       "    <tr>\n",
       "      <th>1</th>\n",
       "      <td>mondo:0004985</td>\n",
       "      <td>pubchem.compound:2170</td>\n",
       "      <td>3</td>\n",
       "    </tr>\n",
       "    <tr>\n",
       "      <th>40</th>\n",
       "      <td>mondo:0011719</td>\n",
       "      <td>pubchem.compound:24826799</td>\n",
       "      <td>2</td>\n",
       "    </tr>\n",
       "    <tr>\n",
       "      <th>71</th>\n",
       "      <td>mondo:0011996</td>\n",
       "      <td>pubchem.compound:5328940</td>\n",
       "      <td>2</td>\n",
       "    </tr>\n",
       "  </tbody>\n",
       "</table>\n",
       "</div>"
      ],
      "text/plain": [
       "            Source                     Target Common Neighbors\n",
       "0    mondo:0004985     pubchem.compound:60795                3\n",
       "125  mondo:0018305   pubchem.compound:5360696                3\n",
       "1    mondo:0004985      pubchem.compound:2170                3\n",
       "40   mondo:0011719  pubchem.compound:24826799                2\n",
       "71   mondo:0011996   pubchem.compound:5328940                2"
      ]
     },
     "execution_count": 94,
     "metadata": {},
     "output_type": "execute_result"
    }
   ],
   "source": [
    "df_custom.sort_values(by=sim_scores['cn'], ascending=False).head()"
   ]
  },
  {
   "cell_type": "code",
   "execution_count": 95,
   "id": "6d0be1b5",
   "metadata": {},
   "outputs": [
    {
     "data": {
      "text/plain": [
       "0.11214953271028037"
      ]
     },
     "execution_count": 95,
     "metadata": {},
     "output_type": "execute_result"
    }
   ],
   "source": [
    "# Accuracy for custom KG\n",
    "get_accuracy(gold_standard_dict, disease_drug_dict)"
   ]
  },
  {
   "cell_type": "markdown",
   "id": "b949951a",
   "metadata": {},
   "source": [
    "# Cosine Similarity "
   ]
  },
  {
   "cell_type": "code",
   "execution_count": 96,
   "id": "25999fe2",
   "metadata": {},
   "outputs": [
    {
     "name": "stderr",
     "output_type": "stream",
     "text": [
      "Main iterator: 100%|██████████| 72/72 [00:01<00:00, 71.89it/s]\n"
     ]
    }
   ],
   "source": [
    "disease_drug_dict, df_openbio = get_dict_df(disease_openbio, drug_openbio, graph_openbio.to_undirected(), similarity_type = 'cos')"
   ]
  },
  {
   "cell_type": "code",
   "execution_count": 97,
   "id": "04606bb3",
   "metadata": {},
   "outputs": [
    {
     "data": {
      "text/html": [
       "<div>\n",
       "<style scoped>\n",
       "    .dataframe tbody tr th:only-of-type {\n",
       "        vertical-align: middle;\n",
       "    }\n",
       "\n",
       "    .dataframe tbody tr th {\n",
       "        vertical-align: top;\n",
       "    }\n",
       "\n",
       "    .dataframe thead th {\n",
       "        text-align: right;\n",
       "    }\n",
       "</style>\n",
       "<table border=\"1\" class=\"dataframe\">\n",
       "  <thead>\n",
       "    <tr style=\"text-align: right;\">\n",
       "      <th></th>\n",
       "      <th>Source</th>\n",
       "      <th>Target</th>\n",
       "      <th>Cosine Similiarity</th>\n",
       "    </tr>\n",
       "  </thead>\n",
       "  <tbody>\n",
       "    <tr>\n",
       "      <th>37</th>\n",
       "      <td>mondo:0005190</td>\n",
       "      <td>pubchem.compound:445154</td>\n",
       "      <td>0.082199</td>\n",
       "    </tr>\n",
       "    <tr>\n",
       "      <th>93</th>\n",
       "      <td>mondo:0007926</td>\n",
       "      <td>pubchem.compound:445154</td>\n",
       "      <td>0.082199</td>\n",
       "    </tr>\n",
       "    <tr>\n",
       "      <th>8</th>\n",
       "      <td>mondo:0004985</td>\n",
       "      <td>pubchem.compound:3386</td>\n",
       "      <td>0.121268</td>\n",
       "    </tr>\n",
       "    <tr>\n",
       "      <th>47</th>\n",
       "      <td>mondo:0010726</td>\n",
       "      <td>pubchem.compound:446220</td>\n",
       "      <td>0.134840</td>\n",
       "    </tr>\n",
       "    <tr>\n",
       "      <th>84</th>\n",
       "      <td>mondo:0005021</td>\n",
       "      <td>pubchem.compound:6741</td>\n",
       "      <td>0.144338</td>\n",
       "    </tr>\n",
       "  </tbody>\n",
       "</table>\n",
       "</div>"
      ],
      "text/plain": [
       "           Source                   Target  Cosine Similiarity\n",
       "37  mondo:0005190  pubchem.compound:445154            0.082199\n",
       "93  mondo:0007926  pubchem.compound:445154            0.082199\n",
       "8   mondo:0004985    pubchem.compound:3386            0.121268\n",
       "47  mondo:0010726  pubchem.compound:446220            0.134840\n",
       "84  mondo:0005021    pubchem.compound:6741            0.144338"
      ]
     },
     "execution_count": 97,
     "metadata": {},
     "output_type": "execute_result"
    }
   ],
   "source": [
    "df_openbio.sort_values(by=sim_scores['cos']).head(5)"
   ]
  },
  {
   "cell_type": "code",
   "execution_count": 98,
   "id": "a875f884",
   "metadata": {},
   "outputs": [
    {
     "data": {
      "text/plain": [
       "0.05813953488372093"
      ]
     },
     "execution_count": 98,
     "metadata": {},
     "output_type": "execute_result"
    }
   ],
   "source": [
    "# Accuracy for openbiolink KG\n",
    "get_accuracy(gold_standard_dict, disease_drug_dict)"
   ]
  },
  {
   "cell_type": "code",
   "execution_count": 99,
   "id": "21de5c34",
   "metadata": {},
   "outputs": [
    {
     "name": "stderr",
     "output_type": "stream",
     "text": [
      "Main iterator: 100%|██████████| 59/59 [00:00<00:00, 151.90it/s]\n"
     ]
    }
   ],
   "source": [
    "disease_drug_dict, df_custom = get_dict_df(disease_custom, drug_custom, graph_custom.to_undirected(), similarity_type = 'cos')"
   ]
  },
  {
   "cell_type": "code",
   "execution_count": 100,
   "id": "b252bc39",
   "metadata": {},
   "outputs": [
    {
     "data": {
      "text/plain": [
       "0.0547945205479452"
      ]
     },
     "execution_count": 100,
     "metadata": {},
     "output_type": "execute_result"
    }
   ],
   "source": [
    "# Accuracy for custom KG\n",
    "get_accuracy(gold_standard_dict, disease_drug_dict)"
   ]
  },
  {
   "cell_type": "code",
   "execution_count": 101,
   "id": "1e2fdba5",
   "metadata": {},
   "outputs": [
    {
     "data": {
      "text/html": [
       "<div>\n",
       "<style scoped>\n",
       "    .dataframe tbody tr th:only-of-type {\n",
       "        vertical-align: middle;\n",
       "    }\n",
       "\n",
       "    .dataframe tbody tr th {\n",
       "        vertical-align: top;\n",
       "    }\n",
       "\n",
       "    .dataframe thead th {\n",
       "        text-align: right;\n",
       "    }\n",
       "</style>\n",
       "<table border=\"1\" class=\"dataframe\">\n",
       "  <thead>\n",
       "    <tr style=\"text-align: right;\">\n",
       "      <th></th>\n",
       "      <th>Source</th>\n",
       "      <th>Target</th>\n",
       "      <th>Cosine Similiarity</th>\n",
       "    </tr>\n",
       "  </thead>\n",
       "  <tbody>\n",
       "    <tr>\n",
       "      <th>0</th>\n",
       "      <td>mondo:0004985</td>\n",
       "      <td>pubchem.compound:32798</td>\n",
       "      <td>0.267261</td>\n",
       "    </tr>\n",
       "    <tr>\n",
       "      <th>1</th>\n",
       "      <td>mondo:0004985</td>\n",
       "      <td>pubchem.compound:31307</td>\n",
       "      <td>0.267261</td>\n",
       "    </tr>\n",
       "    <tr>\n",
       "      <th>2</th>\n",
       "      <td>mondo:0004985</td>\n",
       "      <td>pubchem.compound:5311067</td>\n",
       "      <td>0.267261</td>\n",
       "    </tr>\n",
       "    <tr>\n",
       "      <th>3</th>\n",
       "      <td>mondo:0004985</td>\n",
       "      <td>pubchem.compound:6714002</td>\n",
       "      <td>0.267261</td>\n",
       "    </tr>\n",
       "    <tr>\n",
       "      <th>4</th>\n",
       "      <td>mondo:0004985</td>\n",
       "      <td>pubchem.compound:247839</td>\n",
       "      <td>0.267261</td>\n",
       "    </tr>\n",
       "  </tbody>\n",
       "</table>\n",
       "</div>"
      ],
      "text/plain": [
       "          Source                    Target  Cosine Similiarity\n",
       "0  mondo:0004985    pubchem.compound:32798            0.267261\n",
       "1  mondo:0004985    pubchem.compound:31307            0.267261\n",
       "2  mondo:0004985  pubchem.compound:5311067            0.267261\n",
       "3  mondo:0004985  pubchem.compound:6714002            0.267261\n",
       "4  mondo:0004985   pubchem.compound:247839            0.267261"
      ]
     },
     "execution_count": 101,
     "metadata": {},
     "output_type": "execute_result"
    }
   ],
   "source": [
    "df_custom.head()"
   ]
  },
  {
   "cell_type": "markdown",
   "id": "908f2ac1",
   "metadata": {},
   "source": [
    "# Jaccard Index"
   ]
  },
  {
   "cell_type": "code",
   "execution_count": 102,
   "id": "8021014b",
   "metadata": {},
   "outputs": [
    {
     "name": "stderr",
     "output_type": "stream",
     "text": [
      "Main iterator: 100%|██████████| 72/72 [00:01<00:00, 43.37it/s]\n"
     ]
    }
   ],
   "source": [
    "disease_drug_dict, df_openbio = get_dict_df(disease_openbio, drug_openbio, graph_openbio.to_undirected(), similarity_type = 'ji')"
   ]
  },
  {
   "cell_type": "code",
   "execution_count": 103,
   "id": "9195c76b",
   "metadata": {},
   "outputs": [
    {
     "data": {
      "text/html": [
       "<div>\n",
       "<style scoped>\n",
       "    .dataframe tbody tr th:only-of-type {\n",
       "        vertical-align: middle;\n",
       "    }\n",
       "\n",
       "    .dataframe tbody tr th {\n",
       "        vertical-align: top;\n",
       "    }\n",
       "\n",
       "    .dataframe thead th {\n",
       "        text-align: right;\n",
       "    }\n",
       "</style>\n",
       "<table border=\"1\" class=\"dataframe\">\n",
       "  <thead>\n",
       "    <tr style=\"text-align: right;\">\n",
       "      <th></th>\n",
       "      <th>Source</th>\n",
       "      <th>Target</th>\n",
       "      <th>Jaccard index</th>\n",
       "    </tr>\n",
       "  </thead>\n",
       "  <tbody>\n",
       "    <tr>\n",
       "      <th>37</th>\n",
       "      <td>mondo:0005190</td>\n",
       "      <td>pubchem.compound:445154</td>\n",
       "      <td>0.006757</td>\n",
       "    </tr>\n",
       "    <tr>\n",
       "      <th>93</th>\n",
       "      <td>mondo:0007926</td>\n",
       "      <td>pubchem.compound:445154</td>\n",
       "      <td>0.006757</td>\n",
       "    </tr>\n",
       "    <tr>\n",
       "      <th>47</th>\n",
       "      <td>mondo:0010726</td>\n",
       "      <td>pubchem.compound:446220</td>\n",
       "      <td>0.018182</td>\n",
       "    </tr>\n",
       "    <tr>\n",
       "      <th>8</th>\n",
       "      <td>mondo:0004985</td>\n",
       "      <td>pubchem.compound:3386</td>\n",
       "      <td>0.028571</td>\n",
       "    </tr>\n",
       "    <tr>\n",
       "      <th>31</th>\n",
       "      <td>mondo:0007739</td>\n",
       "      <td>pubchem.compound:5711</td>\n",
       "      <td>0.055556</td>\n",
       "    </tr>\n",
       "    <tr>\n",
       "      <th>...</th>\n",
       "      <td>...</td>\n",
       "      <td>...</td>\n",
       "      <td>...</td>\n",
       "    </tr>\n",
       "    <tr>\n",
       "      <th>50</th>\n",
       "      <td>mondo:0004989</td>\n",
       "      <td>pubchem.compound:4764</td>\n",
       "      <td>1.000000</td>\n",
       "    </tr>\n",
       "    <tr>\n",
       "      <th>49</th>\n",
       "      <td>mondo:0004989</td>\n",
       "      <td>pubchem.compound:4817</td>\n",
       "      <td>1.000000</td>\n",
       "    </tr>\n",
       "    <tr>\n",
       "      <th>48</th>\n",
       "      <td>mondo:0004989</td>\n",
       "      <td>pubchem.compound:302576</td>\n",
       "      <td>1.000000</td>\n",
       "    </tr>\n",
       "    <tr>\n",
       "      <th>54</th>\n",
       "      <td>mondo:0006639</td>\n",
       "      <td>pubchem.compound:302576</td>\n",
       "      <td>1.000000</td>\n",
       "    </tr>\n",
       "    <tr>\n",
       "      <th>110</th>\n",
       "      <td>mondo:0004948</td>\n",
       "      <td>pubchem.compound:10022508</td>\n",
       "      <td>1.000000</td>\n",
       "    </tr>\n",
       "  </tbody>\n",
       "</table>\n",
       "<p>111 rows × 3 columns</p>\n",
       "</div>"
      ],
      "text/plain": [
       "            Source                     Target  Jaccard index\n",
       "37   mondo:0005190    pubchem.compound:445154       0.006757\n",
       "93   mondo:0007926    pubchem.compound:445154       0.006757\n",
       "47   mondo:0010726    pubchem.compound:446220       0.018182\n",
       "8    mondo:0004985      pubchem.compound:3386       0.028571\n",
       "31   mondo:0007739      pubchem.compound:5711       0.055556\n",
       "..             ...                        ...            ...\n",
       "50   mondo:0004989      pubchem.compound:4764       1.000000\n",
       "49   mondo:0004989      pubchem.compound:4817       1.000000\n",
       "48   mondo:0004989    pubchem.compound:302576       1.000000\n",
       "54   mondo:0006639    pubchem.compound:302576       1.000000\n",
       "110  mondo:0004948  pubchem.compound:10022508       1.000000\n",
       "\n",
       "[111 rows x 3 columns]"
      ]
     },
     "execution_count": 103,
     "metadata": {},
     "output_type": "execute_result"
    }
   ],
   "source": [
    "df_openbio.sort_values(by=sim_scores['ji'])"
   ]
  },
  {
   "cell_type": "code",
   "execution_count": 104,
   "id": "0d0254ce",
   "metadata": {},
   "outputs": [
    {
     "data": {
      "text/plain": [
       "0.05813953488372093"
      ]
     },
     "execution_count": 104,
     "metadata": {},
     "output_type": "execute_result"
    }
   ],
   "source": [
    "get_accuracy(gold_standard_dict, disease_drug_dict)"
   ]
  },
  {
   "cell_type": "code",
   "execution_count": 105,
   "id": "82306045",
   "metadata": {},
   "outputs": [
    {
     "name": "stderr",
     "output_type": "stream",
     "text": [
      "Main iterator: 100%|██████████| 59/59 [00:00<00:00, 111.13it/s]\n"
     ]
    }
   ],
   "source": [
    "disease_drug_dict, df_custom = get_dict_df(disease_custom, drug_custom, graph_custom.to_undirected(), similarity_type = 'ji')"
   ]
  },
  {
   "cell_type": "code",
   "execution_count": 107,
   "id": "5f5fcb70",
   "metadata": {},
   "outputs": [
    {
     "data": {
      "text/html": [
       "<div>\n",
       "<style scoped>\n",
       "    .dataframe tbody tr th:only-of-type {\n",
       "        vertical-align: middle;\n",
       "    }\n",
       "\n",
       "    .dataframe tbody tr th {\n",
       "        vertical-align: top;\n",
       "    }\n",
       "\n",
       "    .dataframe thead th {\n",
       "        text-align: right;\n",
       "    }\n",
       "</style>\n",
       "<table border=\"1\" class=\"dataframe\">\n",
       "  <thead>\n",
       "    <tr style=\"text-align: right;\">\n",
       "      <th></th>\n",
       "      <th>Source</th>\n",
       "      <th>Target</th>\n",
       "      <th>Jaccard index</th>\n",
       "    </tr>\n",
       "  </thead>\n",
       "  <tbody>\n",
       "    <tr>\n",
       "      <th>0</th>\n",
       "      <td>mondo:0004985</td>\n",
       "      <td>pubchem.compound:5311507</td>\n",
       "      <td>0.105263</td>\n",
       "    </tr>\n",
       "    <tr>\n",
       "      <th>1</th>\n",
       "      <td>mondo:0007254</td>\n",
       "      <td>pubchem.compound:6013</td>\n",
       "      <td>0.055556</td>\n",
       "    </tr>\n",
       "    <tr>\n",
       "      <th>2</th>\n",
       "      <td>mondo:0005068</td>\n",
       "      <td>pubchem.compound:44093</td>\n",
       "      <td>0.200000</td>\n",
       "    </tr>\n",
       "    <tr>\n",
       "      <th>3</th>\n",
       "      <td>mondo:0005133</td>\n",
       "      <td>pubchem.compound:3902</td>\n",
       "      <td>0.333333</td>\n",
       "    </tr>\n",
       "    <tr>\n",
       "      <th>4</th>\n",
       "      <td>mondo:0005133</td>\n",
       "      <td>pubchem.compound:13109</td>\n",
       "      <td>0.333333</td>\n",
       "    </tr>\n",
       "  </tbody>\n",
       "</table>\n",
       "</div>"
      ],
      "text/plain": [
       "          Source                    Target  Jaccard index\n",
       "0  mondo:0004985  pubchem.compound:5311507       0.105263\n",
       "1  mondo:0007254     pubchem.compound:6013       0.055556\n",
       "2  mondo:0005068    pubchem.compound:44093       0.200000\n",
       "3  mondo:0005133     pubchem.compound:3902       0.333333\n",
       "4  mondo:0005133    pubchem.compound:13109       0.333333"
      ]
     },
     "execution_count": 107,
     "metadata": {},
     "output_type": "execute_result"
    }
   ],
   "source": [
    "df_custom.head()"
   ]
  },
  {
   "cell_type": "code",
   "execution_count": 108,
   "id": "7167678e",
   "metadata": {},
   "outputs": [
    {
     "data": {
      "text/plain": [
       "0.04580152671755725"
      ]
     },
     "execution_count": 108,
     "metadata": {},
     "output_type": "execute_result"
    }
   ],
   "source": [
    "get_accuracy(gold_standard_dict, disease_drug_dict)"
   ]
  },
  {
   "cell_type": "markdown",
   "id": "f637841c",
   "metadata": {},
   "source": [
    "# Sorensen Index "
   ]
  },
  {
   "cell_type": "code",
   "execution_count": 114,
   "id": "3a150acd",
   "metadata": {},
   "outputs": [
    {
     "name": "stderr",
     "output_type": "stream",
     "text": [
      "Main iterator: 100%|██████████| 72/72 [00:00<00:00, 78.65it/s]\n"
     ]
    }
   ],
   "source": [
    "disease_drug_dict, df_openbio = get_dict_df(disease_openbio, drug_openbio, graph_openbio.to_undirected(), similarity_type = 'si')"
   ]
  },
  {
   "cell_type": "code",
   "execution_count": 122,
   "id": "326a4ad1",
   "metadata": {},
   "outputs": [
    {
     "data": {
      "text/html": [
       "<div>\n",
       "<style scoped>\n",
       "    .dataframe tbody tr th:only-of-type {\n",
       "        vertical-align: middle;\n",
       "    }\n",
       "\n",
       "    .dataframe tbody tr th {\n",
       "        vertical-align: top;\n",
       "    }\n",
       "\n",
       "    .dataframe thead th {\n",
       "        text-align: right;\n",
       "    }\n",
       "</style>\n",
       "<table border=\"1\" class=\"dataframe\">\n",
       "  <thead>\n",
       "    <tr style=\"text-align: right;\">\n",
       "      <th></th>\n",
       "      <th>Source</th>\n",
       "      <th>Target</th>\n",
       "      <th>Sorensen index</th>\n",
       "    </tr>\n",
       "  </thead>\n",
       "  <tbody>\n",
       "    <tr>\n",
       "      <th>0</th>\n",
       "      <td>mondo:0009831</td>\n",
       "      <td>pubchem.compound:302576</td>\n",
       "      <td>1.000000</td>\n",
       "    </tr>\n",
       "    <tr>\n",
       "      <th>1</th>\n",
       "      <td>mondo:0009831</td>\n",
       "      <td>pubchem.compound:4817</td>\n",
       "      <td>1.000000</td>\n",
       "    </tr>\n",
       "    <tr>\n",
       "      <th>2</th>\n",
       "      <td>mondo:0009831</td>\n",
       "      <td>pubchem.compound:4764</td>\n",
       "      <td>1.000000</td>\n",
       "    </tr>\n",
       "    <tr>\n",
       "      <th>3</th>\n",
       "      <td>mondo:0009831</td>\n",
       "      <td>pubchem.compound:216345</td>\n",
       "      <td>1.000000</td>\n",
       "    </tr>\n",
       "    <tr>\n",
       "      <th>4</th>\n",
       "      <td>mondo:0009831</td>\n",
       "      <td>pubchem.compound:10172943</td>\n",
       "      <td>1.000000</td>\n",
       "    </tr>\n",
       "    <tr>\n",
       "      <th>5</th>\n",
       "      <td>mondo:0009831</td>\n",
       "      <td>pubchem.compound:10022508</td>\n",
       "      <td>1.000000</td>\n",
       "    </tr>\n",
       "    <tr>\n",
       "      <th>6</th>\n",
       "      <td>mondo:0015517</td>\n",
       "      <td>pubchem.compound:9949093</td>\n",
       "      <td>0.400000</td>\n",
       "    </tr>\n",
       "    <tr>\n",
       "      <th>7</th>\n",
       "      <td>mondo:0005101</td>\n",
       "      <td>pubchem.compound:65399</td>\n",
       "      <td>0.400000</td>\n",
       "    </tr>\n",
       "    <tr>\n",
       "      <th>8</th>\n",
       "      <td>mondo:0004985</td>\n",
       "      <td>pubchem.compound:3386</td>\n",
       "      <td>0.055556</td>\n",
       "    </tr>\n",
       "    <tr>\n",
       "      <th>9</th>\n",
       "      <td>mondo:0005005</td>\n",
       "      <td>pubchem.compound:42642645</td>\n",
       "      <td>0.500000</td>\n",
       "    </tr>\n",
       "  </tbody>\n",
       "</table>\n",
       "</div>"
      ],
      "text/plain": [
       "          Source                     Target  Sorensen index\n",
       "0  mondo:0009831    pubchem.compound:302576        1.000000\n",
       "1  mondo:0009831      pubchem.compound:4817        1.000000\n",
       "2  mondo:0009831      pubchem.compound:4764        1.000000\n",
       "3  mondo:0009831    pubchem.compound:216345        1.000000\n",
       "4  mondo:0009831  pubchem.compound:10172943        1.000000\n",
       "5  mondo:0009831  pubchem.compound:10022508        1.000000\n",
       "6  mondo:0015517   pubchem.compound:9949093        0.400000\n",
       "7  mondo:0005101     pubchem.compound:65399        0.400000\n",
       "8  mondo:0004985      pubchem.compound:3386        0.055556\n",
       "9  mondo:0005005  pubchem.compound:42642645        0.500000"
      ]
     },
     "execution_count": 122,
     "metadata": {},
     "output_type": "execute_result"
    }
   ],
   "source": [
    "df_openbio.head(10)"
   ]
  },
  {
   "cell_type": "code",
   "execution_count": 123,
   "id": "a69215c9",
   "metadata": {},
   "outputs": [
    {
     "data": {
      "text/plain": [
       "0.05813953488372093"
      ]
     },
     "execution_count": 123,
     "metadata": {},
     "output_type": "execute_result"
    }
   ],
   "source": [
    "# Accuracy for openbiolink KG\n",
    "get_accuracy(gold_standard_dict, disease_drug_dict)"
   ]
  },
  {
   "cell_type": "code",
   "execution_count": 124,
   "id": "4e767192",
   "metadata": {},
   "outputs": [
    {
     "name": "stderr",
     "output_type": "stream",
     "text": [
      "Main iterator: 100%|██████████| 59/59 [00:00<00:00, 103.22it/s]\n"
     ]
    }
   ],
   "source": [
    "disease_drug_dict, df_custom = get_dict_df(disease_custom, drug_custom, graph_custom.to_undirected(), similarity_type = 'ji')"
   ]
  },
  {
   "cell_type": "code",
   "execution_count": 125,
   "id": "01754d98",
   "metadata": {},
   "outputs": [
    {
     "data": {
      "text/html": [
       "<div>\n",
       "<style scoped>\n",
       "    .dataframe tbody tr th:only-of-type {\n",
       "        vertical-align: middle;\n",
       "    }\n",
       "\n",
       "    .dataframe tbody tr th {\n",
       "        vertical-align: top;\n",
       "    }\n",
       "\n",
       "    .dataframe thead th {\n",
       "        text-align: right;\n",
       "    }\n",
       "</style>\n",
       "<table border=\"1\" class=\"dataframe\">\n",
       "  <thead>\n",
       "    <tr style=\"text-align: right;\">\n",
       "      <th></th>\n",
       "      <th>Source</th>\n",
       "      <th>Target</th>\n",
       "      <th>Jaccard index</th>\n",
       "    </tr>\n",
       "  </thead>\n",
       "  <tbody>\n",
       "    <tr>\n",
       "      <th>0</th>\n",
       "      <td>mondo:0004985</td>\n",
       "      <td>pubchem.compound:5311507</td>\n",
       "      <td>0.105263</td>\n",
       "    </tr>\n",
       "    <tr>\n",
       "      <th>1</th>\n",
       "      <td>mondo:0007254</td>\n",
       "      <td>pubchem.compound:6013</td>\n",
       "      <td>0.055556</td>\n",
       "    </tr>\n",
       "    <tr>\n",
       "      <th>2</th>\n",
       "      <td>mondo:0005068</td>\n",
       "      <td>pubchem.compound:44093</td>\n",
       "      <td>0.200000</td>\n",
       "    </tr>\n",
       "    <tr>\n",
       "      <th>3</th>\n",
       "      <td>mondo:0005133</td>\n",
       "      <td>pubchem.compound:3902</td>\n",
       "      <td>0.333333</td>\n",
       "    </tr>\n",
       "    <tr>\n",
       "      <th>4</th>\n",
       "      <td>mondo:0005133</td>\n",
       "      <td>pubchem.compound:13109</td>\n",
       "      <td>0.333333</td>\n",
       "    </tr>\n",
       "  </tbody>\n",
       "</table>\n",
       "</div>"
      ],
      "text/plain": [
       "          Source                    Target  Jaccard index\n",
       "0  mondo:0004985  pubchem.compound:5311507       0.105263\n",
       "1  mondo:0007254     pubchem.compound:6013       0.055556\n",
       "2  mondo:0005068    pubchem.compound:44093       0.200000\n",
       "3  mondo:0005133     pubchem.compound:3902       0.333333\n",
       "4  mondo:0005133    pubchem.compound:13109       0.333333"
      ]
     },
     "execution_count": 125,
     "metadata": {},
     "output_type": "execute_result"
    }
   ],
   "source": [
    "df_custom.head()"
   ]
  },
  {
   "cell_type": "code",
   "execution_count": 126,
   "id": "d8296c8f",
   "metadata": {},
   "outputs": [
    {
     "data": {
      "text/plain": [
       "0.04580152671755725"
      ]
     },
     "execution_count": 126,
     "metadata": {},
     "output_type": "execute_result"
    }
   ],
   "source": [
    "# Accuracy for custom KG\n",
    "get_accuracy(gold_standard_dict, disease_drug_dict)"
   ]
  },
  {
   "cell_type": "code",
   "execution_count": null,
   "id": "c31f8957",
   "metadata": {},
   "outputs": [],
   "source": []
  }
 ],
 "metadata": {
  "kernelspec": {
   "display_name": "Python 3",
   "language": "python",
   "name": "python3"
  },
  "language_info": {
   "codemirror_mode": {
    "name": "ipython",
    "version": 3
   },
   "file_extension": ".py",
   "mimetype": "text/x-python",
   "name": "python",
   "nbconvert_exporter": "python",
   "pygments_lexer": "ipython3",
   "version": "3.8.5"
  }
 },
 "nbformat": 4,
 "nbformat_minor": 5
}
