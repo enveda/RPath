{
 "cells": [
  {
   "cell_type": "markdown",
   "id": "historical-railway",
   "metadata": {},
   "source": [
    "# Dataset probabilities\n",
    "\n",
    "This notebook involves analysing the clinical trial information for chemical-disease pair in for a given dataset to get the probability by chance."
   ]
  },
  {
   "cell_type": "markdown",
   "id": "satellite-cross",
   "metadata": {},
   "source": [
    "# Imports"
   ]
  },
  {
   "cell_type": "code",
   "execution_count": 1,
   "id": "elect-repair",
   "metadata": {},
   "outputs": [],
   "source": [
    "import os\n",
    "import logging\n",
    "import json\n",
    "from collections import Counter\n",
    "from tqdm import tqdm\n",
    "import pandas as pd\n",
    "from itertools import product\n",
    "\n",
    "from networkx import DiGraph\n",
    "from networkx.algorithms.shortest_paths.generic import has_path\n",
    "\n",
    "from utils import KG_DATA_PATH, DATA_DIR, create_graph_from_df"
   ]
  },
  {
   "cell_type": "code",
   "execution_count": 2,
   "id": "dated-diversity",
   "metadata": {},
   "outputs": [],
   "source": [
    "logger = logging.getLogger(__name__)"
   ]
  },
  {
   "cell_type": "markdown",
   "id": "circular-ceremony",
   "metadata": {},
   "source": [
    "# Load KG"
   ]
  },
  {
   "cell_type": "code",
   "execution_count": 3,
   "id": "standard-orange",
   "metadata": {},
   "outputs": [
    {
     "name": "stderr",
     "output_type": "stream",
     "text": [
      "Report on the number of relations: {-1: 12477, 1: 29022}\n",
      "Report on the number of relations: {1: 43578, -1: 8045}\n"
     ]
    }
   ],
   "source": [
    "openbiolinks_df = pd.read_csv(\n",
    "    os.path.join(KG_DATA_PATH, 'openbiolink_filtered_kg.tsv'),\n",
    "    sep='\\t'\n",
    ")\n",
    "\n",
    "custom_df = pd.read_csv(\n",
    "    os.path.join(KG_DATA_PATH, 'custom_filtered_kg.tsv'),\n",
    "    sep='\\t'\n",
    ")\n",
    "\n",
    "openbio_graph = create_graph_from_df(openbiolinks_df)\n",
    "custom_graph = create_graph_from_df(custom_df)"
   ]
  },
  {
   "cell_type": "markdown",
   "id": "tested-emerald",
   "metadata": {},
   "source": [
    "# Loading clinical trial pairs"
   ]
  },
  {
   "cell_type": "code",
   "execution_count": 4,
   "id": "sharp-japan",
   "metadata": {},
   "outputs": [],
   "source": [
    "with open(os.path.join(DATA_DIR, 'gold-standard', 'clinical-trial.json'), 'r') as f:\n",
    "    clinical_filtered = json.load(f)"
   ]
  },
  {
   "cell_type": "markdown",
   "id": "intermediate-cooling",
   "metadata": {},
   "source": [
    "# GEO, LC1000, OpenTargets and Creed"
   ]
  },
  {
   "cell_type": "code",
   "execution_count": 5,
   "id": "regulation-charm",
   "metadata": {},
   "outputs": [],
   "source": [
    "# Load gene expression files\n",
    "\n",
    "with open(os.path.join(DATA_DIR, 'transcriptomics', 'creed_harmonized_expression.json')) as file:\n",
    "    creed_chemicals = json.load(file).keys()\n",
    "    \n",
    "with open(os.path.join(DATA_DIR, 'transcriptomics', 'geo_harmonized_expression.json')) as file2:\n",
    "    geo_diseases = json.load(file2).keys()\n",
    "    \n",
    "with open(os.path.join(DATA_DIR, 'transcriptomics', 'lc1000_harmonized_expression.json')) as file3:\n",
    "    lc1000_chemicals = json.load(file3).keys()\n",
    "    \n",
    "with open(os.path.join(DATA_DIR, 'transcriptomics', 'target_harmonized_expression.json')) as file4:\n",
    "    open_target_diseases = json.load(file4).keys()\n"
   ]
  },
  {
   "cell_type": "markdown",
   "id": "mineral-mercury",
   "metadata": {},
   "source": [
    "# Get overlaps with subgraph"
   ]
  },
  {
   "cell_type": "code",
   "execution_count": 6,
   "id": "equivalent-snake",
   "metadata": {},
   "outputs": [],
   "source": [
    "MAP = {\n",
    "    'creed' : creed_chemicals,\n",
    "    'target': open_target_diseases,\n",
    "    'geo': geo_diseases,\n",
    "    'lc1000': lc1000_chemicals,\n",
    "}"
   ]
  },
  {
   "cell_type": "code",
   "execution_count": 7,
   "id": "premium-timothy",
   "metadata": {},
   "outputs": [],
   "source": [
    "def get_overlap_stats(graph_dict: dict):\n",
    "    \n",
    "    openbio_graph = graph_dict['openbio']\n",
    "    \n",
    "    openlink_kg_chemical = set()\n",
    "    openlink_kg_disease = set()\n",
    "\n",
    "    for node in openbio_graph.nodes():\n",
    "        if 'pubchem' in node:\n",
    "            openlink_kg_chemical.add(node)\n",
    "\n",
    "        elif 'mondo' in node:\n",
    "            openlink_kg_disease.add(node)\n",
    "\n",
    "    custom_graph = graph_dict['custom']\n",
    "    \n",
    "    custom_kg_chemical = set()\n",
    "    custom_kg_disease = set()\n",
    "\n",
    "    for node in custom_graph.nodes():\n",
    "        if 'pubchem' in node:\n",
    "            custom_kg_chemical.add(node)\n",
    "\n",
    "        elif 'mondo' in node:\n",
    "            custom_kg_disease.add(node)\n",
    "            \n",
    "    # Get data present on in the KG \n",
    "    info_dict = {}\n",
    "\n",
    "    for i in MAP:\n",
    "        curies = set(MAP[i])\n",
    "\n",
    "        print(f'\\n#### {i} ####')\n",
    "        disease1 = openlink_kg_disease.intersection(curies)\n",
    "        disease2 = custom_kg_disease.intersection(curies)\n",
    "\n",
    "        chemical1 = openlink_kg_chemical.intersection(curies)\n",
    "        chemical2 = custom_kg_chemical.intersection(curies)\n",
    "\n",
    "        if i not in info_dict:\n",
    "            info_dict[i] = {}\n",
    "\n",
    "        if len(disease1) > 0:\n",
    "            info_dict[i]['openbiolinks'] = disease1\n",
    "            info_dict[i]['custom'] = disease2\n",
    "        elif len(chemical1) > 0:\n",
    "            info_dict[i]['openbiolinks'] = chemical1\n",
    "            info_dict[i]['custom'] = chemical2\n",
    "        else:\n",
    "            print('SOMETHING IS WRONG!!!')\n",
    "\n",
    "        print(f'Overlaps with OpenBioLink KG chemical', len(chemical1))\n",
    "        print(f'Overlaps with Custom KG chemical', len(chemical2))\n",
    "        print(f'Overlaps with OpenBioLink KG disease', len(disease1))\n",
    "        print(f'Overlaps with Custom KG disease', len(disease2))\n",
    "    return info_dict"
   ]
  },
  {
   "cell_type": "code",
   "execution_count": 8,
   "id": "liable-policy",
   "metadata": {},
   "outputs": [
    {
     "name": "stdout",
     "output_type": "stream",
     "text": [
      "\n",
      "#### creed ####\n",
      "Overlaps with OpenBioLink KG chemical 31\n",
      "Overlaps with Custom KG chemical 30\n",
      "Overlaps with OpenBioLink KG disease 0\n",
      "Overlaps with Custom KG disease 0\n",
      "\n",
      "#### target ####\n",
      "Overlaps with OpenBioLink KG chemical 0\n",
      "Overlaps with Custom KG chemical 0\n",
      "Overlaps with OpenBioLink KG disease 18\n",
      "Overlaps with Custom KG disease 39\n",
      "\n",
      "#### geo ####\n",
      "Overlaps with OpenBioLink KG chemical 0\n",
      "Overlaps with Custom KG chemical 0\n",
      "Overlaps with OpenBioLink KG disease 10\n",
      "Overlaps with Custom KG disease 17\n",
      "\n",
      "#### lc1000 ####\n",
      "Overlaps with OpenBioLink KG chemical 189\n",
      "Overlaps with Custom KG chemical 198\n",
      "Overlaps with OpenBioLink KG disease 0\n",
      "Overlaps with Custom KG disease 0\n"
     ]
    }
   ],
   "source": [
    "info_graph = get_overlap_stats(graph_dict={'openbio': openbio_graph, 'custom': custom_graph})"
   ]
  },
  {
   "cell_type": "markdown",
   "id": "healthy-juvenile",
   "metadata": {},
   "source": [
    "# Get clinical pair percentage based on dataset and gold standard data"
   ]
  },
  {
   "cell_type": "code",
   "execution_count": 9,
   "id": "convinced-belfast",
   "metadata": {},
   "outputs": [],
   "source": [
    "def get_gold_standard_stats(\n",
    "    gold_standard_dict: dict, \n",
    "    graph_dict: dict, \n",
    "    info_dict: dict\n",
    "):\n",
    "    \n",
    "    clinical_evidence = {'openbiolinks': {}, 'custom': {}}\n",
    "    count_dict = {'openbiolinks': {}, 'custom': {}}\n",
    "    total_count_dict = {'openbiolinks': {}, 'custom': {}}\n",
    "    \n",
    "    openbio_graph = graph_dict['openbio']\n",
    "    custom_graph = graph_dict['custom']\n",
    "\n",
    "    for c, d in product(['creed', 'lc1000'], ['target', 'geo']):\n",
    "        c_set = info_dict[c]\n",
    "        d_set = info_dict[d]\n",
    "        \n",
    "        # For OpenBioLinks\n",
    "        openbio_pairs_with_paths = 0\n",
    "        tp_openbio = 0\n",
    "        \n",
    "        for chem_idx, disease_idx in product(c_set['openbiolinks'], d_set['openbiolinks']):\n",
    "            if has_path(G=openbio_graph, source=chem_idx, target=disease_idx):\n",
    "                openbio_pairs_with_paths += 1\n",
    "                name = chem_idx + '_' + disease_idx\n",
    "                \n",
    "                if name in gold_standard_dict:\n",
    "                    clinical_evidence['openbiolinks'][name] = 'yes'\n",
    "                    tp_openbio += 1\n",
    "\n",
    "        key_name = c + '_' + d\n",
    "        \n",
    "        # No.of clinical trial pairs\n",
    "        count_dict['openbiolinks'][key_name] = tp_openbio  \n",
    "        \n",
    "        # Total no.of pairs\n",
    "        total_count_dict['openbiolinks'][key_name] = openbio_pairs_with_paths\n",
    "        \n",
    "        # For Custom Network\n",
    "        custom_pairs_with_paths = 0\n",
    "        tp_custom = 0\n",
    "\n",
    "        for chem_idx, disease_idx in product(c_set['custom'], d_set['custom']):\n",
    "            if has_path(G=custom_graph, source=chem_idx, target=disease_idx):\n",
    "                custom_pairs_with_paths += 1\n",
    "                name = chem_idx + '_' + disease_idx\n",
    "                if name in gold_standard_dict:\n",
    "                    clinical_evidence['custom'][name] = 'yes'\n",
    "                    tp_custom += 1\n",
    "\n",
    "        key_name = c + '_' + d\n",
    "        \n",
    "        # No.of clinical trial pairs\n",
    "        count_dict['custom'][key_name] = tp_custom\n",
    "        \n",
    "        # Total no.of pairs\n",
    "        total_count_dict['custom'][key_name] = custom_pairs_with_paths\n",
    "    \n",
    "    # Display the value by change df\n",
    "    data_df = pd.DataFrame(\n",
    "        columns=['creed_target', 'creed_geo', 'lc1000_target', 'lc1000_geo'],\n",
    "        index=['openbiolinks', 'custom']\n",
    "    )    \n",
    "    \n",
    "    for kg_name in total_count_dict:\n",
    "        for el in total_count_dict[kg_name]: \n",
    "            val = count_dict[kg_name][el] / total_count_dict[kg_name][el]\n",
    "            data_df.loc[kg_name, el] = val*100\n",
    "    \n",
    "    return data_df, count_dict"
   ]
  },
  {
   "cell_type": "markdown",
   "id": "lightweight-mambo",
   "metadata": {},
   "source": [
    "# Clinical data - Value by chance"
   ]
  },
  {
   "cell_type": "code",
   "execution_count": 10,
   "id": "excellent-magnitude",
   "metadata": {},
   "outputs": [],
   "source": [
    "df, counts = get_gold_standard_stats(\n",
    "    clinical_filtered, \n",
    "    graph_dict={'openbio': openbio_graph, 'custom': custom_graph},\n",
    "    info_dict=info_graph,\n",
    ")"
   ]
  },
  {
   "cell_type": "code",
   "execution_count": 11,
   "id": "criminal-alpha",
   "metadata": {
    "pycharm": {
     "name": "#%%\n"
    }
   },
   "outputs": [
    {
     "data": {
      "text/html": [
       "<div>\n",
       "<style scoped>\n",
       "    .dataframe tbody tr th:only-of-type {\n",
       "        vertical-align: middle;\n",
       "    }\n",
       "\n",
       "    .dataframe tbody tr th {\n",
       "        vertical-align: top;\n",
       "    }\n",
       "\n",
       "    .dataframe thead th {\n",
       "        text-align: right;\n",
       "    }\n",
       "</style>\n",
       "<table border=\"1\" class=\"dataframe\">\n",
       "  <thead>\n",
       "    <tr style=\"text-align: right;\">\n",
       "      <th></th>\n",
       "      <th>creed_target</th>\n",
       "      <th>creed_geo</th>\n",
       "      <th>lc1000_target</th>\n",
       "      <th>lc1000_geo</th>\n",
       "    </tr>\n",
       "  </thead>\n",
       "  <tbody>\n",
       "    <tr>\n",
       "      <th>openbiolinks</th>\n",
       "      <td>32.6648</td>\n",
       "      <td>41.1538</td>\n",
       "      <td>15.012</td>\n",
       "      <td>17.4214</td>\n",
       "    </tr>\n",
       "    <tr>\n",
       "      <th>custom</th>\n",
       "      <td>24.4032</td>\n",
       "      <td>34.0771</td>\n",
       "      <td>9.61701</td>\n",
       "      <td>13.7363</td>\n",
       "    </tr>\n",
       "  </tbody>\n",
       "</table>\n",
       "</div>"
      ],
      "text/plain": [
       "             creed_target creed_geo lc1000_target lc1000_geo\n",
       "openbiolinks      32.6648   41.1538        15.012    17.4214\n",
       "custom            24.4032   34.0771       9.61701    13.7363"
      ]
     },
     "execution_count": 11,
     "metadata": {},
     "output_type": "execute_result"
    }
   ],
   "source": [
    "df"
   ]
  },
  {
   "cell_type": "code",
   "execution_count": 12,
   "id": "appropriate-herald",
   "metadata": {
    "pycharm": {
     "name": "#%%\n"
    }
   },
   "outputs": [
    {
     "data": {
      "text/plain": [
       "{'openbiolinks': {'creed_target': 146,\n",
       "  'creed_geo': 114,\n",
       "  'lc1000_target': 385,\n",
       "  'lc1000_geo': 296},\n",
       " 'custom': {'creed_target': 285,\n",
       "  'creed_geo': 171,\n",
       "  'lc1000_target': 713,\n",
       "  'lc1000_geo': 432}}"
      ]
     },
     "execution_count": 12,
     "metadata": {},
     "output_type": "execute_result"
    }
   ],
   "source": [
    "counts"
   ]
  }
 ],
 "metadata": {
  "kernelspec": {
   "display_name": "Python 3",
   "language": "python",
   "name": "python3"
  },
  "language_info": {
   "codemirror_mode": {
    "name": "ipython",
    "version": 3
   },
   "file_extension": ".py",
   "mimetype": "text/x-python",
   "name": "python",
   "nbconvert_exporter": "python",
   "pygments_lexer": "ipython3",
   "version": "3.8.5"
  }
 },
 "nbformat": 4,
 "nbformat_minor": 5
}
