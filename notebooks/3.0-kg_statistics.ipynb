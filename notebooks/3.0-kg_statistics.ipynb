{
 "cells": [
  {
   "cell_type": "markdown",
   "id": "monthly-problem",
   "metadata": {},
   "source": [
    "# Kg-statistics\n",
    "\n",
    "This notebook compares the graph statistics of the permuted and the raw graphs"
   ]
  },
  {
   "cell_type": "markdown",
   "id": "rubber-evans",
   "metadata": {},
   "source": [
    "# Imports"
   ]
  },
  {
   "cell_type": "code",
   "execution_count": 1,
   "id": "pediatric-american",
   "metadata": {},
   "outputs": [],
   "source": [
    "import os\n",
    "import pandas as pd\n",
    "import networkx as nx\n",
    "\n",
    "from utils import KG_DATA_PATH, create_graph_from_df"
   ]
  },
  {
   "cell_type": "markdown",
   "id": "9af3b5f3",
   "metadata": {},
   "source": [
    "# Helper Functions"
   ]
  },
  {
   "cell_type": "code",
   "execution_count": 2,
   "id": "76442b4e",
   "metadata": {},
   "outputs": [],
   "source": [
    "def get_longest_shortest_path(df, graph):\n",
    "    longest = 5e-324\n",
    "    \n",
    "    drugs = set(df[df['source'].str.startswith('pubchem')]['source'])\n",
    "    diseases = set(df[df['target'].str.startswith('mondo')]['target'])\n",
    "    \n",
    "    for drug in drugs:\n",
    "        for disease in diseases:\n",
    "            # some paths do not exist\n",
    "            try:\n",
    "                path_length = len(nx.shortest_path(graph, source = drug, target = disease))\n",
    "            except:\n",
    "                continue\n",
    "            if path_length > longest:\n",
    "                longest = path_length\n",
    "    \n",
    "    return longest"
   ]
  },
  {
   "cell_type": "markdown",
   "id": "outstanding-friend",
   "metadata": {},
   "source": [
    "# Load data"
   ]
  },
  {
   "cell_type": "code",
   "execution_count": 3,
   "id": "determined-sunday",
   "metadata": {},
   "outputs": [
    {
     "data": {
      "text/html": [
       "<div>\n",
       "<style scoped>\n",
       "    .dataframe tbody tr th:only-of-type {\n",
       "        vertical-align: middle;\n",
       "    }\n",
       "\n",
       "    .dataframe tbody tr th {\n",
       "        vertical-align: top;\n",
       "    }\n",
       "\n",
       "    .dataframe thead th {\n",
       "        text-align: right;\n",
       "    }\n",
       "</style>\n",
       "<table border=\"1\" class=\"dataframe\">\n",
       "  <thead>\n",
       "    <tr style=\"text-align: right;\">\n",
       "      <th></th>\n",
       "      <th>source</th>\n",
       "      <th>target</th>\n",
       "      <th>polarity</th>\n",
       "    </tr>\n",
       "  </thead>\n",
       "  <tbody>\n",
       "    <tr>\n",
       "      <th>0</th>\n",
       "      <td>ncbigene:3308</td>\n",
       "      <td>ncbigene:6622</td>\n",
       "      <td>-1</td>\n",
       "    </tr>\n",
       "    <tr>\n",
       "      <th>1</th>\n",
       "      <td>ncbigene:4804</td>\n",
       "      <td>ncbigene:2885</td>\n",
       "      <td>1</td>\n",
       "    </tr>\n",
       "    <tr>\n",
       "      <th>2</th>\n",
       "      <td>ncbigene:4804</td>\n",
       "      <td>ncbigene:3265</td>\n",
       "      <td>1</td>\n",
       "    </tr>\n",
       "    <tr>\n",
       "      <th>3</th>\n",
       "      <td>ncbigene:4804</td>\n",
       "      <td>ncbigene:5290</td>\n",
       "      <td>1</td>\n",
       "    </tr>\n",
       "    <tr>\n",
       "      <th>4</th>\n",
       "      <td>ncbigene:4804</td>\n",
       "      <td>ncbigene:5295</td>\n",
       "      <td>1</td>\n",
       "    </tr>\n",
       "    <tr>\n",
       "      <th>...</th>\n",
       "      <td>...</td>\n",
       "      <td>...</td>\n",
       "      <td>...</td>\n",
       "    </tr>\n",
       "    <tr>\n",
       "      <th>41494</th>\n",
       "      <td>ncbigene:9982</td>\n",
       "      <td>ncbigene:2246</td>\n",
       "      <td>1</td>\n",
       "    </tr>\n",
       "    <tr>\n",
       "      <th>41495</th>\n",
       "      <td>ncbigene:9982</td>\n",
       "      <td>ncbigene:2248</td>\n",
       "      <td>1</td>\n",
       "    </tr>\n",
       "    <tr>\n",
       "      <th>41496</th>\n",
       "      <td>ncbigene:9982</td>\n",
       "      <td>ncbigene:2252</td>\n",
       "      <td>1</td>\n",
       "    </tr>\n",
       "    <tr>\n",
       "      <th>41497</th>\n",
       "      <td>ncbigene:9982</td>\n",
       "      <td>ncbigene:2255</td>\n",
       "      <td>1</td>\n",
       "    </tr>\n",
       "    <tr>\n",
       "      <th>41498</th>\n",
       "      <td>ncbigene:9982</td>\n",
       "      <td>ncbigene:27006</td>\n",
       "      <td>1</td>\n",
       "    </tr>\n",
       "  </tbody>\n",
       "</table>\n",
       "<p>41499 rows × 3 columns</p>\n",
       "</div>"
      ],
      "text/plain": [
       "              source          target  polarity\n",
       "0      ncbigene:3308   ncbigene:6622        -1\n",
       "1      ncbigene:4804   ncbigene:2885         1\n",
       "2      ncbigene:4804   ncbigene:3265         1\n",
       "3      ncbigene:4804   ncbigene:5290         1\n",
       "4      ncbigene:4804   ncbigene:5295         1\n",
       "...              ...             ...       ...\n",
       "41494  ncbigene:9982   ncbigene:2246         1\n",
       "41495  ncbigene:9982   ncbigene:2248         1\n",
       "41496  ncbigene:9982   ncbigene:2252         1\n",
       "41497  ncbigene:9982   ncbigene:2255         1\n",
       "41498  ncbigene:9982  ncbigene:27006         1\n",
       "\n",
       "[41499 rows x 3 columns]"
      ]
     },
     "execution_count": 3,
     "metadata": {},
     "output_type": "execute_result"
    }
   ],
   "source": [
    "custom = pd.read_csv(\n",
    "    os.path.join(KG_DATA_PATH, 'custom_filtered_kg.tsv'), \n",
    "    sep='\\t'\n",
    ")\n",
    "\n",
    "openbiolink = pd.read_csv(\n",
    "    os.path.join(KG_DATA_PATH, 'openbiolink_filtered_kg.tsv'), \n",
    "    sep='\\t'\n",
    ")\n",
    "openbiolink"
   ]
  },
  {
   "cell_type": "markdown",
   "id": "strange-career",
   "metadata": {},
   "source": [
    "# Create graph"
   ]
  },
  {
   "cell_type": "code",
   "execution_count": 4,
   "id": "spoken-cambodia",
   "metadata": {},
   "outputs": [
    {
     "name": "stderr",
     "output_type": "stream",
     "text": [
      "Report on the number of relations: {-1: 12477, 1: 29022}\n",
      "Report on the number of relations: {1: 43578, -1: 8045}\n"
     ]
    }
   ],
   "source": [
    "graph_openbio = create_graph_from_df(openbiolink)\n",
    "graph_custom = create_graph_from_df(custom)"
   ]
  },
  {
   "cell_type": "markdown",
   "id": "brown-sunglasses",
   "metadata": {},
   "source": [
    "# Graph stats"
   ]
  },
  {
   "cell_type": "code",
   "execution_count": 5,
   "id": "unique-january",
   "metadata": {},
   "outputs": [],
   "source": [
    "data = {\n",
    "    'openbio': {},\n",
    "    'custom': {}\n",
    "}\n",
    "\n",
    "openbio_g = graph_openbio\n",
    "custom_g = graph_custom\n",
    "openbio_df = openbiolink\n",
    "custom_df = custom\n",
    "\n",
    "\n",
    "o_nodes = list(openbio_g.nodes())\n",
    "\n",
    "o_degree = list(openbio_g.degree(o_nodes))\n",
    "o_degree = [el for node, el in o_degree]\n",
    "\n",
    "c_nodes = list(custom_g.nodes())\n",
    "\n",
    "c_degree = list(custom_g.degree(c_nodes))\n",
    "c_degree = [el for node, el in c_degree]\n",
    "\n",
    "\n",
    "data['openbio']['# nodes'] = str(len(o_nodes))\n",
    "data['custom']['# nodes'] = str(len(c_nodes))\n",
    "\n",
    "data['openbio']['# degree'] = str(round(sum(o_degree) / len(o_degree), 3))\n",
    "data['custom']['# degree'] = str(round(sum(c_degree) / len(c_degree), 3))\n",
    "\n",
    "o_edges = len(openbio_g.edges())\n",
    "c_edges = len(custom_g.edges())\n",
    "\n",
    "data['openbio']['# edges'] = str(o_edges)\n",
    "data['custom']['# edges'] = str(c_edges)\n",
    "\n",
    "data['openbio']['# activatory'] = len(openbio_df.index[openbio_df['polarity'] == 1])\n",
    "data['custom']['# activatory'] = len(custom_df.index[custom_df['polarity'] == 1])\n",
    "\n",
    "data['openbio']['# inhibitory'] = len(openbio_df.index[openbio_df['polarity'] == -1])\n",
    "data['custom']['# inhibitory'] = len(custom_df.index[custom_df['polarity'] == -1])\n",
    "\n",
    "data['openbio']['longest_shortest_path'] = get_longest_shortest_path(openbio_df, openbio_g)\n",
    "data['custom']['longest_shortest_path'] = get_longest_shortest_path(custom_df, custom_g)    "
   ]
  },
  {
   "cell_type": "code",
   "execution_count": 6,
   "id": "4077a595",
   "metadata": {},
   "outputs": [
    {
     "data": {
      "text/html": [
       "<div>\n",
       "<style scoped>\n",
       "    .dataframe tbody tr th:only-of-type {\n",
       "        vertical-align: middle;\n",
       "    }\n",
       "\n",
       "    .dataframe tbody tr th {\n",
       "        vertical-align: top;\n",
       "    }\n",
       "\n",
       "    .dataframe thead th {\n",
       "        text-align: right;\n",
       "    }\n",
       "</style>\n",
       "<table border=\"1\" class=\"dataframe\">\n",
       "  <thead>\n",
       "    <tr style=\"text-align: right;\">\n",
       "      <th></th>\n",
       "      <th>openbio</th>\n",
       "      <th>custom</th>\n",
       "    </tr>\n",
       "  </thead>\n",
       "  <tbody>\n",
       "    <tr>\n",
       "      <th># nodes</th>\n",
       "      <td>4831</td>\n",
       "      <td>8489</td>\n",
       "    </tr>\n",
       "    <tr>\n",
       "      <th># degree</th>\n",
       "      <td>17.17</td>\n",
       "      <td>12.161</td>\n",
       "    </tr>\n",
       "    <tr>\n",
       "      <th># edges</th>\n",
       "      <td>41474</td>\n",
       "      <td>51617</td>\n",
       "    </tr>\n",
       "    <tr>\n",
       "      <th># activatory</th>\n",
       "      <td>29022</td>\n",
       "      <td>43578</td>\n",
       "    </tr>\n",
       "    <tr>\n",
       "      <th># inhibitory</th>\n",
       "      <td>12477</td>\n",
       "      <td>8045</td>\n",
       "    </tr>\n",
       "    <tr>\n",
       "      <th>longest_shortest_path</th>\n",
       "      <td>11</td>\n",
       "      <td>11</td>\n",
       "    </tr>\n",
       "  </tbody>\n",
       "</table>\n",
       "</div>"
      ],
      "text/plain": [
       "                      openbio  custom\n",
       "# nodes                  4831    8489\n",
       "# degree                17.17  12.161\n",
       "# edges                 41474   51617\n",
       "# activatory            29022   43578\n",
       "# inhibitory            12477    8045\n",
       "longest_shortest_path      11      11"
      ]
     },
     "execution_count": 6,
     "metadata": {},
     "output_type": "execute_result"
    }
   ],
   "source": [
    "df = pd.DataFrame(data)\n",
    "df"
   ]
  }
 ],
 "metadata": {
  "kernelspec": {
   "display_name": "Python 3",
   "language": "python",
   "name": "python3"
  },
  "language_info": {
   "codemirror_mode": {
    "name": "ipython",
    "version": 3
   },
   "file_extension": ".py",
   "mimetype": "text/x-python",
   "name": "python",
   "nbconvert_exporter": "python",
   "pygments_lexer": "ipython3",
   "version": "3.8.5"
  }
 },
 "nbformat": 4,
 "nbformat_minor": 5
}
