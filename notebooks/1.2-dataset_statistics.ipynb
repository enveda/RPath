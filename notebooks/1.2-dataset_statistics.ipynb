{
 "cells": [
  {
   "cell_type": "markdown",
   "id": "cultural-factory",
   "metadata": {},
   "source": [
    "# Dataset statistics\n",
    "\n",
    "This notebook includes the statistics analysis for each dataset"
   ]
  },
  {
   "cell_type": "markdown",
   "id": "academic-cleaner",
   "metadata": {},
   "source": [
    "# Imports"
   ]
  },
  {
   "cell_type": "code",
   "execution_count": 1,
   "id": "revolutionary-routine",
   "metadata": {},
   "outputs": [],
   "source": [
    "import os\n",
    "import json\n",
    "import pandas as pd\n",
    "\n",
    "from utils import DATA_DIR"
   ]
  },
  {
   "cell_type": "markdown",
   "id": "assisted-music",
   "metadata": {},
   "source": [
    "# Load datasets"
   ]
  },
  {
   "cell_type": "code",
   "execution_count": 2,
   "id": "banner-accounting",
   "metadata": {},
   "outputs": [],
   "source": [
    "with open(os.path.join(DATA_DIR, 'transcriptomics', 'creed_harmonized_expression.json')) as f:\n",
    "    creed = json.load(f)\n",
    "    \n",
    "with open(os.path.join(DATA_DIR, 'transcriptomics', 'geo_harmonized_expression.json')) as f:\n",
    "    geo = json.load(f)\n",
    "    \n",
    "with open(os.path.join(DATA_DIR, 'transcriptomics', 'l1000_harmonized_expression.json')) as f:\n",
    "    l1000 = json.load(f)\n",
    "    \n",
    "with open(os.path.join(DATA_DIR, 'transcriptomics', 'target_harmonized_expression.json')) as f:\n",
    "    target = json.load(f)"
   ]
  },
  {
   "cell_type": "code",
   "execution_count": 3,
   "id": "sticky-essence",
   "metadata": {},
   "outputs": [],
   "source": [
    "MAP = {\n",
    "    'creed': creed,\n",
    "    'target': target,\n",
    "    'geo': geo,\n",
    "    'l1000': l1000\n",
    "}"
   ]
  },
  {
   "cell_type": "markdown",
   "id": "inclusive-compromise",
   "metadata": {},
   "source": [
    "# Statistical analysis"
   ]
  },
  {
   "cell_type": "code",
   "execution_count": 4,
   "id": "mobile-appendix",
   "metadata": {},
   "outputs": [],
   "source": [
    "df = pd.DataFrame(columns=[\n",
    "    'dataset',\n",
    "    'count', \n",
    "    'mean_gene_count', \n",
    "    'minimum_gene_count',\n",
    "    'maximum_gene_count'\n",
    "])\n",
    "\n",
    "for dataset_name, data in MAP.items():\n",
    "    \n",
    "    data_count = len(data)\n",
    "    \n",
    "    gene_list = []\n",
    "    \n",
    "    for el in data:\n",
    "        gene_list.append(len(data[el]))\n",
    "    \n",
    "    max_count = max(gene_list)\n",
    "    min_count = min(gene_list)\n",
    "    avg_count = sum(gene_list) / len(gene_list)\n",
    "    \n",
    "    tmp = pd.DataFrame(\n",
    "        {'dataset': dataset_name,\n",
    "        'count': data_count, \n",
    "        'mean_gene_count': avg_count, \n",
    "        'minimum_gene_count': min_count,\n",
    "        'maximum_gene_count': max_count},\n",
    "        index=[1,]\n",
    "    )\n",
    "    \n",
    "    df = pd.concat([df, tmp], ignore_index=True)"
   ]
  },
  {
   "cell_type": "code",
   "execution_count": 5,
   "id": "expressed-optics",
   "metadata": {},
   "outputs": [
    {
     "data": {
      "text/html": [
       "<div>\n",
       "<style scoped>\n",
       "    .dataframe tbody tr th:only-of-type {\n",
       "        vertical-align: middle;\n",
       "    }\n",
       "\n",
       "    .dataframe tbody tr th {\n",
       "        vertical-align: top;\n",
       "    }\n",
       "\n",
       "    .dataframe thead th {\n",
       "        text-align: right;\n",
       "    }\n",
       "</style>\n",
       "<table border=\"1\" class=\"dataframe\">\n",
       "  <thead>\n",
       "    <tr style=\"text-align: right;\">\n",
       "      <th></th>\n",
       "      <th>dataset</th>\n",
       "      <th>count</th>\n",
       "      <th>mean_gene_count</th>\n",
       "      <th>minimum_gene_count</th>\n",
       "      <th>maximum_gene_count</th>\n",
       "    </tr>\n",
       "  </thead>\n",
       "  <tbody>\n",
       "    <tr>\n",
       "      <th>0</th>\n",
       "      <td>creed</td>\n",
       "      <td>39</td>\n",
       "      <td>556.974359</td>\n",
       "      <td>539</td>\n",
       "      <td>570</td>\n",
       "    </tr>\n",
       "    <tr>\n",
       "      <th>1</th>\n",
       "      <td>target</td>\n",
       "      <td>44</td>\n",
       "      <td>958.568182</td>\n",
       "      <td>1</td>\n",
       "      <td>3072</td>\n",
       "    </tr>\n",
       "    <tr>\n",
       "      <th>2</th>\n",
       "      <td>geo</td>\n",
       "      <td>18</td>\n",
       "      <td>6569.555556</td>\n",
       "      <td>26</td>\n",
       "      <td>18123</td>\n",
       "    </tr>\n",
       "    <tr>\n",
       "      <th>3</th>\n",
       "      <td>l1000</td>\n",
       "      <td>269</td>\n",
       "      <td>342.104089</td>\n",
       "      <td>3</td>\n",
       "      <td>2753</td>\n",
       "    </tr>\n",
       "  </tbody>\n",
       "</table>\n",
       "</div>"
      ],
      "text/plain": [
       "  dataset count  mean_gene_count minimum_gene_count maximum_gene_count\n",
       "0   creed    39       556.974359                539                570\n",
       "1  target    44       958.568182                  1               3072\n",
       "2     geo    18      6569.555556                 26              18123\n",
       "3   l1000   269       342.104089                  3               2753"
      ]
     },
     "execution_count": 5,
     "metadata": {},
     "output_type": "execute_result"
    }
   ],
   "source": [
    "df"
   ]
  }
 ],
 "metadata": {
  "kernelspec": {
   "display_name": "Python 3",
   "language": "python",
   "name": "python3"
  },
  "language_info": {
   "codemirror_mode": {
    "name": "ipython",
    "version": 3
   },
   "file_extension": ".py",
   "mimetype": "text/x-python",
   "name": "python",
   "nbconvert_exporter": "python",
   "pygments_lexer": "ipython3",
   "version": "3.8.5"
  }
 },
 "nbformat": 4,
 "nbformat_minor": 5
}
